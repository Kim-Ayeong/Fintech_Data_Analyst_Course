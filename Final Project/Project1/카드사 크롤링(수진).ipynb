{
 "cells": [
  {
   "cell_type": "markdown",
   "metadata": {},
   "source": [
    "# BC카드"
   ]
  },
  {
   "cell_type": "markdown",
   "metadata": {},
   "source": [
    "## 지난 이벤트"
   ]
  },
  {
   "cell_type": "code",
   "execution_count": null,
   "metadata": {},
   "outputs": [],
   "source": [
    "import os\n",
    "from selenium import webdriver\n",
    "import bs4,re\n",
    "import pandas as pd\n",
    "import numpy as np\n",
    "import time\n",
    "\n",
    "os.chdir(r'C:\\Users\\LGR7\\Desktop\\핀테크')\n",
    "\n",
    "bc_driver = webdriver.Chrome('chromedriver.exe')\n",
    "bc_driver.get(\"https://www.bccard.com/app/card/evntPastListInqrActn.do#none\")\n",
    "\n",
    "title_text = []\n",
    "bc_date = []\n",
    "page = 1\n",
    "i=1\n",
    "\n",
    "while(True):   \n",
    "\n",
    "        html = bc_driver.page_source\n",
    "        soup = bs4.BeautifulSoup(html, 'html.parser')\n",
    "        \n",
    "        tags = bc_driver.find_elements_by_css_selector('td.pl_20')\n",
    "        \n",
    "        for atag in tags:\n",
    "            title_text.append(atag.text)\n",
    "             \n",
    "            test = bc_driver.find_element_by_xpath(\"//*[@id='listTable']/tbody/tr[\"+str(i)+\"]/td[3]\")\n",
    "            bc_date.append(test.text)\n",
    "            \n",
    "            i += 1\n",
    "   \n",
    "        if (page%10 == 0):\n",
    "            bc_driver.find_element_by_css_selector(\"a.next\").click()\n",
    "            page += 1\n",
    "        \n",
    "        elif (page%10 == 1):\n",
    "            try:\n",
    "                bc_driver.find_element_by_xpath(\"//*[@id='pagingTable']/div/a[\"+str(page)+\"]\").click()\n",
    "                page += 1 \n",
    "            except:\n",
    "                break\n",
    "\n",
    "bc = {\"title\":title_text, \"date\":bc_date}\n",
    "df_bc = pd.DataFrame(bc, columns = ['title','date'])\n",
    "\n",
    "df_bc.to_excel(\"BCcard.xlsx\")"
   ]
  },
  {
   "cell_type": "code",
   "execution_count": null,
   "metadata": {},
   "outputs": [],
   "source": [
    "while(True):   \n",
    "    if (page%10 == 0):\n",
    "        bc_driver.find_element_by_css_selector(\"a.next\").click()\n",
    "        page += 1\n",
    "\n",
    "    else :\n",
    "        html = bc_driver.page_source\n",
    "        soup = bs4.BeautifulSoup(html, 'html.parser')\n",
    "        \n",
    "        tags = bc_driver.find_elements_by_css_selector('td.pl_20')\n",
    "        for atag in tags:\n",
    "            title_text.append(atag.text)\n",
    "             \n",
    "            test = bc_driver.find_element_by_xpath(\"//*[@id='listTable']/tbody/tr[\"+str(i)+\"]/td[3]\")\n",
    "            bc_date.append(test.text)\n",
    "            \n",
    "            i += 1\n",
    "        \n",
    "        try:\n",
    "            bc_driver.find_element_by_xpath(\"//*[@id='pagingTable']/div/a[\"+page+\"]\").click()\n",
    "            page += 1 \n",
    "        except:\n",
    "            break"
   ]
  },
  {
   "cell_type": "code",
   "execution_count": null,
   "metadata": {},
   "outputs": [],
   "source": [
    "import os\n",
    "from selenium import webdriver\n",
    "import bs4,re\n",
    "import pandas as pd\n",
    "import numpy as np\n",
    "import time"
   ]
  },
  {
   "cell_type": "code",
   "execution_count": null,
   "metadata": {},
   "outputs": [],
   "source": [
    "page = 0\n",
    "#res_bc0 = my_driver_bc0.find_elements_by_css_selector('button')\n",
    "#//*[@id='pagingTable']/div/a[page]\n",
    "#res_bc0 = my_driver_bc0.find_elements_by_xpath(\"//*[@id='pagingTable']/div/a[page]\")\n",
    "while(True):\n",
    "    res_bc0 = my_driver_bc0.find_elements_by_xpath(\"//*[@id='pagingTable']/div/a[page]\")\n",
    "\n",
    "    html = my_driver_bc0.page_source\n",
    "    soup = bs4.BeautifulSoup(html, 'html.parser')\n",
    "    \n",
    "    \n",
    "     \n",
    "    if page == 1:\n",
    "        page+=2\n",
    "    else:\n",
    "        page+=1    \n",
    "        \n",
    "    #res_bc0 = my_driver_bc0.find_elements_by_css_selector('td.textL')\n",
    "    \n",
    "    #for x in res_bc0:\n",
    "    #    print(x.text)\n",
    "        \n",
    "    atags=soup.select('td.textL')\n",
    "    for atag in atags:\n",
    "        title_text.append(atag.text)\n",
    "\n",
    "\n",
    "for x in res_bc0:\n",
    "    print(x.text)"
   ]
  },
  {
   "cell_type": "code",
   "execution_count": null,
   "metadata": {},
   "outputs": [],
   "source": [
    "while (True):\n",
    "    try :\n",
    "        my_driver.find_element_by_css_selector(\"div.pE-More\")  #find_element_by_css_selector('button.pE-More-Btn morebtnJo') #'div.pE-More'\n",
    "        my_driver.find_element_by_xpath('//*[@id=\"pE-ListmoreJo\"]/div[1]/button').click()\n",
    "        time.sleep(1)\n",
    "    except:\n",
    "        break\n",
    "\n",
    "res = my_driver.find_elements_by_css_selector('td.textL')\n",
    "for x in res:\n",
    "    print(x.text)"
   ]
  },
  {
   "cell_type": "markdown",
   "metadata": {},
   "source": [
    "# KB국민카드"
   ]
  },
  {
   "cell_type": "markdown",
   "metadata": {},
   "source": [
    "## 지난 이벤트 크롤링"
   ]
  },
  {
   "cell_type": "code",
   "execution_count": null,
   "metadata": {},
   "outputs": [],
   "source": [
    "import os\n",
    "from selenium import webdriver\n",
    "import bs4,re\n",
    "import pandas as pd\n",
    "import numpy as np\n",
    "import time\n",
    "\n",
    "os.chdir(r'C:\\Users\\LGR7\\Desktop\\핀테크')\n",
    "\n",
    "kb_driver = webdriver.Chrome('chromedriver.exe')\n",
    "kb_driver.get(\"https://customer.kbcard.com/CXCRVNEC0003.cms?type=\")\n",
    "\n",
    "title_text = []\n",
    "kb_date = []\n",
    "page = 1\n",
    "i=1\n",
    "\n",
    "while(True):\n",
    "    \n",
    "    if (page%10==1):\n",
    "        html = kb_driver.page_source\n",
    "        soup = bs4.BeautifulSoup(html, 'html.parser')\n",
    "        \n",
    "        tags = kb_driver.find_elements_by_css_selector('span.subject')\n",
    "        \n",
    "        for atag in tags:\n",
    "            title_text.append(atag.text)\n",
    "             \n",
    "            test = kb_driver.find_element_by_xpath(\"//*[@id='container']/div/div[1]/ul/li[\"+str(page)+\"]/a/span[1]/span[2]\")\n",
    "            kb_date.append(test.text)\n",
    "            \n",
    "            page += 1\n",
    "            \n",
    "        kb_driver.find_element_by_css_selector(\"//*[@id='container']/div/div[1]/div/a[\"+str(page)+\"]\").click()\n",
    "        page += 1    \n",
    "\n",
    "    elif (page%10==0):\n",
    "        kb_driver.find_element_by_css_selector(\"button.next\").click()\n",
    "        page += 1\n",
    "    else :\n",
    "        break\n",
    "            \n",
    "                \n",
    "kb = {\"title\":title_text,\"date\":kb_date}\n",
    "df_kb=pd.DataFrame(kb, columns = ['title', 'date'])\n",
    "df_kb.to_excel(\"KBcard.xlsx\")"
   ]
  },
  {
   "cell_type": "markdown",
   "metadata": {},
   "source": [
    "# 하나카드"
   ]
  },
  {
   "cell_type": "markdown",
   "metadata": {},
   "source": [
    "## 지난 이벤트"
   ]
  },
  {
   "cell_type": "code",
   "execution_count": null,
   "metadata": {},
   "outputs": [],
   "source": [
    "import pandas as pd\n",
    "import bs4\n",
    "from selenium import webdriver\n",
    "import os\n",
    "import time\n",
    "\n",
    "os.chdir(r'C:\\Users\\연주\\Desktop\\career\\청취아\\파이널 프로젝트\\data')\n",
    "\n",
    "hana_driver = webdriver.Chrome('chromedriver.exe')\n",
    "hana_driver.get(\"https://www.hanacard.co.kr/OPP35050000D.web?schID=pcd&mID=OPP35050000D\")\n",
    "\n",
    "\n",
    "hn_text=[]\n",
    "hn_date=[]\n",
    "while(True):        \n",
    "    html = hana_driver.page_source\n",
    "    soup = bs4.BeautifulSoup(html, 'html.parser')\n",
    "    \n",
    "    tags = hana_driver.find_elements_by_css_selector('td.left')\n",
    "    for atag in tags:\n",
    "        hn_text.append(atag.text)\n",
    "    for i in range(1,11): \n",
    "        hana_date = hana_driver.find_element_by_xpath(\"//*[@id='container']/div/div/div/article[1]/div[1]/table/tbody/tr[\"+str(i)+\"]/td[2]\")\n",
    "        hn_date.append(hana_date.text)\n",
    "    \n",
    "    try:\n",
    "        hana_driver.find_element_by_xpath(\"//*[@id='container']/div/div/div/article[1]/div[2]/div[3]/a\").click()\n",
    "    except:\n",
    "        break\n",
    "    \n",
    "hn = pd.DataFrame(data=hn_text, columns=['text'])\n",
    "hn2 = pd.DataFrame(data=hn_date, columns=['date'])\n",
    "hn_total = pd.concat([hn,hn2],axis=1,names=['context','date'])\n",
    "hn_total.to_csv('hn_total.csv', encoding='cp949')\n",
    "    \n",
    "#93페이지 까지는 그냥 넘기기\n",
    "os.chdir(r'C:\\Users\\연주\\Desktop\\career\\청취아\\파이널 프로젝트\\data')\n",
    "\n",
    "hana_driver = webdriver.Chrome('chromedriver.exe')\n",
    "hana_driver.get(\"https://www.hanacard.co.kr/OPP35050000D.web?schID=pcd&mID=OPP35050000D\")\n",
    "\n",
    "\n",
    "hn_text=[]\n",
    "hn_date=[]\n",
    "page=1\n",
    "while(True):   \n",
    "    if (page <=93)&(page%10==1):\n",
    "        page+=1\n",
    "        hana_driver.find_element_by_xpath(\"//*[@id='container']/div/div/div/article[1]/div[2]/ul/li[\"+str(page)+\"]/a\").click()\n",
    "    \n",
    "    elif (page <=93)&(page%10==0):\n",
    "        hana_driver.find_element_by_xpath(\"//*[@id='container']/div/div/div/article[1]/div[2]/div[3]/a\").click()\n",
    "    \n",
    "    else :\n",
    "     \n",
    "        html = hana_driver.page_source\n",
    "        soup = bs4.BeautifulSoup(html, 'html.parser')\n",
    "        \n",
    "        tags = hana_driver.find_elements_by_css_selector('td.left')\n",
    "        for atag in tags:\n",
    "            hn_text.append(atag.text)\n",
    "             \n",
    "            hana_date = hana_driver.find_element_by_xpath(\"//*[@id='container']/div/div/div/article[1]/div[1]/table/tbody/tr[\"+str(atag)+\"]/td[2]\")\n",
    "            hn_date.append(hana_date.text)\n",
    "        \n",
    "        try:\n",
    "            hana_driver.find_element_by_xpath(\"//*[@id='container']/div/div/div/article[1]/div[2]/div[3]/a\").click()\n",
    "        except:\n",
    "            break"
   ]
  },
  {
   "cell_type": "markdown",
   "metadata": {},
   "source": [
    "## 워드 클라우드 (수정필요)"
   ]
  },
  {
   "cell_type": "code",
   "execution_count": null,
   "metadata": {},
   "outputs": [],
   "source": []
  },
  {
   "cell_type": "markdown",
   "metadata": {},
   "source": [
    "# 우리카드"
   ]
  },
  {
   "cell_type": "markdown",
   "metadata": {},
   "source": [
    "## 지난 이벤트"
   ]
  },
  {
   "cell_type": "code",
   "execution_count": null,
   "metadata": {},
   "outputs": [],
   "source": [
    "import os\n",
    "from selenium import webdriver\n",
    "import bs4,re\n",
    "import pandas as pd\n",
    "import numpy as np\n",
    "import time\n",
    "\n",
    "os.chdir(r'C:\\Users\\LGR7\\Desktop\\핀테크')\n",
    "\n",
    "woori_driver = webdriver.Chrome('chromedriver.exe')\n",
    "woori_driver.get(\"https://sccd.wooribank.com/ccd/Dream?withyou=CDCNT0050\")\n",
    "\n",
    "title_text=[]\n",
    "wr_date=[]\n",
    "while(True):        \n",
    "    html = woori_driver.page_source\n",
    "    soup = bs4.BeautifulSoup(html, 'html.parser')\n",
    "    \n",
    "    tags = woori_driver.find_elements_by_css_selector('td.title')\n",
    "    for atag in tags:\n",
    "        title_text.append(atag.text)\n",
    "        print(atag.text)\n",
    "        #for i in range(1,16,1): \n",
    "        woori_date = woori_driver.find_element_by_xpath(\"//*[@id='ing_event']/table/tbody/tr[\"+str(i)+\"]/td[3]\")\n",
    "        wr_date.append(woori_date.text)\n",
    "        print(woori_date.text)\n",
    "    \n",
    "    try:\n",
    "        woori_driver.find_element_by_xpath(\"//*[@id='ing_event']/ul/li[2]/div/a[12]\").click()\n",
    "    except:\n",
    "        break\n",
    "        \n",
    "## 저장하기\n",
    "woori = {\"title\":title_text, \"date\":wr_date.text}\n",
    "df_woori = pd.DataFrame(news,columns = ['title','date'])\n",
    "\n",
    "df_woori.to_excel(\"woori.xlsx\")"
   ]
  },
  {
   "cell_type": "markdown",
   "metadata": {},
   "source": [
    "## 워드 클라우드(수정필요)"
   ]
  },
  {
   "cell_type": "code",
   "execution_count": null,
   "metadata": {},
   "outputs": [],
   "source": []
  }
 ],
 "metadata": {
  "kernelspec": {
   "display_name": "Python 3",
   "language": "python",
   "name": "python3"
  },
  "language_info": {
   "codemirror_mode": {
    "name": "ipython",
    "version": 3
   },
   "file_extension": ".py",
   "mimetype": "text/x-python",
   "name": "python",
   "nbconvert_exporter": "python",
   "pygments_lexer": "ipython3",
   "version": "3.7.4"
  },
  "toc": {
   "base_numbering": 1,
   "nav_menu": {},
   "number_sections": true,
   "sideBar": true,
   "skip_h1_title": false,
   "title_cell": "Table of Contents",
   "title_sidebar": "Contents",
   "toc_cell": false,
   "toc_position": {
    "height": "calc(100% - 180px)",
    "left": "10px",
    "top": "150px",
    "width": "165px"
   },
   "toc_section_display": true,
   "toc_window_display": true
  },
  "varInspector": {
   "cols": {
    "lenName": 16,
    "lenType": 16,
    "lenVar": 40
   },
   "kernels_config": {
    "python": {
     "delete_cmd_postfix": "",
     "delete_cmd_prefix": "del ",
     "library": "var_list.py",
     "varRefreshCmd": "print(var_dic_list())"
    },
    "r": {
     "delete_cmd_postfix": ") ",
     "delete_cmd_prefix": "rm(",
     "library": "var_list.r",
     "varRefreshCmd": "cat(var_dic_list()) "
    }
   },
   "position": {
    "height": "458px",
    "left": "996px",
    "right": "20px",
    "top": "120px",
    "width": "350px"
   },
   "types_to_exclude": [
    "module",
    "function",
    "builtin_function_or_method",
    "instance",
    "_Feature"
   ],
   "window_display": false
  }
 },
 "nbformat": 4,
 "nbformat_minor": 2
}
