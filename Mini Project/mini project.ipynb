{
 "cells": [
  {
   "cell_type": "markdown",
   "metadata": {},
   "source": [
    "# 광고 시청시간 및 노출빈도에 따른 소비자 행태 조사"
   ]
  },
  {
   "cell_type": "markdown",
   "metadata": {},
   "source": [
    "- 사용 데이터 : 2019년 소비자행태조사 원시데이터\n",
    "- 데이터 출처\n",
    "    - 소비자행태조사(MCR) 데이터 서비스 \n",
    "    - (https://adstat.kobaco.co.kr/mcr/portal/dataSet/mdssInfoPage.do?orderState=regDt&pageSize=10&pageIndex=1&searchItem=all&searchText=&datasetId=DS_MST_0000000422#popup_window_reason)\n",
    "---\n",
    "\n",
    "- 분석 목적 : \n",
    "광고 시청시간 및 노출빈도에 따라 소비자의 제품 신뢰도, 의사결정 도움, 구매여부가 유의하게 변하는지 알아보고자 한다."
   ]
  },
  {
   "cell_type": "markdown",
   "metadata": {},
   "source": [
    "- 분석 변수\n",
    "---\n",
    "- TV 변수\n",
    "    - 설명 변수\n",
    "        - X : 광고 시청시간\n",
    "        (광고 매체 - TV)\n",
    "    - 반응 변수\n",
    "        - Y : 광고 관심도, 광고 시청 집중도, PPL(간접광고) 평가\n",
    "---   \n",
    "- Online 변수\n",
    "    - 설명 변수\n",
    "        - X : 광고 시청 경험 여부\n",
    "        (광고 매체 - Online)\n",
    "    - 반응 변수\n",
    "        - Y : 동영상 광고 동의 정도\n",
    "---\n",
    "- PC 변수\n",
    "    - 설명 변수\n",
    "        - X : 광고 시청시간\n",
    "        (광고 매체 - PC)\n",
    "    - 반응 변수\n",
    "        - Y : PC 인터넷 광고 집중도\n",
    "---\n",
    "- Mobile 변수\n",
    "    - 설명 변수\n",
    "        - X : 모바일 광고 주목도\n",
    "        (광고 매체 - Mobile)\n",
    "    - 반응 변수\n",
    "        - Y : 광고 관심도, 광고 집중도\n",
    "---\n",
    "- SNS 변수\n",
    "    - 설명 변수\n",
    "        - X : 광고 주목도\n",
    "        (광고 매체 - SNS)\n",
    "    - 반응 변수\n",
    "        - Y : 광고 관심도, 광고 인식"
   ]
  },
  {
   "cell_type": "markdown",
   "metadata": {},
   "source": [
    "# 분석 준비"
   ]
  },
  {
   "cell_type": "code",
   "execution_count": 1,
   "metadata": {},
   "outputs": [],
   "source": [
    "import pandas as pd\n",
    "import numpy as np\n",
    "import os\n",
    "import re\n",
    "\n",
    "# 시각화를 위한 패키지\n",
    "import matplotlib as mpl\n",
    "mpl.rcParams['axes.unicode_minus'] = False # 한글 깨짐 방지\n",
    "import matplotlib.pyplot as plt\n",
    "plt.rcParams[\"figure.figsize\"] = (6, 4)\n",
    "plt.rcParams[\"font.family\"] = \"Malgun Gothic\"\n",
    "plt.rcParams[\"font.size\"] = 12\n",
    "%matplotlib inline\n",
    "import seaborn as sns\n",
    "sns.set()\n",
    "\n",
    "# 결측값 시각화를 위한 패키지\n",
    "import missingno as msno"
   ]
  },
  {
   "cell_type": "code",
   "execution_count": 2,
   "metadata": {},
   "outputs": [
    {
     "data": {
      "text/plain": [
       "'C:\\\\workspace\\\\Python\\\\4-2) 핀테크 교육\\\\Mini Project'"
      ]
     },
     "execution_count": 2,
     "metadata": {},
     "output_type": "execute_result"
    }
   ],
   "source": [
    "os.getcwd()"
   ]
  },
  {
   "cell_type": "code",
   "execution_count": 3,
   "metadata": {},
   "outputs": [
    {
     "data": {
      "text/plain": [
       "'C:\\\\workspace\\\\Python\\\\4-2) 핀테크 교육\\\\Mini Project\\\\data'"
      ]
     },
     "execution_count": 3,
     "metadata": {},
     "output_type": "execute_result"
    }
   ],
   "source": [
    "os.chdir(r\".\\data\")\n",
    "os.getcwd()"
   ]
  },
  {
   "cell_type": "markdown",
   "metadata": {},
   "source": [
    "# Load data"
   ]
  },
  {
   "cell_type": "code",
   "execution_count": 111,
   "metadata": {
    "scrolled": true
   },
   "outputs": [
    {
     "name": "stdout",
     "output_type": "stream",
     "text": [
      "답변 정보 :  (4001, 3619)\n",
      "추출 변수 :  (40, 2)\n",
      "보기 정보 :  (45603, 3)\n"
     ]
    }
   ],
   "source": [
    "df_ans = pd.read_csv(\"MCR2019_답변정보.csv\")\n",
    "df_fea = pd.read_csv(\"최종 변수 선택.csv\", header=None)\n",
    "df_opt = pd.read_csv(\"MCR2019_보기정보.csv\")\n",
    "\n",
    "print(\"답변 정보 : \", df_ans.shape)\n",
    "print(\"추출 변수 : \", df_fea.shape)\n",
    "print(\"보기 정보 : \", df_opt.shape)"
   ]
  },
  {
   "cell_type": "code",
   "execution_count": 5,
   "metadata": {},
   "outputs": [
    {
     "data": {
      "text/html": [
       "<div>\n",
       "<style scoped>\n",
       "    .dataframe tbody tr th:only-of-type {\n",
       "        vertical-align: middle;\n",
       "    }\n",
       "\n",
       "    .dataframe tbody tr th {\n",
       "        vertical-align: top;\n",
       "    }\n",
       "\n",
       "    .dataframe thead th {\n",
       "        text-align: right;\n",
       "    }\n",
       "</style>\n",
       "<table border=\"1\" class=\"dataframe\">\n",
       "  <thead>\n",
       "    <tr style=\"text-align: right;\">\n",
       "      <th></th>\n",
       "      <th>YEAR</th>\n",
       "      <th>A_001</th>\n",
       "      <th>A_002</th>\n",
       "      <th>A_003</th>\n",
       "      <th>A_004</th>\n",
       "      <th>A_006</th>\n",
       "      <th>A_007</th>\n",
       "      <th>A_009</th>\n",
       "      <th>A_011</th>\n",
       "      <th>A_013</th>\n",
       "      <th>...</th>\n",
       "      <th>K_05_015#1</th>\n",
       "      <th>K_05_015#2</th>\n",
       "      <th>K_05_015#3</th>\n",
       "      <th>K_05_015#4</th>\n",
       "      <th>K_05_015#5</th>\n",
       "      <th>K_05_015#6</th>\n",
       "      <th>K_05_015#7</th>\n",
       "      <th>K_05_015#8</th>\n",
       "      <th>K_05_015#9</th>\n",
       "      <th>K_05_015#10</th>\n",
       "    </tr>\n",
       "  </thead>\n",
       "  <tbody>\n",
       "    <tr>\n",
       "      <td>0</td>\n",
       "      <td>조사년도</td>\n",
       "      <td>성별</td>\n",
       "      <td>연령(10대)</td>\n",
       "      <td>연령(1세)</td>\n",
       "      <td>지역(권역)</td>\n",
       "      <td>직업</td>\n",
       "      <td>가구 월평균 소득(1)</td>\n",
       "      <td>본인 월평균 소득(1)</td>\n",
       "      <td>한 달 평균 지출액 (신용카드+체크카드)</td>\n",
       "      <td>최종학력</td>\n",
       "      <td>...</td>\n",
       "      <td>평소 즐겨 보는 뉴스 및 콘텐츠</td>\n",
       "      <td>평소 즐겨 보는 뉴스 및 콘텐츠</td>\n",
       "      <td>평소 즐겨 보는 뉴스 및 콘텐츠</td>\n",
       "      <td>평소 즐겨 보는 뉴스 및 콘텐츠</td>\n",
       "      <td>평소 즐겨 보는 뉴스 및 콘텐츠</td>\n",
       "      <td>평소 즐겨 보는 뉴스 및 콘텐츠</td>\n",
       "      <td>평소 즐겨 보는 뉴스 및 콘텐츠</td>\n",
       "      <td>평소 즐겨 보는 뉴스 및 콘텐츠</td>\n",
       "      <td>평소 즐겨 보는 뉴스 및 콘텐츠</td>\n",
       "      <td>평소 즐겨 보는 뉴스 및 콘텐츠</td>\n",
       "    </tr>\n",
       "    <tr>\n",
       "      <td>1</td>\n",
       "      <td>2019</td>\n",
       "      <td>1</td>\n",
       "      <td>1</td>\n",
       "      <td>14</td>\n",
       "      <td>1</td>\n",
       "      <td>6</td>\n",
       "      <td>6</td>\n",
       "      <td>NaN</td>\n",
       "      <td>1</td>\n",
       "      <td>8</td>\n",
       "      <td>...</td>\n",
       "      <td>3</td>\n",
       "      <td>NaN</td>\n",
       "      <td>NaN</td>\n",
       "      <td>NaN</td>\n",
       "      <td>NaN</td>\n",
       "      <td>NaN</td>\n",
       "      <td>NaN</td>\n",
       "      <td>NaN</td>\n",
       "      <td>NaN</td>\n",
       "      <td>NaN</td>\n",
       "    </tr>\n",
       "    <tr>\n",
       "      <td>2</td>\n",
       "      <td>2019</td>\n",
       "      <td>1</td>\n",
       "      <td>1</td>\n",
       "      <td>14</td>\n",
       "      <td>1</td>\n",
       "      <td>6</td>\n",
       "      <td>6</td>\n",
       "      <td>NaN</td>\n",
       "      <td>99</td>\n",
       "      <td>8</td>\n",
       "      <td>...</td>\n",
       "      <td>3</td>\n",
       "      <td>NaN</td>\n",
       "      <td>NaN</td>\n",
       "      <td>NaN</td>\n",
       "      <td>NaN</td>\n",
       "      <td>NaN</td>\n",
       "      <td>NaN</td>\n",
       "      <td>NaN</td>\n",
       "      <td>NaN</td>\n",
       "      <td>NaN</td>\n",
       "    </tr>\n",
       "    <tr>\n",
       "      <td>3</td>\n",
       "      <td>2019</td>\n",
       "      <td>1</td>\n",
       "      <td>1</td>\n",
       "      <td>14</td>\n",
       "      <td>1</td>\n",
       "      <td>6</td>\n",
       "      <td>6</td>\n",
       "      <td>NaN</td>\n",
       "      <td>1</td>\n",
       "      <td>8</td>\n",
       "      <td>...</td>\n",
       "      <td>3</td>\n",
       "      <td>6</td>\n",
       "      <td>7</td>\n",
       "      <td>NaN</td>\n",
       "      <td>NaN</td>\n",
       "      <td>NaN</td>\n",
       "      <td>NaN</td>\n",
       "      <td>NaN</td>\n",
       "      <td>NaN</td>\n",
       "      <td>NaN</td>\n",
       "    </tr>\n",
       "    <tr>\n",
       "      <td>4</td>\n",
       "      <td>2019</td>\n",
       "      <td>1</td>\n",
       "      <td>1</td>\n",
       "      <td>14</td>\n",
       "      <td>1</td>\n",
       "      <td>6</td>\n",
       "      <td>8</td>\n",
       "      <td>NaN</td>\n",
       "      <td>99</td>\n",
       "      <td>8</td>\n",
       "      <td>...</td>\n",
       "      <td>3</td>\n",
       "      <td>4</td>\n",
       "      <td>NaN</td>\n",
       "      <td>NaN</td>\n",
       "      <td>NaN</td>\n",
       "      <td>NaN</td>\n",
       "      <td>NaN</td>\n",
       "      <td>NaN</td>\n",
       "      <td>NaN</td>\n",
       "      <td>NaN</td>\n",
       "    </tr>\n",
       "  </tbody>\n",
       "</table>\n",
       "<p>5 rows × 3619 columns</p>\n",
       "</div>"
      ],
      "text/plain": [
       "   YEAR A_001    A_002   A_003   A_004 A_006         A_007         A_009  \\\n",
       "0  조사년도    성별  연령(10대)  연령(1세)  지역(권역)    직업  가구 월평균 소득(1)  본인 월평균 소득(1)   \n",
       "1  2019     1        1      14       1     6             6           NaN   \n",
       "2  2019     1        1      14       1     6             6           NaN   \n",
       "3  2019     1        1      14       1     6             6           NaN   \n",
       "4  2019     1        1      14       1     6             8           NaN   \n",
       "\n",
       "                    A_011 A_013  ...         K_05_015#1         K_05_015#2  \\\n",
       "0  한 달 평균 지출액 (신용카드+체크카드)  최종학력  ...  평소 즐겨 보는 뉴스 및 콘텐츠  평소 즐겨 보는 뉴스 및 콘텐츠   \n",
       "1                       1     8  ...                  3                NaN   \n",
       "2                      99     8  ...                  3                NaN   \n",
       "3                       1     8  ...                  3                  6   \n",
       "4                      99     8  ...                  3                  4   \n",
       "\n",
       "          K_05_015#3         K_05_015#4         K_05_015#5         K_05_015#6  \\\n",
       "0  평소 즐겨 보는 뉴스 및 콘텐츠  평소 즐겨 보는 뉴스 및 콘텐츠  평소 즐겨 보는 뉴스 및 콘텐츠  평소 즐겨 보는 뉴스 및 콘텐츠   \n",
       "1                NaN                NaN                NaN                NaN   \n",
       "2                NaN                NaN                NaN                NaN   \n",
       "3                  7                NaN                NaN                NaN   \n",
       "4                NaN                NaN                NaN                NaN   \n",
       "\n",
       "          K_05_015#7         K_05_015#8         K_05_015#9        K_05_015#10  \n",
       "0  평소 즐겨 보는 뉴스 및 콘텐츠  평소 즐겨 보는 뉴스 및 콘텐츠  평소 즐겨 보는 뉴스 및 콘텐츠  평소 즐겨 보는 뉴스 및 콘텐츠  \n",
       "1                NaN                NaN                NaN                NaN  \n",
       "2                NaN                NaN                NaN                NaN  \n",
       "3                NaN                NaN                NaN                NaN  \n",
       "4                NaN                NaN                NaN                NaN  \n",
       "\n",
       "[5 rows x 3619 columns]"
      ]
     },
     "execution_count": 5,
     "metadata": {},
     "output_type": "execute_result"
    }
   ],
   "source": [
    "df_ans.head()"
   ]
  },
  {
   "cell_type": "code",
   "execution_count": 6,
   "metadata": {},
   "outputs": [
    {
     "data": {
      "text/html": [
       "<div>\n",
       "<style scoped>\n",
       "    .dataframe tbody tr th:only-of-type {\n",
       "        vertical-align: middle;\n",
       "    }\n",
       "\n",
       "    .dataframe tbody tr th {\n",
       "        vertical-align: top;\n",
       "    }\n",
       "\n",
       "    .dataframe thead th {\n",
       "        text-align: right;\n",
       "    }\n",
       "</style>\n",
       "<table border=\"1\" class=\"dataframe\">\n",
       "  <thead>\n",
       "    <tr style=\"text-align: right;\">\n",
       "      <th></th>\n",
       "      <th>NO</th>\n",
       "      <th>내용</th>\n",
       "    </tr>\n",
       "  </thead>\n",
       "  <tbody>\n",
       "    <tr>\n",
       "      <td>0</td>\n",
       "      <td>C_01_011</td>\n",
       "      <td>TV 시청 중 광고 시청 정도</td>\n",
       "    </tr>\n",
       "    <tr>\n",
       "      <td>1</td>\n",
       "      <td>C_01_012</td>\n",
       "      <td>TV 시청 중 광고 관심도</td>\n",
       "    </tr>\n",
       "    <tr>\n",
       "      <td>2</td>\n",
       "      <td>C_01_014</td>\n",
       "      <td>프로그램 전 광고 시청 집중도</td>\n",
       "    </tr>\n",
       "    <tr>\n",
       "      <td>3</td>\n",
       "      <td>C_01_015</td>\n",
       "      <td>프로그램 후 광고 시청 집중도</td>\n",
       "    </tr>\n",
       "    <tr>\n",
       "      <td>4</td>\n",
       "      <td>C_01_016</td>\n",
       "      <td>중간광고 시청 집중도</td>\n",
       "    </tr>\n",
       "  </tbody>\n",
       "</table>\n",
       "</div>"
      ],
      "text/plain": [
       "         NO                내용\n",
       "0  C_01_011  TV 시청 중 광고 시청 정도\n",
       "1  C_01_012    TV 시청 중 광고 관심도\n",
       "2  C_01_014  프로그램 전 광고 시청 집중도\n",
       "3  C_01_015  프로그램 후 광고 시청 집중도\n",
       "4  C_01_016       중간광고 시청 집중도"
      ]
     },
     "execution_count": 6,
     "metadata": {},
     "output_type": "execute_result"
    }
   ],
   "source": [
    "df_fea.columns = ['NO', '내용']\n",
    "df_fea.head()"
   ]
  },
  {
   "cell_type": "code",
   "execution_count": 7,
   "metadata": {},
   "outputs": [
    {
     "data": {
      "text/plain": [
       "(4000, 40)"
      ]
     },
     "execution_count": 7,
     "metadata": {},
     "output_type": "execute_result"
    }
   ],
   "source": [
    "col_list = [c for c in df_ans.columns if c in df_fea.NO.values] # 변수 추출\n",
    "\n",
    "df = df_ans[col_list]\n",
    "df = pd.DataFrame(df)\n",
    "df = df.loc[1:, :]\n",
    "\n",
    "df.shape"
   ]
  },
  {
   "cell_type": "markdown",
   "metadata": {},
   "source": [
    "## 변수 정보"
   ]
  },
  {
   "cell_type": "code",
   "execution_count": 8,
   "metadata": {},
   "outputs": [
    {
     "data": {
      "text/html": [
       "<div>\n",
       "<style scoped>\n",
       "    .dataframe tbody tr th:only-of-type {\n",
       "        vertical-align: middle;\n",
       "    }\n",
       "\n",
       "    .dataframe tbody tr th {\n",
       "        vertical-align: top;\n",
       "    }\n",
       "\n",
       "    .dataframe thead th {\n",
       "        text-align: right;\n",
       "    }\n",
       "</style>\n",
       "<table border=\"1\" class=\"dataframe\">\n",
       "  <thead>\n",
       "    <tr style=\"text-align: right;\">\n",
       "      <th></th>\n",
       "      <th>NO</th>\n",
       "      <th>내용</th>\n",
       "    </tr>\n",
       "  </thead>\n",
       "  <tbody>\n",
       "    <tr>\n",
       "      <td>0</td>\n",
       "      <td>C_01_011</td>\n",
       "      <td>TV 시청 중 광고 시청 정도</td>\n",
       "    </tr>\n",
       "    <tr>\n",
       "      <td>1</td>\n",
       "      <td>C_01_012</td>\n",
       "      <td>TV 시청 중 광고 관심도</td>\n",
       "    </tr>\n",
       "    <tr>\n",
       "      <td>2</td>\n",
       "      <td>C_01_014</td>\n",
       "      <td>프로그램 전 광고 시청 집중도</td>\n",
       "    </tr>\n",
       "    <tr>\n",
       "      <td>3</td>\n",
       "      <td>C_01_015</td>\n",
       "      <td>프로그램 후 광고 시청 집중도</td>\n",
       "    </tr>\n",
       "    <tr>\n",
       "      <td>4</td>\n",
       "      <td>C_01_016</td>\n",
       "      <td>중간광고 시청 집중도</td>\n",
       "    </tr>\n",
       "    <tr>\n",
       "      <td>5</td>\n",
       "      <td>C_01_017</td>\n",
       "      <td>PPL광고(간접광고) 시청 집중도</td>\n",
       "    </tr>\n",
       "    <tr>\n",
       "      <td>6</td>\n",
       "      <td>C_01_018</td>\n",
       "      <td>가상광고 시청 집중도</td>\n",
       "    </tr>\n",
       "    <tr>\n",
       "      <td>7</td>\n",
       "      <td>C_01_019</td>\n",
       "      <td>PPL(간접광고) 평가 - 제품/브랜드 관심도</td>\n",
       "    </tr>\n",
       "    <tr>\n",
       "      <td>8</td>\n",
       "      <td>C_01_020</td>\n",
       "      <td>PPL(간접광고) 평가 - 제품/브랜드 인지</td>\n",
       "    </tr>\n",
       "    <tr>\n",
       "      <td>9</td>\n",
       "      <td>C_01_021</td>\n",
       "      <td>PPL(간접광고) 평가 - 제품/브랜드의 이미지 향상</td>\n",
       "    </tr>\n",
       "    <tr>\n",
       "      <td>10</td>\n",
       "      <td>C_01_022</td>\n",
       "      <td>PPL(간접광고) 평가 - 제품/브랜드 추가 검색 의향</td>\n",
       "    </tr>\n",
       "    <tr>\n",
       "      <td>11</td>\n",
       "      <td>C_01_023</td>\n",
       "      <td>PPL(간접광고) 평가 - 제품/브랜드에 대한 정보 공유 의향</td>\n",
       "    </tr>\n",
       "    <tr>\n",
       "      <td>12</td>\n",
       "      <td>C_01_024</td>\n",
       "      <td>PPL(간접광고) 평가 - 제품/브랜드 구매의향</td>\n",
       "    </tr>\n",
       "    <tr>\n",
       "      <td>13</td>\n",
       "      <td>C_01_025</td>\n",
       "      <td>PPL(간접광고) 평가 - PPL(간접광고) 장소에 방문의향</td>\n",
       "    </tr>\n",
       "    <tr>\n",
       "      <td>14</td>\n",
       "      <td>C_01_032</td>\n",
       "      <td>PPL 제품/서비스/장소 정보 탐색 경험</td>\n",
       "    </tr>\n",
       "    <tr>\n",
       "      <td>15</td>\n",
       "      <td>C_01_033</td>\n",
       "      <td>PPL 제품/서비스/장소 실제 구입/이용 여부</td>\n",
       "    </tr>\n",
       "    <tr>\n",
       "      <td>16</td>\n",
       "      <td>C_12_029</td>\n",
       "      <td>PC 인터넷 광고 주목도(1)</td>\n",
       "    </tr>\n",
       "    <tr>\n",
       "      <td>17</td>\n",
       "      <td>C_12_031</td>\n",
       "      <td>PC 인터넷 광고 관심도(1)</td>\n",
       "    </tr>\n",
       "    <tr>\n",
       "      <td>18</td>\n",
       "      <td>C_12_034</td>\n",
       "      <td>PC 인터넷 광고 집중도- 배너광고</td>\n",
       "    </tr>\n",
       "    <tr>\n",
       "      <td>19</td>\n",
       "      <td>C_12_035</td>\n",
       "      <td>PC 인터넷 광고 집중도 - 동영상 광고</td>\n",
       "    </tr>\n",
       "    <tr>\n",
       "      <td>20</td>\n",
       "      <td>C_12_036</td>\n",
       "      <td>PC 인터넷 광고 집중도 - 팝업 광고</td>\n",
       "    </tr>\n",
       "    <tr>\n",
       "      <td>21</td>\n",
       "      <td>C_12_037</td>\n",
       "      <td>PC 인터넷 광고 집중도 - 검색 광고</td>\n",
       "    </tr>\n",
       "    <tr>\n",
       "      <td>22</td>\n",
       "      <td>C_13_025</td>\n",
       "      <td>모바일 인터넷 광고 주목도</td>\n",
       "    </tr>\n",
       "    <tr>\n",
       "      <td>23</td>\n",
       "      <td>C_13_026</td>\n",
       "      <td>모바일 인터넷 광고 관심도</td>\n",
       "    </tr>\n",
       "    <tr>\n",
       "      <td>24</td>\n",
       "      <td>C_13_028</td>\n",
       "      <td>광고 집중도 - 웹/앱 배너광고</td>\n",
       "    </tr>\n",
       "    <tr>\n",
       "      <td>25</td>\n",
       "      <td>C_13_029</td>\n",
       "      <td>광고 집중도 - 동영상 광고</td>\n",
       "    </tr>\n",
       "    <tr>\n",
       "      <td>26</td>\n",
       "      <td>C_13_030</td>\n",
       "      <td>광고 집중도 - 검색 광고</td>\n",
       "    </tr>\n",
       "    <tr>\n",
       "      <td>27</td>\n",
       "      <td>C_13_031</td>\n",
       "      <td>광고 집중도 - 리워드광고</td>\n",
       "    </tr>\n",
       "    <tr>\n",
       "      <td>28</td>\n",
       "      <td>C_14_009</td>\n",
       "      <td>온라인 동영상 광고 동의 정도 - 제품/브랜드를 관심있게 본다</td>\n",
       "    </tr>\n",
       "    <tr>\n",
       "      <td>29</td>\n",
       "      <td>C_14_010</td>\n",
       "      <td>온라인 동영상 광고 동의 정도 - 제품/브랜드에 대해 알게 된다</td>\n",
       "    </tr>\n",
       "    <tr>\n",
       "      <td>30</td>\n",
       "      <td>C_14_011</td>\n",
       "      <td>온라인 동영상 광고 동의 정도 - 제품/브랜드의 이미지가 좋아진다</td>\n",
       "    </tr>\n",
       "    <tr>\n",
       "      <td>31</td>\n",
       "      <td>C_14_012</td>\n",
       "      <td>온라인 동영상 광고 동의 정도 - 제품/브랜드에 대해 추가 검색을 하고 싶어진다</td>\n",
       "    </tr>\n",
       "    <tr>\n",
       "      <td>32</td>\n",
       "      <td>C_14_013</td>\n",
       "      <td>온라인 동영상 광고 동의 정도 - 제품/브랜드에 대한 정보를 공유 하고 싶어진다</td>\n",
       "    </tr>\n",
       "    <tr>\n",
       "      <td>33</td>\n",
       "      <td>C_14_014</td>\n",
       "      <td>온라인 동영상 광고 동의 정도 - 제품/브랜드를 사고 싶은 생각이 든다</td>\n",
       "    </tr>\n",
       "    <tr>\n",
       "      <td>34</td>\n",
       "      <td>C_15_019</td>\n",
       "      <td>SNS 광고 주목도</td>\n",
       "    </tr>\n",
       "    <tr>\n",
       "      <td>35</td>\n",
       "      <td>C_15_020</td>\n",
       "      <td>SNS 광고 관심도</td>\n",
       "    </tr>\n",
       "    <tr>\n",
       "      <td>36</td>\n",
       "      <td>C_15_021</td>\n",
       "      <td>SNS 이용 시 등장하는 광고 인식</td>\n",
       "    </tr>\n",
       "    <tr>\n",
       "      <td>37</td>\n",
       "      <td>H_04_014</td>\n",
       "      <td>14) 나는 TV광고에서 제공하는 제품정보를 신뢰한다</td>\n",
       "    </tr>\n",
       "    <tr>\n",
       "      <td>38</td>\n",
       "      <td>H_04_016</td>\n",
       "      <td>16) TV광고의 정보는 제품 구매를 결정하는데 도움이 된다</td>\n",
       "    </tr>\n",
       "    <tr>\n",
       "      <td>39</td>\n",
       "      <td>H_04_024</td>\n",
       "      <td>21) 광고를 많이 한 브랜드를 사는 경우가 많다</td>\n",
       "    </tr>\n",
       "  </tbody>\n",
       "</table>\n",
       "</div>"
      ],
      "text/plain": [
       "          NO                                            내용\n",
       "0   C_01_011                              TV 시청 중 광고 시청 정도\n",
       "1   C_01_012                                TV 시청 중 광고 관심도\n",
       "2   C_01_014                              프로그램 전 광고 시청 집중도\n",
       "3   C_01_015                              프로그램 후 광고 시청 집중도\n",
       "4   C_01_016                                   중간광고 시청 집중도\n",
       "5   C_01_017                            PPL광고(간접광고) 시청 집중도\n",
       "6   C_01_018                                   가상광고 시청 집중도\n",
       "7   C_01_019                     PPL(간접광고) 평가 - 제품/브랜드 관심도\n",
       "8   C_01_020                      PPL(간접광고) 평가 - 제품/브랜드 인지\n",
       "9   C_01_021                 PPL(간접광고) 평가 - 제품/브랜드의 이미지 향상\n",
       "10  C_01_022                PPL(간접광고) 평가 - 제품/브랜드 추가 검색 의향\n",
       "11  C_01_023            PPL(간접광고) 평가 - 제품/브랜드에 대한 정보 공유 의향\n",
       "12  C_01_024                    PPL(간접광고) 평가 - 제품/브랜드 구매의향\n",
       "13  C_01_025             PPL(간접광고) 평가 - PPL(간접광고) 장소에 방문의향\n",
       "14  C_01_032                        PPL 제품/서비스/장소 정보 탐색 경험\n",
       "15  C_01_033                     PPL 제품/서비스/장소 실제 구입/이용 여부\n",
       "16  C_12_029                              PC 인터넷 광고 주목도(1)\n",
       "17  C_12_031                              PC 인터넷 광고 관심도(1)\n",
       "18  C_12_034                           PC 인터넷 광고 집중도- 배너광고\n",
       "19  C_12_035                        PC 인터넷 광고 집중도 - 동영상 광고\n",
       "20  C_12_036                         PC 인터넷 광고 집중도 - 팝업 광고\n",
       "21  C_12_037                         PC 인터넷 광고 집중도 - 검색 광고\n",
       "22  C_13_025                                모바일 인터넷 광고 주목도\n",
       "23  C_13_026                                모바일 인터넷 광고 관심도\n",
       "24  C_13_028                             광고 집중도 - 웹/앱 배너광고\n",
       "25  C_13_029                               광고 집중도 - 동영상 광고\n",
       "26  C_13_030                                광고 집중도 - 검색 광고\n",
       "27  C_13_031                                광고 집중도 - 리워드광고\n",
       "28  C_14_009            온라인 동영상 광고 동의 정도 - 제품/브랜드를 관심있게 본다\n",
       "29  C_14_010           온라인 동영상 광고 동의 정도 - 제품/브랜드에 대해 알게 된다\n",
       "30  C_14_011          온라인 동영상 광고 동의 정도 - 제품/브랜드의 이미지가 좋아진다\n",
       "31  C_14_012  온라인 동영상 광고 동의 정도 - 제품/브랜드에 대해 추가 검색을 하고 싶어진다\n",
       "32  C_14_013  온라인 동영상 광고 동의 정도 - 제품/브랜드에 대한 정보를 공유 하고 싶어진다\n",
       "33  C_14_014       온라인 동영상 광고 동의 정도 - 제품/브랜드를 사고 싶은 생각이 든다\n",
       "34  C_15_019                                    SNS 광고 주목도\n",
       "35  C_15_020                                    SNS 광고 관심도\n",
       "36  C_15_021                           SNS 이용 시 등장하는 광고 인식\n",
       "37  H_04_014                 14) 나는 TV광고에서 제공하는 제품정보를 신뢰한다\n",
       "38  H_04_016             16) TV광고의 정보는 제품 구매를 결정하는데 도움이 된다\n",
       "39  H_04_024                   21) 광고를 많이 한 브랜드를 사는 경우가 많다"
      ]
     },
     "execution_count": 8,
     "metadata": {},
     "output_type": "execute_result"
    }
   ],
   "source": [
    "df_fea"
   ]
  },
  {
   "cell_type": "markdown",
   "metadata": {},
   "source": [
    "# Pre-processing"
   ]
  },
  {
   "cell_type": "markdown",
   "metadata": {},
   "source": [
    "## select feature"
   ]
  },
  {
   "cell_type": "markdown",
   "metadata": {},
   "source": [
    "Load data에서 완료."
   ]
  },
  {
   "cell_type": "code",
   "execution_count": 9,
   "metadata": {},
   "outputs": [
    {
     "data": {
      "text/plain": [
       "(4000, 40)"
      ]
     },
     "execution_count": 9,
     "metadata": {},
     "output_type": "execute_result"
    }
   ],
   "source": [
    "df.shape"
   ]
  },
  {
   "cell_type": "code",
   "execution_count": 10,
   "metadata": {
    "scrolled": true
   },
   "outputs": [
    {
     "data": {
      "text/html": [
       "<div>\n",
       "<style scoped>\n",
       "    .dataframe tbody tr th:only-of-type {\n",
       "        vertical-align: middle;\n",
       "    }\n",
       "\n",
       "    .dataframe tbody tr th {\n",
       "        vertical-align: top;\n",
       "    }\n",
       "\n",
       "    .dataframe thead th {\n",
       "        text-align: right;\n",
       "    }\n",
       "</style>\n",
       "<table border=\"1\" class=\"dataframe\">\n",
       "  <thead>\n",
       "    <tr style=\"text-align: right;\">\n",
       "      <th></th>\n",
       "      <th>C_01_011</th>\n",
       "      <th>C_01_012</th>\n",
       "      <th>C_01_014</th>\n",
       "      <th>C_01_015</th>\n",
       "      <th>C_01_016</th>\n",
       "      <th>C_01_017</th>\n",
       "      <th>C_01_018</th>\n",
       "      <th>C_01_019</th>\n",
       "      <th>C_01_020</th>\n",
       "      <th>C_01_021</th>\n",
       "      <th>...</th>\n",
       "      <th>C_14_011</th>\n",
       "      <th>C_14_012</th>\n",
       "      <th>C_14_013</th>\n",
       "      <th>C_14_014</th>\n",
       "      <th>C_15_019</th>\n",
       "      <th>C_15_020</th>\n",
       "      <th>C_15_021</th>\n",
       "      <th>H_04_014</th>\n",
       "      <th>H_04_016</th>\n",
       "      <th>H_04_024</th>\n",
       "    </tr>\n",
       "  </thead>\n",
       "  <tbody>\n",
       "    <tr>\n",
       "      <td>1</td>\n",
       "      <td>2</td>\n",
       "      <td>2</td>\n",
       "      <td>5</td>\n",
       "      <td>4</td>\n",
       "      <td>4</td>\n",
       "      <td>6</td>\n",
       "      <td>6</td>\n",
       "      <td>6</td>\n",
       "      <td>6</td>\n",
       "      <td>6</td>\n",
       "      <td>...</td>\n",
       "      <td>4</td>\n",
       "      <td>3</td>\n",
       "      <td>5</td>\n",
       "      <td>5</td>\n",
       "      <td>NaN</td>\n",
       "      <td>NaN</td>\n",
       "      <td>NaN</td>\n",
       "      <td>3</td>\n",
       "      <td>4</td>\n",
       "      <td>2</td>\n",
       "    </tr>\n",
       "    <tr>\n",
       "      <td>2</td>\n",
       "      <td>2</td>\n",
       "      <td>2</td>\n",
       "      <td>3</td>\n",
       "      <td>2</td>\n",
       "      <td>2</td>\n",
       "      <td>2</td>\n",
       "      <td>3</td>\n",
       "      <td>3</td>\n",
       "      <td>4</td>\n",
       "      <td>2</td>\n",
       "      <td>...</td>\n",
       "      <td>4</td>\n",
       "      <td>5</td>\n",
       "      <td>4</td>\n",
       "      <td>5</td>\n",
       "      <td>NaN</td>\n",
       "      <td>NaN</td>\n",
       "      <td>NaN</td>\n",
       "      <td>5</td>\n",
       "      <td>5</td>\n",
       "      <td>4</td>\n",
       "    </tr>\n",
       "    <tr>\n",
       "      <td>3</td>\n",
       "      <td>1</td>\n",
       "      <td>1</td>\n",
       "      <td>5</td>\n",
       "      <td>5</td>\n",
       "      <td>6</td>\n",
       "      <td>6</td>\n",
       "      <td>5</td>\n",
       "      <td>5</td>\n",
       "      <td>4</td>\n",
       "      <td>5</td>\n",
       "      <td>...</td>\n",
       "      <td>NaN</td>\n",
       "      <td>NaN</td>\n",
       "      <td>NaN</td>\n",
       "      <td>NaN</td>\n",
       "      <td>2</td>\n",
       "      <td>2</td>\n",
       "      <td>4</td>\n",
       "      <td>4</td>\n",
       "      <td>5</td>\n",
       "      <td>4</td>\n",
       "    </tr>\n",
       "    <tr>\n",
       "      <td>4</td>\n",
       "      <td>3</td>\n",
       "      <td>4</td>\n",
       "      <td>3</td>\n",
       "      <td>3</td>\n",
       "      <td>3</td>\n",
       "      <td>3</td>\n",
       "      <td>3</td>\n",
       "      <td>2</td>\n",
       "      <td>2</td>\n",
       "      <td>2</td>\n",
       "      <td>...</td>\n",
       "      <td>NaN</td>\n",
       "      <td>NaN</td>\n",
       "      <td>NaN</td>\n",
       "      <td>NaN</td>\n",
       "      <td>3</td>\n",
       "      <td>4</td>\n",
       "      <td>2</td>\n",
       "      <td>4</td>\n",
       "      <td>3</td>\n",
       "      <td>3</td>\n",
       "    </tr>\n",
       "    <tr>\n",
       "      <td>5</td>\n",
       "      <td>2</td>\n",
       "      <td>2</td>\n",
       "      <td>5</td>\n",
       "      <td>4</td>\n",
       "      <td>4</td>\n",
       "      <td>4</td>\n",
       "      <td>3</td>\n",
       "      <td>6</td>\n",
       "      <td>6</td>\n",
       "      <td>5</td>\n",
       "      <td>...</td>\n",
       "      <td>5</td>\n",
       "      <td>5</td>\n",
       "      <td>6</td>\n",
       "      <td>4</td>\n",
       "      <td>3</td>\n",
       "      <td>3</td>\n",
       "      <td>2</td>\n",
       "      <td>3</td>\n",
       "      <td>2</td>\n",
       "      <td>1</td>\n",
       "    </tr>\n",
       "  </tbody>\n",
       "</table>\n",
       "<p>5 rows × 40 columns</p>\n",
       "</div>"
      ],
      "text/plain": [
       "  C_01_011 C_01_012 C_01_014 C_01_015 C_01_016 C_01_017 C_01_018 C_01_019  \\\n",
       "1        2        2        5        4        4        6        6        6   \n",
       "2        2        2        3        2        2        2        3        3   \n",
       "3        1        1        5        5        6        6        5        5   \n",
       "4        3        4        3        3        3        3        3        2   \n",
       "5        2        2        5        4        4        4        3        6   \n",
       "\n",
       "  C_01_020 C_01_021  ... C_14_011 C_14_012 C_14_013 C_14_014 C_15_019  \\\n",
       "1        6        6  ...        4        3        5        5      NaN   \n",
       "2        4        2  ...        4        5        4        5      NaN   \n",
       "3        4        5  ...      NaN      NaN      NaN      NaN        2   \n",
       "4        2        2  ...      NaN      NaN      NaN      NaN        3   \n",
       "5        6        5  ...        5        5        6        4        3   \n",
       "\n",
       "  C_15_020 C_15_021 H_04_014 H_04_016 H_04_024  \n",
       "1      NaN      NaN        3        4        2  \n",
       "2      NaN      NaN        5        5        4  \n",
       "3        2        4        4        5        4  \n",
       "4        4        2        4        3        3  \n",
       "5        3        2        3        2        1  \n",
       "\n",
       "[5 rows x 40 columns]"
      ]
     },
     "execution_count": 10,
     "metadata": {},
     "output_type": "execute_result"
    }
   ],
   "source": [
    "df.head()"
   ]
  },
  {
   "cell_type": "code",
   "execution_count": 11,
   "metadata": {
    "scrolled": true
   },
   "outputs": [
    {
     "data": {
      "text/html": [
       "<div>\n",
       "<style scoped>\n",
       "    .dataframe tbody tr th:only-of-type {\n",
       "        vertical-align: middle;\n",
       "    }\n",
       "\n",
       "    .dataframe tbody tr th {\n",
       "        vertical-align: top;\n",
       "    }\n",
       "\n",
       "    .dataframe thead th {\n",
       "        text-align: right;\n",
       "    }\n",
       "</style>\n",
       "<table border=\"1\" class=\"dataframe\">\n",
       "  <thead>\n",
       "    <tr style=\"text-align: right;\">\n",
       "      <th></th>\n",
       "      <th>C_01_011</th>\n",
       "      <th>C_01_012</th>\n",
       "      <th>C_01_014</th>\n",
       "      <th>C_01_015</th>\n",
       "      <th>C_01_016</th>\n",
       "      <th>C_01_017</th>\n",
       "      <th>C_01_018</th>\n",
       "      <th>C_01_019</th>\n",
       "      <th>C_01_020</th>\n",
       "      <th>C_01_021</th>\n",
       "      <th>...</th>\n",
       "      <th>C_14_011</th>\n",
       "      <th>C_14_012</th>\n",
       "      <th>C_14_013</th>\n",
       "      <th>C_14_014</th>\n",
       "      <th>C_15_019</th>\n",
       "      <th>C_15_020</th>\n",
       "      <th>C_15_021</th>\n",
       "      <th>H_04_014</th>\n",
       "      <th>H_04_016</th>\n",
       "      <th>H_04_024</th>\n",
       "    </tr>\n",
       "  </thead>\n",
       "  <tbody>\n",
       "    <tr>\n",
       "      <td>3996</td>\n",
       "      <td>2</td>\n",
       "      <td>3</td>\n",
       "      <td>2</td>\n",
       "      <td>3</td>\n",
       "      <td>3</td>\n",
       "      <td>4</td>\n",
       "      <td>4</td>\n",
       "      <td>4</td>\n",
       "      <td>5</td>\n",
       "      <td>4</td>\n",
       "      <td>...</td>\n",
       "      <td>3</td>\n",
       "      <td>4</td>\n",
       "      <td>4</td>\n",
       "      <td>3</td>\n",
       "      <td>2</td>\n",
       "      <td>3</td>\n",
       "      <td>3</td>\n",
       "      <td>4</td>\n",
       "      <td>3</td>\n",
       "      <td>4</td>\n",
       "    </tr>\n",
       "    <tr>\n",
       "      <td>3997</td>\n",
       "      <td>3</td>\n",
       "      <td>3</td>\n",
       "      <td>3</td>\n",
       "      <td>3</td>\n",
       "      <td>3</td>\n",
       "      <td>3</td>\n",
       "      <td>2</td>\n",
       "      <td>3</td>\n",
       "      <td>3</td>\n",
       "      <td>3</td>\n",
       "      <td>...</td>\n",
       "      <td>NaN</td>\n",
       "      <td>NaN</td>\n",
       "      <td>NaN</td>\n",
       "      <td>NaN</td>\n",
       "      <td>NaN</td>\n",
       "      <td>NaN</td>\n",
       "      <td>NaN</td>\n",
       "      <td>4</td>\n",
       "      <td>4</td>\n",
       "      <td>4</td>\n",
       "    </tr>\n",
       "    <tr>\n",
       "      <td>3998</td>\n",
       "      <td>2</td>\n",
       "      <td>3</td>\n",
       "      <td>4</td>\n",
       "      <td>5</td>\n",
       "      <td>4</td>\n",
       "      <td>3</td>\n",
       "      <td>4</td>\n",
       "      <td>4</td>\n",
       "      <td>3</td>\n",
       "      <td>5</td>\n",
       "      <td>...</td>\n",
       "      <td>NaN</td>\n",
       "      <td>NaN</td>\n",
       "      <td>NaN</td>\n",
       "      <td>NaN</td>\n",
       "      <td>2</td>\n",
       "      <td>3</td>\n",
       "      <td>3</td>\n",
       "      <td>3</td>\n",
       "      <td>4</td>\n",
       "      <td>4</td>\n",
       "    </tr>\n",
       "    <tr>\n",
       "      <td>3999</td>\n",
       "      <td>2</td>\n",
       "      <td>3</td>\n",
       "      <td>3</td>\n",
       "      <td>3</td>\n",
       "      <td>4</td>\n",
       "      <td>3</td>\n",
       "      <td>3</td>\n",
       "      <td>3</td>\n",
       "      <td>4</td>\n",
       "      <td>3</td>\n",
       "      <td>...</td>\n",
       "      <td>NaN</td>\n",
       "      <td>NaN</td>\n",
       "      <td>NaN</td>\n",
       "      <td>NaN</td>\n",
       "      <td>NaN</td>\n",
       "      <td>NaN</td>\n",
       "      <td>NaN</td>\n",
       "      <td>5</td>\n",
       "      <td>4</td>\n",
       "      <td>4</td>\n",
       "    </tr>\n",
       "    <tr>\n",
       "      <td>4000</td>\n",
       "      <td>3</td>\n",
       "      <td>3</td>\n",
       "      <td>3</td>\n",
       "      <td>3</td>\n",
       "      <td>4</td>\n",
       "      <td>3</td>\n",
       "      <td>3</td>\n",
       "      <td>4</td>\n",
       "      <td>3</td>\n",
       "      <td>3</td>\n",
       "      <td>...</td>\n",
       "      <td>NaN</td>\n",
       "      <td>NaN</td>\n",
       "      <td>NaN</td>\n",
       "      <td>NaN</td>\n",
       "      <td>3</td>\n",
       "      <td>3</td>\n",
       "      <td>2</td>\n",
       "      <td>5</td>\n",
       "      <td>3</td>\n",
       "      <td>3</td>\n",
       "    </tr>\n",
       "  </tbody>\n",
       "</table>\n",
       "<p>5 rows × 40 columns</p>\n",
       "</div>"
      ],
      "text/plain": [
       "     C_01_011 C_01_012 C_01_014 C_01_015 C_01_016 C_01_017 C_01_018 C_01_019  \\\n",
       "3996        2        3        2        3        3        4        4        4   \n",
       "3997        3        3        3        3        3        3        2        3   \n",
       "3998        2        3        4        5        4        3        4        4   \n",
       "3999        2        3        3        3        4        3        3        3   \n",
       "4000        3        3        3        3        4        3        3        4   \n",
       "\n",
       "     C_01_020 C_01_021  ... C_14_011 C_14_012 C_14_013 C_14_014 C_15_019  \\\n",
       "3996        5        4  ...        3        4        4        3        2   \n",
       "3997        3        3  ...      NaN      NaN      NaN      NaN      NaN   \n",
       "3998        3        5  ...      NaN      NaN      NaN      NaN        2   \n",
       "3999        4        3  ...      NaN      NaN      NaN      NaN      NaN   \n",
       "4000        3        3  ...      NaN      NaN      NaN      NaN        3   \n",
       "\n",
       "     C_15_020 C_15_021 H_04_014 H_04_016 H_04_024  \n",
       "3996        3        3        4        3        4  \n",
       "3997      NaN      NaN        4        4        4  \n",
       "3998        3        3        3        4        4  \n",
       "3999      NaN      NaN        5        4        4  \n",
       "4000        3        2        5        3        3  \n",
       "\n",
       "[5 rows x 40 columns]"
      ]
     },
     "execution_count": 11,
     "metadata": {},
     "output_type": "execute_result"
    }
   ],
   "source": [
    "df.tail()"
   ]
  },
  {
   "cell_type": "markdown",
   "metadata": {},
   "source": [
    "## missing value"
   ]
  },
  {
   "cell_type": "code",
   "execution_count": 12,
   "metadata": {
    "scrolled": false
   },
   "outputs": [
    {
     "data": {
      "text/html": [
       "<div>\n",
       "<style scoped>\n",
       "    .dataframe tbody tr th:only-of-type {\n",
       "        vertical-align: middle;\n",
       "    }\n",
       "\n",
       "    .dataframe tbody tr th {\n",
       "        vertical-align: top;\n",
       "    }\n",
       "\n",
       "    .dataframe thead th {\n",
       "        text-align: right;\n",
       "    }\n",
       "</style>\n",
       "<table border=\"1\" class=\"dataframe\">\n",
       "  <thead>\n",
       "    <tr style=\"text-align: right;\">\n",
       "      <th></th>\n",
       "      <th>column</th>\n",
       "      <th>count</th>\n",
       "      <th>ratio</th>\n",
       "    </tr>\n",
       "  </thead>\n",
       "  <tbody>\n",
       "    <tr>\n",
       "      <td>1</td>\n",
       "      <td>C_01_012</td>\n",
       "      <td>316</td>\n",
       "      <td>7.9</td>\n",
       "    </tr>\n",
       "    <tr>\n",
       "      <td>2</td>\n",
       "      <td>C_01_014</td>\n",
       "      <td>316</td>\n",
       "      <td>7.9</td>\n",
       "    </tr>\n",
       "    <tr>\n",
       "      <td>3</td>\n",
       "      <td>C_01_015</td>\n",
       "      <td>316</td>\n",
       "      <td>7.9</td>\n",
       "    </tr>\n",
       "    <tr>\n",
       "      <td>4</td>\n",
       "      <td>C_01_016</td>\n",
       "      <td>316</td>\n",
       "      <td>7.9</td>\n",
       "    </tr>\n",
       "    <tr>\n",
       "      <td>5</td>\n",
       "      <td>C_01_017</td>\n",
       "      <td>316</td>\n",
       "      <td>7.9</td>\n",
       "    </tr>\n",
       "    <tr>\n",
       "      <td>6</td>\n",
       "      <td>C_01_018</td>\n",
       "      <td>316</td>\n",
       "      <td>7.9</td>\n",
       "    </tr>\n",
       "    <tr>\n",
       "      <td>16</td>\n",
       "      <td>C_12_029</td>\n",
       "      <td>1397</td>\n",
       "      <td>34.9</td>\n",
       "    </tr>\n",
       "    <tr>\n",
       "      <td>17</td>\n",
       "      <td>C_12_031</td>\n",
       "      <td>1664</td>\n",
       "      <td>41.6</td>\n",
       "    </tr>\n",
       "    <tr>\n",
       "      <td>18</td>\n",
       "      <td>C_12_034</td>\n",
       "      <td>1664</td>\n",
       "      <td>41.6</td>\n",
       "    </tr>\n",
       "    <tr>\n",
       "      <td>19</td>\n",
       "      <td>C_12_035</td>\n",
       "      <td>1664</td>\n",
       "      <td>41.6</td>\n",
       "    </tr>\n",
       "    <tr>\n",
       "      <td>20</td>\n",
       "      <td>C_12_036</td>\n",
       "      <td>1664</td>\n",
       "      <td>41.6</td>\n",
       "    </tr>\n",
       "    <tr>\n",
       "      <td>21</td>\n",
       "      <td>C_12_037</td>\n",
       "      <td>1664</td>\n",
       "      <td>41.6</td>\n",
       "    </tr>\n",
       "    <tr>\n",
       "      <td>22</td>\n",
       "      <td>C_13_025</td>\n",
       "      <td>186</td>\n",
       "      <td>4.6</td>\n",
       "    </tr>\n",
       "    <tr>\n",
       "      <td>23</td>\n",
       "      <td>C_13_026</td>\n",
       "      <td>623</td>\n",
       "      <td>15.6</td>\n",
       "    </tr>\n",
       "    <tr>\n",
       "      <td>24</td>\n",
       "      <td>C_13_028</td>\n",
       "      <td>623</td>\n",
       "      <td>15.6</td>\n",
       "    </tr>\n",
       "    <tr>\n",
       "      <td>25</td>\n",
       "      <td>C_13_029</td>\n",
       "      <td>623</td>\n",
       "      <td>15.6</td>\n",
       "    </tr>\n",
       "    <tr>\n",
       "      <td>26</td>\n",
       "      <td>C_13_030</td>\n",
       "      <td>623</td>\n",
       "      <td>15.6</td>\n",
       "    </tr>\n",
       "    <tr>\n",
       "      <td>27</td>\n",
       "      <td>C_13_031</td>\n",
       "      <td>623</td>\n",
       "      <td>15.6</td>\n",
       "    </tr>\n",
       "    <tr>\n",
       "      <td>28</td>\n",
       "      <td>C_14_009</td>\n",
       "      <td>1784</td>\n",
       "      <td>44.6</td>\n",
       "    </tr>\n",
       "    <tr>\n",
       "      <td>29</td>\n",
       "      <td>C_14_010</td>\n",
       "      <td>1784</td>\n",
       "      <td>44.6</td>\n",
       "    </tr>\n",
       "    <tr>\n",
       "      <td>30</td>\n",
       "      <td>C_14_011</td>\n",
       "      <td>1784</td>\n",
       "      <td>44.6</td>\n",
       "    </tr>\n",
       "    <tr>\n",
       "      <td>31</td>\n",
       "      <td>C_14_012</td>\n",
       "      <td>1784</td>\n",
       "      <td>44.6</td>\n",
       "    </tr>\n",
       "    <tr>\n",
       "      <td>32</td>\n",
       "      <td>C_14_013</td>\n",
       "      <td>1784</td>\n",
       "      <td>44.6</td>\n",
       "    </tr>\n",
       "    <tr>\n",
       "      <td>33</td>\n",
       "      <td>C_14_014</td>\n",
       "      <td>1784</td>\n",
       "      <td>44.6</td>\n",
       "    </tr>\n",
       "    <tr>\n",
       "      <td>34</td>\n",
       "      <td>C_15_019</td>\n",
       "      <td>1527</td>\n",
       "      <td>38.2</td>\n",
       "    </tr>\n",
       "    <tr>\n",
       "      <td>35</td>\n",
       "      <td>C_15_020</td>\n",
       "      <td>1743</td>\n",
       "      <td>43.6</td>\n",
       "    </tr>\n",
       "    <tr>\n",
       "      <td>36</td>\n",
       "      <td>C_15_021</td>\n",
       "      <td>1527</td>\n",
       "      <td>38.2</td>\n",
       "    </tr>\n",
       "  </tbody>\n",
       "</table>\n",
       "</div>"
      ],
      "text/plain": [
       "      column  count  ratio\n",
       "1   C_01_012    316    7.9\n",
       "2   C_01_014    316    7.9\n",
       "3   C_01_015    316    7.9\n",
       "4   C_01_016    316    7.9\n",
       "5   C_01_017    316    7.9\n",
       "6   C_01_018    316    7.9\n",
       "16  C_12_029   1397   34.9\n",
       "17  C_12_031   1664   41.6\n",
       "18  C_12_034   1664   41.6\n",
       "19  C_12_035   1664   41.6\n",
       "20  C_12_036   1664   41.6\n",
       "21  C_12_037   1664   41.6\n",
       "22  C_13_025    186    4.6\n",
       "23  C_13_026    623   15.6\n",
       "24  C_13_028    623   15.6\n",
       "25  C_13_029    623   15.6\n",
       "26  C_13_030    623   15.6\n",
       "27  C_13_031    623   15.6\n",
       "28  C_14_009   1784   44.6\n",
       "29  C_14_010   1784   44.6\n",
       "30  C_14_011   1784   44.6\n",
       "31  C_14_012   1784   44.6\n",
       "32  C_14_013   1784   44.6\n",
       "33  C_14_014   1784   44.6\n",
       "34  C_15_019   1527   38.2\n",
       "35  C_15_020   1743   43.6\n",
       "36  C_15_021   1527   38.2"
      ]
     },
     "execution_count": 12,
     "metadata": {},
     "output_type": "execute_result"
    }
   ],
   "source": [
    "# 결측치가 존재하는 컬럼, 결측치 비율\n",
    "df_miss = df.isnull().sum().reset_index()\n",
    "df_miss.columns = ['column', 'count']\n",
    "df_miss['ratio'] = round(df_miss['count']/len(df)*100, 1)\n",
    "df_miss.loc[df_miss['ratio'] != 0]"
   ]
  },
  {
   "cell_type": "code",
   "execution_count": 13,
   "metadata": {},
   "outputs": [
    {
     "data": {
      "text/plain": [
       "<matplotlib.axes._subplots.AxesSubplot at 0x22db4895748>"
      ]
     },
     "execution_count": 13,
     "metadata": {},
     "output_type": "execute_result"
    },
    {
     "data": {
      "image/png": "[encoded data removed]",
      "text/plain": [
       "<Figure size 1296x432 with 2 Axes>"
      ]
     },
     "metadata": {
      "needs_background": "light"
     },
     "output_type": "display_data"
    }
   ],
   "source": [
    "msno.matrix(df, figsize=(18,6))"
   ]
  },
  {
   "cell_type": "markdown",
   "metadata": {},
   "source": [
    "- Ex) C_01_012 부터 C_01_018 까지의 결측값\n",
    "    - 바로 전 C_01_011 질문\n",
    "    - Q. 귀하께서는 평소 TV를 시청하시면서 프로그램 전/중간/후에 나오는 광고를 얼마나 많이 보시는 편입니까?\n",
    "    - A. '전혀 관심있게 보지 않는다.' 로 응답한 설문\n",
    "    - TV 매체로 분석 시 제외하고 분석\n",
    "---\n",
    "- -> 나머지 결측값도 위와 마찬가지로 다른 값으로 대체하지 않고 제외하고 분석"
   ]
  },
  {
   "cell_type": "markdown",
   "metadata": {},
   "source": [
    "## unique value"
   ]
  },
  {
   "cell_type": "code",
   "execution_count": 14,
   "metadata": {
    "scrolled": true
   },
   "outputs": [
    {
     "data": {
      "text/html": [
       "<div>\n",
       "<style scoped>\n",
       "    .dataframe tbody tr th:only-of-type {\n",
       "        vertical-align: middle;\n",
       "    }\n",
       "\n",
       "    .dataframe tbody tr th {\n",
       "        vertical-align: top;\n",
       "    }\n",
       "\n",
       "    .dataframe thead th {\n",
       "        text-align: right;\n",
       "    }\n",
       "</style>\n",
       "<table border=\"1\" class=\"dataframe\">\n",
       "  <thead>\n",
       "    <tr style=\"text-align: right;\">\n",
       "      <th></th>\n",
       "      <th>C_01_011</th>\n",
       "      <th>C_01_012</th>\n",
       "      <th>C_01_014</th>\n",
       "      <th>C_01_015</th>\n",
       "      <th>C_01_016</th>\n",
       "      <th>C_01_017</th>\n",
       "      <th>C_01_018</th>\n",
       "      <th>C_01_019</th>\n",
       "      <th>C_01_020</th>\n",
       "      <th>C_01_021</th>\n",
       "      <th>...</th>\n",
       "      <th>C_14_011</th>\n",
       "      <th>C_14_012</th>\n",
       "      <th>C_14_013</th>\n",
       "      <th>C_14_014</th>\n",
       "      <th>C_15_019</th>\n",
       "      <th>C_15_020</th>\n",
       "      <th>C_15_021</th>\n",
       "      <th>H_04_014</th>\n",
       "      <th>H_04_016</th>\n",
       "      <th>H_04_024</th>\n",
       "    </tr>\n",
       "  </thead>\n",
       "  <tbody>\n",
       "    <tr>\n",
       "      <td>count</td>\n",
       "      <td>4000</td>\n",
       "      <td>3684.0</td>\n",
       "      <td>3684.0</td>\n",
       "      <td>3684.0</td>\n",
       "      <td>3684.0</td>\n",
       "      <td>3684.0</td>\n",
       "      <td>3684.0</td>\n",
       "      <td>4000</td>\n",
       "      <td>4000</td>\n",
       "      <td>4000</td>\n",
       "      <td>...</td>\n",
       "      <td>2216.0</td>\n",
       "      <td>2216.0</td>\n",
       "      <td>2216.0</td>\n",
       "      <td>2216.0</td>\n",
       "      <td>2473.0</td>\n",
       "      <td>2257.0</td>\n",
       "      <td>2473.0</td>\n",
       "      <td>4000</td>\n",
       "      <td>4000</td>\n",
       "      <td>4000</td>\n",
       "    </tr>\n",
       "    <tr>\n",
       "      <td>unique</td>\n",
       "      <td>8</td>\n",
       "      <td>8.0</td>\n",
       "      <td>12.0</td>\n",
       "      <td>12.0</td>\n",
       "      <td>12.0</td>\n",
       "      <td>12.0</td>\n",
       "      <td>12.0</td>\n",
       "      <td>12</td>\n",
       "      <td>12</td>\n",
       "      <td>12</td>\n",
       "      <td>...</td>\n",
       "      <td>13.0</td>\n",
       "      <td>13.0</td>\n",
       "      <td>13.0</td>\n",
       "      <td>13.0</td>\n",
       "      <td>9.0</td>\n",
       "      <td>9.0</td>\n",
       "      <td>13.0</td>\n",
       "      <td>12</td>\n",
       "      <td>12</td>\n",
       "      <td>12</td>\n",
       "    </tr>\n",
       "    <tr>\n",
       "      <td>top</td>\n",
       "      <td>2</td>\n",
       "      <td>3.0</td>\n",
       "      <td>3.0</td>\n",
       "      <td>3.0</td>\n",
       "      <td>4.0</td>\n",
       "      <td>3.0</td>\n",
       "      <td>3.0</td>\n",
       "      <td>3</td>\n",
       "      <td>4</td>\n",
       "      <td>3</td>\n",
       "      <td>...</td>\n",
       "      <td>3.0</td>\n",
       "      <td>3.0</td>\n",
       "      <td>3.0</td>\n",
       "      <td>3.0</td>\n",
       "      <td>3.0</td>\n",
       "      <td>3.0</td>\n",
       "      <td>2.0</td>\n",
       "      <td>4</td>\n",
       "      <td>4</td>\n",
       "      <td>4</td>\n",
       "    </tr>\n",
       "    <tr>\n",
       "      <td>freq</td>\n",
       "      <td>1878</td>\n",
       "      <td>2299.0</td>\n",
       "      <td>1434.0</td>\n",
       "      <td>1540.0</td>\n",
       "      <td>1157.0</td>\n",
       "      <td>1393.0</td>\n",
       "      <td>1524.0</td>\n",
       "      <td>1416</td>\n",
       "      <td>1641</td>\n",
       "      <td>1314</td>\n",
       "      <td>...</td>\n",
       "      <td>750.0</td>\n",
       "      <td>776.0</td>\n",
       "      <td>723.0</td>\n",
       "      <td>727.0</td>\n",
       "      <td>1128.0</td>\n",
       "      <td>1444.0</td>\n",
       "      <td>839.0</td>\n",
       "      <td>1573</td>\n",
       "      <td>1648</td>\n",
       "      <td>1587</td>\n",
       "    </tr>\n",
       "  </tbody>\n",
       "</table>\n",
       "<p>4 rows × 40 columns</p>\n",
       "</div>"
      ],
      "text/plain": [
       "        C_01_011  C_01_012  C_01_014  C_01_015  C_01_016  C_01_017  C_01_018  \\\n",
       "count       4000    3684.0    3684.0    3684.0    3684.0    3684.0    3684.0   \n",
       "unique         8       8.0      12.0      12.0      12.0      12.0      12.0   \n",
       "top            2       3.0       3.0       3.0       4.0       3.0       3.0   \n",
       "freq        1878    2299.0    1434.0    1540.0    1157.0    1393.0    1524.0   \n",
       "\n",
       "        C_01_019  C_01_020  C_01_021  ...  C_14_011  C_14_012  C_14_013  \\\n",
       "count       4000      4000      4000  ...    2216.0    2216.0    2216.0   \n",
       "unique        12        12        12  ...      13.0      13.0      13.0   \n",
       "top            3         4         3  ...       3.0       3.0       3.0   \n",
       "freq        1416      1641      1314  ...     750.0     776.0     723.0   \n",
       "\n",
       "        C_14_014  C_15_019  C_15_020  C_15_021  H_04_014  H_04_016  H_04_024  \n",
       "count     2216.0    2473.0    2257.0    2473.0      4000      4000      4000  \n",
       "unique      13.0       9.0       9.0      13.0        12        12        12  \n",
       "top          3.0       3.0       3.0       2.0         4         4         4  \n",
       "freq       727.0    1128.0    1444.0     839.0      1573      1648      1587  \n",
       "\n",
       "[4 rows x 40 columns]"
      ]
     },
     "execution_count": 14,
     "metadata": {},
     "output_type": "execute_result"
    }
   ],
   "source": [
    "df.describe()"
   ]
  },
  {
   "cell_type": "markdown",
   "metadata": {},
   "source": [
    "-> unique 값이 보기 개수와 다름, 확인 요망"
   ]
  },
  {
   "cell_type": "code",
   "execution_count": 15,
   "metadata": {},
   "outputs": [
    {
     "data": {
      "text/plain": [
       "1850"
      ]
     },
     "execution_count": 15,
     "metadata": {},
     "output_type": "execute_result"
    }
   ],
   "source": [
    "len(re.findall(\" \", str(df))) # 1850개 공백 존재"
   ]
  },
  {
   "cell_type": "code",
   "execution_count": 16,
   "metadata": {
    "scrolled": true
   },
   "outputs": [
    {
     "data": {
      "text/html": [
       "<div>\n",
       "<style scoped>\n",
       "    .dataframe tbody tr th:only-of-type {\n",
       "        vertical-align: middle;\n",
       "    }\n",
       "\n",
       "    .dataframe tbody tr th {\n",
       "        vertical-align: top;\n",
       "    }\n",
       "\n",
       "    .dataframe thead th {\n",
       "        text-align: right;\n",
       "    }\n",
       "</style>\n",
       "<table border=\"1\" class=\"dataframe\">\n",
       "  <thead>\n",
       "    <tr style=\"text-align: right;\">\n",
       "      <th></th>\n",
       "      <th>C_01_011</th>\n",
       "      <th>C_01_012</th>\n",
       "      <th>C_01_014</th>\n",
       "      <th>C_01_015</th>\n",
       "      <th>C_01_016</th>\n",
       "      <th>C_01_017</th>\n",
       "      <th>C_01_018</th>\n",
       "      <th>C_01_019</th>\n",
       "      <th>C_01_020</th>\n",
       "      <th>C_01_021</th>\n",
       "      <th>...</th>\n",
       "      <th>C_14_011</th>\n",
       "      <th>C_14_012</th>\n",
       "      <th>C_14_013</th>\n",
       "      <th>C_14_014</th>\n",
       "      <th>C_15_019</th>\n",
       "      <th>C_15_020</th>\n",
       "      <th>C_15_021</th>\n",
       "      <th>H_04_014</th>\n",
       "      <th>H_04_016</th>\n",
       "      <th>H_04_024</th>\n",
       "    </tr>\n",
       "  </thead>\n",
       "  <tbody>\n",
       "    <tr>\n",
       "      <td>count</td>\n",
       "      <td>255</td>\n",
       "      <td>224</td>\n",
       "      <td>224</td>\n",
       "      <td>224</td>\n",
       "      <td>224</td>\n",
       "      <td>224</td>\n",
       "      <td>224</td>\n",
       "      <td>255</td>\n",
       "      <td>255</td>\n",
       "      <td>255</td>\n",
       "      <td>...</td>\n",
       "      <td>350</td>\n",
       "      <td>350</td>\n",
       "      <td>350</td>\n",
       "      <td>350</td>\n",
       "      <td>375</td>\n",
       "      <td>353</td>\n",
       "      <td>375</td>\n",
       "      <td>255</td>\n",
       "      <td>255</td>\n",
       "      <td>255</td>\n",
       "    </tr>\n",
       "    <tr>\n",
       "      <td>unique</td>\n",
       "      <td>4</td>\n",
       "      <td>4</td>\n",
       "      <td>6</td>\n",
       "      <td>6</td>\n",
       "      <td>6</td>\n",
       "      <td>6</td>\n",
       "      <td>6</td>\n",
       "      <td>6</td>\n",
       "      <td>6</td>\n",
       "      <td>6</td>\n",
       "      <td>...</td>\n",
       "      <td>7</td>\n",
       "      <td>7</td>\n",
       "      <td>7</td>\n",
       "      <td>7</td>\n",
       "      <td>5</td>\n",
       "      <td>5</td>\n",
       "      <td>7</td>\n",
       "      <td>6</td>\n",
       "      <td>6</td>\n",
       "      <td>6</td>\n",
       "    </tr>\n",
       "    <tr>\n",
       "      <td>top</td>\n",
       "      <td>2</td>\n",
       "      <td>3</td>\n",
       "      <td>3</td>\n",
       "      <td>3</td>\n",
       "      <td>3</td>\n",
       "      <td>3</td>\n",
       "      <td>3</td>\n",
       "      <td>3</td>\n",
       "      <td>4</td>\n",
       "      <td>3</td>\n",
       "      <td>...</td>\n",
       "      <td>3</td>\n",
       "      <td>3</td>\n",
       "      <td>3</td>\n",
       "      <td>3</td>\n",
       "      <td>3</td>\n",
       "      <td>3</td>\n",
       "      <td>2</td>\n",
       "      <td>4</td>\n",
       "      <td>4</td>\n",
       "      <td>4</td>\n",
       "    </tr>\n",
       "    <tr>\n",
       "      <td>freq</td>\n",
       "      <td>113</td>\n",
       "      <td>157</td>\n",
       "      <td>93</td>\n",
       "      <td>107</td>\n",
       "      <td>80</td>\n",
       "      <td>97</td>\n",
       "      <td>106</td>\n",
       "      <td>106</td>\n",
       "      <td>121</td>\n",
       "      <td>95</td>\n",
       "      <td>...</td>\n",
       "      <td>153</td>\n",
       "      <td>164</td>\n",
       "      <td>155</td>\n",
       "      <td>154</td>\n",
       "      <td>203</td>\n",
       "      <td>264</td>\n",
       "      <td>164</td>\n",
       "      <td>86</td>\n",
       "      <td>101</td>\n",
       "      <td>100</td>\n",
       "    </tr>\n",
       "  </tbody>\n",
       "</table>\n",
       "<p>4 rows × 40 columns</p>\n",
       "</div>"
      ],
      "text/plain": [
       "       C_01_011 C_01_012 C_01_014 C_01_015 C_01_016 C_01_017 C_01_018  \\\n",
       "count       255      224      224      224      224      224      224   \n",
       "unique        4        4        6        6        6        6        6   \n",
       "top           2        3        3        3        3        3        3   \n",
       "freq        113      157       93      107       80       97      106   \n",
       "\n",
       "       C_01_019 C_01_020 C_01_021  ... C_14_011 C_14_012 C_14_013 C_14_014  \\\n",
       "count       255      255      255  ...      350      350      350      350   \n",
       "unique        6        6        6  ...        7        7        7        7   \n",
       "top           3        4        3  ...        3        3        3        3   \n",
       "freq        106      121       95  ...      153      164      155      154   \n",
       "\n",
       "       C_15_019 C_15_020 C_15_021 H_04_014 H_04_016 H_04_024  \n",
       "count       375      353      375      255      255      255  \n",
       "unique        5        5        7        6        6        6  \n",
       "top           3        3        2        4        4        4  \n",
       "freq        203      264      164       86      101      100  \n",
       "\n",
       "[4 rows x 40 columns]"
      ]
     },
     "execution_count": 16,
     "metadata": {},
     "output_type": "execute_result"
    }
   ],
   "source": [
    "for x in df.columns: # 공백 제거\n",
    "    df[x] = df[x].str.strip()\n",
    "    \n",
    "df.describe()"
   ]
  },
  {
   "cell_type": "markdown",
   "metadata": {},
   "source": [
    "-> 아직 이상한 값이 있다. 확인 요망"
   ]
  },
  {
   "cell_type": "code",
   "execution_count": 17,
   "metadata": {},
   "outputs": [
    {
     "data": {
      "text/plain": [
       "array(['4', nan, '5', '2', '3', '1', '6', '#NULL!'], dtype=object)"
      ]
     },
     "execution_count": 17,
     "metadata": {},
     "output_type": "execute_result"
    }
   ],
   "source": [
    "df.C_14_011.unique() # '#NULL!' 값 존재"
   ]
  },
  {
   "cell_type": "code",
   "execution_count": 18,
   "metadata": {},
   "outputs": [
    {
     "data": {
      "text/html": [
       "<div>\n",
       "<style scoped>\n",
       "    .dataframe tbody tr th:only-of-type {\n",
       "        vertical-align: middle;\n",
       "    }\n",
       "\n",
       "    .dataframe tbody tr th {\n",
       "        vertical-align: top;\n",
       "    }\n",
       "\n",
       "    .dataframe thead th {\n",
       "        text-align: right;\n",
       "    }\n",
       "</style>\n",
       "<table border=\"1\" class=\"dataframe\">\n",
       "  <thead>\n",
       "    <tr style=\"text-align: right;\">\n",
       "      <th></th>\n",
       "      <th>C_01_011</th>\n",
       "      <th>C_01_012</th>\n",
       "      <th>C_01_014</th>\n",
       "      <th>C_01_015</th>\n",
       "      <th>C_01_016</th>\n",
       "      <th>C_01_017</th>\n",
       "      <th>C_01_018</th>\n",
       "      <th>C_01_019</th>\n",
       "      <th>C_01_020</th>\n",
       "      <th>C_01_021</th>\n",
       "    </tr>\n",
       "  </thead>\n",
       "  <tbody>\n",
       "    <tr>\n",
       "      <td>count</td>\n",
       "      <td>255</td>\n",
       "      <td>224</td>\n",
       "      <td>224</td>\n",
       "      <td>224</td>\n",
       "      <td>224</td>\n",
       "      <td>224</td>\n",
       "      <td>224</td>\n",
       "      <td>255</td>\n",
       "      <td>255</td>\n",
       "      <td>255</td>\n",
       "    </tr>\n",
       "    <tr>\n",
       "      <td>unique</td>\n",
       "      <td>4</td>\n",
       "      <td>4</td>\n",
       "      <td>6</td>\n",
       "      <td>6</td>\n",
       "      <td>6</td>\n",
       "      <td>6</td>\n",
       "      <td>6</td>\n",
       "      <td>6</td>\n",
       "      <td>6</td>\n",
       "      <td>6</td>\n",
       "    </tr>\n",
       "    <tr>\n",
       "      <td>top</td>\n",
       "      <td>2</td>\n",
       "      <td>3</td>\n",
       "      <td>3</td>\n",
       "      <td>3</td>\n",
       "      <td>3</td>\n",
       "      <td>3</td>\n",
       "      <td>3</td>\n",
       "      <td>3</td>\n",
       "      <td>4</td>\n",
       "      <td>3</td>\n",
       "    </tr>\n",
       "    <tr>\n",
       "      <td>freq</td>\n",
       "      <td>113</td>\n",
       "      <td>157</td>\n",
       "      <td>93</td>\n",
       "      <td>107</td>\n",
       "      <td>80</td>\n",
       "      <td>97</td>\n",
       "      <td>106</td>\n",
       "      <td>106</td>\n",
       "      <td>121</td>\n",
       "      <td>95</td>\n",
       "    </tr>\n",
       "  </tbody>\n",
       "</table>\n",
       "</div>"
      ],
      "text/plain": [
       "       C_01_011 C_01_012 C_01_014 C_01_015 C_01_016 C_01_017 C_01_018  \\\n",
       "count       255      224      224      224      224      224      224   \n",
       "unique        4        4        6        6        6        6        6   \n",
       "top           2        3        3        3        3        3        3   \n",
       "freq        113      157       93      107       80       97      106   \n",
       "\n",
       "       C_01_019 C_01_020 C_01_021  \n",
       "count       255      255      255  \n",
       "unique        6        6        6  \n",
       "top           3        4        3  \n",
       "freq        106      121       95  "
      ]
     },
     "execution_count": 18,
     "metadata": {},
     "output_type": "execute_result"
    }
   ],
   "source": [
    "df = df.replace(\"#NULL!\", np.nan) # '#NULL' 값 제거\n",
    "\n",
    "df[df.columns[:10]].describe()"
   ]
  },
  {
   "cell_type": "code",
   "execution_count": 19,
   "metadata": {},
   "outputs": [
    {
     "data": {
      "text/html": [
       "<div>\n",
       "<style scoped>\n",
       "    .dataframe tbody tr th:only-of-type {\n",
       "        vertical-align: middle;\n",
       "    }\n",
       "\n",
       "    .dataframe tbody tr th {\n",
       "        vertical-align: top;\n",
       "    }\n",
       "\n",
       "    .dataframe thead th {\n",
       "        text-align: right;\n",
       "    }\n",
       "</style>\n",
       "<table border=\"1\" class=\"dataframe\">\n",
       "  <thead>\n",
       "    <tr style=\"text-align: right;\">\n",
       "      <th></th>\n",
       "      <th>C_01_023</th>\n",
       "      <th>C_01_024</th>\n",
       "      <th>C_01_025</th>\n",
       "      <th>C_01_032</th>\n",
       "      <th>C_01_033</th>\n",
       "      <th>C_12_029</th>\n",
       "      <th>C_12_031</th>\n",
       "      <th>C_12_034</th>\n",
       "      <th>C_12_035</th>\n",
       "    </tr>\n",
       "  </thead>\n",
       "  <tbody>\n",
       "    <tr>\n",
       "      <td>count</td>\n",
       "      <td>255</td>\n",
       "      <td>255</td>\n",
       "      <td>255</td>\n",
       "      <td>255</td>\n",
       "      <td>255</td>\n",
       "      <td>220</td>\n",
       "      <td>201</td>\n",
       "      <td>201</td>\n",
       "      <td>201</td>\n",
       "    </tr>\n",
       "    <tr>\n",
       "      <td>unique</td>\n",
       "      <td>6</td>\n",
       "      <td>6</td>\n",
       "      <td>6</td>\n",
       "      <td>2</td>\n",
       "      <td>2</td>\n",
       "      <td>4</td>\n",
       "      <td>4</td>\n",
       "      <td>6</td>\n",
       "      <td>6</td>\n",
       "    </tr>\n",
       "    <tr>\n",
       "      <td>top</td>\n",
       "      <td>3</td>\n",
       "      <td>3</td>\n",
       "      <td>3</td>\n",
       "      <td>2</td>\n",
       "      <td>2</td>\n",
       "      <td>3</td>\n",
       "      <td>3</td>\n",
       "      <td>3</td>\n",
       "      <td>3</td>\n",
       "    </tr>\n",
       "    <tr>\n",
       "      <td>freq</td>\n",
       "      <td>114</td>\n",
       "      <td>100</td>\n",
       "      <td>85</td>\n",
       "      <td>178</td>\n",
       "      <td>200</td>\n",
       "      <td>127</td>\n",
       "      <td>158</td>\n",
       "      <td>93</td>\n",
       "      <td>91</td>\n",
       "    </tr>\n",
       "  </tbody>\n",
       "</table>\n",
       "</div>"
      ],
      "text/plain": [
       "       C_01_023 C_01_024 C_01_025 C_01_032 C_01_033 C_12_029 C_12_031  \\\n",
       "count       255      255      255      255      255      220      201   \n",
       "unique        6        6        6        2        2        4        4   \n",
       "top           3        3        3        2        2        3        3   \n",
       "freq        114      100       85      178      200      127      158   \n",
       "\n",
       "       C_12_034 C_12_035  \n",
       "count       201      201  \n",
       "unique        6        6  \n",
       "top           3        3  \n",
       "freq         93       91  "
      ]
     },
     "execution_count": 19,
     "metadata": {},
     "output_type": "execute_result"
    }
   ],
   "source": [
    "df[df.columns[11:20]].describe()"
   ]
  },
  {
   "cell_type": "code",
   "execution_count": 20,
   "metadata": {},
   "outputs": [
    {
     "data": {
      "text/html": [
       "<div>\n",
       "<style scoped>\n",
       "    .dataframe tbody tr th:only-of-type {\n",
       "        vertical-align: middle;\n",
       "    }\n",
       "\n",
       "    .dataframe tbody tr th {\n",
       "        vertical-align: top;\n",
       "    }\n",
       "\n",
       "    .dataframe thead th {\n",
       "        text-align: right;\n",
       "    }\n",
       "</style>\n",
       "<table border=\"1\" class=\"dataframe\">\n",
       "  <thead>\n",
       "    <tr style=\"text-align: right;\">\n",
       "      <th></th>\n",
       "      <th>C_12_037</th>\n",
       "      <th>C_13_025</th>\n",
       "      <th>C_13_026</th>\n",
       "      <th>C_13_028</th>\n",
       "      <th>C_13_029</th>\n",
       "      <th>C_13_030</th>\n",
       "      <th>C_13_031</th>\n",
       "      <th>C_14_009</th>\n",
       "      <th>C_14_010</th>\n",
       "    </tr>\n",
       "  </thead>\n",
       "  <tbody>\n",
       "    <tr>\n",
       "      <td>count</td>\n",
       "      <td>201</td>\n",
       "      <td>251</td>\n",
       "      <td>222</td>\n",
       "      <td>222</td>\n",
       "      <td>222</td>\n",
       "      <td>222</td>\n",
       "      <td>222</td>\n",
       "      <td>349</td>\n",
       "      <td>349</td>\n",
       "    </tr>\n",
       "    <tr>\n",
       "      <td>unique</td>\n",
       "      <td>6</td>\n",
       "      <td>4</td>\n",
       "      <td>4</td>\n",
       "      <td>5</td>\n",
       "      <td>6</td>\n",
       "      <td>6</td>\n",
       "      <td>6</td>\n",
       "      <td>6</td>\n",
       "      <td>6</td>\n",
       "    </tr>\n",
       "    <tr>\n",
       "      <td>top</td>\n",
       "      <td>3</td>\n",
       "      <td>3</td>\n",
       "      <td>3</td>\n",
       "      <td>3</td>\n",
       "      <td>3</td>\n",
       "      <td>3</td>\n",
       "      <td>2</td>\n",
       "      <td>3</td>\n",
       "      <td>4</td>\n",
       "    </tr>\n",
       "    <tr>\n",
       "      <td>freq</td>\n",
       "      <td>89</td>\n",
       "      <td>135</td>\n",
       "      <td>172</td>\n",
       "      <td>109</td>\n",
       "      <td>91</td>\n",
       "      <td>82</td>\n",
       "      <td>81</td>\n",
       "      <td>152</td>\n",
       "      <td>154</td>\n",
       "    </tr>\n",
       "  </tbody>\n",
       "</table>\n",
       "</div>"
      ],
      "text/plain": [
       "       C_12_037 C_13_025 C_13_026 C_13_028 C_13_029 C_13_030 C_13_031  \\\n",
       "count       201      251      222      222      222      222      222   \n",
       "unique        6        4        4        5        6        6        6   \n",
       "top           3        3        3        3        3        3        2   \n",
       "freq         89      135      172      109       91       82       81   \n",
       "\n",
       "       C_14_009 C_14_010  \n",
       "count       349      349  \n",
       "unique        6        6  \n",
       "top           3        4  \n",
       "freq        152      154  "
      ]
     },
     "execution_count": 20,
     "metadata": {},
     "output_type": "execute_result"
    }
   ],
   "source": [
    "df[df.columns[21:30]].describe()"
   ]
  },
  {
   "cell_type": "code",
   "execution_count": 21,
   "metadata": {},
   "outputs": [
    {
     "data": {
      "text/html": [
       "<div>\n",
       "<style scoped>\n",
       "    .dataframe tbody tr th:only-of-type {\n",
       "        vertical-align: middle;\n",
       "    }\n",
       "\n",
       "    .dataframe tbody tr th {\n",
       "        vertical-align: top;\n",
       "    }\n",
       "\n",
       "    .dataframe thead th {\n",
       "        text-align: right;\n",
       "    }\n",
       "</style>\n",
       "<table border=\"1\" class=\"dataframe\">\n",
       "  <thead>\n",
       "    <tr style=\"text-align: right;\">\n",
       "      <th></th>\n",
       "      <th>C_14_012</th>\n",
       "      <th>C_14_013</th>\n",
       "      <th>C_14_014</th>\n",
       "      <th>C_15_019</th>\n",
       "      <th>C_15_020</th>\n",
       "      <th>C_15_021</th>\n",
       "      <th>H_04_014</th>\n",
       "      <th>H_04_016</th>\n",
       "      <th>H_04_024</th>\n",
       "    </tr>\n",
       "  </thead>\n",
       "  <tbody>\n",
       "    <tr>\n",
       "      <td>count</td>\n",
       "      <td>349</td>\n",
       "      <td>349</td>\n",
       "      <td>349</td>\n",
       "      <td>374</td>\n",
       "      <td>352</td>\n",
       "      <td>374</td>\n",
       "      <td>255</td>\n",
       "      <td>255</td>\n",
       "      <td>255</td>\n",
       "    </tr>\n",
       "    <tr>\n",
       "      <td>unique</td>\n",
       "      <td>6</td>\n",
       "      <td>6</td>\n",
       "      <td>6</td>\n",
       "      <td>4</td>\n",
       "      <td>4</td>\n",
       "      <td>6</td>\n",
       "      <td>6</td>\n",
       "      <td>6</td>\n",
       "      <td>6</td>\n",
       "    </tr>\n",
       "    <tr>\n",
       "      <td>top</td>\n",
       "      <td>3</td>\n",
       "      <td>3</td>\n",
       "      <td>3</td>\n",
       "      <td>3</td>\n",
       "      <td>3</td>\n",
       "      <td>2</td>\n",
       "      <td>4</td>\n",
       "      <td>4</td>\n",
       "      <td>4</td>\n",
       "    </tr>\n",
       "    <tr>\n",
       "      <td>freq</td>\n",
       "      <td>164</td>\n",
       "      <td>155</td>\n",
       "      <td>154</td>\n",
       "      <td>203</td>\n",
       "      <td>264</td>\n",
       "      <td>164</td>\n",
       "      <td>86</td>\n",
       "      <td>101</td>\n",
       "      <td>100</td>\n",
       "    </tr>\n",
       "  </tbody>\n",
       "</table>\n",
       "</div>"
      ],
      "text/plain": [
       "       C_14_012 C_14_013 C_14_014 C_15_019 C_15_020 C_15_021 H_04_014  \\\n",
       "count       349      349      349      374      352      374      255   \n",
       "unique        6        6        6        4        4        6        6   \n",
       "top           3        3        3        3        3        2        4   \n",
       "freq        164      155      154      203      264      164       86   \n",
       "\n",
       "       H_04_016 H_04_024  \n",
       "count       255      255  \n",
       "unique        6        6  \n",
       "top           4        4  \n",
       "freq        101      100  "
      ]
     },
     "execution_count": 21,
     "metadata": {},
     "output_type": "execute_result"
    }
   ],
   "source": [
    "df[df.columns[31:]].describe()"
   ]
  },
  {
   "cell_type": "markdown",
   "metadata": {},
   "source": [
    "-> 보기 개수와 모두 일치!"
   ]
  },
  {
   "cell_type": "markdown",
   "metadata": {},
   "source": [
    "## data type"
   ]
  },
  {
   "cell_type": "code",
   "execution_count": 22,
   "metadata": {
    "scrolled": true
   },
   "outputs": [
    {
     "data": {
      "text/plain": [
       "C_01_011    object\n",
       "C_01_012    object\n",
       "C_01_014    object\n",
       "C_01_015    object\n",
       "C_01_016    object\n",
       "C_01_017    object\n",
       "C_01_018    object\n",
       "C_01_019    object\n",
       "C_01_020    object\n",
       "C_01_021    object\n",
       "C_01_022    object\n",
       "C_01_023    object\n",
       "C_01_024    object\n",
       "C_01_025    object\n",
       "C_01_032    object\n",
       "C_01_033    object\n",
       "C_12_029    object\n",
       "C_12_031    object\n",
       "C_12_034    object\n",
       "C_12_035    object\n",
       "C_12_036    object\n",
       "C_12_037    object\n",
       "C_13_025    object\n",
       "C_13_026    object\n",
       "C_13_028    object\n",
       "C_13_029    object\n",
       "C_13_030    object\n",
       "C_13_031    object\n",
       "C_14_009    object\n",
       "C_14_010    object\n",
       "C_14_011    object\n",
       "C_14_012    object\n",
       "C_14_013    object\n",
       "C_14_014    object\n",
       "C_15_019    object\n",
       "C_15_020    object\n",
       "C_15_021    object\n",
       "H_04_014    object\n",
       "H_04_016    object\n",
       "H_04_024    object\n",
       "dtype: object"
      ]
     },
     "execution_count": 22,
     "metadata": {},
     "output_type": "execute_result"
    }
   ],
   "source": [
    "df.dtypes"
   ]
  },
  {
   "cell_type": "markdown",
   "metadata": {},
   "source": [
    "-> 순서형 척도(이산형)로 변환, but, 해석에 유의"
   ]
  },
  {
   "cell_type": "code",
   "execution_count": 23,
   "metadata": {
    "scrolled": true
   },
   "outputs": [
    {
     "data": {
      "text/plain": [
       "C_01_011    int32\n",
       "C_01_012    int32\n",
       "C_01_014    int32\n",
       "C_01_015    int32\n",
       "C_01_016    int32\n",
       "C_01_017    int32\n",
       "C_01_018    int32\n",
       "C_01_019    int32\n",
       "C_01_020    int32\n",
       "C_01_021    int32\n",
       "C_01_022    int32\n",
       "C_01_023    int32\n",
       "C_01_024    int32\n",
       "C_01_025    int32\n",
       "C_01_032    int32\n",
       "C_01_033    int32\n",
       "C_12_029    int32\n",
       "C_12_031    int32\n",
       "C_12_034    int32\n",
       "C_12_035    int32\n",
       "C_12_036    int32\n",
       "C_12_037    int32\n",
       "C_13_025    int32\n",
       "C_13_026    int32\n",
       "C_13_028    int32\n",
       "C_13_029    int32\n",
       "C_13_030    int32\n",
       "C_13_031    int32\n",
       "C_14_009    int32\n",
       "C_14_010    int32\n",
       "C_14_011    int32\n",
       "C_14_012    int32\n",
       "C_14_013    int32\n",
       "C_14_014    int32\n",
       "C_15_019    int32\n",
       "C_15_020    int32\n",
       "C_15_021    int32\n",
       "H_04_014    int32\n",
       "H_04_016    int32\n",
       "H_04_024    int32\n",
       "dtype: object"
      ]
     },
     "execution_count": 23,
     "metadata": {},
     "output_type": "execute_result"
    }
   ],
   "source": [
    "df = df.fillna(0) # nan을 0으로 변환\n",
    "for c in df.columns:\n",
    "    df.loc[:, c] = df.loc[:, c].astype('int') # int 로 변환\n",
    "    \n",
    "df.dtypes"
   ]
  },
  {
   "cell_type": "code",
   "execution_count": 24,
   "metadata": {},
   "outputs": [
    {
     "data": {
      "text/html": [
       "<div>\n",
       "<style scoped>\n",
       "    .dataframe tbody tr th:only-of-type {\n",
       "        vertical-align: middle;\n",
       "    }\n",
       "\n",
       "    .dataframe tbody tr th {\n",
       "        vertical-align: top;\n",
       "    }\n",
       "\n",
       "    .dataframe thead th {\n",
       "        text-align: right;\n",
       "    }\n",
       "</style>\n",
       "<table border=\"1\" class=\"dataframe\">\n",
       "  <thead>\n",
       "    <tr style=\"text-align: right;\">\n",
       "      <th></th>\n",
       "      <th>C_01_011</th>\n",
       "      <th>C_01_012</th>\n",
       "      <th>C_01_014</th>\n",
       "      <th>C_01_015</th>\n",
       "      <th>C_01_016</th>\n",
       "      <th>C_01_017</th>\n",
       "      <th>C_01_018</th>\n",
       "      <th>C_01_019</th>\n",
       "      <th>C_01_020</th>\n",
       "      <th>C_01_021</th>\n",
       "      <th>...</th>\n",
       "      <th>C_14_011</th>\n",
       "      <th>C_14_012</th>\n",
       "      <th>C_14_013</th>\n",
       "      <th>C_14_014</th>\n",
       "      <th>C_15_019</th>\n",
       "      <th>C_15_020</th>\n",
       "      <th>C_15_021</th>\n",
       "      <th>H_04_014</th>\n",
       "      <th>H_04_016</th>\n",
       "      <th>H_04_024</th>\n",
       "    </tr>\n",
       "  </thead>\n",
       "  <tbody>\n",
       "    <tr>\n",
       "      <td>1</td>\n",
       "      <td>2</td>\n",
       "      <td>2</td>\n",
       "      <td>5</td>\n",
       "      <td>4</td>\n",
       "      <td>4</td>\n",
       "      <td>6</td>\n",
       "      <td>6</td>\n",
       "      <td>6</td>\n",
       "      <td>6</td>\n",
       "      <td>6</td>\n",
       "      <td>...</td>\n",
       "      <td>4</td>\n",
       "      <td>3</td>\n",
       "      <td>5</td>\n",
       "      <td>5</td>\n",
       "      <td>0</td>\n",
       "      <td>0</td>\n",
       "      <td>0</td>\n",
       "      <td>3</td>\n",
       "      <td>4</td>\n",
       "      <td>2</td>\n",
       "    </tr>\n",
       "    <tr>\n",
       "      <td>2</td>\n",
       "      <td>2</td>\n",
       "      <td>2</td>\n",
       "      <td>3</td>\n",
       "      <td>2</td>\n",
       "      <td>2</td>\n",
       "      <td>2</td>\n",
       "      <td>3</td>\n",
       "      <td>3</td>\n",
       "      <td>4</td>\n",
       "      <td>2</td>\n",
       "      <td>...</td>\n",
       "      <td>4</td>\n",
       "      <td>5</td>\n",
       "      <td>4</td>\n",
       "      <td>5</td>\n",
       "      <td>0</td>\n",
       "      <td>0</td>\n",
       "      <td>0</td>\n",
       "      <td>5</td>\n",
       "      <td>5</td>\n",
       "      <td>4</td>\n",
       "    </tr>\n",
       "    <tr>\n",
       "      <td>3</td>\n",
       "      <td>1</td>\n",
       "      <td>1</td>\n",
       "      <td>5</td>\n",
       "      <td>5</td>\n",
       "      <td>6</td>\n",
       "      <td>6</td>\n",
       "      <td>5</td>\n",
       "      <td>5</td>\n",
       "      <td>4</td>\n",
       "      <td>5</td>\n",
       "      <td>...</td>\n",
       "      <td>0</td>\n",
       "      <td>0</td>\n",
       "      <td>0</td>\n",
       "      <td>0</td>\n",
       "      <td>2</td>\n",
       "      <td>2</td>\n",
       "      <td>4</td>\n",
       "      <td>4</td>\n",
       "      <td>5</td>\n",
       "      <td>4</td>\n",
       "    </tr>\n",
       "    <tr>\n",
       "      <td>4</td>\n",
       "      <td>3</td>\n",
       "      <td>4</td>\n",
       "      <td>3</td>\n",
       "      <td>3</td>\n",
       "      <td>3</td>\n",
       "      <td>3</td>\n",
       "      <td>3</td>\n",
       "      <td>2</td>\n",
       "      <td>2</td>\n",
       "      <td>2</td>\n",
       "      <td>...</td>\n",
       "      <td>0</td>\n",
       "      <td>0</td>\n",
       "      <td>0</td>\n",
       "      <td>0</td>\n",
       "      <td>3</td>\n",
       "      <td>4</td>\n",
       "      <td>2</td>\n",
       "      <td>4</td>\n",
       "      <td>3</td>\n",
       "      <td>3</td>\n",
       "    </tr>\n",
       "    <tr>\n",
       "      <td>5</td>\n",
       "      <td>2</td>\n",
       "      <td>2</td>\n",
       "      <td>5</td>\n",
       "      <td>4</td>\n",
       "      <td>4</td>\n",
       "      <td>4</td>\n",
       "      <td>3</td>\n",
       "      <td>6</td>\n",
       "      <td>6</td>\n",
       "      <td>5</td>\n",
       "      <td>...</td>\n",
       "      <td>5</td>\n",
       "      <td>5</td>\n",
       "      <td>6</td>\n",
       "      <td>4</td>\n",
       "      <td>3</td>\n",
       "      <td>3</td>\n",
       "      <td>2</td>\n",
       "      <td>3</td>\n",
       "      <td>2</td>\n",
       "      <td>1</td>\n",
       "    </tr>\n",
       "  </tbody>\n",
       "</table>\n",
       "<p>5 rows × 40 columns</p>\n",
       "</div>"
      ],
      "text/plain": [
       "   C_01_011  C_01_012  C_01_014  C_01_015  C_01_016  C_01_017  C_01_018  \\\n",
       "1         2         2         5         4         4         6         6   \n",
       "2         2         2         3         2         2         2         3   \n",
       "3         1         1         5         5         6         6         5   \n",
       "4         3         4         3         3         3         3         3   \n",
       "5         2         2         5         4         4         4         3   \n",
       "\n",
       "   C_01_019  C_01_020  C_01_021  ...  C_14_011  C_14_012  C_14_013  C_14_014  \\\n",
       "1         6         6         6  ...         4         3         5         5   \n",
       "2         3         4         2  ...         4         5         4         5   \n",
       "3         5         4         5  ...         0         0         0         0   \n",
       "4         2         2         2  ...         0         0         0         0   \n",
       "5         6         6         5  ...         5         5         6         4   \n",
       "\n",
       "   C_15_019  C_15_020  C_15_021  H_04_014  H_04_016  H_04_024  \n",
       "1         0         0         0         3         4         2  \n",
       "2         0         0         0         5         5         4  \n",
       "3         2         2         4         4         5         4  \n",
       "4         3         4         2         4         3         3  \n",
       "5         3         3         2         3         2         1  \n",
       "\n",
       "[5 rows x 40 columns]"
      ]
     },
     "execution_count": 24,
     "metadata": {},
     "output_type": "execute_result"
    }
   ],
   "source": [
    "df.head()"
   ]
  },
  {
   "cell_type": "markdown",
   "metadata": {},
   "source": [
    "# Visualization & EDA(Exploratory Data Analysis)"
   ]
  },
  {
   "cell_type": "markdown",
   "metadata": {},
   "source": [
    "## Mobile"
   ]
  },
  {
   "cell_type": "code",
   "execution_count": 25,
   "metadata": {},
   "outputs": [],
   "source": [
    "rawdata = pd.read_excel(\"rawdata.xlsx\")\n",
    "data = rawdata.copy()"
   ]
  },
  {
   "cell_type": "code",
   "execution_count": 26,
   "metadata": {},
   "outputs": [],
   "source": [
    "usedata = data.loc[:,['C_01_011','C_01_012','C_01_014','C_01_015','C_01_016','C_01_017','C_01_018','C_01_019','C_01_020','C_01_021','C_01_022','C_01_023','C_01_024','C_01_025','C_01_033','C_14_007','C_14_009','C_14_010','C_14_011','C_14_012','C_14_013','C_14_014','H_04_014','H_04_016','H_04_024','C_12_029','C_12_031','C_12_033','C_12_034','C_12_035','C_12_036','C_12_037','C_13_025','C_13_026','C_13_027','C_13_028','C_13_029','C_13_030','C_13_031','C_15_019','C_15_020','C_15_021','C_13_037']]"
   ]
  },
  {
   "cell_type": "code",
   "execution_count": 27,
   "metadata": {},
   "outputs": [],
   "source": [
    "#모바일 추출\n",
    "moblie = usedata.loc[:,['C_13_025','C_13_026','C_13_027','C_13_028','C_13_029','C_13_030','C_13_031','C_13_037']]\n",
    "  \n",
    "#결측값 제거\n",
    "usemoblie = moblie.dropna(axis=0)\n",
    "\n",
    "# 1행 제거\n",
    "usemoblie = usemoblie.loc[1:]"
   ]
  },
  {
   "cell_type": "code",
   "execution_count": 28,
   "metadata": {},
   "outputs": [
    {
     "data": {
      "image/png": "[encoded data removed]",
      "text/plain": [
       "<Figure size 800x400 with 4 Axes>"
      ]
     },
     "metadata": {
      "needs_background": "light"
     },
     "output_type": "display_data"
    }
   ],
   "source": [
    "#모바일 주목도별 관심도 선택 도수분포표\n",
    "a1=usemoblie.C_13_026[usemoblie.C_13_025 ==1].value_counts()\n",
    "a2=usemoblie.C_13_026[usemoblie.C_13_025 ==2].value_counts()\n",
    "a3=usemoblie.C_13_026[usemoblie.C_13_025 ==3].value_counts()\n",
    "a4=usemoblie.C_13_026[usemoblie.C_13_025 ==4].value_counts()\n",
    "\n",
    "#모바일 주목도별 관심도 바차트\n",
    "fig=plt.figure(figsize=(10,5),dpi=80)   \n",
    "axes1=fig.add_axes([0,0,0.3,1])\n",
    "axes2=fig.add_axes([0.5,0,0.3,1])\n",
    "axes3=fig.add_axes([1.0,0,0.3,1])\n",
    "axes4=fig.add_axes([1.5,0,0.3,1])\n",
    "axes1.bar(a1.index,a1.values,color='blue')\n",
    "axes2.bar(a2.index,a2.values,color='blue')\n",
    "axes3.bar(a3.index,a3.values,color='blue')\n",
    "axes4.bar(a4.index,a4.values,color='blue')\n",
    "\n",
    "plt.show()"
   ]
  },
  {
   "cell_type": "code",
   "execution_count": 29,
   "metadata": {},
   "outputs": [
    {
     "data": {
      "image/png": "[encoded data removed]",
      "text/plain": [
       "<Figure size 432x288 with 1 Axes>"
      ]
     },
     "metadata": {
      "needs_background": "light"
     },
     "output_type": "display_data"
    }
   ],
   "source": [
    "#모바일 광고 주목도별 관심도 %\n",
    "moblie_a1=usemoblie.C_13_026[usemoblie.C_13_025 ==1].value_counts() \n",
    "moblie_a2=usemoblie.C_13_026[usemoblie.C_13_025 ==2].value_counts()\n",
    "moblie_a3=usemoblie.C_13_026[usemoblie.C_13_025 ==3].value_counts()\n",
    "moblie_a4=usemoblie.C_13_026[usemoblie.C_13_025 ==4].value_counts()\n",
    "\n",
    "moblie_fq_1=moblie_a1/moblie_a1.sum()*100\n",
    "moblie_fq_2=moblie_a2/moblie_a2.sum()*100\n",
    "moblie_fq_3=moblie_a3/moblie_a3.sum()*100\n",
    "moblie_fq_4=moblie_a4/moblie_a4.sum()*100\n",
    "\n",
    "moblie_fq_1.index = ['Very', 'Somewhat']\n",
    "moblie_fq_2.index = ['Very', 'Somewhat']\n",
    "moblie_fq_3.index = ['Somewhat', 'Not very']\n",
    "\n",
    "moblie_fq_1 = pd.Series(data=moblie_fq_1, index=['Very', 'Somewhat', 'Not very', 'Not at all'])\n",
    "moblie_fq_1[2] = 0\n",
    "moblie_fq_1[3] = 0\n",
    "moblie_fq_2 = pd.Series(data=moblie_fq_2, index=['Very', 'Somewhat', 'Not very', 'Not at all'])\n",
    "moblie_fq_2[2] = 0\n",
    "moblie_fq_2[3] = 0\n",
    "moblie_fq_3 = pd.Series(data=moblie_fq_3, index=['Very', 'Somewhat', 'Not very', 'Not at all'])\n",
    "moblie_fq_3[0] = 0\n",
    "moblie_fq_3[3] = 0\n",
    "moblie_fq_4 = pd.Series(data=moblie_fq_4, index=['Very', 'Somewhat', 'Not very', 'Not at all'])\n",
    "for i in np.arange(0, 4):\n",
    "    moblie_fq_4[i] = 0\n",
    "\n",
    "moblie_a1,moblie_a2, moblie_a3, moblie_a4 = [], [], [], []\n",
    "for i in [moblie_fq_1, moblie_fq_2, moblie_fq_3, moblie_fq_4]:\n",
    "    moblie_a1.append(i[0])\n",
    "for i in [moblie_fq_1, moblie_fq_2, moblie_fq_3, moblie_fq_4]:\n",
    "    moblie_a2.append(i[1])\n",
    "for i in [moblie_fq_1, moblie_fq_2, moblie_fq_3, moblie_fq_4]:\n",
    "    moblie_a3.append(i[2])\n",
    "for i in [moblie_fq_1, moblie_fq_2, moblie_fq_3, moblie_fq_4]:\n",
    "    moblie_a4.append(i[3])\n",
    "\n",
    "moblie_a_fq_1 = pd.Series(data=moblie_a1, index=['Very', 'Somewhat', 'Not very', 'Not at all'])\n",
    "moblie_a_fq_2 = pd.Series(data=moblie_a2, index=['Very', 'Somewhat', 'Not very', 'Not at all'])\n",
    "moblie_a_fq_3 = pd.Series(data=moblie_a3, index=['Very', 'Somewhat', 'Not very', 'Not at all'])\n",
    "moblie_a_fq_4 = pd.Series(data=moblie_a4, index=['Very', 'Somewhat', 'Not very', 'Not at all'])\n",
    "\n",
    "\n",
    "index = np.arange(0, 4)\n",
    "alpha = 0.5\n",
    "\n",
    "p1 = plt.bar(index, moblie_a_fq_1, color='b', alpha=alpha)\n",
    "p2 = plt.bar(index, moblie_a_fq_2, color='r', alpha=alpha, bottom=moblie_a_fq_1) # stacked bar chart\n",
    "p3 = plt.bar(index, moblie_a_fq_3, color='y', alpha=alpha, bottom=moblie_a_fq_1 + moblie_a_fq_2) # stacked bar chart\n",
    "p4 = plt.bar(index, moblie_a_fq_4, color='g', alpha=alpha, bottom=moblie_a_fq_1 + moblie_a_fq_2 + moblie_a_fq_3) # stacked bar chart\n",
    "plt.title('Stacked bar : Frequency & Interest ', fontsize=20)\n",
    "plt.ylabel('Interest', fontsize=18)\n",
    "plt.xlabel('Frequency', fontsize=18)\n",
    "plt.xticks(index, moblie_a_fq_1.index, fontsize=15)\n",
    "plt.legend((p1[0], p2[0], p3[0], p4[0]), ('Very', 'Somewhat', 'Not very', 'Not at all'), fontsize=15)\n",
    "plt.show()"
   ]
  },
  {
   "cell_type": "code",
   "execution_count": 30,
   "metadata": {},
   "outputs": [
    {
     "data": {
      "image/png": "[encoded data removed]",
      "text/plain": [
       "<Figure size 800x400 with 4 Axes>"
      ]
     },
     "metadata": {
      "needs_background": "light"
     },
     "output_type": "display_data"
    }
   ],
   "source": [
    "#모바일 주목도별 동영상 광고 집중도 선택 도수분포표\n",
    "c1=usemoblie.C_13_029[usemoblie.C_13_025 ==1].value_counts() \n",
    "c2=usemoblie.C_13_029[usemoblie.C_13_025 ==2].value_counts()\n",
    "c3=usemoblie.C_13_029[usemoblie.C_13_025 ==3].value_counts()\n",
    "c4=usemoblie.C_13_029[usemoblie.C_13_025 ==4].value_counts()\n",
    "\n",
    "#모바일 주목도별 동영상 광고 집중도 바차트\n",
    "fig=plt.figure(figsize=(10,5),dpi=80)   \n",
    "axes1=fig.add_axes([0,0,0.3,1])\n",
    "axes2=fig.add_axes([0.5,0,0.3,1])\n",
    "axes3=fig.add_axes([1.0,0,0.3,1])\n",
    "axes4=fig.add_axes([1.5,0,0.3,1])\n",
    "\n",
    "axes1.bar(c1.index,c1.values,color='blue')\n",
    "axes2.bar(c2.index,c2.values,color='blue')\n",
    "axes3.bar(c3.index,c3.values,color='blue')\n",
    "axes4.bar(c4.index,c4.values,color='blue')\n",
    "\n",
    "plt.show()"
   ]
  },
  {
   "cell_type": "code",
   "execution_count": 31,
   "metadata": {},
   "outputs": [
    {
     "data": {
      "image/png": "[encoded data removed]",
      "text/plain": [
       "<Figure size 432x288 with 1 Axes>"
      ]
     },
     "metadata": {
      "needs_background": "light"
     },
     "output_type": "display_data"
    }
   ],
   "source": [
    "#모바일 주목도별 동영상 광고 집중도 선택 도수분포표\n",
    "c1=usemoblie.C_13_029[usemoblie.C_13_025 ==1].value_counts() \n",
    "c2=usemoblie.C_13_029[usemoblie.C_13_025 ==2].value_counts()\n",
    "c3=usemoblie.C_13_029[usemoblie.C_13_025 ==3].value_counts()\n",
    "c4=usemoblie.C_13_029[usemoblie.C_13_025 ==4].value_counts()\n",
    "\n",
    "moblie_fq_1=c1/c1.sum()*100\n",
    "moblie_fq_2=c2/c2.sum()*100\n",
    "moblie_fq_3=c3/c3.sum()*100\n",
    "moblie_fq_4=c4/c4.sum()*100\n",
    "\n",
    "moblie_fq_1.index = ['Somewhat', 'Yes', 'Very']\n",
    "moblie_fq_2.index = ['Not at all', 'No', 'Not very', 'Somewhat', 'Yes', 'Very']\n",
    "moblie_fq_3.index = ['Not at all', 'No', 'Not very', 'Somewhat', 'Yes']\n",
    "\n",
    "moblie_fq_1 = pd.Series(data=moblie_fq_1, index=['Not at all', 'No', 'Not very', 'Somewhat', 'Yes', 'Very'])\n",
    "moblie_fq_1[0] = 0\n",
    "moblie_fq_1[1] = 0\n",
    "moblie_fq_1[2] = 0\n",
    "#moblie_fq_2 = pd.Series(data=moblie_fq_2, index=['1','2','3','4','5','6'])\n",
    "#moblie_fq_2[2] = 0\n",
    "#moblie_fq_2[3] = 0\n",
    "moblie_fq_3 = pd.Series(data=moblie_fq_3, index=['Not at all', 'No', 'Not very', 'Somewhat', 'Yes', 'Very'])\n",
    "moblie_fq_3[5] = 0\n",
    "\n",
    "moblie_fq_4 = pd.Series(data=moblie_fq_4, index=['Not at all', 'No', 'Not very', 'Somewhat', 'Yes', 'Very'])\n",
    "for i in np.arange(0, 4):\n",
    "    moblie_fq_4[i] = 0\n",
    "\n",
    "\n",
    "\n",
    "in_list1,in_list2, in_list3, in_list4, in_list5, in_list6 = [], [], [], [], [], []\n",
    "for i in [moblie_fq_1, moblie_fq_2, moblie_fq_3, moblie_fq_4]:\n",
    "    in_list1.append(i[0])\n",
    "    in_list2.append(i[1])\n",
    "    in_list3.append(i[2])\n",
    "    in_list4.append(i[3])\n",
    "    in_list5.append(i[4])\n",
    "    in_list6.append(i[5])\n",
    "    \n",
    "in_r_fq_1 = pd.Series(data=in_list1, index=['Very', 'Somewhat', 'Not very', 'Not at all'])\n",
    "in_r_fq_2 = pd.Series(data=in_list2, index=['Very', 'Somewhat', 'Not very', 'Not at all'])\n",
    "in_r_fq_3 = pd.Series(data=in_list3, index=['Very', 'Somewhat', 'Not very', 'Not at all'])\n",
    "in_r_fq_4 = pd.Series(data=in_list4, index=['Very', 'Somewhat', 'Not very', 'Not at all'])\n",
    "in_r_fq_5 = pd.Series(data=in_list5, index=['Very', 'Somewhat', 'Not very', 'Not at all'])\n",
    "in_r_fq_6 = pd.Series(data=in_list6, index=['Very', 'Somewhat', 'Not very', 'Not at all'])\n",
    "\n",
    "index = np.arange(0, 4)\n",
    "alpha = 0.5\n",
    "\n",
    "p1 = plt.bar(index, in_r_fq_1, color='b', alpha=alpha)\n",
    "p2 = plt.bar(index, in_r_fq_2, color='r', alpha=alpha, bottom=in_r_fq_1) # stacked bar chart\n",
    "p3 = plt.bar(index, in_r_fq_3, color='y', alpha=alpha, bottom=in_r_fq_1 + in_r_fq_2) # stacked bar chart\n",
    "p4 = plt.bar(index, in_r_fq_4, color='g', alpha=alpha, bottom=in_r_fq_1 + in_r_fq_2 + in_r_fq_3) # stacked bar chart\n",
    "p5 = plt.bar(index, in_r_fq_5, color='m', alpha=alpha, bottom=in_r_fq_1 + in_r_fq_2 + in_r_fq_3 + in_r_fq_4) # stacked bar chart\n",
    "p6 = plt.bar(index, in_r_fq_6, color='k', alpha=alpha, bottom=in_r_fq_1 + in_r_fq_2 + in_r_fq_3 + in_r_fq_4 + in_r_fq_5 ) # stacked bar chart\n",
    "plt.title('Stacked bar : Frequency & Interest ', fontsize=20)\n",
    "plt.ylabel('Interest', fontsize=18)\n",
    "plt.xlabel('Frequency', fontsize=18)\n",
    "plt.xticks(index, in_r_fq_1.index, fontsize=15)\n",
    "plt.legend((p1[0], p2[0], p3[0], p4[0], p5[0], p6[0]), ('Not at all', 'No', 'Not very', 'Somewhat', 'Yes', 'Very'), fontsize=15)\n",
    "plt.rcParams[\"figure.figsize\"] = 15, 8\n",
    "plt.show()"
   ]
  },
  {
   "cell_type": "code",
   "execution_count": 32,
   "metadata": {},
   "outputs": [
    {
     "data": {
      "image/png": "[encoded data removed]",
      "text/plain": [
       "<Figure size 800x400 with 4 Axes>"
      ]
     },
     "metadata": {
      "needs_background": "light"
     },
     "output_type": "display_data"
    }
   ],
   "source": [
    "#모바일 주목도별 리워드 광고 집중도 선택 도수분포표\n",
    "e1=usemoblie.C_13_031[usemoblie.C_13_025 ==1].value_counts() \n",
    "e2=usemoblie.C_13_031[usemoblie.C_13_025 ==2].value_counts()\n",
    "e3=usemoblie.C_13_031[usemoblie.C_13_025 ==3].value_counts()\n",
    "e4=usemoblie.C_13_031[usemoblie.C_13_025 ==4].value_counts()\n",
    "\n",
    "#모바일 주목도별 리워드 광고 집중도 바차트\n",
    "fig=plt.figure(figsize=(10,5),dpi=80)   \n",
    "axes1=fig.add_axes([0,0,0.3,1])\n",
    "axes2=fig.add_axes([0.5,0,0.3,1])\n",
    "axes3=fig.add_axes([1.0,0,0.3,1])\n",
    "axes4=fig.add_axes([1.5,0,0.3,1])\n",
    "\n",
    "axes1.bar(e1.index,e1.values,color='blue')\n",
    "axes2.bar(e2.index,e2.values,color='blue')\n",
    "axes3.bar(e3.index,e3.values,color='blue')\n",
    "axes4.bar(e4.index,e4.values,color='blue')\n",
    "\n",
    "plt.show()"
   ]
  },
  {
   "cell_type": "code",
   "execution_count": 33,
   "metadata": {},
   "outputs": [
    {
     "data": {
      "image/png": "[encoded data removed]",
      "text/plain": [
       "<Figure size 1080x576 with 1 Axes>"
      ]
     },
     "metadata": {
      "needs_background": "light"
     },
     "output_type": "display_data"
    }
   ],
   "source": [
    "#모바일 주목도별 리워드 광고 집중도 선택 도수분포표\n",
    "e1=usemoblie.C_13_031[usemoblie.C_13_025 ==1].value_counts() \n",
    "e2=usemoblie.C_13_031[usemoblie.C_13_025 ==2].value_counts()\n",
    "e3=usemoblie.C_13_031[usemoblie.C_13_025 ==3].value_counts()\n",
    "e4=usemoblie.C_13_031[usemoblie.C_13_025 ==4].value_counts()\n",
    "\n",
    "moblie_fq_1=e1/e1.sum()*100\n",
    "moblie_fq_2=e2/e2.sum()*100\n",
    "moblie_fq_3=e3/e3.sum()*100\n",
    "moblie_fq_4=e4/e4.sum()*100\n",
    "\n",
    "moblie_fq_1.index = ['Not very', 'Somewhat', 'Yes', 'Very']\n",
    "moblie_fq_2.index = ['Not at all', 'No', 'Not very', 'Somewhat', 'Yes', 'Very']\n",
    "moblie_fq_3.index = ['No', 'Not very', 'Somewhat']\n",
    "\n",
    "moblie_fq_1 = pd.Series(data=moblie_fq_1, index=['Not at all', 'No', 'Not very', 'Somewhat', 'Yes', 'Very'])\n",
    "moblie_fq_1[0] = 0\n",
    "moblie_fq_1[1] = 0\n",
    "\n",
    "#moblie_fq_2 = pd.Series(data=moblie_fq_2, index=['1','2','3','4','5','6'])\n",
    "#moblie_fq_2[2] = 0\n",
    "#moblie_fq_2[3] = 0\n",
    "moblie_fq_3 = pd.Series(data=moblie_fq_3, index=['Not at all', 'No', 'Not very', 'Somewhat', 'Yes', 'Very'])\n",
    "moblie_fq_3[0] = 0\n",
    "moblie_fq_3[4] = 0\n",
    "moblie_fq_3[5] = 0\n",
    "\n",
    "moblie_fq_4 = pd.Series(data=moblie_fq_4, index=['Not at all', 'No', 'Not very', 'Somewhat', 'Yes', 'Very'])\n",
    "for i in np.arange(0, 4):\n",
    "    moblie_fq_4[i] = 0\n",
    "\n",
    "\n",
    "\n",
    "in_list1,in_list2, in_list3, in_list4, in_list5, in_list6 = [], [], [], [], [], []\n",
    "for i in [moblie_fq_1, moblie_fq_2, moblie_fq_3, moblie_fq_4]:\n",
    "    in_list1.append(i[0])\n",
    "    in_list2.append(i[1])\n",
    "    in_list3.append(i[2])\n",
    "    in_list4.append(i[3])\n",
    "    in_list5.append(i[4])\n",
    "    in_list6.append(i[5])\n",
    "    \n",
    "in_r_fq_1 = pd.Series(data=in_list1, index=['Very', 'Somewhat', 'Not very', 'Not at all'])\n",
    "in_r_fq_2 = pd.Series(data=in_list2, index=['Very', 'Somewhat', 'Not very', 'Not at all'])\n",
    "in_r_fq_3 = pd.Series(data=in_list3, index=['Very', 'Somewhat', 'Not very', 'Not at all'])\n",
    "in_r_fq_4 = pd.Series(data=in_list4, index=['Very', 'Somewhat', 'Not very', 'Not at all'])\n",
    "in_r_fq_5 = pd.Series(data=in_list5, index=['Very', 'Somewhat', 'Not very', 'Not at all'])\n",
    "in_r_fq_6 = pd.Series(data=in_list6, index=['Very', 'Somewhat', 'Not very', 'Not at all'])\n",
    "\n",
    "index = np.arange(0, 4)\n",
    "alpha = 0.5\n",
    "\n",
    "p1 = plt.bar(index, in_r_fq_1, color='b', alpha=alpha)\n",
    "p2 = plt.bar(index, in_r_fq_2, color='r', alpha=alpha, bottom=in_r_fq_1) # stacked bar chart\n",
    "p3 = plt.bar(index, in_r_fq_3, color='y', alpha=alpha, bottom=in_r_fq_1 + in_r_fq_2) # stacked bar chart\n",
    "p4 = plt.bar(index, in_r_fq_4, color='g', alpha=alpha, bottom=in_r_fq_1 + in_r_fq_2 + in_r_fq_3) # stacked bar chart\n",
    "p5 = plt.bar(index, in_r_fq_5, color='m', alpha=alpha, bottom=in_r_fq_1 + in_r_fq_2 + in_r_fq_3 + in_r_fq_4) # stacked bar chart\n",
    "p6 = plt.bar(index, in_r_fq_6, color='k', alpha=alpha, bottom=in_r_fq_1 + in_r_fq_2 + in_r_fq_3 + in_r_fq_4 + in_r_fq_5 ) # stacked bar chart\n",
    "plt.title('Stacked bar : Frequency & Interest ', fontsize=20)\n",
    "plt.ylabel('Interest', fontsize=18)\n",
    "plt.xlabel('Frequency', fontsize=18)\n",
    "plt.xticks(index, in_r_fq_1.index, fontsize=15)\n",
    "plt.legend((p1[0], p2[0], p3[0], p4[0], p5[0], p6[0]), ('Not at all', 'No', 'Not very', 'Somewhat', 'Yes', 'Very'), fontsize=15)\n",
    "plt.rcParams[\"figure.figsize\"] = 15, 8\n",
    "plt.show()"
   ]
  },
  {
   "cell_type": "code",
   "execution_count": 34,
   "metadata": {},
   "outputs": [
    {
     "data": {
      "image/png": "[encoded data removed]",
      "text/plain": [
       "<Figure size 800x400 with 4 Axes>"
      ]
     },
     "metadata": {
      "needs_background": "light"
     },
     "output_type": "display_data"
    }
   ],
   "source": [
    "#관심이 제일 높은 집단의 구매\n",
    "moblie_buy1=usemoblie.C_13_037[usemoblie.C_13_025 ==1].value_counts() \n",
    "moblie_buy2=usemoblie.C_13_037[usemoblie.C_13_025 ==2].value_counts()\n",
    "moblie_buy3=usemoblie.C_13_037[usemoblie.C_13_025 ==3].value_counts()\n",
    "moblie_buy4=usemoblie.C_13_037[usemoblie.C_13_025 ==4].value_counts()\n",
    "\n",
    "\n",
    "fig=plt.figure(figsize=(10,5),dpi=80)   \n",
    "axes1=fig.add_axes([0,0,0.3,1])\n",
    "axes2=fig.add_axes([0.5,0,0.3,1])\n",
    "axes3=fig.add_axes([1.0,0,0.3,1])\n",
    "axes4=fig.add_axes([1.5,0,0.3,1])\n",
    "\n",
    "axes1.bar(moblie_buy1.index,moblie_buy1.values,color='blue')\n",
    "axes2.bar(moblie_buy2.index,moblie_buy2.values,color='blue')\n",
    "axes3.bar(moblie_buy3.index,moblie_buy3.values,color='blue')\n",
    "axes4.bar(moblie_buy4.index,moblie_buy4.values,color='blue')\n",
    "\n",
    "plt.show()"
   ]
  },
  {
   "cell_type": "code",
   "execution_count": 35,
   "metadata": {},
   "outputs": [
    {
     "data": {
      "image/png": "[encoded data removed]",
      "text/plain": [
       "<Figure size 1080x576 with 1 Axes>"
      ]
     },
     "metadata": {
      "needs_background": "light"
     },
     "output_type": "display_data"
    }
   ],
   "source": [
    "#관심이 제일 높은 집단의 구매\n",
    "moblie_buy1=usemoblie.C_13_037[usemoblie.C_13_025 ==1].value_counts() \n",
    "moblie_buy2=usemoblie.C_13_037[usemoblie.C_13_025 ==2].value_counts()\n",
    "moblie_buy3=usemoblie.C_13_037[usemoblie.C_13_025 ==3].value_counts()\n",
    "moblie_buy4=usemoblie.C_13_037[usemoblie.C_13_025 ==4].value_counts()\n",
    "\n",
    "moblie_fq_1=moblie_buy1/moblie_buy1.sum()*100\n",
    "moblie_fq_2=moblie_buy2/moblie_buy2.sum()*100\n",
    "moblie_fq_3=moblie_buy3/moblie_buy3.sum()*100\n",
    "moblie_fq_4=moblie_buy4/moblie_buy4.sum()*100\n",
    "\n",
    "moblie_fq_1.index = ['No', 'Somewhat', 'Yes', 'Very']\n",
    "moblie_fq_2.index = ['Not at all', 'No', 'Not very', 'Somewhat', 'Yes', 'Very']\n",
    "moblie_fq_3.index = ['Not at all', 'No', 'Not very', 'Somewhat']\n",
    "\n",
    "moblie_fq_1 = pd.Series(data=moblie_fq_1, index=['Not at all', 'No', 'Not very', 'Somewhat', 'Yes', 'Very'])\n",
    "moblie_fq_1[0] = 0\n",
    "moblie_fq_1[2] = 0\n",
    "\n",
    "#moblie_fq_2 = pd.Series(data=moblie_fq_2, index=['1','2','3','4','5','6'])\n",
    "#moblie_fq_2[2] = 0\n",
    "#moblie_fq_2[3] = 0\n",
    "moblie_fq_3 = pd.Series(data=moblie_fq_3, index=['Not at all', 'No', 'Not very', 'Somewhat', 'Yes', 'Very'])\n",
    "moblie_fq_3[4] = 0\n",
    "moblie_fq_3[5] = 0\n",
    "\n",
    "moblie_fq_4 = pd.Series(data=moblie_fq_4, index=['Not at all', 'No', 'Not very', 'Somewhat', 'Yes', 'Very'])\n",
    "for i in np.arange(0, 4):\n",
    "    moblie_fq_4[i] = 0\n",
    "\n",
    "\n",
    "\n",
    "in_list1,in_list2, in_list3, in_list4, in_list5, in_list6 = [], [], [], [], [], []\n",
    "for i in [moblie_fq_1, moblie_fq_2, moblie_fq_3, moblie_fq_4]:\n",
    "    in_list1.append(i[0])\n",
    "    in_list2.append(i[1])\n",
    "    in_list3.append(i[2])\n",
    "    in_list4.append(i[3])\n",
    "    in_list5.append(i[4])\n",
    "    in_list6.append(i[5])\n",
    "    \n",
    "in_r_fq_1 = pd.Series(data=in_list1, index=['Very', 'Somewhat', 'Not very', 'Not at all'])\n",
    "in_r_fq_2 = pd.Series(data=in_list2, index=['Very', 'Somewhat', 'Not very', 'Not at all'])\n",
    "in_r_fq_3 = pd.Series(data=in_list3, index=['Very', 'Somewhat', 'Not very', 'Not at all'])\n",
    "in_r_fq_4 = pd.Series(data=in_list4, index=['Very', 'Somewhat', 'Not very', 'Not at all'])\n",
    "in_r_fq_5 = pd.Series(data=in_list5, index=['Very', 'Somewhat', 'Not very', 'Not at all'])\n",
    "in_r_fq_6 = pd.Series(data=in_list6, index=['Very', 'Somewhat', 'Not very', 'Not at all'])\n",
    "\n",
    "index = np.arange(0, 4)\n",
    "alpha = 0.5\n",
    "\n",
    "p1 = plt.bar(index, in_r_fq_1, color='b', alpha=alpha)\n",
    "p2 = plt.bar(index, in_r_fq_2, color='r', alpha=alpha, bottom=in_r_fq_1) # stacked bar chart\n",
    "p3 = plt.bar(index, in_r_fq_3, color='y', alpha=alpha, bottom=in_r_fq_1 + in_r_fq_2) # stacked bar chart\n",
    "p4 = plt.bar(index, in_r_fq_4, color='g', alpha=alpha, bottom=in_r_fq_1 + in_r_fq_2 + in_r_fq_3) # stacked bar chart\n",
    "p5 = plt.bar(index, in_r_fq_5, color='m', alpha=alpha, bottom=in_r_fq_1 + in_r_fq_2 + in_r_fq_3 + in_r_fq_4) # stacked bar chart\n",
    "p6 = plt.bar(index, in_r_fq_6, color='k', alpha=alpha, bottom=in_r_fq_1 + in_r_fq_2 + in_r_fq_3 + in_r_fq_4 + in_r_fq_5 ) # stacked bar chart\n",
    "plt.title('Stacked bar : Frequency & buy ', fontsize=20)\n",
    "plt.ylabel('buy', fontsize=18)\n",
    "plt.xlabel('Frequency', fontsize=18)\n",
    "plt.xticks(index, in_r_fq_1.index, fontsize=15)\n",
    "plt.legend((p1[0], p2[0], p3[0], p4[0], p5[0], p6[0]), ('Not at all', 'No', 'Not very', 'Somewhat', 'Yes', 'Very'), fontsize=15)\n",
    "plt.rcParams[\"figure.figsize\"] = 15, 8\n",
    "plt.show()"
   ]
  },
  {
   "cell_type": "markdown",
   "metadata": {},
   "source": [
    "## SNS"
   ]
  },
  {
   "cell_type": "code",
   "execution_count": 36,
   "metadata": {},
   "outputs": [],
   "source": [
    "#sns 추출\n",
    "snss=usedata.loc[:,['C_15_019','C_15_020','C_15_021']]\n",
    "\n",
    "#결측값 제거\n",
    "usesns=snss.dropna(axis=0) \n",
    "#usesns\n",
    "\n",
    "# 1행 제거\n",
    "usesns= usesns.loc[1:]\n",
    "#usesns"
   ]
  },
  {
   "cell_type": "code",
   "execution_count": 37,
   "metadata": {},
   "outputs": [
    {
     "data": {
      "image/png": "[encoded data removed]",
      "text/plain": [
       "<Figure size 800x400 with 4 Axes>"
      ]
     },
     "metadata": {
      "needs_background": "light"
     },
     "output_type": "display_data"
    }
   ],
   "source": [
    "#SNS 주목도별 관심도 선택 도수분포표\n",
    "sns_a1=usesns.C_15_020[usesns.C_15_019 ==1].value_counts()\n",
    "sns_a2=usesns.C_15_020[usesns.C_15_019 ==2].value_counts()\n",
    "sns_a3=usesns.C_15_020[usesns.C_15_019 ==3].value_counts()\n",
    "sns_a4=usesns.C_15_020[usesns.C_15_019 ==4].value_counts()\n",
    "\n",
    "#SNS 주목도별 관심도 바차트\n",
    "fig=plt.figure(figsize=(10,5),dpi=80)   \n",
    "axes1=fig.add_axes([0,0,0.3,1])\n",
    "axes2=fig.add_axes([0.5,0,0.3,1])\n",
    "axes3=fig.add_axes([1.0,0,0.3,1])\n",
    "axes4=fig.add_axes([1.5,0,0.3,1])\n",
    "axes1.bar(sns_a1.index,sns_a1.values,color='blue')\n",
    "axes2.bar(sns_a2.index,sns_a2.values,color='blue')\n",
    "axes3.bar(sns_a3.index,sns_a3.values,color='blue')\n",
    "axes4.bar(sns_a4.index,sns_a4.values,color='blue')\n",
    "\n",
    "plt.show()"
   ]
  },
  {
   "cell_type": "code",
   "execution_count": 38,
   "metadata": {},
   "outputs": [
    {
     "data": {
      "image/png": "[encoded data removed]",
      "text/plain": [
       "<Figure size 1080x576 with 1 Axes>"
      ]
     },
     "metadata": {
      "needs_background": "light"
     },
     "output_type": "display_data"
    }
   ],
   "source": [
    "sns_a1=usesns.C_15_020[usesns.C_15_019 ==1].value_counts()\n",
    "sns_a2=usesns.C_15_020[usesns.C_15_019 ==2].value_counts()\n",
    "sns_a3=usesns.C_15_020[usesns.C_15_019 ==3].value_counts()\n",
    "sns_a4=usesns.C_15_020[usesns.C_15_019 ==4].value_counts()\n",
    "\n",
    "sns_fq_1=sns_a1/sns_a1.sum()*100\n",
    "sns_fq_2=sns_a2/sns_a2.sum()*100\n",
    "sns_fq_3=sns_a3/sns_a3.sum()*100\n",
    "sns_fq_4=sns_a4/sns_a4.sum()*100\n",
    "\n",
    "sns_fq_1.index = ['Very', 'Somewhat', 'Not very', 'Not at all']\n",
    "sns_fq_2.index = ['Very', 'Somewhat', 'Not very', 'Not at all']\n",
    "sns_fq_3.index = ['Very', 'Somewhat', 'Not very', 'Not at all']\n",
    "\n",
    "#sns_fq_1 = pd.Series(data=sns_fq_1, index=['Very', 'Somewhat', 'Not very', 'Not at all'])\n",
    "#sns_fq_1[2] = 0\n",
    "#sns_fq_1[3] = 0\n",
    "#sns_fq_2 = pd.Series(data=sns_fq_2, index=['Very', 'Somewhat', 'Not very', 'Not at all'])\n",
    "#sns_fq_2[2] = 0\n",
    "#sns_fq_2[3] = 0\n",
    "#sns_fq_3 = pd.Series(data=sns_fq_3, index=['Very', 'Somewhat', 'Not very', 'Not at all'])\n",
    "#sns_fq_3[0] = 0\n",
    "#sns_fq_3[3] = 0\n",
    "sns_fq_4 = pd.Series(data=sns_fq_4, index=['Very', 'Somewhat', 'Not very', 'Not at all'])\n",
    "for i in np.arange(0, 4):\n",
    "    sns_fq_4[i] = 0\n",
    "\n",
    "sns_list1,sns_list2, sns_list3, sns_list4 = [], [], [], []\n",
    "for i in [sns_fq_1, sns_fq_2, sns_fq_3, sns_fq_4]:\n",
    "    sns_list1.append(i[0])\n",
    "for i in [sns_fq_1, sns_fq_2, sns_fq_3, sns_fq_4]:\n",
    "    sns_list2.append(i[1])\n",
    "for i in [sns_fq_1, sns_fq_2, sns_fq_3, sns_fq_4]:\n",
    "    sns_list3.append(i[2])\n",
    "for i in [sns_fq_1, sns_fq_2, sns_fq_3, sns_fq_4]:\n",
    "    sns_list4.append(i[3])\n",
    "\n",
    "sns_a_fq_1 = pd.Series(data=sns_list1, index=['Very', 'Somewhat', 'Not very', 'Not at all'])\n",
    "sns_a_fq_2 = pd.Series(data=sns_list2, index=['Very', 'Somewhat', 'Not very', 'Not at all'])\n",
    "sns_a_fq_3 = pd.Series(data=sns_list3, index=['Very', 'Somewhat', 'Not very', 'Not at all'])\n",
    "sns_a_fq_4 = pd.Series(data=sns_list4, index=['Very', 'Somewhat', 'Not very', 'Not at all'])\n",
    "\n",
    "\n",
    "index = np.arange(0, 4)\n",
    "alpha = 0.5\n",
    "\n",
    "p1 = plt.bar(index, sns_a_fq_1, color='b', alpha=alpha)\n",
    "p2 = plt.bar(index, sns_a_fq_2, color='r', alpha=alpha, bottom=sns_a_fq_1) # stacked bar chart\n",
    "p3 = plt.bar(index, sns_a_fq_3, color='y', alpha=alpha, bottom=sns_a_fq_1 + sns_a_fq_2) # stacked bar chart\n",
    "p4 = plt.bar(index, sns_a_fq_4, color='g', alpha=alpha, bottom=sns_a_fq_1 + sns_a_fq_2 + sns_a_fq_3) # stacked bar chart\n",
    "plt.title('Stacked bar : Frequency & Interest ', fontsize=20)\n",
    "plt.ylabel('Interest', fontsize=18)\n",
    "plt.xlabel('Frequency', fontsize=18)\n",
    "plt.xticks(index, sns_a_fq_1.index, fontsize=15)\n",
    "plt.legend((p1[0], p2[0], p3[0], p4[0]), ('Very', 'Somewhat', 'Not very', 'Not at all'), fontsize=15)\n",
    "plt.show()"
   ]
  },
  {
   "cell_type": "code",
   "execution_count": 39,
   "metadata": {},
   "outputs": [
    {
     "data": {
      "image/png": "[encoded data removed]",
      "text/plain": [
       "<Figure size 800x400 with 4 Axes>"
      ]
     },
     "metadata": {
      "needs_background": "light"
     },
     "output_type": "display_data"
    }
   ],
   "source": [
    "#SNS 주목도별 광고에 대한 인식 도수분포표\n",
    "sns_a1=usesns.C_15_021[usesns.C_15_019 ==1].value_counts() \n",
    "sns_a2=usesns.C_15_021[usesns.C_15_019 ==2].value_counts()\n",
    "sns_a3=usesns.C_15_021[usesns.C_15_019 ==3].value_counts()\n",
    "sns_a4=usesns.C_15_021[usesns.C_15_019 ==4].value_counts()\n",
    "\n",
    "#SNS 주목도별 광고에 대한 인식 바차트\n",
    "fig=plt.figure(figsize=(10,5),dpi=80)   \n",
    "axes1=fig.add_axes([0,0,0.3,1])\n",
    "axes2=fig.add_axes([0.5,0,0.3,1])\n",
    "axes3=fig.add_axes([1.0,0,0.3,1])\n",
    "axes4=fig.add_axes([1.5,0,0.3,1])\n",
    "\n",
    "axes1.bar(sns_a1.index,sns_a1.values,color='blue')\n",
    "axes2.bar(sns_a2.index,sns_a2.values,color='blue')\n",
    "axes3.bar(sns_a3.index,sns_a3.values,color='blue')\n",
    "axes4.bar(sns_a4.index,sns_a4.values,color='blue')\n",
    "\n",
    "plt.show()"
   ]
  },
  {
   "cell_type": "code",
   "execution_count": 40,
   "metadata": {},
   "outputs": [
    {
     "data": {
      "image/png": "[encoded data removed]",
      "text/plain": [
       "<Figure size 1080x576 with 1 Axes>"
      ]
     },
     "metadata": {
      "needs_background": "light"
     },
     "output_type": "display_data"
    }
   ],
   "source": [
    "#SNS 주목도별 광고에 대한 인식 도수분포표\n",
    "sns_a1=usesns.C_15_021[usesns.C_15_019 ==1].value_counts() \n",
    "sns_a2=usesns.C_15_021[usesns.C_15_019 ==2].value_counts()\n",
    "sns_a3=usesns.C_15_021[usesns.C_15_019 ==3].value_counts()\n",
    "sns_a4=usesns.C_15_021[usesns.C_15_019 ==4].value_counts()\n",
    "\n",
    "sns_fq_1=sns_a1/sns_a1.sum()*100\n",
    "sns_fq_2=sns_a1/sns_a1.sum()*100\n",
    "sns_fq_3=sns_a1/sns_a1.sum()*100\n",
    "sns_fq_4=sns_a1/sns_a1.sum()*100  \n",
    "\n",
    "sns_fq_1.index = ['Very','Yes','Somewhat','Not very','No','Not at all']\n",
    "sns_fq_2.index = ['Very','Yes','Somewhat','Not very','No','Not at all']\n",
    "sns_fq_3.index = ['Very','Yes','Somewhat','Not very','No','Not at all']\n",
    "\n",
    "#moblie_fq_1 = pd.Series(data=moblie_fq_1, index=['Not at all', 'No', 'Not very', 'Somewhat', 'Yes', 'Very'])\n",
    "#moblie_fq_1[0] = 0\n",
    "#moblie_fq_1[1] = 0\n",
    "#moblie_fq_1[2] = 0\n",
    "#moblie_fq_2 = pd.Series(data=moblie_fq_2, index=['1','2','3','4','5','6'])\n",
    "#moblie_fq_2[2] = 0\n",
    "#moblie_fq_2[3] = 0\n",
    "#moblie_fq_3 = pd.Series(data=moblie_fq_3, index=['Not at all', 'No', 'Not very', 'Somewhat', 'Yes', 'Very'])\n",
    "#moblie_fq_3[5] = 0\n",
    "\n",
    "moblie_fq_4 = pd.Series(data=moblie_fq_4, index=['Not at all', 'No', 'Not very', 'Somewhat', 'Yes', 'Very'])\n",
    "for i in np.arange(0, 4):\n",
    "    moblie_fq_4[i] = 0\n",
    "\n",
    "\n",
    "\n",
    "in_list1,in_list2, in_list3, in_list4, in_list5, in_list6 = [], [], [], [], [], []\n",
    "for i in [moblie_fq_1, moblie_fq_2, moblie_fq_3, moblie_fq_4]:\n",
    "    in_list1.append(i[0])\n",
    "    in_list2.append(i[1])\n",
    "    in_list3.append(i[2])\n",
    "    in_list4.append(i[3])\n",
    "    in_list5.append(i[4])\n",
    "    in_list6.append(i[5])\n",
    "    \n",
    "in_r_fq_1 = pd.Series(data=in_list1, index=['Very', 'Somewhat', 'Not very', 'Not at all'])\n",
    "in_r_fq_2 = pd.Series(data=in_list2, index=['Very', 'Somewhat', 'Not very', 'Not at all'])\n",
    "in_r_fq_3 = pd.Series(data=in_list3, index=['Very', 'Somewhat', 'Not very', 'Not at all'])\n",
    "in_r_fq_4 = pd.Series(data=in_list4, index=['Very', 'Somewhat', 'Not very', 'Not at all'])\n",
    "in_r_fq_5 = pd.Series(data=in_list5, index=['Very', 'Somewhat', 'Not very', 'Not at all'])\n",
    "in_r_fq_6 = pd.Series(data=in_list6, index=['Very', 'Somewhat', 'Not very', 'Not at all'])\n",
    "\n",
    "index = np.arange(0, 4)\n",
    "alpha = 0.5\n",
    "\n",
    "p1 = plt.bar(index, in_r_fq_1, color='b', alpha=alpha)\n",
    "p2 = plt.bar(index, in_r_fq_2, color='r', alpha=alpha, bottom=in_r_fq_1) # stacked bar chart\n",
    "p3 = plt.bar(index, in_r_fq_3, color='y', alpha=alpha, bottom=in_r_fq_1 + in_r_fq_2) # stacked bar chart\n",
    "p4 = plt.bar(index, in_r_fq_4, color='g', alpha=alpha, bottom=in_r_fq_1 + in_r_fq_2 + in_r_fq_3) # stacked bar chart\n",
    "p5 = plt.bar(index, in_r_fq_5, color='m', alpha=alpha, bottom=in_r_fq_1 + in_r_fq_2 + in_r_fq_3 + in_r_fq_4) # stacked bar chart\n",
    "p6 = plt.bar(index, in_r_fq_6, color='k', alpha=alpha, bottom=in_r_fq_1 + in_r_fq_2 + in_r_fq_3 + in_r_fq_4 + in_r_fq_5 ) # stacked bar chart\n",
    "plt.title('Stacked bar : Frequency & awareness ', fontsize=20)\n",
    "plt.ylabel('awareness', fontsize=18)\n",
    "plt.xlabel('Frequency', fontsize=18)\n",
    "plt.xticks(index, in_r_fq_1.index, fontsize=15)\n",
    "plt.legend((p1[0], p2[0], p3[0], p4[0], p5[0], p6[0]), ('Very','Yes','Somewhat','Not very','No','Not at all'), fontsize=15)\n",
    "plt.rcParams[\"figure.figsize\"] = 12, 7\n",
    "plt.show()"
   ]
  },
  {
   "cell_type": "markdown",
   "metadata": {},
   "source": [
    "## TV"
   ]
  },
  {
   "cell_type": "code",
   "execution_count": 41,
   "metadata": {},
   "outputs": [],
   "source": [
    "#데이터 분할\n",
    "usedata = data.loc[:,['C_01_011','C_01_012','C_01_014','C_01_015','C_01_016','C_01_017','C_01_018','C_01_019','C_01_020','C_01_021','C_01_022','C_01_023','C_01_024','C_01_025','C_01_033','C_14_007','C_14_009','C_14_010','C_14_011','C_14_012','C_14_013','C_14_014','H_04_014','H_04_016','H_04_024','C_12_029','C_12_031','C_12_033','C_12_034','C_12_035','C_12_036','C_12_037','C_12_060','C_13_025','C_13_026','C_13_027','C_13_028','C_13_029','C_13_030','C_13_031','C_15_019','C_15_020','C_15_021']]\n",
    "\n",
    "#tv만 추출\n",
    "tv = usedata.loc[:,['C_01_011','C_01_012','C_01_014','C_01_015','C_01_016','C_01_017','C_01_018','C_01_019','C_01_020','C_01_021','C_01_022','C_01_023','C_01_024','C_01_025','C_01_033','H_04_016']]\n",
    "\n",
    "#usetv = tv.dropna(axis=0)   #결측값 제거\n",
    "usetv = tv.iloc[1:]      #wColumn 질문 설명 제거"
   ]
  },
  {
   "cell_type": "markdown",
   "metadata": {},
   "source": [
    "- TV광고 노출정도에 따른 TV광고 관심정도 (1 : 매우 관심있게 봄 ~ 4 : 전혀 관심있게 보지 않음)"
   ]
  },
  {
   "cell_type": "code",
   "execution_count": 42,
   "metadata": {},
   "outputs": [
    {
     "data": {
      "image/png": "[encoded data removed]",
      "text/plain": [
       "<Figure size 800x400 with 3 Axes>"
      ]
     },
     "metadata": {
      "needs_background": "light"
     },
     "output_type": "display_data"
    }
   ],
   "source": [
    "## TV광고 시청 정도에 따른 TV광고 관심도 (1: 많이 봄, 3: 거의 보지 않음)\n",
    "\n",
    "ex_1 = usetv.C_01_012[usetv.C_01_011 == 1].value_counts()    ## TV광고를 많이 보는 집단\n",
    "ex_2 = usetv.C_01_012[usetv.C_01_011 == 2].value_counts()    ## TV광고를 어느정도 보는 집단\n",
    "ex_3 = usetv.C_01_012[usetv.C_01_011 == 3].value_counts()    ## TV광고를 별로 보지 않는 집단\n",
    "ex_4 = usetv.C_01_012[usetv.C_01_011 == 4].value_counts()    ## TV광고를 아예 보지 않는 집단\n",
    "\n",
    "\n",
    "## C_01_012에 대한 답변 (1 : 매우 관심 있게 봄, 4 : 전혀 관심 있게 보지 않음)\n",
    "\n",
    "fig = plt.figure(figsize=(10,5), dpi = 80)\n",
    "axes1 = fig.add_axes([0, 0, 0.3, 1])\n",
    "axes2 = fig.add_axes([0.5, 0, 0.3, 1])\n",
    "axes3 = fig.add_axes([1.0, 0, 0.3, 1])\n",
    "axes1.bar(ex_1.index, ex_1.values, color = 'orange', alpha=0.7)\n",
    "axes2.bar(ex_2.index, ex_2.values, color = 'orange', alpha=0.7)\n",
    "axes3.bar(ex_3.index, ex_3.values, color = 'orange', alpha=0.7)\n",
    "axes1.set_xlabel('TV Advertising exposure - HIGH')\n",
    "axes1.set_ylabel('The number of interested people')\n",
    "axes2.set_xlabel('TV Advertising exposure - MID')\n",
    "axes2.set_ylabel('The number of interested people')\n",
    "axes3.set_xlabel('TV Advertising exposure - LOW')\n",
    "axes3.set_ylabel('The number of interested dpeople')\n",
    "plt.show()"
   ]
  },
  {
   "cell_type": "code",
   "execution_count": 43,
   "metadata": {},
   "outputs": [],
   "source": [
    "ex_fq_1 = ex_1 / ex_1.sum() * 100       ## 비율로 계산\n",
    "ex_fq_2 = ex_2 / ex_2.sum() * 100\n",
    "ex_fq_3 = ex_3 / ex_3.sum() * 100\n",
    "ex_fq_4 = ex_4 / ex_4.sum() * 100\n",
    "\n",
    "ex_fq_1.index = ['Very', 'Somewhat', 'Not very']                        ## Index를 추가한 후 시각화를 위해 Series 새로 생성\n",
    "ex_fq_2.index = ['Very', 'Somewhat', 'Not very', 'Not at all']\n",
    "ex_fq_3.index = ['Somewhat', 'Not very', 'Not at all']\n",
    "\n",
    "ex_fq_1 = pd.Series(data=ex_fq_1, index=['Very', 'Somewhat', 'Not very', 'Not at all'])\n",
    "ex_fq_1[3] = 0\n",
    "ex_fq_3 = pd.Series(data=ex_fq_3, index=['Very', 'Somewhat', 'Not very', 'Not at all'])\n",
    "ex_fq_3[0] = 0\n",
    "ex_fq_4 = pd.Series(data=ex_fq_4, index=['Very', 'Somewhat', 'Not very', 'Not at all'])\n",
    "for i in np.arange(0, 4):\n",
    "    ex_fq_4[i] = 0"
   ]
  },
  {
   "cell_type": "code",
   "execution_count": 44,
   "metadata": {},
   "outputs": [
    {
     "data": {
      "image/png": "[encoded data removed]",
      "text/plain": [
       "<Figure size 800x400 with 3 Axes>"
      ]
     },
     "metadata": {
      "needs_background": "light"
     },
     "output_type": "display_data"
    }
   ],
   "source": [
    "## 더 나은 시각화를 위해 다중 시각화\n",
    "\n",
    "fig = plt.figure(figsize=(10,5), dpi = 80)\n",
    "axes1 = fig.add_axes([0, 0, 0.3, 1])\n",
    "axes2 = fig.add_axes([0.5, 0, 0.3, 1])\n",
    "axes3 = fig.add_axes([1.0, 0, 0.3, 1])\n",
    "axes1.bar(ex_fq_1.index, ex_fq_1.values, color = 'orange', alpha=0.7)\n",
    "axes2.bar(ex_fq_2.index, ex_fq_2.values, color = 'orange', alpha=0.7)\n",
    "axes3.bar(ex_fq_3.index, ex_fq_3.values, color = 'orange', alpha=0.7)\n",
    "axes1.set_xlabel('TV Advertising exposure - HIGH')\n",
    "axes1.set_ylabel('The percentage of interest')\n",
    "axes2.set_xlabel('TV Advertising exposure - MID')\n",
    "axes2.set_ylabel('The percentage of interest')\n",
    "axes3.set_xlabel('TV Advertising exposure - LOW')\n",
    "axes3.set_ylabel('The percentage of interest')\n",
    "plt.show()"
   ]
  },
  {
   "cell_type": "markdown",
   "metadata": {},
   "source": [
    "- TV광고를 많이 보는 사람의 경우 TV광고 관심도가 높은편으로 몰려있음\n",
    "- => 하지만 TV광고의 노출정도와는 무관하게 어느정도 많은 사람들이 TV광고에 관심을 가지고 있음"
   ]
  },
  {
   "cell_type": "code",
   "execution_count": 45,
   "metadata": {},
   "outputs": [],
   "source": [
    "ex_list1,ex_list2, ex_list3, ex_list4 = [], [], [], []\n",
    "for i in [ex_fq_1, ex_fq_2, ex_fq_3, ex_fq_4]:\n",
    "    ex_list1.append(i[0])\n",
    "for i in [ex_fq_1, ex_fq_2, ex_fq_3, ex_fq_4]:\n",
    "    ex_list2.append(i[1])\n",
    "for i in [ex_fq_1, ex_fq_2, ex_fq_3, ex_fq_4]:\n",
    "    ex_list3.append(i[2])\n",
    "for i in [ex_fq_1, ex_fq_2, ex_fq_3, ex_fq_4]:\n",
    "    ex_list4.append(i[3])\n",
    "\n",
    "ex_r_fq_1 = pd.Series(data=ex_list1, index=['Very', 'Somewhat', 'Not very', 'Not at all'])\n",
    "ex_r_fq_2 = pd.Series(data=ex_list2, index=['Very', 'Somewhat', 'Not very', 'Not at all'])\n",
    "ex_r_fq_3 = pd.Series(data=ex_list3, index=['Very', 'Somewhat', 'Not very', 'Not at all'])\n",
    "ex_r_fq_4 = pd.Series(data=ex_list4, index=['Very', 'Somewhat', 'Not very', 'Not at all'])"
   ]
  },
  {
   "cell_type": "code",
   "execution_count": 46,
   "metadata": {},
   "outputs": [
    {
     "data": {
      "image/png": "[encoded data removed]",
      "text/plain": [
       "<Figure size 864x504 with 1 Axes>"
      ]
     },
     "metadata": {
      "needs_background": "light"
     },
     "output_type": "display_data"
    }
   ],
   "source": [
    "## 더 나은 시각화를 위해 하나의 Stacked Bar graph로 표현 \n",
    "\n",
    "index = np.arange(0, 4)\n",
    "alpha = 0.5\n",
    "\n",
    "p1 = plt.bar(index, ex_r_fq_1, color='b', alpha=alpha)\n",
    "p2 = plt.bar(index, ex_r_fq_2, color='r', alpha=alpha, bottom=ex_r_fq_1) # stacked bar chart\n",
    "p3 = plt.bar(index, ex_r_fq_3, color='y', alpha=alpha, bottom=ex_r_fq_1 + ex_r_fq_2) # stacked bar chart\n",
    "p4 = plt.bar(index, ex_r_fq_4, color='g', alpha=alpha, bottom=ex_r_fq_1 + ex_r_fq_2 + ex_r_fq_3) # stacked bar chart\n",
    "plt.title('Stacked bar : Frequency & Interest ', fontsize=20)\n",
    "plt.ylabel('Interest', fontsize=18)\n",
    "plt.xlabel('Frequency', fontsize=18)\n",
    "plt.xticks(index, ex_r_fq_1.index, fontsize=15)\n",
    "plt.legend((p1[0], p2[0], p3[0], p4[0]), ('Very', 'Somewhat', 'Not very', 'Not at all'), fontsize=15)\n",
    "plt.rcParams[\"figure.figsize\"] = 10,3\n",
    "plt.show()"
   ]
  },
  {
   "cell_type": "markdown",
   "metadata": {},
   "source": [
    "- TV광고 노출도가 제품 구매 의사결정에 영향을 끼치는지. (1 : 매우 관심있게 봄 ~ 4 : 전혀 관심있게 보지 않음)"
   ]
  },
  {
   "cell_type": "code",
   "execution_count": 47,
   "metadata": {},
   "outputs": [
    {
     "data": {
      "image/png": "[encoded data removed]",
      "text/plain": [
       "<Figure size 800x400 with 4 Axes>"
      ]
     },
     "metadata": {
      "needs_background": "light"
     },
     "output_type": "display_data"
    }
   ],
   "source": [
    "## TV광고 노출도가 제품 구매 의사결정에 영향을 끼치는지. (1 : 많이 보는 편, 4 : 전혀 보지 않음)\n",
    "\n",
    "in_1 = usetv.H_04_016[usetv.C_01_011 == 1].value_counts()\n",
    "in_2 = usetv.H_04_016[usetv.C_01_011 == 2].value_counts()\n",
    "in_3 = usetv.H_04_016[usetv.C_01_011 == 3].value_counts()\n",
    "in_4 = usetv.H_04_016[usetv.C_01_011 == 4].value_counts()\n",
    "\n",
    "## H_04_016의 답변 (1: 전혀 아니다, 6: 매우 그렇다)\n",
    "\n",
    "fig = plt.figure(figsize=(10,5), dpi = 80)\n",
    "axes4 = fig.add_axes([0, 0, 0.3, 1])\n",
    "axes5 = fig.add_axes([0.5, 0, 0.3, 1])\n",
    "axes6 = fig.add_axes([1.0, 0, 0.3, 1])\n",
    "axes7 = fig.add_axes([1.5, 0, 0.3, 1])\n",
    "\n",
    "axes4.bar(in_1.index, in_1.values, color = 'orange', alpha=0.7)\n",
    "axes5.bar(in_2.index, in_2.values, color = 'orange', alpha=0.7)\n",
    "axes6.bar(in_3.index, in_3.values, color = 'orange', alpha=0.7)\n",
    "axes7.bar(in_4.index, in_4.values, color = 'orange', alpha=0.7)\n",
    "axes4.set_xlabel('TV Advertising exposure - HIGH')\n",
    "axes4.set_ylabel('The effect of decision making')\n",
    "axes5.set_xlabel('TV Advertising exposure - MID')\n",
    "axes5.set_ylabel('The effect of decision making')\n",
    "axes6.set_xlabel('TV Advertising exposure - LOW')\n",
    "axes6.set_ylabel('The effect of decision making')\n",
    "axes7.set_xlabel('TV Advertising exposure - NOT AT ALL')\n",
    "axes7.set_ylabel('The effect of decision making')\n",
    "plt.show()"
   ]
  },
  {
   "cell_type": "code",
   "execution_count": 48,
   "metadata": {},
   "outputs": [
    {
     "data": {
      "image/png": "[encoded data removed]",
      "text/plain": [
       "<Figure size 800x400 with 4 Axes>"
      ]
     },
     "metadata": {
      "needs_background": "light"
     },
     "output_type": "display_data"
    }
   ],
   "source": [
    "## TV광고 노출도가 제품 구매 의사결정에 영향을 끼치는지. (1 : 많이 보는 편, 4 : 전혀 보지 않음)\n",
    "\n",
    "in_1 = usetv.H_04_016[usetv.C_01_011 == 1].value_counts()\n",
    "in_2 = usetv.H_04_016[usetv.C_01_011 == 2].value_counts()\n",
    "in_3 = usetv.H_04_016[usetv.C_01_011 == 3].value_counts()\n",
    "in_4 = usetv.H_04_016[usetv.C_01_011 == 4].value_counts()\n",
    "\n",
    "in_fq_1 = in_1 / in_1.sum() * 100\n",
    "in_fq_2 = in_2 / in_2.sum() * 100\n",
    "in_fq_3 = in_3 / in_3.sum() * 100\n",
    "in_fq_4 = in_4 / in_4.sum() * 100\n",
    "\n",
    "in_fq_1.index = ['No','Not very', 'Somewhat', 'Yes', 'Very']\n",
    "in_fq_2.index = ['Not at all', 'No', 'Not very', 'Somewhat', 'Yes', 'Very']\n",
    "in_fq_3.index = ['Not at all', 'No', 'Not very', 'Somewhat', 'Yes', 'Very']\n",
    "in_fq_4.index = ['Not at all', 'No', 'Not very', 'Somewhat', 'Yes', 'Very']\n",
    "\n",
    "in_fq_1 = pd.Series(data=in_fq_1, index=['Not at all', 'No', 'Not very', 'Somewhat', 'Yes', 'Very'])\n",
    "in_fq_1[0] = 0.0\n",
    "\n",
    "## H_04_016의 답변 (1: 전혀 아니다, 6: 매우 그렇다)\n",
    "\n",
    "fig = plt.figure(figsize=(10,5), dpi = 80)\n",
    "axes4 = fig.add_axes([0, 0, 0.3, 1])\n",
    "axes5 = fig.add_axes([0.5, 0, 0.3, 1])\n",
    "axes6 = fig.add_axes([1.0, 0, 0.3, 1])\n",
    "axes7 = fig.add_axes([1.5, 0, 0.3, 1])\n",
    "\n",
    "axes4.bar(in_fq_1.index, in_fq_1.values, color = 'orange', alpha=0.7)\n",
    "axes5.bar(in_fq_2.index, in_fq_2.values, color = 'orange', alpha=0.7)\n",
    "axes6.bar(in_fq_3.index, in_fq_3.values, color = 'orange', alpha=0.7)\n",
    "axes7.bar(in_fq_4.index, in_fq_4.values, color = 'orange', alpha=0.7)\n",
    "axes4.set_xlabel('TV Advertising exposure - HIGH')\n",
    "axes4.set_ylabel('The effect of decision making')\n",
    "axes5.set_xlabel('TV Advertising exposure - MID')\n",
    "axes5.set_ylabel('The effect of decision making')\n",
    "axes6.set_xlabel('TV Advertising exposure - LOW')\n",
    "axes6.set_ylabel('The effect of decision making')\n",
    "axes7.set_xlabel('TV Advertising exposure - NOT AT ALL')\n",
    "axes7.set_ylabel('The effect of decision making')\n",
    "plt.show()"
   ]
  },
  {
   "cell_type": "markdown",
   "metadata": {},
   "source": [
    "- 전체적으로 그래프의 형태가 TV광고가 제품 구매 의사결정에 영향을 끼치지 않은 편으로 몰려있다."
   ]
  },
  {
   "cell_type": "code",
   "execution_count": 49,
   "metadata": {
    "scrolled": true
   },
   "outputs": [
    {
     "data": {
      "image/png": "[encoded data removed]",
      "text/plain": [
       "<Figure size 720x216 with 1 Axes>"
      ]
     },
     "metadata": {
      "needs_background": "light"
     },
     "output_type": "display_data"
    }
   ],
   "source": [
    "in_list1,in_list2, in_list3, in_list4, in_list5, in_list6 = [], [], [], [], [], []\n",
    "for i in [in_fq_1, in_fq_2, in_fq_3, in_fq_4]:\n",
    "    in_list1.append(i[0])\n",
    "    in_list2.append(i[1])\n",
    "    in_list3.append(i[2])\n",
    "    in_list4.append(i[3])\n",
    "    in_list5.append(i[4])\n",
    "    in_list6.append(i[5])\n",
    "    \n",
    "in_r_fq_1 = pd.Series(data=in_list1, index=['Very', 'Somewhat', 'Not very', 'Not at all'])\n",
    "in_r_fq_2 = pd.Series(data=in_list2, index=['Very', 'Somewhat', 'Not very', 'Not at all'])\n",
    "in_r_fq_3 = pd.Series(data=in_list3, index=['Very', 'Somewhat', 'Not very', 'Not at all'])\n",
    "in_r_fq_4 = pd.Series(data=in_list4, index=['Very', 'Somewhat', 'Not very', 'Not at all'])\n",
    "in_r_fq_5 = pd.Series(data=in_list5, index=['Very', 'Somewhat', 'Not very', 'Not at all'])\n",
    "in_r_fq_6 = pd.Series(data=in_list6, index=['Very', 'Somewhat', 'Not very', 'Not at all'])\n",
    "\n",
    "index = np.arange(0, 4)\n",
    "alpha = 0.5\n",
    "\n",
    "p1 = plt.bar(index, in_r_fq_1, color='b', alpha=alpha)\n",
    "p2 = plt.bar(index, in_r_fq_2, color='r', alpha=alpha, bottom=in_r_fq_1) # stacked bar chart\n",
    "p3 = plt.bar(index, in_r_fq_3, color='y', alpha=alpha, bottom=in_r_fq_1 + in_r_fq_2) # stacked bar chart\n",
    "p4 = plt.bar(index, in_r_fq_4, color='g', alpha=alpha, bottom=in_r_fq_1 + in_r_fq_2 + in_r_fq_3) # stacked bar chart\n",
    "p5 = plt.bar(index, in_r_fq_5, color='m', alpha=alpha, bottom=in_r_fq_1 + in_r_fq_2 + in_r_fq_3 + in_r_fq_4) # stacked bar chart\n",
    "p6 = plt.bar(index, in_r_fq_6, color='k', alpha=alpha, bottom=in_r_fq_1 + in_r_fq_2 + in_r_fq_3 + in_r_fq_4 + in_r_fq_5 ) # stacked bar chart\n",
    "plt.title('Stacked bar : Frequency & Desicion making ', fontsize=20)\n",
    "plt.ylabel('Desicion making', fontsize=18)\n",
    "plt.xlabel('Frequency', fontsize=18)\n",
    "plt.xticks(index, in_r_fq_1.index, fontsize=15)\n",
    "plt.legend((p1[0], p2[0], p3[0], p4[0], p5[0], p6[0]), ('Not at all', 'No', 'Not very', 'Somewhat', 'Yes', 'Very'), fontsize=15)\n",
    "plt.rcParams[\"figure.figsize\"] = 15, 10\n",
    "plt.show()"
   ]
  },
  {
   "cell_type": "markdown",
   "metadata": {},
   "source": [
    "- => TV광고의 노출 정도에 관계없이 모든 그래프에서 Not very까지 영역이 막대의 80~90%를 차지하는 것을 보아\n",
    "\n",
    "- TV광고의 노출 정도가 제품의 구매 결정에 영향을 끼치지 않음을 알 수 있다."
   ]
  },
  {
   "cell_type": "markdown",
   "metadata": {},
   "source": [
    "## PC"
   ]
  },
  {
   "cell_type": "code",
   "execution_count": 50,
   "metadata": {},
   "outputs": [],
   "source": [
    "pc=usedata.loc[:,['C_12_029','C_12_031','C_12_033','C_12_034','C_12_035','C_12_036','C_12_037','C_12_060']]  #pc 추출\n",
    "usepc=pc.dropna(axis=0) #결측값 제거\n",
    "usepc = usepc.iloc[1:]      #wColumn 질문 설명 제거"
   ]
  },
  {
   "cell_type": "code",
   "execution_count": 51,
   "metadata": {},
   "outputs": [
    {
     "data": {
      "image/png": "[encoded data removed]",
      "text/plain": [
       "<Figure size 800x400 with 3 Axes>"
      ]
     },
     "metadata": {
      "needs_background": "light"
     },
     "output_type": "display_data"
    }
   ],
   "source": [
    "## PC광고 시청 정도에 따른 PC광고 관심도 (1: 많이 봄, 4: 전혀 보지 않음)\n",
    "\n",
    "pc_ex_1 = usepc.C_12_031[usepc.C_12_029 == 1].value_counts()    ## PC광고를 많이 보는 집단\n",
    "pc_ex_2 = usepc.C_12_031[usepc.C_12_029 == 2].value_counts()    ## PC광고를 어느정도 보는 집단\n",
    "pc_ex_3 = usepc.C_12_031[usepc.C_12_029 == 3].value_counts()    ## PC광고를 별로 보지 않는 집단\n",
    "pc_ex_4 = usepc.C_12_031[usepc.C_12_029 == 4].value_counts()    ## PC광고를 보지 않는 집단\n",
    "\n",
    "## C_12_031에 대한 답변 (1 : 매우 관심 있게 봄, 4 : 전혀 관심 있게 보지 않음)\n",
    "\n",
    "pc_ex_fq_1 = pc_ex_1 / pc_ex_1.sum() * 100\n",
    "pc_ex_fq_2 = pc_ex_2 / pc_ex_2.sum() * 100\n",
    "pc_ex_fq_3 = pc_ex_3 / pc_ex_3.sum() * 100\n",
    "pc_ex_fq_4 = pc_ex_4 / pc_ex_4.sum() * 100\n",
    "\n",
    "pc_ex_fq_1.index = ['Very', 'Somewhat']\n",
    "pc_ex_fq_2.index = ['Very', 'Somewhat']\n",
    "pc_ex_fq_3.index = ['Very', 'Somewhat', 'Not very']\n",
    "\n",
    "pc_ex_fq_1 = pd.Series(data=pc_ex_fq_1, index=['Very', 'Somewhat', 'Not very', 'Not at all'])\n",
    "pc_ex_fq_1[2] = 0\n",
    "pc_ex_fq_1[3] = 0\n",
    "pc_ex_fq_2 = pd.Series(data=pc_ex_fq_2, index=['Very', 'Somewhat', 'Not very', 'Not at all'])\n",
    "pc_ex_fq_2[2] = 0\n",
    "pc_ex_fq_2[3] = 0\n",
    "pc_ex_fq_3 = pd.Series(data=pc_ex_fq_3, index=['Very', 'Somewhat', 'Not very', 'Not at all'])\n",
    "pc_ex_fq_3[3] = 0\n",
    "pc_ex_fq_4 = pd.Series(data=pc_ex_fq_4, index=['Very', 'Somewhat', 'Not very', 'Not at all'])\n",
    "for i in np.arange(0, 4):\n",
    "    pc_ex_fq_4[i] = 0\n",
    "    \n",
    "fig = plt.figure(figsize=(10,5), dpi = 80)\n",
    "axes1 = fig.add_axes([0, 0, 0.3, 1])\n",
    "axes2 = fig.add_axes([0.5, 0, 0.3, 1])\n",
    "axes3 = fig.add_axes([1.0, 0, 0.3, 1])\n",
    "axes1.bar(pc_ex_fq_1.index, pc_ex_fq_1.values, color = 'orange', alpha=0.7)\n",
    "axes2.bar(pc_ex_fq_2.index, pc_ex_fq_2.values, color = 'orange', alpha=0.7)\n",
    "axes3.bar(pc_ex_fq_3.index, pc_ex_fq_3.values, color = 'orange', alpha=0.7)\n",
    "axes1.set_xlabel('PC Advertising exposure - HIGH')\n",
    "axes1.set_ylabel('The percentage of interest')\n",
    "axes2.set_xlabel('PC Advertising exposure - MID')\n",
    "axes2.set_ylabel('The percentage of interest')\n",
    "axes3.set_xlabel('PC Advertising exposure - LOW')\n",
    "axes3.set_ylabel('The percentage of interest')\n",
    "plt.show()"
   ]
  },
  {
   "cell_type": "markdown",
   "metadata": {},
   "source": [
    "- PC광고에서는 TV광고와는 다르게 전체적으로 관심도가 높은 편으로 나타남.\n",
    "- => 하지만 PC광고 노출정도에 따른 관심도는 크게 상관관계를 찾을 수 없었음"
   ]
  },
  {
   "cell_type": "code",
   "execution_count": 52,
   "metadata": {},
   "outputs": [
    {
     "data": {
      "image/png": "[encoded data removed]",
      "text/plain": [
       "<Figure size 1080x720 with 1 Axes>"
      ]
     },
     "metadata": {
      "needs_background": "light"
     },
     "output_type": "display_data"
    }
   ],
   "source": [
    "pc_ex_list1,pc_ex_list2, pc_ex_list3, pc_ex_list4 = [], [], [], []\n",
    "for i in [pc_ex_fq_1, pc_ex_fq_2, pc_ex_fq_3, pc_ex_fq_4]:\n",
    "    pc_ex_list1.append(i[0])\n",
    "for i in [pc_ex_fq_1, pc_ex_fq_2, pc_ex_fq_3, pc_ex_fq_4]:\n",
    "    pc_ex_list2.append(i[1])\n",
    "for i in [pc_ex_fq_1, pc_ex_fq_2, pc_ex_fq_3, pc_ex_fq_4]:\n",
    "    pc_ex_list3.append(i[2])\n",
    "for i in [pc_ex_fq_1, pc_ex_fq_2, pc_ex_fq_3, pc_ex_fq_4]:\n",
    "    pc_ex_list4.append(i[3])\n",
    "\n",
    "pc_ex_r_fq_1 = pd.Series(data=pc_ex_list1, index=['Very', 'Somewhat', 'Not very', 'Not at all'])\n",
    "pc_ex_r_fq_2 = pd.Series(data=pc_ex_list2, index=['Very', 'Somewhat', 'Not very', 'Not at all'])\n",
    "pc_ex_r_fq_3 = pd.Series(data=pc_ex_list3, index=['Very', 'Somewhat', 'Not very', 'Not at all'])\n",
    "pc_ex_r_fq_4 = pd.Series(data=pc_ex_list4, index=['Very', 'Somewhat', 'Not very', 'Not at all'])\n",
    "\n",
    "index = np.arange(0, 4)\n",
    "alpha = 0.5\n",
    "\n",
    "p1 = plt.bar(index, pc_ex_r_fq_1, color='b', alpha=alpha)\n",
    "p2 = plt.bar(index, pc_ex_r_fq_2, color='r', alpha=alpha, bottom=pc_ex_r_fq_1) # stacked bar chart\n",
    "p3 = plt.bar(index, pc_ex_r_fq_3, color='y', alpha=alpha, bottom=pc_ex_r_fq_1 + pc_ex_r_fq_2) # stacked bar chart\n",
    "p4 = plt.bar(index, pc_ex_r_fq_4, color='g', alpha=alpha, bottom=pc_ex_r_fq_1 + pc_ex_r_fq_2 + pc_ex_r_fq_3) # stacked bar chart\n",
    "plt.title('Stacked bar : Frequency & Interest ', fontsize=20)\n",
    "plt.ylabel('Interest', fontsize=18)\n",
    "plt.xlabel('Frequency', fontsize=18)\n",
    "plt.xticks(index, pc_ex_r_fq_1.index, fontsize=15)\n",
    "plt.legend((p1[0], p2[0], p3[0], p4[0]), ('Very', 'Somewhat', 'Not very', 'Not at all'), fontsize=15)\n",
    "plt.rcParams[\"figure.figsize\"] = 10,3\n",
    "plt.show()"
   ]
  },
  {
   "cell_type": "code",
   "execution_count": 53,
   "metadata": {},
   "outputs": [],
   "source": [
    "## PC광고 시청 정도에 따른 PC광고 관심도 (1: 많이 봄, 4: 전혀 보지 않음)\n",
    "\n",
    "pc_in_1 = usepc.C_12_060[usepc.C_12_029 == 1].value_counts()    ## PC광고를 많이 보는 집단\n",
    "pc_in_2 = usepc.C_12_060[usepc.C_12_029 == 2].value_counts()    ## PC광고를 어느정도 보는 집단\n",
    "pc_in_3 = usepc.C_12_060[usepc.C_12_029 == 3].value_counts()    ## PC광고를 별로 보지 않는 집단\n",
    "pc_in_4 = usepc.C_12_060[usepc.C_12_029 == 4].value_counts()    ## PC광고를 보지 않는 집단\n",
    "\n",
    "pc_in_fq_1 = pc_in_1 / pc_in_1.sum() * 100\n",
    "pc_in_fq_2 = pc_in_2 / pc_in_2.sum() * 100\n",
    "pc_in_fq_3 = pc_in_3 / pc_in_3.sum() * 100\n",
    "pc_in_fq_4 = pc_in_4 / pc_in_4.sum() * 100"
   ]
  },
  {
   "cell_type": "code",
   "execution_count": 54,
   "metadata": {},
   "outputs": [
    {
     "data": {
      "image/png": "[encoded data removed]",
      "text/plain": [
       "<Figure size 800x400 with 4 Axes>"
      ]
     },
     "metadata": {
      "needs_background": "light"
     },
     "output_type": "display_data"
    }
   ],
   "source": [
    "## TV광고 노출도가 제품 구매 의사결정에 영향을 끼치는지. (1 : 많이 보는 편, 4 : 전혀 보지 않음)\n",
    "\n",
    "pc_in_1 = usepc.C_12_060[usepc.C_12_029 == 1].value_counts()    ## PC광고를 많이 보는 집단\n",
    "pc_in_2 = usepc.C_12_060[usepc.C_12_029 == 2].value_counts()    ## PC광고를 어느정도 보는 집단\n",
    "pc_in_3 = usepc.C_12_060[usepc.C_12_029 == 3].value_counts()    ## PC광고를 별로 보지 않는 집단\n",
    "pc_in_4 = usepc.C_12_060[usepc.C_12_029 == 4].value_counts()    ## PC광고를 보지 않는 집단\n",
    "\n",
    "pc_in_fq_1 = pc_in_1 / pc_in_1.sum() * 100\n",
    "pc_in_fq_2 = pc_in_2 / pc_in_2.sum() * 100\n",
    "pc_in_fq_3 = pc_in_3 / pc_in_3.sum() * 100\n",
    "pc_in_fq_4 = pc_in_4 / pc_in_4.sum() * 100\n",
    "\n",
    "pc_in_fq_1.index = ['Somewhat', 'Yes']\n",
    "pc_in_fq_2.index = ['Not at all', 'No', 'Not very', 'Somewhat', 'Yes', 'Very']\n",
    "pc_in_fq_3.index = ['Not at all', 'Not very', 'Somewhat', 'Yes']\n",
    "\n",
    "pc_in_fq_1 = pd.Series(data=pc_in_fq_1, index=['Not at all', 'No', 'Not very', 'Somewhat', 'Yes', 'Very'])\n",
    "pc_in_fq_1[0] = 0.0\n",
    "pc_in_fq_1[1] = 0.0\n",
    "pc_in_fq_1[2] = 0.0\n",
    "pc_in_fq_1[5] = 0.0\n",
    "pc_in_fq_3 = pd.Series(data=pc_in_fq_3, index=['Not at all', 'No', 'Not very', 'Somewhat', 'Yes', 'Very'])\n",
    "pc_in_fq_3[1] = 0.0\n",
    "pc_in_fq_3[5] = 0.0\n",
    "pc_in_fq_4 = pd.Series(data=pc_in_fq_4, index=['Not at all', 'No', 'Not very', 'Somewhat', 'Yes', 'Very'])\n",
    "for i in np.arange(0, 4):\n",
    "    pc_in_fq_4[i] = 0.0\n",
    "\n",
    "## C_12_060의 답변 (1: 전혀 아니다, 6: 매우 그렇다)\n",
    "\n",
    "fig = plt.figure(figsize=(10,5), dpi = 80)\n",
    "axes4 = fig.add_axes([0, 0, 0.3, 1])\n",
    "axes5 = fig.add_axes([0.5, 0, 0.3, 1])\n",
    "axes6 = fig.add_axes([1.0, 0, 0.3, 1])\n",
    "axes7 = fig.add_axes([1.5, 0, 0.3, 1])\n",
    "\n",
    "axes4.bar(pc_in_fq_1.index, pc_in_fq_1.values, color = 'orange', alpha=0.7)\n",
    "axes5.bar(pc_in_fq_2.index, pc_in_fq_2.values, color = 'orange', alpha=0.7)\n",
    "axes6.bar(pc_in_fq_3.index, pc_in_fq_3.values, color = 'orange', alpha=0.7)\n",
    "axes7.bar(pc_in_fq_4.index, pc_in_fq_4.values, color = 'orange', alpha=0.7)\n",
    "axes4.set_xlabel('PC Advertising exposure - HIGH')\n",
    "axes4.set_ylabel('The effect of decision making')\n",
    "axes5.set_xlabel('PC Advertising exposure - MID')\n",
    "axes5.set_ylabel('The effect of decision making')\n",
    "axes6.set_xlabel('PC Advertising exposure - LOW')\n",
    "axes6.set_ylabel('The effect of decision making')\n",
    "axes7.set_xlabel('PC Advertising exposure - NOT AT ALL')\n",
    "axes7.set_ylabel('The effect of decision making')\n",
    "plt.show()"
   ]
  },
  {
   "cell_type": "markdown",
   "metadata": {},
   "source": [
    "- PC광고에 많이 노출되는 사람들은 제품 구매에 영향을 받았다는 결과가 많음\n",
    "- 오히려 어느정도 노출되는 사람들은 제품 구매에 영향을 전혀 받지 않는다는 의견이 많음\n",
    "- 별로 노출되지 않는 사람들이 제품 구매의 영향을 많이 받음\n",
    "- => PC광고가 매우 많이 노출되는 사람들은 제품 구매의 영향을 받지만, 노출 정도가 어느정도 이상이 되지 않으면 크게 관계가 없음 "
   ]
  },
  {
   "cell_type": "code",
   "execution_count": 55,
   "metadata": {},
   "outputs": [
    {
     "data": {
      "image/png": "[encoded data removed]",
      "text/plain": [
       "<Figure size 720x216 with 1 Axes>"
      ]
     },
     "metadata": {
      "needs_background": "light"
     },
     "output_type": "display_data"
    }
   ],
   "source": [
    "pc_in_list1,pc_in_list2, pc_in_list3, pc_in_list4, pc_in_list5, pc_in_list6 = [], [], [], [], [], []\n",
    "for i in [pc_in_fq_1, pc_in_fq_2, pc_in_fq_3, pc_in_fq_4]:\n",
    "    pc_in_list1.append(i[0])\n",
    "    pc_in_list2.append(i[1])\n",
    "    pc_in_list3.append(i[2])\n",
    "    pc_in_list4.append(i[3])\n",
    "    pc_in_list5.append(i[4])\n",
    "    pc_in_list6.append(i[5])\n",
    "    \n",
    "pc_in_r_fq_1 = pd.Series(data=pc_in_list1, index=['Very', 'Somewhat', 'Not very', 'Not at all'])\n",
    "pc_in_r_fq_2 = pd.Series(data=pc_in_list2, index=['Very', 'Somewhat', 'Not very', 'Not at all'])\n",
    "pc_in_r_fq_3 = pd.Series(data=pc_in_list3, index=['Very', 'Somewhat', 'Not very', 'Not at all'])\n",
    "pc_in_r_fq_4 = pd.Series(data=pc_in_list4, index=['Very', 'Somewhat', 'Not very', 'Not at all'])\n",
    "pc_in_r_fq_5 = pd.Series(data=pc_in_list5, index=['Very', 'Somewhat', 'Not very', 'Not at all'])\n",
    "pc_in_r_fq_6 = pd.Series(data=pc_in_list6, index=['Very', 'Somewhat', 'Not very', 'Not at all'])\n",
    "\n",
    "index = np.arange(0, 4)\n",
    "alpha = 0.5\n",
    "\n",
    "p1 = plt.bar(index, pc_in_r_fq_1, color='b', alpha=alpha)\n",
    "p2 = plt.bar(index, pc_in_r_fq_2, color='r', alpha=alpha, bottom=pc_in_r_fq_1) # stacked bar chart\n",
    "p3 = plt.bar(index, pc_in_r_fq_3, color='y', alpha=alpha, bottom=pc_in_r_fq_1 + pc_in_r_fq_2) # stacked bar chart\n",
    "p4 = plt.bar(index, pc_in_r_fq_4, color='g', alpha=alpha, bottom=pc_in_r_fq_1 + pc_in_r_fq_2 + pc_in_r_fq_3) # stacked bar chart\n",
    "p5 = plt.bar(index, pc_in_r_fq_5, color='m', alpha=alpha, bottom=pc_in_r_fq_1 + pc_in_r_fq_2 + pc_in_r_fq_3 + pc_in_r_fq_4) # stacked bar chart\n",
    "p6 = plt.bar(index, pc_in_r_fq_6, color='k', alpha=alpha, bottom=pc_in_r_fq_1 + pc_in_r_fq_2 + pc_in_r_fq_3 + pc_in_r_fq_4 + pc_in_r_fq_5 ) # stacked bar chart\n",
    "plt.title('Stacked bar : Frequency & Desicion making ', fontsize=20)\n",
    "plt.ylabel('Desicion making', fontsize=18)\n",
    "plt.xlabel('Frequency', fontsize=18)\n",
    "plt.xticks(index, pc_in_r_fq_1.index, fontsize=15)\n",
    "plt.legend((p1[0], p2[0], p3[0], p4[0], p5[0], p6[0]), ('Not at all', 'No', 'Not very', 'Somewhat', 'Yes', 'Very'), fontsize=15)\n",
    "plt.rcParams[\"figure.figsize\"] = 15, 10\n",
    "plt.show()"
   ]
  },
  {
   "cell_type": "markdown",
   "metadata": {},
   "source": [
    "# Modeling"
   ]
  },
  {
   "cell_type": "markdown",
   "metadata": {},
   "source": [
    "## 피어슨 상관분석"
   ]
  },
  {
   "cell_type": "code",
   "execution_count": 56,
   "metadata": {},
   "outputs": [],
   "source": [
    "rawdata2 = pd.read_csv(\"rawdata(수정).csv\")\n",
    "df2 = rawdata2.copy()"
   ]
  },
  {
   "cell_type": "code",
   "execution_count": 57,
   "metadata": {},
   "outputs": [],
   "source": [
    "usedata=df2.loc[:,['C_01_011','C_01_012','C_01_014','C_01_015','C_01_016','C_01_017','C_01_018','C_01_019','C_01_020','C_01_021','C_01_022','C_01_023','C_01_024','C_01_025','C_01_033','C_14_007','C_14_009','C_14_010','C_14_011','C_14_012','C_14_013','C_14_014','H_04_014','H_04_016','H_04_024','C_12_029','C_12_031','C_12_033','C_12_034','C_12_035','C_12_036','C_12_037','C_13_025','C_13_026','C_13_027','C_13_028','C_13_029','C_13_030','C_13_031','C_15_019','C_15_020','C_15_021']]"
   ]
  },
  {
   "cell_type": "code",
   "execution_count": 58,
   "metadata": {},
   "outputs": [],
   "source": [
    "tv=usedata.loc[:,['C_01_011','C_01_012','C_01_014','C_01_015','C_01_016','C_01_017','C_01_018','C_01_019','C_01_020','C_01_021','C_01_022','C_01_023','C_01_024','C_01_025','C_01_033']]\n",
    "#tv.head() \n",
    "#tv만 추출"
   ]
  },
  {
   "cell_type": "code",
   "execution_count": 59,
   "metadata": {
    "scrolled": true
   },
   "outputs": [],
   "source": [
    "usetv=tv.dropna(axis=0) #결측값 제거\n",
    "#usetv.head()"
   ]
  },
  {
   "cell_type": "code",
   "execution_count": 60,
   "metadata": {
    "scrolled": true
   },
   "outputs": [],
   "source": [
    "online=usedata.loc[:,['C_14_007','C_14_009','C_14_010','C_14_011','C_14_012','C_14_013','C_14_014']]\n",
    "#online.head()\n",
    "#온라인 추출"
   ]
  },
  {
   "cell_type": "code",
   "execution_count": 61,
   "metadata": {
    "scrolled": true
   },
   "outputs": [],
   "source": [
    "useonline=online.dropna(axis=0) #결측값 제거\n",
    "#useonline.head()"
   ]
  },
  {
   "cell_type": "code",
   "execution_count": 62,
   "metadata": {},
   "outputs": [],
   "source": [
    "pc=usedata.loc[:,['C_12_029','C_12_031','C_12_033','C_12_034','C_12_035','C_12_036','C_12_037']]\n",
    "#pc.head()\n",
    "#pc 추출"
   ]
  },
  {
   "cell_type": "code",
   "execution_count": 63,
   "metadata": {},
   "outputs": [],
   "source": [
    "usepc=pc.dropna(axis=0) #결측값 제거\n",
    "#usepc.head()"
   ]
  },
  {
   "cell_type": "code",
   "execution_count": 64,
   "metadata": {},
   "outputs": [],
   "source": [
    "moblie=usedata.loc[:,['C_13_025','C_13_026','C_13_027','C_13_028','C_13_029','C_13_030','C_13_031']]\n",
    "#moblie.head()\n",
    "#모바일 추출"
   ]
  },
  {
   "cell_type": "code",
   "execution_count": 65,
   "metadata": {},
   "outputs": [],
   "source": [
    "usemoblie=moblie.dropna(axis=0) #결측값 제거\n",
    "#usemoblie.head()"
   ]
  },
  {
   "cell_type": "code",
   "execution_count": 66,
   "metadata": {},
   "outputs": [],
   "source": [
    "sns_df=usedata.loc[:,['C_15_019','C_15_020','C_15_021']]\n",
    "#sns_df.head()\n",
    "#sns 추출"
   ]
  },
  {
   "cell_type": "code",
   "execution_count": 67,
   "metadata": {
    "scrolled": true
   },
   "outputs": [],
   "source": [
    "usesns=sns_df.dropna(axis=0) #결측값 제거\n",
    "#usesns.head()\n",
    "usesns = pd.DataFrame(usesns)"
   ]
  },
  {
   "cell_type": "code",
   "execution_count": 68,
   "metadata": {},
   "outputs": [],
   "source": [
    "a=usedata.loc[:,['H_04_014','H_04_016','H_04_024']]\n",
    "#a.head()"
   ]
  },
  {
   "cell_type": "code",
   "execution_count": 69,
   "metadata": {},
   "outputs": [],
   "source": [
    "usea=a.dropna(axis=0) #결측값 제거\n",
    "#usea.head()"
   ]
  },
  {
   "cell_type": "code",
   "execution_count": 70,
   "metadata": {},
   "outputs": [],
   "source": [
    "etc=usedata.loc[:,['C_01_011','H_04_014','H_04_016','H_04_024']]"
   ]
  },
  {
   "cell_type": "code",
   "execution_count": 71,
   "metadata": {},
   "outputs": [],
   "source": [
    "useetc=etc.dropna(axis=0) #결측값 제거\n",
    "#useetc.head()"
   ]
  },
  {
   "cell_type": "code",
   "execution_count": 72,
   "metadata": {
    "scrolled": false
   },
   "outputs": [
    {
     "data": {
      "text/html": [
       "<div>\n",
       "<style scoped>\n",
       "    .dataframe tbody tr th:only-of-type {\n",
       "        vertical-align: middle;\n",
       "    }\n",
       "\n",
       "    .dataframe tbody tr th {\n",
       "        vertical-align: top;\n",
       "    }\n",
       "\n",
       "    .dataframe thead th {\n",
       "        text-align: right;\n",
       "    }\n",
       "</style>\n",
       "<table border=\"1\" class=\"dataframe\">\n",
       "  <thead>\n",
       "    <tr style=\"text-align: right;\">\n",
       "      <th></th>\n",
       "      <th>0</th>\n",
       "    </tr>\n",
       "  </thead>\n",
       "  <tbody>\n",
       "    <tr>\n",
       "      <td>C_01_011</td>\n",
       "      <td>1.000000</td>\n",
       "    </tr>\n",
       "    <tr>\n",
       "      <td>C_01_012</td>\n",
       "      <td>0.620370</td>\n",
       "    </tr>\n",
       "    <tr>\n",
       "      <td>C_01_014</td>\n",
       "      <td>-0.475642</td>\n",
       "    </tr>\n",
       "    <tr>\n",
       "      <td>C_01_015</td>\n",
       "      <td>-0.457650</td>\n",
       "    </tr>\n",
       "    <tr>\n",
       "      <td>C_01_016</td>\n",
       "      <td>-0.417002</td>\n",
       "    </tr>\n",
       "    <tr>\n",
       "      <td>C_01_017</td>\n",
       "      <td>-0.435553</td>\n",
       "    </tr>\n",
       "    <tr>\n",
       "      <td>C_01_018</td>\n",
       "      <td>-0.412817</td>\n",
       "    </tr>\n",
       "    <tr>\n",
       "      <td>C_01_019</td>\n",
       "      <td>-0.443244</td>\n",
       "    </tr>\n",
       "    <tr>\n",
       "      <td>C_01_020</td>\n",
       "      <td>-0.352019</td>\n",
       "    </tr>\n",
       "    <tr>\n",
       "      <td>C_01_021</td>\n",
       "      <td>-0.359107</td>\n",
       "    </tr>\n",
       "    <tr>\n",
       "      <td>C_01_022</td>\n",
       "      <td>-0.387140</td>\n",
       "    </tr>\n",
       "    <tr>\n",
       "      <td>C_01_023</td>\n",
       "      <td>-0.408184</td>\n",
       "    </tr>\n",
       "    <tr>\n",
       "      <td>C_01_024</td>\n",
       "      <td>-0.398985</td>\n",
       "    </tr>\n",
       "    <tr>\n",
       "      <td>C_01_025</td>\n",
       "      <td>-0.361247</td>\n",
       "    </tr>\n",
       "    <tr>\n",
       "      <td>C_01_033</td>\n",
       "      <td>0.149392</td>\n",
       "    </tr>\n",
       "  </tbody>\n",
       "</table>\n",
       "</div>"
      ],
      "text/plain": [
       "                 0\n",
       "C_01_011  1.000000\n",
       "C_01_012  0.620370\n",
       "C_01_014 -0.475642\n",
       "C_01_015 -0.457650\n",
       "C_01_016 -0.417002\n",
       "C_01_017 -0.435553\n",
       "C_01_018 -0.412817\n",
       "C_01_019 -0.443244\n",
       "C_01_020 -0.352019\n",
       "C_01_021 -0.359107\n",
       "C_01_022 -0.387140\n",
       "C_01_023 -0.408184\n",
       "C_01_024 -0.398985\n",
       "C_01_025 -0.361247\n",
       "C_01_033  0.149392"
      ]
     },
     "execution_count": 72,
     "metadata": {},
     "output_type": "execute_result"
    }
   ],
   "source": [
    "# usetv의 C_01_011(TV 시청 중 광고 시청 정도)와 나머지 변수들끼리의 상관계수\n",
    "corr_tv = usetv.corrwith(usetv.C_01_011, method = 'pearson') \n",
    "# 데이터프레임으로 바꾸기\n",
    "corr_tv = pd.DataFrame(corr_tv) \n",
    "corr_tv"
   ]
  },
  {
   "cell_type": "code",
   "execution_count": 73,
   "metadata": {},
   "outputs": [
    {
     "name": "stdout",
     "output_type": "stream",
     "text": [
      "                 0\n",
      "C_01_011  1.000000\n",
      "C_01_012  0.620370\n",
      "C_01_014  0.475642\n",
      "C_01_015  0.457650\n",
      "C_01_016  0.417002\n",
      "C_01_017  0.435553\n",
      "C_01_018  0.412817\n",
      "C_01_019  0.443244\n",
      "C_01_020  0.352019\n",
      "C_01_021  0.359107\n",
      "C_01_022  0.387140\n",
      "C_01_023  0.408184\n",
      "C_01_024  0.398985\n",
      "C_01_025  0.361247\n",
      "C_01_033  0.149392\n"
     ]
    }
   ],
   "source": [
    "# 상관계수 절댓값으로 바꾸기\n",
    "temp_tv = corr_tv.copy() \n",
    "\n",
    "i = 0\n",
    "for x in temp_tv.values:\n",
    "    x = abs(x)\n",
    "    temp_tv.values[i] = x\n",
    "    i += 1\n",
    "print(temp_tv)"
   ]
  },
  {
   "cell_type": "code",
   "execution_count": 74,
   "metadata": {},
   "outputs": [
    {
     "data": {
      "image/png": "[encoded data removed]",
      "text/plain": [
       "<Figure size 432x432 with 2 Axes>"
      ]
     },
     "metadata": {
      "needs_background": "light"
     },
     "output_type": "display_data"
    }
   ],
   "source": [
    "# 상관관계 heatmap\n",
    "plt.figure(figsize = (6, 6))\n",
    "sns.heatmap(data = temp_tv, annot = True, fmt = '.2f', linewidths = .5, cmap = 'Reds')\n",
    "plt.title('Heatmap of TV', fontsize=15)\n",
    "plt.show() "
   ]
  },
  {
   "cell_type": "markdown",
   "metadata": {},
   "source": [
    "### 상관관계 해석\n",
    "- ±0 ~ 0.4 : 상관관계가 없다고 판단\n",
    "- ±0.4 ~ 0.7 : 어느정도 상관관계가 있다\n",
    "- ±0.7 ~ 1.0 : 뚜렷한 상관관계가 있다."
   ]
  },
  {
   "cell_type": "markdown",
   "metadata": {},
   "source": [
    "###  TV 광고\n",
    "\n",
    "- C_01_012(귀하께서 평소 TV를 시청하실 때 광고가 나오면 광고를 얼마나 관심 있게 보십니까?) \n",
    "    - Cor 0.6\n",
    "    - -> 양의 상관관계 -> '관심있게 보지 않는다'\n",
    "---\n",
    "- C_01_014(귀하께서는 TV 프로그램을 시청하실 때 접하는 광고들을 얼마나 집중해서 보십니까? - 프로그램 전 광고) \n",
    "    - Cor -0.48\n",
    "    - -> 음의 상관관계 -> '집중해서 보지 않는다'\n",
    "---\n",
    "-  C_01_015(귀하께서는 TV 프로그램을 시청하실 때 접하는 광고들을 얼마나 집중해서 보십니까? - 프로그램 후 광고) \n",
    "    - Cor -0.46\n",
    "    - -> 음의 상관관계 -> '집중해서 보지 않는다'"
   ]
  },
  {
   "cell_type": "code",
   "execution_count": 75,
   "metadata": {},
   "outputs": [
    {
     "data": {
      "text/html": [
       "<div>\n",
       "<style scoped>\n",
       "    .dataframe tbody tr th:only-of-type {\n",
       "        vertical-align: middle;\n",
       "    }\n",
       "\n",
       "    .dataframe tbody tr th {\n",
       "        vertical-align: top;\n",
       "    }\n",
       "\n",
       "    .dataframe thead th {\n",
       "        text-align: right;\n",
       "    }\n",
       "</style>\n",
       "<table border=\"1\" class=\"dataframe\">\n",
       "  <thead>\n",
       "    <tr style=\"text-align: right;\">\n",
       "      <th></th>\n",
       "      <th>0</th>\n",
       "    </tr>\n",
       "  </thead>\n",
       "  <tbody>\n",
       "    <tr>\n",
       "      <td>C_12_029</td>\n",
       "      <td>1.000000</td>\n",
       "    </tr>\n",
       "    <tr>\n",
       "      <td>C_12_031</td>\n",
       "      <td>0.008280</td>\n",
       "    </tr>\n",
       "    <tr>\n",
       "      <td>C_12_033</td>\n",
       "      <td>0.049182</td>\n",
       "    </tr>\n",
       "    <tr>\n",
       "      <td>C_12_034</td>\n",
       "      <td>-0.110693</td>\n",
       "    </tr>\n",
       "    <tr>\n",
       "      <td>C_12_035</td>\n",
       "      <td>-0.106921</td>\n",
       "    </tr>\n",
       "    <tr>\n",
       "      <td>C_12_036</td>\n",
       "      <td>-0.109980</td>\n",
       "    </tr>\n",
       "    <tr>\n",
       "      <td>C_12_037</td>\n",
       "      <td>-0.155239</td>\n",
       "    </tr>\n",
       "  </tbody>\n",
       "</table>\n",
       "</div>"
      ],
      "text/plain": [
       "                 0\n",
       "C_12_029  1.000000\n",
       "C_12_031  0.008280\n",
       "C_12_033  0.049182\n",
       "C_12_034 -0.110693\n",
       "C_12_035 -0.106921\n",
       "C_12_036 -0.109980\n",
       "C_12_037 -0.155239"
      ]
     },
     "execution_count": 75,
     "metadata": {},
     "output_type": "execute_result"
    }
   ],
   "source": [
    "# usepc의 C_12_029(귀하께서는 평소 PC를 통해 인터넷을 이용하시면서 광고(배너광고, 동영상광고, 팝업광고, 검색광고, SNS광고 등을 얼마나 많이 보시는 편입니까?)와 나머지 변수들끼리의 상관계수\n",
    "corr_pc = usepc.corrwith(usepc.C_12_029, method = 'pearson') \n",
    "corr_pc = pd.DataFrame(corr_pc)\n",
    "corr_pc"
   ]
  },
  {
   "cell_type": "code",
   "execution_count": 76,
   "metadata": {},
   "outputs": [
    {
     "name": "stdout",
     "output_type": "stream",
     "text": [
      "                 0\n",
      "C_12_029  1.000000\n",
      "C_12_031  0.008280\n",
      "C_12_033  0.049182\n",
      "C_12_034  0.110693\n",
      "C_12_035  0.106921\n",
      "C_12_036  0.109980\n",
      "C_12_037  0.155239\n"
     ]
    }
   ],
   "source": [
    "# 상관계수 절댓값으로 바꾸기\n",
    "temp_pc = corr_pc.copy() \n",
    "\n",
    "i = 0\n",
    "for x in temp_pc.values:\n",
    "    x = abs(x)\n",
    "    temp_pc.values[i] = x\n",
    "    i += 1\n",
    "print(temp_pc)"
   ]
  },
  {
   "cell_type": "code",
   "execution_count": 77,
   "metadata": {},
   "outputs": [
    {
     "data": {
      "image/png": "[encoded data removed]",
      "text/plain": [
       "<Figure size 432x432 with 2 Axes>"
      ]
     },
     "metadata": {
      "needs_background": "light"
     },
     "output_type": "display_data"
    }
   ],
   "source": [
    "# 상관관계 heatmap\n",
    "plt.figure(figsize = (6, 6))\n",
    "sns.heatmap(data = temp_pc, annot = True, fmt = '.2f', linewidths = .5, cmap = 'Reds')\n",
    "plt.title('Heatmap of PC', fontsize=15)\n",
    "plt.show() "
   ]
  },
  {
   "cell_type": "markdown",
   "metadata": {},
   "source": [
    "### PC 광고\n",
    " 유의한 상관계수 없음"
   ]
  },
  {
   "cell_type": "code",
   "execution_count": 78,
   "metadata": {},
   "outputs": [
    {
     "data": {
      "text/html": [
       "<div>\n",
       "<style scoped>\n",
       "    .dataframe tbody tr th:only-of-type {\n",
       "        vertical-align: middle;\n",
       "    }\n",
       "\n",
       "    .dataframe tbody tr th {\n",
       "        vertical-align: top;\n",
       "    }\n",
       "\n",
       "    .dataframe thead th {\n",
       "        text-align: right;\n",
       "    }\n",
       "</style>\n",
       "<table border=\"1\" class=\"dataframe\">\n",
       "  <thead>\n",
       "    <tr style=\"text-align: right;\">\n",
       "      <th></th>\n",
       "      <th>0</th>\n",
       "    </tr>\n",
       "  </thead>\n",
       "  <tbody>\n",
       "    <tr>\n",
       "      <td>C_13_025</td>\n",
       "      <td>1.000000</td>\n",
       "    </tr>\n",
       "    <tr>\n",
       "      <td>C_13_026</td>\n",
       "      <td>0.295098</td>\n",
       "    </tr>\n",
       "    <tr>\n",
       "      <td>C_13_027</td>\n",
       "      <td>0.094486</td>\n",
       "    </tr>\n",
       "    <tr>\n",
       "      <td>C_13_028</td>\n",
       "      <td>-0.222774</td>\n",
       "    </tr>\n",
       "    <tr>\n",
       "      <td>C_13_029</td>\n",
       "      <td>-0.187006</td>\n",
       "    </tr>\n",
       "    <tr>\n",
       "      <td>C_13_030</td>\n",
       "      <td>-0.184022</td>\n",
       "    </tr>\n",
       "    <tr>\n",
       "      <td>C_13_031</td>\n",
       "      <td>-0.126069</td>\n",
       "    </tr>\n",
       "  </tbody>\n",
       "</table>\n",
       "</div>"
      ],
      "text/plain": [
       "                 0\n",
       "C_13_025  1.000000\n",
       "C_13_026  0.295098\n",
       "C_13_027  0.094486\n",
       "C_13_028 -0.222774\n",
       "C_13_029 -0.187006\n",
       "C_13_030 -0.184022\n",
       "C_13_031 -0.126069"
      ]
     },
     "execution_count": 78,
     "metadata": {},
     "output_type": "execute_result"
    }
   ],
   "source": [
    "# usemobile의 C_13_025(귀하께서는 평소 모바일 기기(스마트폰/태블릿PC)를 통해 인터넷을 하실 때 광고를 얼마나 많이 보시는 편입니까?)와 나머지 변수들끼리의 상관계수\n",
    "corr_mobile = usemoblie.corrwith(usemoblie.C_13_025, method = 'pearson') \n",
    "corr_mobile = pd.DataFrame(corr_mobile)\n",
    "corr_mobile"
   ]
  },
  {
   "cell_type": "code",
   "execution_count": 79,
   "metadata": {},
   "outputs": [
    {
     "name": "stdout",
     "output_type": "stream",
     "text": [
      "                 0\n",
      "C_13_025  1.000000\n",
      "C_13_026  0.295098\n",
      "C_13_027  0.094486\n",
      "C_13_028  0.222774\n",
      "C_13_029  0.187006\n",
      "C_13_030  0.184022\n",
      "C_13_031  0.126069\n"
     ]
    }
   ],
   "source": [
    "# 상관계수 절댓값으로 바꾸기\n",
    "temp_mobile = corr_mobile.copy() \n",
    "\n",
    "i = 0\n",
    "for x in temp_mobile.values:\n",
    "    x = abs(x)\n",
    "    temp_mobile.values[i] = x\n",
    "    i += 1\n",
    "print(temp_mobile)"
   ]
  },
  {
   "cell_type": "code",
   "execution_count": 80,
   "metadata": {
    "scrolled": true
   },
   "outputs": [
    {
     "data": {
      "image/png": "[encoded data removed]",
      "text/plain": [
       "<Figure size 432x432 with 2 Axes>"
      ]
     },
     "metadata": {
      "needs_background": "light"
     },
     "output_type": "display_data"
    }
   ],
   "source": [
    "# 상관관계 heatmap\n",
    "plt.figure(figsize = (6, 6))\n",
    "sns.heatmap(data = temp_mobile, annot = True, fmt = '.2f', linewidths = .5, cmap = 'Reds')\n",
    "plt.title('Heatmap of Mobile', fontsize=15)\n",
    "plt.show() "
   ]
  },
  {
   "cell_type": "markdown",
   "metadata": {},
   "source": [
    "### Mobile 광고\n",
    "\n",
    "- C_13_026(귀하께서 평소 모바일 기기(스마트폰/태블릿PC)를 통해 인터넷을 하실 때 광고가 나오면 광고를 얼마나 관심 있게 보십니까?) \n",
    "    - Cor 0.3\n",
    "    - -> 양의 상관관계 -> '관심있게 보지 않는다'"
   ]
  },
  {
   "cell_type": "code",
   "execution_count": 81,
   "metadata": {},
   "outputs": [
    {
     "data": {
      "text/html": [
       "<div>\n",
       "<style scoped>\n",
       "    .dataframe tbody tr th:only-of-type {\n",
       "        vertical-align: middle;\n",
       "    }\n",
       "\n",
       "    .dataframe tbody tr th {\n",
       "        vertical-align: top;\n",
       "    }\n",
       "\n",
       "    .dataframe thead th {\n",
       "        text-align: right;\n",
       "    }\n",
       "</style>\n",
       "<table border=\"1\" class=\"dataframe\">\n",
       "  <thead>\n",
       "    <tr style=\"text-align: right;\">\n",
       "      <th></th>\n",
       "      <th>C_15_019</th>\n",
       "      <th>C_15_020</th>\n",
       "      <th>C_15_021</th>\n",
       "    </tr>\n",
       "  </thead>\n",
       "  <tbody>\n",
       "    <tr>\n",
       "      <td>2</td>\n",
       "      <td>2.0</td>\n",
       "      <td>2.0</td>\n",
       "      <td>4.0</td>\n",
       "    </tr>\n",
       "    <tr>\n",
       "      <td>3</td>\n",
       "      <td>3.0</td>\n",
       "      <td>4.0</td>\n",
       "      <td>2.0</td>\n",
       "    </tr>\n",
       "    <tr>\n",
       "      <td>4</td>\n",
       "      <td>3.0</td>\n",
       "      <td>3.0</td>\n",
       "      <td>2.0</td>\n",
       "    </tr>\n",
       "    <tr>\n",
       "      <td>5</td>\n",
       "      <td>3.0</td>\n",
       "      <td>3.0</td>\n",
       "      <td>2.0</td>\n",
       "    </tr>\n",
       "    <tr>\n",
       "      <td>6</td>\n",
       "      <td>1.0</td>\n",
       "      <td>1.0</td>\n",
       "      <td>5.0</td>\n",
       "    </tr>\n",
       "  </tbody>\n",
       "</table>\n",
       "</div>"
      ],
      "text/plain": [
       "   C_15_019  C_15_020  C_15_021\n",
       "2       2.0       2.0       4.0\n",
       "3       3.0       4.0       2.0\n",
       "4       3.0       3.0       2.0\n",
       "5       3.0       3.0       2.0\n",
       "6       1.0       1.0       5.0"
      ]
     },
     "execution_count": 81,
     "metadata": {},
     "output_type": "execute_result"
    }
   ],
   "source": [
    "usesns.head()"
   ]
  },
  {
   "cell_type": "code",
   "execution_count": 82,
   "metadata": {},
   "outputs": [
    {
     "data": {
      "text/html": [
       "<div>\n",
       "<style scoped>\n",
       "    .dataframe tbody tr th:only-of-type {\n",
       "        vertical-align: middle;\n",
       "    }\n",
       "\n",
       "    .dataframe tbody tr th {\n",
       "        vertical-align: top;\n",
       "    }\n",
       "\n",
       "    .dataframe thead th {\n",
       "        text-align: right;\n",
       "    }\n",
       "</style>\n",
       "<table border=\"1\" class=\"dataframe\">\n",
       "  <thead>\n",
       "    <tr style=\"text-align: right;\">\n",
       "      <th></th>\n",
       "      <th>0</th>\n",
       "    </tr>\n",
       "  </thead>\n",
       "  <tbody>\n",
       "    <tr>\n",
       "      <td>C_15_019</td>\n",
       "      <td>1.000000</td>\n",
       "    </tr>\n",
       "    <tr>\n",
       "      <td>C_15_020</td>\n",
       "      <td>0.582641</td>\n",
       "    </tr>\n",
       "    <tr>\n",
       "      <td>C_15_021</td>\n",
       "      <td>-0.264399</td>\n",
       "    </tr>\n",
       "  </tbody>\n",
       "</table>\n",
       "</div>"
      ],
      "text/plain": [
       "                 0\n",
       "C_15_019  1.000000\n",
       "C_15_020  0.582641\n",
       "C_15_021 -0.264399"
      ]
     },
     "execution_count": 82,
     "metadata": {},
     "output_type": "execute_result"
    }
   ],
   "source": [
    "# usesns의 C_15_019(귀하께서는 평소 SNS(소셜 네트워크 서비스)를 이용하시면서 광고를 얼마나 많이 보시는 편입니까?)와 나머지 변수들끼리의 상관계수\n",
    "corr_sns = usesns.corrwith(usesns.C_15_019, method = 'pearson') \n",
    "corr_sns = pd.DataFrame(corr_sns)\n",
    "corr_sns"
   ]
  },
  {
   "cell_type": "code",
   "execution_count": 83,
   "metadata": {},
   "outputs": [
    {
     "name": "stdout",
     "output_type": "stream",
     "text": [
      "                 0\n",
      "C_15_019  1.000000\n",
      "C_15_020  0.582641\n",
      "C_15_021  0.264399\n"
     ]
    }
   ],
   "source": [
    "# 상관계수 절댓값으로 바꾸기\n",
    "temp_sns = corr_sns.copy() \n",
    "\n",
    "i = 0\n",
    "for x in temp_sns.values:\n",
    "    x = abs(x)\n",
    "    temp_sns.values[i] = x\n",
    "    i += 1\n",
    "print(temp_sns)"
   ]
  },
  {
   "cell_type": "code",
   "execution_count": 84,
   "metadata": {},
   "outputs": [
    {
     "data": {
      "image/png": "[encoded data removed]",
      "text/plain": [
       "<Figure size 432x432 with 2 Axes>"
      ]
     },
     "metadata": {
      "needs_background": "light"
     },
     "output_type": "display_data"
    }
   ],
   "source": [
    "# 상관관계 heatmap\n",
    "plt.figure(figsize = (6, 6))\n",
    "sns.heatmap(data = temp_sns, annot = True, fmt = '.2f', linewidths = .5, cmap = 'Reds')\n",
    "plt.title('Heatmap of sns', fontsize=15)\n",
    "plt.show() "
   ]
  },
  {
   "cell_type": "markdown",
   "metadata": {},
   "source": [
    "### SNS 광고\n",
    "\n",
    "- C_15_020(귀하께서는 평소 SNS(소셜 네트워크 서비스)를 이용하시면서 광고가 나오면 광고를 얼마나 관심 있게 보십니까?) \n",
    "    - Cor 0.58\n",
    "    - -> 양의 상관관계 -> '관심있게 보지 않는다'"
   ]
  },
  {
   "cell_type": "code",
   "execution_count": 85,
   "metadata": {},
   "outputs": [
    {
     "data": {
      "text/html": [
       "<div>\n",
       "<style scoped>\n",
       "    .dataframe tbody tr th:only-of-type {\n",
       "        vertical-align: middle;\n",
       "    }\n",
       "\n",
       "    .dataframe tbody tr th {\n",
       "        vertical-align: top;\n",
       "    }\n",
       "\n",
       "    .dataframe thead th {\n",
       "        text-align: right;\n",
       "    }\n",
       "</style>\n",
       "<table border=\"1\" class=\"dataframe\">\n",
       "  <thead>\n",
       "    <tr style=\"text-align: right;\">\n",
       "      <th></th>\n",
       "      <th>0</th>\n",
       "    </tr>\n",
       "  </thead>\n",
       "  <tbody>\n",
       "    <tr>\n",
       "      <td>C_01_011</td>\n",
       "      <td>1.000000</td>\n",
       "    </tr>\n",
       "    <tr>\n",
       "      <td>H_04_014</td>\n",
       "      <td>-0.227670</td>\n",
       "    </tr>\n",
       "    <tr>\n",
       "      <td>H_04_016</td>\n",
       "      <td>-0.286646</td>\n",
       "    </tr>\n",
       "    <tr>\n",
       "      <td>H_04_024</td>\n",
       "      <td>-0.220447</td>\n",
       "    </tr>\n",
       "  </tbody>\n",
       "</table>\n",
       "</div>"
      ],
      "text/plain": [
       "                 0\n",
       "C_01_011  1.000000\n",
       "H_04_014 -0.227670\n",
       "H_04_016 -0.286646\n",
       "H_04_024 -0.220447"
      ]
     },
     "execution_count": 85,
     "metadata": {},
     "output_type": "execute_result"
    }
   ],
   "source": [
    "# useetc의 C_01_011(귀하께서는 평소 TV를 시청하시면서 프로그램 전/중간/후에 나오는 광고를 얼마나 많이 보시는 편입니까?)와 나머지 변수들끼리의 상관계수\n",
    "corr_etc = useetc.corrwith(useetc.C_01_011, method = 'pearson') \n",
    "corr_etc = pd.DataFrame(corr_etc)\n",
    "corr_etc"
   ]
  },
  {
   "cell_type": "code",
   "execution_count": 86,
   "metadata": {},
   "outputs": [
    {
     "name": "stdout",
     "output_type": "stream",
     "text": [
      "                 0\n",
      "C_01_011  1.000000\n",
      "H_04_014  0.227670\n",
      "H_04_016  0.286646\n",
      "H_04_024  0.220447\n"
     ]
    }
   ],
   "source": [
    "# 상관계수 절댓값으로 바꾸기\n",
    "temp_etc = corr_etc.copy() \n",
    "\n",
    "i = 0\n",
    "for x in temp_etc.values:\n",
    "    x = abs(x)\n",
    "    temp_etc.values[i] = x\n",
    "    i += 1\n",
    "print(temp_etc)"
   ]
  },
  {
   "cell_type": "code",
   "execution_count": 87,
   "metadata": {},
   "outputs": [
    {
     "data": {
      "image/png": "[encoded data removed]",
      "text/plain": [
       "<Figure size 432x432 with 2 Axes>"
      ]
     },
     "metadata": {
      "needs_background": "light"
     },
     "output_type": "display_data"
    }
   ],
   "source": [
    "# 상관관계 heatmap\n",
    "plt.figure(figsize = (6, 6))\n",
    "sns.heatmap(data = temp_etc, annot = True, fmt = '.2f', linewidths = .5, cmap = 'Reds')\n",
    "plt.title('Heatmap of etc', fontsize=15)\n",
    "plt.show() "
   ]
  },
  {
   "cell_type": "markdown",
   "metadata": {},
   "source": [
    "### Evaluate"
   ]
  },
  {
   "cell_type": "markdown",
   "metadata": {},
   "source": [
    "1. 김경수. \"인터넷 검색광고의 유형이 광고효과에 미치는 영향에 관한 연구\" VOL.-  NO.- (2008)\n",
    "http://www.riss.kr/search/detail/DetailView.do? p_mat_type=be54d9b8bc7cdb09&control_no=3f84529c4cbc09ceffe0bdc3ef48d419\n",
    "-> 소비자들이 필요로 인해 광고를 검색하는 경우는 있지만, \n",
    "광고 자체가 소비를 일으키는 원인이 되지는 못했다.\n",
    "\n",
    "\n",
    "2. 김정진. \"뉴미디어 수용자의 능동성 정도에 따른 광고 태도 비교 연구\" VOL.-  NO.- (2009)\n",
    "http://www.riss.kr/search/detail/DetailView.do? p_mat_type=be54d9b8bc7cdb09&control_no=e2c9848b0bc9aa74ffe0bdc3ef48d41 9\n",
    "-> 반복적이고 동일한 광고은 소비자들로 하여금 정보성과 오락성 대신 짜증도만  높일 수 있다.  이에 흥미를 유발할 수 있는 광고를 구성하고 노출하여 소비자들에게  긍정적인 인식을 심어줄 수 있어야 한다."
   ]
  },
  {
   "cell_type": "markdown",
   "metadata": {},
   "source": [
    "## 분류 문제 해결"
   ]
  },
  {
   "cell_type": "markdown",
   "metadata": {},
   "source": [
    "### Make Feature"
   ]
  },
  {
   "cell_type": "code",
   "execution_count": 88,
   "metadata": {},
   "outputs": [
    {
     "data": {
      "text/html": [
       "<div>\n",
       "<style scoped>\n",
       "    .dataframe tbody tr th:only-of-type {\n",
       "        vertical-align: middle;\n",
       "    }\n",
       "\n",
       "    .dataframe tbody tr th {\n",
       "        vertical-align: top;\n",
       "    }\n",
       "\n",
       "    .dataframe thead th {\n",
       "        text-align: right;\n",
       "    }\n",
       "</style>\n",
       "<table border=\"1\" class=\"dataframe\">\n",
       "  <thead>\n",
       "    <tr style=\"text-align: right;\">\n",
       "      <th></th>\n",
       "      <th>항목ID</th>\n",
       "      <th>항목코드</th>\n",
       "      <th>항목코드명</th>\n",
       "    </tr>\n",
       "  </thead>\n",
       "  <tbody>\n",
       "    <tr>\n",
       "      <td>16809</td>\n",
       "      <td>H_04_014</td>\n",
       "      <td>1</td>\n",
       "      <td>전혀 아니다</td>\n",
       "    </tr>\n",
       "    <tr>\n",
       "      <td>16810</td>\n",
       "      <td>NaN</td>\n",
       "      <td>2</td>\n",
       "      <td>아니다</td>\n",
       "    </tr>\n",
       "    <tr>\n",
       "      <td>16811</td>\n",
       "      <td>NaN</td>\n",
       "      <td>3</td>\n",
       "      <td>약간 아니다</td>\n",
       "    </tr>\n",
       "    <tr>\n",
       "      <td>16812</td>\n",
       "      <td>NaN</td>\n",
       "      <td>4</td>\n",
       "      <td>약간 그렇다</td>\n",
       "    </tr>\n",
       "    <tr>\n",
       "      <td>16813</td>\n",
       "      <td>NaN</td>\n",
       "      <td>5</td>\n",
       "      <td>그렇다</td>\n",
       "    </tr>\n",
       "    <tr>\n",
       "      <td>16814</td>\n",
       "      <td>NaN</td>\n",
       "      <td>6</td>\n",
       "      <td>매우 그렇다</td>\n",
       "    </tr>\n",
       "    <tr>\n",
       "      <td>16815</td>\n",
       "      <td>H_04_015</td>\n",
       "      <td>1</td>\n",
       "      <td>전혀 아니다</td>\n",
       "    </tr>\n",
       "  </tbody>\n",
       "</table>\n",
       "</div>"
      ],
      "text/plain": [
       "           항목ID  항목코드   항목코드명\n",
       "16809  H_04_014     1  전혀 아니다\n",
       "16810       NaN     2     아니다\n",
       "16811       NaN     3  약간 아니다\n",
       "16812       NaN     4  약간 그렇다\n",
       "16813       NaN     5     그렇다\n",
       "16814       NaN     6  매우 그렇다\n",
       "16815  H_04_015     1  전혀 아니다"
      ]
     },
     "execution_count": 88,
     "metadata": {},
     "output_type": "execute_result"
    }
   ],
   "source": [
    "n = df_opt[df_opt.항목ID == \"H_04_014\"].index.values\n",
    "df_opt.loc[n[0]:n[0]+6, ]"
   ]
  },
  {
   "cell_type": "code",
   "execution_count": 89,
   "metadata": {},
   "outputs": [
    {
     "data": {
      "text/html": [
       "<div>\n",
       "<style scoped>\n",
       "    .dataframe tbody tr th:only-of-type {\n",
       "        vertical-align: middle;\n",
       "    }\n",
       "\n",
       "    .dataframe tbody tr th {\n",
       "        vertical-align: top;\n",
       "    }\n",
       "\n",
       "    .dataframe thead th {\n",
       "        text-align: right;\n",
       "    }\n",
       "</style>\n",
       "<table border=\"1\" class=\"dataframe\">\n",
       "  <thead>\n",
       "    <tr style=\"text-align: right;\">\n",
       "      <th></th>\n",
       "      <th>항목ID</th>\n",
       "      <th>항목코드</th>\n",
       "      <th>항목코드명</th>\n",
       "    </tr>\n",
       "  </thead>\n",
       "  <tbody>\n",
       "    <tr>\n",
       "      <td>16821</td>\n",
       "      <td>H_04_016</td>\n",
       "      <td>1</td>\n",
       "      <td>전혀 아니다</td>\n",
       "    </tr>\n",
       "    <tr>\n",
       "      <td>16822</td>\n",
       "      <td>NaN</td>\n",
       "      <td>2</td>\n",
       "      <td>아니다</td>\n",
       "    </tr>\n",
       "    <tr>\n",
       "      <td>16823</td>\n",
       "      <td>NaN</td>\n",
       "      <td>3</td>\n",
       "      <td>약간 아니다</td>\n",
       "    </tr>\n",
       "    <tr>\n",
       "      <td>16824</td>\n",
       "      <td>NaN</td>\n",
       "      <td>4</td>\n",
       "      <td>약간 그렇다</td>\n",
       "    </tr>\n",
       "    <tr>\n",
       "      <td>16825</td>\n",
       "      <td>NaN</td>\n",
       "      <td>5</td>\n",
       "      <td>그렇다</td>\n",
       "    </tr>\n",
       "    <tr>\n",
       "      <td>16826</td>\n",
       "      <td>NaN</td>\n",
       "      <td>6</td>\n",
       "      <td>매우 그렇다</td>\n",
       "    </tr>\n",
       "    <tr>\n",
       "      <td>16827</td>\n",
       "      <td>H_04_019</td>\n",
       "      <td>1</td>\n",
       "      <td>전혀 아니다</td>\n",
       "    </tr>\n",
       "  </tbody>\n",
       "</table>\n",
       "</div>"
      ],
      "text/plain": [
       "           항목ID  항목코드   항목코드명\n",
       "16821  H_04_016     1  전혀 아니다\n",
       "16822       NaN     2     아니다\n",
       "16823       NaN     3  약간 아니다\n",
       "16824       NaN     4  약간 그렇다\n",
       "16825       NaN     5     그렇다\n",
       "16826       NaN     6  매우 그렇다\n",
       "16827  H_04_019     1  전혀 아니다"
      ]
     },
     "execution_count": 89,
     "metadata": {},
     "output_type": "execute_result"
    }
   ],
   "source": [
    "n = df_opt[df_opt.항목ID == \"H_04_016\"].index.values\n",
    "df_opt.loc[n[0]:n[0]+6, ]"
   ]
  },
  {
   "cell_type": "code",
   "execution_count": 90,
   "metadata": {},
   "outputs": [
    {
     "data": {
      "text/html": [
       "<div>\n",
       "<style scoped>\n",
       "    .dataframe tbody tr th:only-of-type {\n",
       "        vertical-align: middle;\n",
       "    }\n",
       "\n",
       "    .dataframe tbody tr th {\n",
       "        vertical-align: top;\n",
       "    }\n",
       "\n",
       "    .dataframe thead th {\n",
       "        text-align: right;\n",
       "    }\n",
       "</style>\n",
       "<table border=\"1\" class=\"dataframe\">\n",
       "  <thead>\n",
       "    <tr style=\"text-align: right;\">\n",
       "      <th></th>\n",
       "      <th>항목ID</th>\n",
       "      <th>항목코드</th>\n",
       "      <th>항목코드명</th>\n",
       "    </tr>\n",
       "  </thead>\n",
       "  <tbody>\n",
       "    <tr>\n",
       "      <td>16851</td>\n",
       "      <td>H_04_024</td>\n",
       "      <td>1</td>\n",
       "      <td>전혀 아니다</td>\n",
       "    </tr>\n",
       "    <tr>\n",
       "      <td>16852</td>\n",
       "      <td>NaN</td>\n",
       "      <td>2</td>\n",
       "      <td>아니다</td>\n",
       "    </tr>\n",
       "    <tr>\n",
       "      <td>16853</td>\n",
       "      <td>NaN</td>\n",
       "      <td>3</td>\n",
       "      <td>약간 아니다</td>\n",
       "    </tr>\n",
       "    <tr>\n",
       "      <td>16854</td>\n",
       "      <td>NaN</td>\n",
       "      <td>4</td>\n",
       "      <td>약간 그렇다</td>\n",
       "    </tr>\n",
       "    <tr>\n",
       "      <td>16855</td>\n",
       "      <td>NaN</td>\n",
       "      <td>5</td>\n",
       "      <td>그렇다</td>\n",
       "    </tr>\n",
       "    <tr>\n",
       "      <td>16856</td>\n",
       "      <td>NaN</td>\n",
       "      <td>6</td>\n",
       "      <td>매우 그렇다</td>\n",
       "    </tr>\n",
       "    <tr>\n",
       "      <td>16857</td>\n",
       "      <td>H_04_026</td>\n",
       "      <td>1</td>\n",
       "      <td>전혀 아니다</td>\n",
       "    </tr>\n",
       "  </tbody>\n",
       "</table>\n",
       "</div>"
      ],
      "text/plain": [
       "           항목ID  항목코드   항목코드명\n",
       "16851  H_04_024     1  전혀 아니다\n",
       "16852       NaN     2     아니다\n",
       "16853       NaN     3  약간 아니다\n",
       "16854       NaN     4  약간 그렇다\n",
       "16855       NaN     5     그렇다\n",
       "16856       NaN     6  매우 그렇다\n",
       "16857  H_04_026     1  전혀 아니다"
      ]
     },
     "execution_count": 90,
     "metadata": {},
     "output_type": "execute_result"
    }
   ],
   "source": [
    "n = df_opt[df_opt.항목ID == \"H_04_024\"].index.values\n",
    "df_opt.loc[n[0]:n[0]+6, ]"
   ]
  },
  {
   "cell_type": "code",
   "execution_count": 91,
   "metadata": {},
   "outputs": [
    {
     "data": {
      "text/html": [
       "<div>\n",
       "<style scoped>\n",
       "    .dataframe tbody tr th:only-of-type {\n",
       "        vertical-align: middle;\n",
       "    }\n",
       "\n",
       "    .dataframe tbody tr th {\n",
       "        vertical-align: top;\n",
       "    }\n",
       "\n",
       "    .dataframe thead th {\n",
       "        text-align: right;\n",
       "    }\n",
       "</style>\n",
       "<table border=\"1\" class=\"dataframe\">\n",
       "  <thead>\n",
       "    <tr style=\"text-align: right;\">\n",
       "      <th></th>\n",
       "      <th>C_01_011</th>\n",
       "      <th>C_01_012</th>\n",
       "      <th>C_01_014</th>\n",
       "      <th>C_01_015</th>\n",
       "      <th>C_01_016</th>\n",
       "      <th>C_01_017</th>\n",
       "      <th>C_01_018</th>\n",
       "      <th>C_01_019</th>\n",
       "      <th>C_01_020</th>\n",
       "      <th>C_01_021</th>\n",
       "      <th>...</th>\n",
       "      <th>C_14_014</th>\n",
       "      <th>C_15_019</th>\n",
       "      <th>C_15_020</th>\n",
       "      <th>C_15_021</th>\n",
       "      <th>H_04_014</th>\n",
       "      <th>H_04_016</th>\n",
       "      <th>H_04_024</th>\n",
       "      <th>y1_제품신뢰도</th>\n",
       "      <th>y2_의사결정도움</th>\n",
       "      <th>y3_구매여부</th>\n",
       "    </tr>\n",
       "  </thead>\n",
       "  <tbody>\n",
       "    <tr>\n",
       "      <td>1</td>\n",
       "      <td>2</td>\n",
       "      <td>2</td>\n",
       "      <td>5</td>\n",
       "      <td>4</td>\n",
       "      <td>4</td>\n",
       "      <td>6</td>\n",
       "      <td>6</td>\n",
       "      <td>6</td>\n",
       "      <td>6</td>\n",
       "      <td>6</td>\n",
       "      <td>...</td>\n",
       "      <td>5</td>\n",
       "      <td>0</td>\n",
       "      <td>0</td>\n",
       "      <td>0</td>\n",
       "      <td>3</td>\n",
       "      <td>4</td>\n",
       "      <td>2</td>\n",
       "      <td>0</td>\n",
       "      <td>1</td>\n",
       "      <td>0</td>\n",
       "    </tr>\n",
       "    <tr>\n",
       "      <td>2</td>\n",
       "      <td>2</td>\n",
       "      <td>2</td>\n",
       "      <td>3</td>\n",
       "      <td>2</td>\n",
       "      <td>2</td>\n",
       "      <td>2</td>\n",
       "      <td>3</td>\n",
       "      <td>3</td>\n",
       "      <td>4</td>\n",
       "      <td>2</td>\n",
       "      <td>...</td>\n",
       "      <td>5</td>\n",
       "      <td>0</td>\n",
       "      <td>0</td>\n",
       "      <td>0</td>\n",
       "      <td>5</td>\n",
       "      <td>5</td>\n",
       "      <td>4</td>\n",
       "      <td>1</td>\n",
       "      <td>1</td>\n",
       "      <td>1</td>\n",
       "    </tr>\n",
       "    <tr>\n",
       "      <td>3</td>\n",
       "      <td>1</td>\n",
       "      <td>1</td>\n",
       "      <td>5</td>\n",
       "      <td>5</td>\n",
       "      <td>6</td>\n",
       "      <td>6</td>\n",
       "      <td>5</td>\n",
       "      <td>5</td>\n",
       "      <td>4</td>\n",
       "      <td>5</td>\n",
       "      <td>...</td>\n",
       "      <td>0</td>\n",
       "      <td>2</td>\n",
       "      <td>2</td>\n",
       "      <td>4</td>\n",
       "      <td>4</td>\n",
       "      <td>5</td>\n",
       "      <td>4</td>\n",
       "      <td>1</td>\n",
       "      <td>1</td>\n",
       "      <td>1</td>\n",
       "    </tr>\n",
       "    <tr>\n",
       "      <td>4</td>\n",
       "      <td>3</td>\n",
       "      <td>4</td>\n",
       "      <td>3</td>\n",
       "      <td>3</td>\n",
       "      <td>3</td>\n",
       "      <td>3</td>\n",
       "      <td>3</td>\n",
       "      <td>2</td>\n",
       "      <td>2</td>\n",
       "      <td>2</td>\n",
       "      <td>...</td>\n",
       "      <td>0</td>\n",
       "      <td>3</td>\n",
       "      <td>4</td>\n",
       "      <td>2</td>\n",
       "      <td>4</td>\n",
       "      <td>3</td>\n",
       "      <td>3</td>\n",
       "      <td>1</td>\n",
       "      <td>0</td>\n",
       "      <td>0</td>\n",
       "    </tr>\n",
       "    <tr>\n",
       "      <td>5</td>\n",
       "      <td>2</td>\n",
       "      <td>2</td>\n",
       "      <td>5</td>\n",
       "      <td>4</td>\n",
       "      <td>4</td>\n",
       "      <td>4</td>\n",
       "      <td>3</td>\n",
       "      <td>6</td>\n",
       "      <td>6</td>\n",
       "      <td>5</td>\n",
       "      <td>...</td>\n",
       "      <td>4</td>\n",
       "      <td>3</td>\n",
       "      <td>3</td>\n",
       "      <td>2</td>\n",
       "      <td>3</td>\n",
       "      <td>2</td>\n",
       "      <td>1</td>\n",
       "      <td>0</td>\n",
       "      <td>0</td>\n",
       "      <td>0</td>\n",
       "    </tr>\n",
       "    <tr>\n",
       "      <td>6</td>\n",
       "      <td>3</td>\n",
       "      <td>3</td>\n",
       "      <td>2</td>\n",
       "      <td>2</td>\n",
       "      <td>2</td>\n",
       "      <td>2</td>\n",
       "      <td>2</td>\n",
       "      <td>2</td>\n",
       "      <td>2</td>\n",
       "      <td>2</td>\n",
       "      <td>...</td>\n",
       "      <td>0</td>\n",
       "      <td>3</td>\n",
       "      <td>3</td>\n",
       "      <td>2</td>\n",
       "      <td>4</td>\n",
       "      <td>3</td>\n",
       "      <td>4</td>\n",
       "      <td>1</td>\n",
       "      <td>0</td>\n",
       "      <td>1</td>\n",
       "    </tr>\n",
       "    <tr>\n",
       "      <td>7</td>\n",
       "      <td>2</td>\n",
       "      <td>2</td>\n",
       "      <td>4</td>\n",
       "      <td>5</td>\n",
       "      <td>4</td>\n",
       "      <td>5</td>\n",
       "      <td>4</td>\n",
       "      <td>4</td>\n",
       "      <td>4</td>\n",
       "      <td>5</td>\n",
       "      <td>...</td>\n",
       "      <td>4</td>\n",
       "      <td>1</td>\n",
       "      <td>1</td>\n",
       "      <td>5</td>\n",
       "      <td>5</td>\n",
       "      <td>4</td>\n",
       "      <td>5</td>\n",
       "      <td>1</td>\n",
       "      <td>1</td>\n",
       "      <td>1</td>\n",
       "    </tr>\n",
       "    <tr>\n",
       "      <td>8</td>\n",
       "      <td>4</td>\n",
       "      <td>0</td>\n",
       "      <td>0</td>\n",
       "      <td>0</td>\n",
       "      <td>0</td>\n",
       "      <td>0</td>\n",
       "      <td>0</td>\n",
       "      <td>3</td>\n",
       "      <td>3</td>\n",
       "      <td>2</td>\n",
       "      <td>...</td>\n",
       "      <td>2</td>\n",
       "      <td>0</td>\n",
       "      <td>0</td>\n",
       "      <td>0</td>\n",
       "      <td>3</td>\n",
       "      <td>2</td>\n",
       "      <td>3</td>\n",
       "      <td>0</td>\n",
       "      <td>0</td>\n",
       "      <td>0</td>\n",
       "    </tr>\n",
       "    <tr>\n",
       "      <td>9</td>\n",
       "      <td>2</td>\n",
       "      <td>2</td>\n",
       "      <td>4</td>\n",
       "      <td>3</td>\n",
       "      <td>4</td>\n",
       "      <td>4</td>\n",
       "      <td>3</td>\n",
       "      <td>4</td>\n",
       "      <td>4</td>\n",
       "      <td>3</td>\n",
       "      <td>...</td>\n",
       "      <td>3</td>\n",
       "      <td>3</td>\n",
       "      <td>3</td>\n",
       "      <td>1</td>\n",
       "      <td>4</td>\n",
       "      <td>5</td>\n",
       "      <td>4</td>\n",
       "      <td>1</td>\n",
       "      <td>1</td>\n",
       "      <td>1</td>\n",
       "    </tr>\n",
       "    <tr>\n",
       "      <td>10</td>\n",
       "      <td>3</td>\n",
       "      <td>3</td>\n",
       "      <td>3</td>\n",
       "      <td>3</td>\n",
       "      <td>3</td>\n",
       "      <td>3</td>\n",
       "      <td>3</td>\n",
       "      <td>3</td>\n",
       "      <td>4</td>\n",
       "      <td>4</td>\n",
       "      <td>...</td>\n",
       "      <td>3</td>\n",
       "      <td>0</td>\n",
       "      <td>0</td>\n",
       "      <td>0</td>\n",
       "      <td>4</td>\n",
       "      <td>4</td>\n",
       "      <td>4</td>\n",
       "      <td>1</td>\n",
       "      <td>1</td>\n",
       "      <td>1</td>\n",
       "    </tr>\n",
       "  </tbody>\n",
       "</table>\n",
       "<p>10 rows × 43 columns</p>\n",
       "</div>"
      ],
      "text/plain": [
       "    C_01_011  C_01_012  C_01_014  C_01_015  C_01_016  C_01_017  C_01_018  \\\n",
       "1          2         2         5         4         4         6         6   \n",
       "2          2         2         3         2         2         2         3   \n",
       "3          1         1         5         5         6         6         5   \n",
       "4          3         4         3         3         3         3         3   \n",
       "5          2         2         5         4         4         4         3   \n",
       "6          3         3         2         2         2         2         2   \n",
       "7          2         2         4         5         4         5         4   \n",
       "8          4         0         0         0         0         0         0   \n",
       "9          2         2         4         3         4         4         3   \n",
       "10         3         3         3         3         3         3         3   \n",
       "\n",
       "    C_01_019  C_01_020  C_01_021  ...  C_14_014  C_15_019  C_15_020  C_15_021  \\\n",
       "1          6         6         6  ...         5         0         0         0   \n",
       "2          3         4         2  ...         5         0         0         0   \n",
       "3          5         4         5  ...         0         2         2         4   \n",
       "4          2         2         2  ...         0         3         4         2   \n",
       "5          6         6         5  ...         4         3         3         2   \n",
       "6          2         2         2  ...         0         3         3         2   \n",
       "7          4         4         5  ...         4         1         1         5   \n",
       "8          3         3         2  ...         2         0         0         0   \n",
       "9          4         4         3  ...         3         3         3         1   \n",
       "10         3         4         4  ...         3         0         0         0   \n",
       "\n",
       "    H_04_014  H_04_016  H_04_024  y1_제품신뢰도  y2_의사결정도움  y3_구매여부  \n",
       "1          3         4         2         0          1        0  \n",
       "2          5         5         4         1          1        1  \n",
       "3          4         5         4         1          1        1  \n",
       "4          4         3         3         1          0        0  \n",
       "5          3         2         1         0          0        0  \n",
       "6          4         3         4         1          0        1  \n",
       "7          5         4         5         1          1        1  \n",
       "8          3         2         3         0          0        0  \n",
       "9          4         5         4         1          1        1  \n",
       "10         4         4         4         1          1        1  \n",
       "\n",
       "[10 rows x 43 columns]"
      ]
     },
     "execution_count": 91,
     "metadata": {},
     "output_type": "execute_result"
    }
   ],
   "source": [
    "df['y1_제품신뢰도'] = df['H_04_014'] >= 4\n",
    "df['y1_제품신뢰도'] = df['y1_제품신뢰도'].astype('int')\n",
    "\n",
    "df['y2_의사결정도움'] = df['H_04_016'] >= 4\n",
    "df['y2_의사결정도움'] = df['y2_의사결정도움'].astype('int')\n",
    "\n",
    "df['y3_구매여부'] = df['H_04_024'] >= 4\n",
    "df['y3_구매여부'] = df['y3_구매여부'].astype('int')\n",
    "\n",
    "df.head(10)"
   ]
  },
  {
   "cell_type": "markdown",
   "metadata": {},
   "source": [
    "### Split Feature / Label"
   ]
  },
  {
   "cell_type": "code",
   "execution_count": 92,
   "metadata": {},
   "outputs": [
    {
     "name": "stdout",
     "output_type": "stream",
     "text": [
      "(4000, 37) (4000,) (4000,) (4000,)\n"
     ]
    }
   ],
   "source": [
    "X = df.iloc[:, :-6].values\n",
    "y1 = df.iloc[:, -3].values\n",
    "y2 = df.iloc[:, -2].values\n",
    "y3 = df.iloc[:, -1].values\n",
    "\n",
    "print(X.shape, y1.shape, y2.shape, y3.shape)"
   ]
  },
  {
   "cell_type": "markdown",
   "metadata": {},
   "source": [
    "### PCA"
   ]
  },
  {
   "cell_type": "code",
   "execution_count": 93,
   "metadata": {},
   "outputs": [],
   "source": [
    "from sklearn.decomposition import PCA"
   ]
  },
  {
   "cell_type": "code",
   "execution_count": 94,
   "metadata": {},
   "outputs": [],
   "source": [
    "cov_mat1 = np.cov(X.T)\n",
    "eig_vals1, eig_vecs1 = np.linalg.eig(cov_mat1)\n",
    "eig_vals_total1 = eig_vals1.cumsum()"
   ]
  },
  {
   "cell_type": "code",
   "execution_count": 95,
   "metadata": {},
   "outputs": [
    {
     "name": "stderr",
     "output_type": "stream",
     "text": [
      "C:\\Users\\Anaconda3\\lib\\site-packages\\matplotlib\\backends\\backend_agg.py:211: RuntimeWarning: Glyph 51452 missing from current font.\n",
      "  font.set_text(s, 0.0, flags=flags)\n",
      "C:\\Users\\Anaconda3\\lib\\site-packages\\matplotlib\\backends\\backend_agg.py:211: RuntimeWarning: Glyph 49457 missing from current font.\n",
      "  font.set_text(s, 0.0, flags=flags)\n",
      "C:\\Users\\Anaconda3\\lib\\site-packages\\matplotlib\\backends\\backend_agg.py:211: RuntimeWarning: Glyph 48516 missing from current font.\n",
      "  font.set_text(s, 0.0, flags=flags)\n",
      "C:\\Users\\Anaconda3\\lib\\site-packages\\matplotlib\\backends\\backend_agg.py:211: RuntimeWarning: Glyph 44060 missing from current font.\n",
      "  font.set_text(s, 0.0, flags=flags)\n",
      "C:\\Users\\Anaconda3\\lib\\site-packages\\matplotlib\\backends\\backend_agg.py:211: RuntimeWarning: Glyph 49688 missing from current font.\n",
      "  font.set_text(s, 0.0, flags=flags)\n",
      "C:\\Users\\Anaconda3\\lib\\site-packages\\matplotlib\\backends\\backend_agg.py:211: RuntimeWarning: Glyph 50640 missing from current font.\n",
      "  font.set_text(s, 0.0, flags=flags)\n",
      "C:\\Users\\Anaconda3\\lib\\site-packages\\matplotlib\\backends\\backend_agg.py:211: RuntimeWarning: Glyph 46384 missing from current font.\n",
      "  font.set_text(s, 0.0, flags=flags)\n",
      "C:\\Users\\Anaconda3\\lib\\site-packages\\matplotlib\\backends\\backend_agg.py:211: RuntimeWarning: Glyph 47480 missing from current font.\n",
      "  font.set_text(s, 0.0, flags=flags)\n",
      "C:\\Users\\Anaconda3\\lib\\site-packages\\matplotlib\\backends\\backend_agg.py:211: RuntimeWarning: Glyph 44256 missing from current font.\n",
      "  font.set_text(s, 0.0, flags=flags)\n",
      "C:\\Users\\Anaconda3\\lib\\site-packages\\matplotlib\\backends\\backend_agg.py:211: RuntimeWarning: Glyph 50976 missing from current font.\n",
      "  font.set_text(s, 0.0, flags=flags)\n",
      "C:\\Users\\Anaconda3\\lib\\site-packages\\matplotlib\\backends\\backend_agg.py:211: RuntimeWarning: Glyph 44050 missing from current font.\n",
      "  font.set_text(s, 0.0, flags=flags)\n",
      "C:\\Users\\Anaconda3\\lib\\site-packages\\matplotlib\\backends\\backend_agg.py:180: RuntimeWarning: Glyph 51452 missing from current font.\n",
      "  font.set_text(s, 0, flags=flags)\n",
      "C:\\Users\\Anaconda3\\lib\\site-packages\\matplotlib\\backends\\backend_agg.py:180: RuntimeWarning: Glyph 49457 missing from current font.\n",
      "  font.set_text(s, 0, flags=flags)\n",
      "C:\\Users\\Anaconda3\\lib\\site-packages\\matplotlib\\backends\\backend_agg.py:180: RuntimeWarning: Glyph 48516 missing from current font.\n",
      "  font.set_text(s, 0, flags=flags)\n",
      "C:\\Users\\Anaconda3\\lib\\site-packages\\matplotlib\\backends\\backend_agg.py:180: RuntimeWarning: Glyph 44060 missing from current font.\n",
      "  font.set_text(s, 0, flags=flags)\n",
      "C:\\Users\\Anaconda3\\lib\\site-packages\\matplotlib\\backends\\backend_agg.py:180: RuntimeWarning: Glyph 49688 missing from current font.\n",
      "  font.set_text(s, 0, flags=flags)\n",
      "C:\\Users\\Anaconda3\\lib\\site-packages\\matplotlib\\backends\\backend_agg.py:180: RuntimeWarning: Glyph 44256 missing from current font.\n",
      "  font.set_text(s, 0, flags=flags)\n",
      "C:\\Users\\Anaconda3\\lib\\site-packages\\matplotlib\\backends\\backend_agg.py:180: RuntimeWarning: Glyph 50976 missing from current font.\n",
      "  font.set_text(s, 0, flags=flags)\n",
      "C:\\Users\\Anaconda3\\lib\\site-packages\\matplotlib\\backends\\backend_agg.py:180: RuntimeWarning: Glyph 44050 missing from current font.\n",
      "  font.set_text(s, 0, flags=flags)\n",
      "C:\\Users\\Anaconda3\\lib\\site-packages\\matplotlib\\backends\\backend_agg.py:180: RuntimeWarning: Glyph 50640 missing from current font.\n",
      "  font.set_text(s, 0, flags=flags)\n",
      "C:\\Users\\Anaconda3\\lib\\site-packages\\matplotlib\\backends\\backend_agg.py:180: RuntimeWarning: Glyph 46384 missing from current font.\n",
      "  font.set_text(s, 0, flags=flags)\n",
      "C:\\Users\\Anaconda3\\lib\\site-packages\\matplotlib\\backends\\backend_agg.py:180: RuntimeWarning: Glyph 47480 missing from current font.\n",
      "  font.set_text(s, 0, flags=flags)\n",
      "C:\\Users\\Anaconda3\\lib\\site-packages\\matplotlib\\backends\\backend_agg.py:211: RuntimeWarning: Glyph 51221 missing from current font.\n",
      "  font.set_text(s, 0.0, flags=flags)\n",
      "C:\\Users\\Anaconda3\\lib\\site-packages\\matplotlib\\backends\\backend_agg.py:211: RuntimeWarning: Glyph 48372 missing from current font.\n",
      "  font.set_text(s, 0.0, flags=flags)\n",
      "C:\\Users\\Anaconda3\\lib\\site-packages\\matplotlib\\backends\\backend_agg.py:211: RuntimeWarning: Glyph 51316 missing from current font.\n",
      "  font.set_text(s, 0.0, flags=flags)\n",
      "C:\\Users\\Anaconda3\\lib\\site-packages\\matplotlib\\backends\\backend_agg.py:211: RuntimeWarning: Glyph 47049 missing from current font.\n",
      "  font.set_text(s, 0.0, flags=flags)\n",
      "C:\\Users\\Anaconda3\\lib\\site-packages\\matplotlib\\backends\\backend_agg.py:180: RuntimeWarning: Glyph 51221 missing from current font.\n",
      "  font.set_text(s, 0, flags=flags)\n",
      "C:\\Users\\Anaconda3\\lib\\site-packages\\matplotlib\\backends\\backend_agg.py:180: RuntimeWarning: Glyph 48372 missing from current font.\n",
      "  font.set_text(s, 0, flags=flags)\n",
      "C:\\Users\\Anaconda3\\lib\\site-packages\\matplotlib\\backends\\backend_agg.py:180: RuntimeWarning: Glyph 51316 missing from current font.\n",
      "  font.set_text(s, 0, flags=flags)\n",
      "C:\\Users\\Anaconda3\\lib\\site-packages\\matplotlib\\backends\\backend_agg.py:180: RuntimeWarning: Glyph 47049 missing from current font.\n",
      "  font.set_text(s, 0, flags=flags)\n"
     ]
    },
    {
     "data": {
      "image/png": "[encoded data removed]",
      "text/plain": [
       "<Figure size 720x288 with 2 Axes>"
      ]
     },
     "metadata": {
      "needs_background": "light"
     },
     "output_type": "display_data"
    }
   ],
   "source": [
    "plt.figure(figsize=(10, 4))\n",
    "plt.subplot(1,2,1)\n",
    "plt.plot(eig_vals1, marker=\"o\")\n",
    "plt.grid(b=True, which='major', color='#666666', linestyle='-')\n",
    "plt.minorticks_on()\n",
    "plt.grid(b=True, which='minor', color='#999999', linestyle='-', alpha=0.2)\n",
    "plt.title(\"PCA에 따른 고유값\")\n",
    "plt.xlabel(\"주성분 개수\")\n",
    "plt.ylabel(\"고유값\")\n",
    "\n",
    "plt.subplot(1,2,2)\n",
    "plt.plot(eig_vals_total1/sum(eig_vals1)*100, marker=\"o\")\n",
    "plt.grid(b=True, which='major', color='#666666', linestyle='-')\n",
    "plt.minorticks_on()\n",
    "plt.grid(b=True, which='minor', color='#999999', linestyle='-', alpha=0.2)\n",
    "plt.title(\"rawdata 정보 보존량 \")\n",
    "plt.xlabel(\"주성분 개수\")\n",
    "plt.ylabel(\"정보 보존량(%)\")\n",
    "plt.show()"
   ]
  },
  {
   "cell_type": "code",
   "execution_count": 96,
   "metadata": {},
   "outputs": [
    {
     "data": {
      "text/plain": [
       "array([[ 2.25781531e+01,  1.08145710e+00,  7.25454142e+00,\n",
       "         5.44658816e-01],\n",
       "       [ 1.40594231e+01, -3.33323238e+00,  4.89912628e+00,\n",
       "         3.13299605e-01],\n",
       "       [ 1.92903256e+01,  9.17908100e+00,  8.05172975e-02,\n",
       "        -4.42249808e+00],\n",
       "       ...,\n",
       "       [-1.15046654e+00,  2.58360191e-01,  6.44208072e-02,\n",
       "        -9.57565285e-03],\n",
       "       [-1.15046654e+00,  2.58360191e-01,  6.44208072e-02,\n",
       "        -9.57565285e-03],\n",
       "       [-1.15046654e+00,  2.58360191e-01,  6.44208072e-02,\n",
       "        -9.57565285e-03]])"
      ]
     },
     "execution_count": 96,
     "metadata": {},
     "output_type": "execute_result"
    }
   ],
   "source": [
    "X_pca = PCA(n_components = 4).fit_transform(X)\n",
    "X_pca"
   ]
  },
  {
   "cell_type": "markdown",
   "metadata": {},
   "source": [
    "### Split Train / Test"
   ]
  },
  {
   "cell_type": "code",
   "execution_count": 97,
   "metadata": {},
   "outputs": [
    {
     "name": "stdout",
     "output_type": "stream",
     "text": [
      "X_train: (3200, 4)\n",
      "X_test: (800, 4)\n",
      "y1_train: (3200,)\n",
      "y1_test: (800,)\n",
      "y2_train: (3200,)\n",
      "y2_test: (800,)\n",
      "y3_train: (3200,)\n",
      "y3_test: (800,)\n"
     ]
    }
   ],
   "source": [
    "from sklearn.model_selection import train_test_split\n",
    "\n",
    "X_train, X_test, y1_train, y1_test = train_test_split(X_pca, y1, test_size=0.2, random_state=9)\n",
    "y2_train, y2_test = train_test_split(y2, test_size=0.2, random_state=9)\n",
    "y3_train, y3_test = train_test_split(y3, test_size=0.2, random_state=9)\n",
    "\n",
    "print(\"X_train:\", X_train.shape)\n",
    "print(\"X_test:\", X_test.shape)\n",
    "\n",
    "print(\"y1_train:\", y1_train.shape)\n",
    "print(\"y1_test:\", y1_test.shape)\n",
    "\n",
    "print(\"y2_train:\", y2_train.shape)\n",
    "print(\"y2_test:\", y2_test.shape)\n",
    "\n",
    "print(\"y3_train:\", y3_train.shape)\n",
    "print(\"y3_test:\", y3_test.shape)"
   ]
  },
  {
   "cell_type": "markdown",
   "metadata": {},
   "source": [
    "### 제품 신뢰도"
   ]
  },
  {
   "cell_type": "markdown",
   "metadata": {},
   "source": [
    "#### Train Model"
   ]
  },
  {
   "cell_type": "markdown",
   "metadata": {},
   "source": [
    "##### 로지스틱 회귀"
   ]
  },
  {
   "cell_type": "code",
   "execution_count": 98,
   "metadata": {},
   "outputs": [
    {
     "name": "stderr",
     "output_type": "stream",
     "text": [
      "C:\\Users\\Anaconda3\\lib\\site-packages\\sklearn\\linear_model\\logistic.py:432: FutureWarning: Default solver will be changed to 'lbfgs' in 0.22. Specify a solver to silence this warning.\n",
      "  FutureWarning)\n"
     ]
    },
    {
     "data": {
      "text/plain": [
       "LogisticRegression(C=1.0, class_weight=None, dual=False, fit_intercept=True,\n",
       "                   intercept_scaling=1, l1_ratio=None, max_iter=100,\n",
       "                   multi_class='warn', n_jobs=None, penalty='l2',\n",
       "                   random_state=None, solver='warn', tol=0.0001, verbose=0,\n",
       "                   warm_start=False)"
      ]
     },
     "execution_count": 98,
     "metadata": {},
     "output_type": "execute_result"
    }
   ],
   "source": [
    "from sklearn.linear_model import LogisticRegression\n",
    "\n",
    "classifier_log = LogisticRegression()\n",
    "classifier_log.fit(X_train, y1_train)"
   ]
  },
  {
   "cell_type": "markdown",
   "metadata": {},
   "source": [
    "##### SVM"
   ]
  },
  {
   "cell_type": "code",
   "execution_count": 99,
   "metadata": {},
   "outputs": [
    {
     "data": {
      "text/plain": [
       "SVC(C=1.0, cache_size=200, class_weight=None, coef0=0.0,\n",
       "    decision_function_shape='ovr', degree=3, gamma='scale', kernel='rbf',\n",
       "    max_iter=-1, probability=False, random_state=None, shrinking=True,\n",
       "    tol=0.001, verbose=False)"
      ]
     },
     "execution_count": 99,
     "metadata": {},
     "output_type": "execute_result"
    }
   ],
   "source": [
    "from sklearn import svm\n",
    "\n",
    "classifier_svm = svm.SVC(gamma='scale')\n",
    "classifier_svm.fit(X_train, y1_train)"
   ]
  },
  {
   "cell_type": "markdown",
   "metadata": {},
   "source": [
    "#### Predict"
   ]
  },
  {
   "cell_type": "code",
   "execution_count": 100,
   "metadata": {},
   "outputs": [],
   "source": [
    "y_pred_log = classifier_log.predict(X_test)\n",
    "y_pred_svm = classifier_svm.predict(X_test)"
   ]
  },
  {
   "cell_type": "markdown",
   "metadata": {},
   "source": [
    "#### Evaluate"
   ]
  },
  {
   "cell_type": "code",
   "execution_count": 101,
   "metadata": {},
   "outputs": [
    {
     "name": "stdout",
     "output_type": "stream",
     "text": [
      "0.975\n",
      "0.9725\n"
     ]
    }
   ],
   "source": [
    "from sklearn.metrics import accuracy_score\n",
    "\n",
    "print(accuracy_score(y1_test, y_pred_log))\n",
    "print(accuracy_score(y1_test, y_pred_svm))"
   ]
  },
  {
   "cell_type": "markdown",
   "metadata": {},
   "source": [
    "### 의사결정 도움"
   ]
  },
  {
   "cell_type": "markdown",
   "metadata": {},
   "source": [
    "#### Train Model"
   ]
  },
  {
   "cell_type": "markdown",
   "metadata": {},
   "source": [
    "##### 로지스틱 회귀"
   ]
  },
  {
   "cell_type": "code",
   "execution_count": 102,
   "metadata": {},
   "outputs": [
    {
     "name": "stderr",
     "output_type": "stream",
     "text": [
      "C:\\Users\\Anaconda3\\lib\\site-packages\\sklearn\\linear_model\\logistic.py:432: FutureWarning: Default solver will be changed to 'lbfgs' in 0.22. Specify a solver to silence this warning.\n",
      "  FutureWarning)\n"
     ]
    },
    {
     "data": {
      "text/plain": [
       "LogisticRegression(C=1.0, class_weight=None, dual=False, fit_intercept=True,\n",
       "                   intercept_scaling=1, l1_ratio=None, max_iter=100,\n",
       "                   multi_class='warn', n_jobs=None, penalty='l2',\n",
       "                   random_state=None, solver='warn', tol=0.0001, verbose=0,\n",
       "                   warm_start=False)"
      ]
     },
     "execution_count": 102,
     "metadata": {},
     "output_type": "execute_result"
    }
   ],
   "source": [
    "classifier_log = LogisticRegression()\n",
    "classifier_log.fit(X_train, y2_train)"
   ]
  },
  {
   "cell_type": "markdown",
   "metadata": {},
   "source": [
    "##### SVM"
   ]
  },
  {
   "cell_type": "code",
   "execution_count": 103,
   "metadata": {},
   "outputs": [
    {
     "data": {
      "text/plain": [
       "SVC(C=1.0, cache_size=200, class_weight=None, coef0=0.0,\n",
       "    decision_function_shape='ovr', degree=3, gamma='scale', kernel='rbf',\n",
       "    max_iter=-1, probability=False, random_state=None, shrinking=True,\n",
       "    tol=0.001, verbose=False)"
      ]
     },
     "execution_count": 103,
     "metadata": {},
     "output_type": "execute_result"
    }
   ],
   "source": [
    "classifier_svm = svm.SVC(gamma='scale')\n",
    "classifier_svm.fit(X_train, y2_train)"
   ]
  },
  {
   "cell_type": "markdown",
   "metadata": {},
   "source": [
    "#### Predict"
   ]
  },
  {
   "cell_type": "code",
   "execution_count": 104,
   "metadata": {},
   "outputs": [],
   "source": [
    "y_pred_log = classifier_log.predict(X_test)\n",
    "y_pred_svm = classifier_svm.predict(X_test)"
   ]
  },
  {
   "cell_type": "markdown",
   "metadata": {},
   "source": [
    "#### Evaluate"
   ]
  },
  {
   "cell_type": "code",
   "execution_count": 105,
   "metadata": {},
   "outputs": [
    {
     "name": "stdout",
     "output_type": "stream",
     "text": [
      "0.98375\n",
      "0.98\n"
     ]
    }
   ],
   "source": [
    "print(accuracy_score(y2_test, y_pred_log))\n",
    "print(accuracy_score(y2_test, y_pred_svm))"
   ]
  },
  {
   "cell_type": "markdown",
   "metadata": {},
   "source": [
    "### 구매 여부"
   ]
  },
  {
   "cell_type": "markdown",
   "metadata": {},
   "source": [
    "#### Train Model"
   ]
  },
  {
   "cell_type": "markdown",
   "metadata": {},
   "source": [
    "##### 로지스틱 회귀"
   ]
  },
  {
   "cell_type": "code",
   "execution_count": 106,
   "metadata": {},
   "outputs": [
    {
     "name": "stderr",
     "output_type": "stream",
     "text": [
      "C:\\Users\\Anaconda3\\lib\\site-packages\\sklearn\\linear_model\\logistic.py:432: FutureWarning: Default solver will be changed to 'lbfgs' in 0.22. Specify a solver to silence this warning.\n",
      "  FutureWarning)\n"
     ]
    },
    {
     "data": {
      "text/plain": [
       "LogisticRegression(C=1.0, class_weight=None, dual=False, fit_intercept=True,\n",
       "                   intercept_scaling=1, l1_ratio=None, max_iter=100,\n",
       "                   multi_class='warn', n_jobs=None, penalty='l2',\n",
       "                   random_state=None, solver='warn', tol=0.0001, verbose=0,\n",
       "                   warm_start=False)"
      ]
     },
     "execution_count": 106,
     "metadata": {},
     "output_type": "execute_result"
    }
   ],
   "source": [
    "classifier_log = LogisticRegression()\n",
    "classifier_log.fit(X_train, y3_train)"
   ]
  },
  {
   "cell_type": "markdown",
   "metadata": {},
   "source": [
    "##### SVM"
   ]
  },
  {
   "cell_type": "code",
   "execution_count": 107,
   "metadata": {},
   "outputs": [
    {
     "data": {
      "text/plain": [
       "SVC(C=1.0, cache_size=200, class_weight=None, coef0=0.0,\n",
       "    decision_function_shape='ovr', degree=3, gamma='scale', kernel='rbf',\n",
       "    max_iter=-1, probability=False, random_state=None, shrinking=True,\n",
       "    tol=0.001, verbose=False)"
      ]
     },
     "execution_count": 107,
     "metadata": {},
     "output_type": "execute_result"
    }
   ],
   "source": [
    "classifier_svm = svm.SVC(gamma='scale')\n",
    "classifier_svm.fit(X_train, y3_train)"
   ]
  },
  {
   "cell_type": "markdown",
   "metadata": {},
   "source": [
    "#### Predict"
   ]
  },
  {
   "cell_type": "code",
   "execution_count": 108,
   "metadata": {},
   "outputs": [],
   "source": [
    "y_pred_log = classifier_log.predict(X_test)\n",
    "y_pred_svm = classifier_svm.predict(X_test)"
   ]
  },
  {
   "cell_type": "markdown",
   "metadata": {},
   "source": [
    "#### Evaluate"
   ]
  },
  {
   "cell_type": "code",
   "execution_count": 109,
   "metadata": {},
   "outputs": [
    {
     "name": "stdout",
     "output_type": "stream",
     "text": [
      "0.98\n",
      "0.97375\n"
     ]
    }
   ],
   "source": [
    "print(accuracy_score(y3_test, y_pred_log))\n",
    "print(accuracy_score(y3_test, y_pred_svm))"
   ]
  },
  {
   "cell_type": "code",
   "execution_count": null,
   "metadata": {},
   "outputs": [],
   "source": []
  }
 ],
 "metadata": {
  "kernelspec": {
   "display_name": "Python 3",
   "language": "python",
   "name": "python3"
  },
  "language_info": {
   "codemirror_mode": {
    "name": "ipython",
    "version": 3
   },
   "file_extension": ".py",
   "mimetype": "text/x-python",
   "name": "python",
   "nbconvert_exporter": "python",
   "pygments_lexer": "ipython3",
   "version": "3.7.4"
  },
  "toc": {
   "base_numbering": 1,
   "nav_menu": {},
   "number_sections": true,
   "sideBar": true,
   "skip_h1_title": false,
   "title_cell": "Table of Contents",
   "title_sidebar": "Contents",
   "toc_cell": false,
   "toc_position": {
    "height": "calc(100% - 180px)",
    "left": "10px",
    "top": "150px",
    "width": "239px"
   },
   "toc_section_display": true,
   "toc_window_display": true
  },
  "varInspector": {
   "cols": {
    "lenName": 16,
    "lenType": 16,
    "lenVar": 40
   },
   "kernels_config": {
    "python": {
     "delete_cmd_postfix": "",
     "delete_cmd_prefix": "del ",
     "library": "var_list.py",
     "varRefreshCmd": "print(var_dic_list())"
    },
    "r": {
     "delete_cmd_postfix": ") ",
     "delete_cmd_prefix": "rm(",
     "library": "var_list.r",
     "varRefreshCmd": "cat(var_dic_list()) "
    }
   },
   "types_to_exclude": [
    "module",
    "function",
    "builtin_function_or_method",
    "instance",
    "_Feature"
   ],
   "window_display": false
  }
 },
 "nbformat": 4,
 "nbformat_minor": 2
}
