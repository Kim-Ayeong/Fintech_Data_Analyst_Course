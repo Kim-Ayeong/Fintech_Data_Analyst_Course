{
 "cells": [
  {
   "cell_type": "markdown",
   "metadata": {},
   "source": [
    "### 데이터를 API로 가져와 본다 - 네이버"
   ]
  },
  {
   "cell_type": "markdown",
   "metadata": {},
   "source": [
    "먼저 다음과 같은 절차로 API 사용을 신청/등록한다.<br>\n",
    "\n",
    "1. 먼저 다음 사이트에 접속한다: https://developers.naver.com/main/\n",
    "2. 사이트에 가입하고 로그인 한다.\n",
    "3. 상단 탭에서: Application => 애플리케이션 등록으로 들어간다\n",
    "4. 이용약관에 동의하고 확인한다.\n",
    "5. \"활용신청\" 버튼을 클릭하고 신청 양식을 작성한다.\n",
    "6. 휴대폰 인증 절차를 거치고 넘어간다 (MS Explorer 사용).\n",
    "7. 애플리케이션을 등록한다.\n",
    "   - 애플리케이션 이름은 \"Test\"로.\n",
    "   - 사용 API는 \"검색\"으로.\n",
    "   - 비로그인 오픈 API 서비스환경은 \"Android 설정\"으로.\n",
    "   - 앤드로이드 앱 패키지 이름은 \"com.test\"로.\n",
    "6. \"등록\" 버튼을 클릭해서 등록 완료. "
   ]
  },
  {
   "cell_type": "markdown",
   "metadata": {},
   "source": [
    "등록이 완료된 후 API 토큰과 API 시크릿을 받아 두어야만 한다. <br>\n",
    " \n",
    "1. API 토큰은 바로 \"Client ID\"이고,\n",
    "2. API 시크릿은 \"Client Secret\"이다. 아래 [보기] 버튼을 눌러서 볼수 있다.\n",
    "3. 이들을 복사해 놓는다.\n",
    "4. 이 내용을 다시 보려면 상단 탭에서: Application => 내 애플리케이션 => 왼쪽 사이드 메뉴 상단에서 애플리케이션 이름 \"Test\"를 클릭한다."
   ]
  },
  {
   "cell_type": "markdown",
   "metadata": {},
   "source": [
    "#### 키워스 사용 네이버 검색."
   ]
  },
  {
   "cell_type": "code",
   "execution_count": 1,
   "metadata": {},
   "outputs": [],
   "source": [
    "import requests as rq\n",
    "import json"
   ]
  },
  {
   "cell_type": "code",
   "execution_count": 2,
   "metadata": {},
   "outputs": [],
   "source": [
    "api_token = \"mVLB3KqeQZW9rafbjuAV\"                # 각자 본인의 것으로 대체한다.\n",
    "api_secret = \"m7muVtfka6\"               # 각자 본인의 것으로 대체한다."
   ]
  },
  {
   "cell_type": "code",
   "execution_count": 3,
   "metadata": {},
   "outputs": [],
   "source": [
    "# 검색 키워드.\n",
    "my_keyword = \"아시아경제\""
   ]
  },
  {
   "cell_type": "code",
   "execution_count": 4,
   "metadata": {},
   "outputs": [],
   "source": [
    "# 헤더에 api_token과 api_secret을 태워서 보낸다.\n",
    "url = \"https://openapi.naver.com/v1/search/blog?query=\" + my_keyword\n",
    "my_headers = {\"X-Naver-Client-Id\":api_token, \"X-Naver-Client-Secret\":api_secret}"
   ]
  },
  {
   "cell_type": "code",
   "execution_count": 5,
   "metadata": {},
   "outputs": [
    {
     "name": "stdout",
     "output_type": "stream",
     "text": [
      "Status = 200\n"
     ]
    }
   ],
   "source": [
    "# 데이터를 요청하고 상태를 본다.\n",
    "res = rq.get(url, headers=my_headers)\n",
    "print(\"Status = \" + str(res.status_code))"
   ]
  },
  {
   "cell_type": "code",
   "execution_count": 6,
   "metadata": {},
   "outputs": [],
   "source": [
    "# JSON으로 내려받은 정보를 parsing한다.\n",
    "my_json = json.loads(res.text)"
   ]
  },
  {
   "cell_type": "code",
   "execution_count": 7,
   "metadata": {},
   "outputs": [
    {
     "data": {
      "text/plain": [
       "dict_keys(['lastBuildDate', 'total', 'start', 'display', 'items'])"
      ]
     },
     "execution_count": 7,
     "metadata": {},
     "output_type": "execute_result"
    }
   ],
   "source": [
    "# Key 값 출력.\n",
    "my_json.keys()"
   ]
  },
  {
   "cell_type": "code",
   "execution_count": 8,
   "metadata": {
    "scrolled": true
   },
   "outputs": [
    {
     "name": "stdout",
     "output_type": "stream",
     "text": [
      "Title : 쉐보레 트랙스로 <b>아시아경제</b> 연비왕대회 참가했어요\n",
      "Link : https://blog.naver.com/uni1978?Redirect=Log&logNo=221710295145\n",
      "Description : 지난번에 <b>아시아경제</b> 연비왕대회에 참가 신청을 했다는 글을 썼어요. 쉐보레 트랙스로 <b>아시아경제</b> 주관 연비왕대회 참가 신청 완료 이전 글에서 쓴 것과 같이 쉐보레 트랙스를 운전하기 시작한지 이제... \n",
      "\n",
      "Title : [관악구 국회의원 김성식] [<b>아시아경제</b>]김성식, 선거법 표결에... \n",
      "Link : https://blog.naver.com/okkimss?Redirect=Log&logNo=221753844092\n",
      "Description : “연동형의 원칙 짓밟혀…아닌 것은 아닌 것” [이미지출처=연합뉴스] [<b>아시아경제</b> 임춘한 기자]... 김 의원은 “정치, 경제, 사회, 교육 등 각 분야별 제도와 시스템을 개선하여 저성장, 양극화, 외교안보적... \n",
      "\n",
      "Title : [연합뉴스]와 [<b>아시아경제</b>] 기사 중에서\n",
      "Link : https://blog.naver.com/s3939?Redirect=Log&logNo=221761941461\n",
      "Description : [<b>아시아경제</b>] 기사 중에서 애플, 스마트폰 영업이익 66% 쓸어담아..삼성은 17% 한진주 입력 2019.12.20. 09... 증가 [<b>아시아경제</b> 한진주 기자] 애플이 3분기 글로벌 스마트폰 판매 이익의 66%를 쓸어담은 것으로... \n",
      "\n",
      "Title : ｛제8회 <b>아시아경제</b> 직장인밴드 대회｝시상식\n",
      "Link : https://blog.naver.com/battlcar?Redirect=Log&logNo=221284829125\n",
      "Description : 지난 2017년 8월17일 오후 5시부터 저녁 8시까지 여의도 물빛무대에서 열린 ｛제8회 <b>아시아경제</b>... 사이에 <b>아시아경제</b> 심사위원들의 심사가 어느새 끝나 있었다. 그리고 드디어 대망의 피날레를 장식하는... \n",
      "\n",
      "Title : 정책엔 한국 현실 안 담겼다&quot; (<b>아시아경제</b>, 2020.01.06)\n",
      "Link : https://blog.naver.com/moonjinforum?Redirect=Log&logNo=221762405445\n",
      "Description : <b>아시아경제</b>, 2020.01.06) 이덕환 에교협 공동대표 &quot;대안 안될 태양광만 밀어붙여 탈석탄으로 미세먼지 저감? LNG 초미세먼지 늘려 모순&quot;이덕환 서강대 화학·과학커뮤니케이션 명예교수가 3일 <b>아시아경제</b>와... \n",
      "\n",
      "Title : 베팅할 줄 알아야 (출처: <b>아시아경제</b> / 2019.09.17)\n",
      "Link : https://blog.naver.com/min_insa?Redirect=Log&logNo=221653959614\n",
      "Description : https://news.naver.com/main/read.nhn?mode=LSD&amp;mid=sec&amp;oid=277&amp;aid=0004537575&amp;sid1=001&amp;fbclid=IwAR20WIfFmTSLnzLXIxSS8t-h4C1yb-56R9bc3dbQXz6dwq1kC-0wbsDDk5Y 거장은 '장기·역발상' 투자…비인기종목에도 베팅할 줄 알아야 [<b>아시아경제</b> 문채석... \n",
      "\n",
      "Title : [<b>아시아경제</b>] 서형수 알서포트 대표 &quot;내년 중국 공략 본격화&quot;\n",
      "Link : https://blog.naver.com/rsupport?Redirect=Log&logNo=221719928915\n",
      "Description : &quot; 서형수 알서포트 대표(사진)는 27일 <b>아시아경제</b>와 한 인터뷰에서 아시아 시장에서 꾸준한 성장이 가능하다며 장기 성장에 대한 자신감을 내비쳤다. 2001년 설립된 알서포트는 클라우드 기반 원격지원 및... \n",
      "\n",
      "Title : 규제 위에 개발 호재...'삼.마. 청.용' 잡아라&lt;<b>아시아경제</b>&gt;\n",
      "Link : https://blog.naver.com/az7286?Redirect=Log&logNo=221759506936\n",
      "Description : 사례 &lt;<b>아시아경제</b>&gt; 정부의 고강도 투기억제 정책으로 서울 강남권 집값 상승세가 주춤하는... 도시재생 뉴딜사업은 문재인 정부의 주요 국정 과제 중 하나로 낙후된 지역의 산업기반을 회복시켜 경제... \n",
      "\n",
      "Title : [<b>아시아경제</b>] 최영호 동남갑 예비후보, 선거사무소 개소식... \n",
      "Link : https://blog.naver.com/choiyoungho5?Redirect=Log&logNo=221762912872\n",
      "Description : 더불어민주당 광주 동남갑 국회의원 예비후보 최영호 [ <b>아시아경제</b> 호남취재본주 박선강 기자 ] 2020.01.... 21대총선 #<b>아시아경제</b> #풀뿌리정치 #광주전남상생발전 #개소식 #남구의자존심 #남구는_최영호\n",
      "\n",
      "Title : [<b>아시아경제</b>] [정치, 그날엔…] 추미애 직설(直說), '흑막의... \n",
      "Link : https://blog.naver.com/choovision?Redirect=Log&logNo=221731901022\n",
      "Description : 재조명 [<b>아시아경제</b> 류정민 기자] ‘정치, 그날엔…’은 주목해야 할 장면이나 사건, 인물과 관련한... kr [정치, 그날엔…] 추미애 직설(直說), '흑막의 계엄령' 예방 주사 효과 [<b>아시아경제</b> 류정민 기자] ‘정치... \n",
      "\n"
     ]
    }
   ],
   "source": [
    "# 검색 결과 아이템들을 출력해 본다.\n",
    "for x in my_json['items']:\n",
    "    print(\"Title : \" + x.get('title'))\n",
    "    print(\"Link : \" + x.get('link'))\n",
    "    print(\"Description : \" + x.get('description'))\n",
    "    print()"
   ]
  },
  {
   "cell_type": "code",
   "execution_count": null,
   "metadata": {},
   "outputs": [],
   "source": []
  }
 ],
 "metadata": {
  "kernelspec": {
   "display_name": "Python 3",
   "language": "python",
   "name": "python3"
  },
  "language_info": {
   "codemirror_mode": {
    "name": "ipython",
    "version": 3
   },
   "file_extension": ".py",
   "mimetype": "text/x-python",
   "name": "python",
   "nbconvert_exporter": "python",
   "pygments_lexer": "ipython3",
   "version": "3.7.5"
  },
  "toc": {
   "base_numbering": 1,
   "nav_menu": {},
   "number_sections": true,
   "sideBar": true,
   "skip_h1_title": false,
   "title_cell": "Table of Contents",
   "title_sidebar": "Contents",
   "toc_cell": false,
   "toc_position": {},
   "toc_section_display": true,
   "toc_window_display": false
  },
  "varInspector": {
   "cols": {
    "lenName": 16,
    "lenType": 16,
    "lenVar": 40
   },
   "kernels_config": {
    "python": {
     "delete_cmd_postfix": "",
     "delete_cmd_prefix": "del ",
     "library": "var_list.py",
     "varRefreshCmd": "print(var_dic_list())"
    },
    "r": {
     "delete_cmd_postfix": ") ",
     "delete_cmd_prefix": "rm(",
     "library": "var_list.r",
     "varRefreshCmd": "cat(var_dic_list()) "
    }
   },
   "types_to_exclude": [
    "module",
    "function",
    "builtin_function_or_method",
    "instance",
    "_Feature"
   ],
   "window_display": false
  }
 },
 "nbformat": 4,
 "nbformat_minor": 2
}
