{
 "cells": [
  {
   "cell_type": "markdown",
   "metadata": {},
   "source": [
    "### Selenium 사용 동적 크롤링 - 네이버 뉴스"
   ]
  },
  {
   "cell_type": "code",
   "execution_count": 1,
   "metadata": {},
   "outputs": [],
   "source": [
    "# Selenium 설치.\n",
    "# !pip install selenium"
   ]
  },
  {
   "cell_type": "code",
   "execution_count": 2,
   "metadata": {},
   "outputs": [],
   "source": [
    "from selenium import webdriver\n",
    "import bs4\n",
    "import re"
   ]
  },
  {
   "cell_type": "markdown",
   "metadata": {},
   "source": [
    "#### 사이트에 들어가서 탐색해 본다:"
   ]
  },
  {
   "cell_type": "markdown",
   "metadata": {},
   "source": [
    "1. 먼저 다음 사이트에 들어가서 살펴본다:  [네이버 뉴스](https://news.naver.com)\n",
    "2. 크롬에서 3점 메뉴 버튼을 누르고 **도구 더보기** ==> **개발자 도구**를 선택해서 개발자 도구를 연다.\n",
    "3. 개발자 도구 왼쪽 상단의 화살표 버튼을 눌러서 사이트 일부를 서택하고 해당 HTML코드를 볼 수 있다. \"[CTRL] + [SHIFT] + C\" 조합으로 대체할 수 있다."
   ]
  },
  {
   "cell_type": "markdown",
   "metadata": {},
   "source": [
    "#### 이제는 Selenium을 사용해서 내용을 가져와 본다:"
   ]
  },
  {
   "cell_type": "code",
   "execution_count": 3,
   "metadata": {},
   "outputs": [],
   "source": [
    "# 웹드라이버 로딩.\n",
    "my_driver = webdriver.Chrome('chromedriver.exe') "
   ]
  },
  {
   "cell_type": "code",
   "execution_count": 4,
   "metadata": {},
   "outputs": [],
   "source": [
    "# 사이트에 접속.\n",
    "my_driver.get(\"https://news.naver.com\")"
   ]
  },
  {
   "cell_type": "code",
   "execution_count": 5,
   "metadata": {},
   "outputs": [
    {
     "name": "stdout",
     "output_type": "stream",
     "text": [
      "'안태근 직권남용 무죄 확정'…양승태 등 관련사건 영향줄 듯\n",
      "中원인불명 폐렴 증상 여성 호전 \"사람 간 전파 배제 못한다\"\n",
      "靑 \"윤석열 불신임 생각 안 해…검찰청법 위반 논란은 유감\"(종합)\n",
      "테헤란 상공 우크라 176명 여객기, 추락 원인 아직 ‘오리무중’\n",
      "한국당, '공천·공약·보수통합' 띄우고 총선준비 박차\n"
     ]
    }
   ],
   "source": [
    "# CSS 셀렉터를 사용하여 헤드라인 타이틀 가져오기. \n",
    "res = my_driver.find_elements_by_css_selector('div.hdline_article_tit')\n",
    "for x in res:\n",
    "    print(x.text.strip())"
   ]
  },
  {
   "cell_type": "markdown",
   "metadata": {},
   "source": [
    "#### Parsing 부분은 BeautifulSoup로 처리하면 간편하다:"
   ]
  },
  {
   "cell_type": "code",
   "execution_count": 6,
   "metadata": {},
   "outputs": [],
   "source": [
    "my_html = my_driver.page_source                      # 사이트 내용을 가져온다.\n",
    "soup = bs4.BeautifulSoup(my_html, 'html.parser')     # BeautifulSoup 객체 반환. 'html.parser' 사용."
   ]
  },
  {
   "cell_type": "markdown",
   "metadata": {},
   "source": [
    "링크 타이틀 중에서 볼드 처리 뉴스 타이틀과 하이퍼링크 가져오기:"
   ]
  },
  {
   "cell_type": "code",
   "execution_count": 7,
   "metadata": {},
   "outputs": [
    {
     "name": "stdout",
     "output_type": "stream",
     "text": [
      "1 : 맥쿼리, 韓에 데이터센터 짓는다...투자전문사... => /main/list.nhn?mode=LPOD&mid=sec&oid=030&listType=paper&date=20200109\n",
      "2 : '출구 전략' 선택한 트럼프…세계 경제, 안도... => /main/list.nhn?mode=LPOD&mid=sec&oid=277&listType=paper&date=20200109\n",
      "3 : '중동 화약고' 터지자 시장 털썩…\"유가 15... => /main/list.nhn?mode=LPOD&mid=sec&oid=018&listType=paper&date=20200109\n",
      "4 : [CES 2020] '로레알 혁신'이 보여준 ... => /main/list.nhn?mode=LPOD&mid=sec&oid=015&listType=paper&date=20200109\n",
      "5 : ‘변화의 문’ 연 삼성…준법감시委 곧 출범 => /main/list.nhn?mode=LPOD&mid=sec&oid=016&listType=paper&date=20200109\n",
      "6 : '靑 수사라인' 전원교체..'윤석열 사단' 붕... => /main/list.nhn?mode=LPOD&mid=sec&oid=014&listType=paper&date=20200109\n",
      "7 : ‘살아있는 권력’ 수사, 윤석열 측근 잘랐다 => /main/list.nhn?mode=LPOD&mid=sec&oid=022&listType=paper&date=20200109\n",
      "8 : 이란, 미사일 보복… 美 “추가 제재” => /main/list.nhn?mode=LPOD&mid=sec&oid=020&listType=paper&date=20200109\n",
      "9 : 文정권 친 윤석열 손발 다 자르고, 친문 앉혔... => /main/list.nhn?mode=LPOD&mid=sec&oid=025&listType=paper&date=20200109\n",
      "10 : [Exclusive] Samsung vice chairman says memory... => /main/list.nhn?mode=LPOD&mid=sec&oid=044&listType=paper&date=20200109\n",
      "11 : 이란, 미국에 ‘키사스 보복’… 트럼프 “추가... => /main/list.nhn?mode=LPOD&mid=sec&oid=469&listType=paper&date=20200109\n",
      "12 : 靑 겨누던 검사장들 전원 교체 => /main/list.nhn?mode=LPOD&mid=sec&oid=005&listType=paper&date=20200109\n",
      "13 : 美·이란, 무력충돌… 불붙은 `중동發 리스크` => /main/list.nhn?mode=LPOD&mid=sec&oid=029&listType=paper&date=20200109\n",
      "14 : BBC도 \"어메이징 코리아\"…라스베이거스 달군... => /main/list.nhn?mode=LPOD&mid=sec&oid=008&listType=paper&date=20200109\n",
      "15 : 심재철 “檢인사폭거 秋법무 직권남용 고발” => /main/list.nhn?mode=LPOD&mid=sec&oid=021&listType=paper&date=20200109\n",
      "16 : 이란 “미국 뺨 때렸다” 보복···트럼프 “미... => /main/list.nhn?mode=LPOD&mid=sec&oid=032&listType=paper&date=20200109\n",
      "17 : 선관위 \"비례자유한국당 명칭 사용불허 검토\" => /main/list.nhn?mode=LPOD&mid=sec&oid=023&listType=paper&date=20200109\n",
      "18 : 윤석열 사단 전원 교체… ‘靑수사 지휘부’ 사... => /main/list.nhn?mode=LPOD&mid=sec&oid=081&listType=paper&date=20200109\n",
      "19 : ‘칼 뺀 추미애’ 윤석열 참모진 죄다 바꿨다 => /main/list.nhn?mode=LPOD&mid=sec&oid=028&listType=paper&date=20200109\n",
      "20 : 이란 \"美 반격시 본토 공격\"···전면전 치닫... => /main/list.nhn?mode=LPOD&mid=sec&oid=011&listType=paper&date=20200109\n",
      "21 : 이란, 미군기지 공격…중동사태 격화 => /main/list.nhn?mode=LPOD&mid=sec&oid=009&listType=paper&date=20200109\n",
      "22 : '경단녀' 품은 與, 인재영입 탄탄대로…野 \"솔직히 부럽다\" => https://news.naver.com/main/read.nhn?mode=LSD&mid=shm&sid1=100&oid=018&aid=0004552233\n",
      "23 : 새해 첫 본회의…민생 법안 우선 처리 => https://news.naver.com/main/read.nhn?mode=LSD&mid=shm&sid1=100&oid=422&aid=0000409157\n",
      "24 : 민주, 현역평가 하위 20% 명단 설왕설래…'떨고 있는' 중진들 => https://news.naver.com/main/read.nhn?mode=LSD&mid=shm&sid1=100&oid=001&aid=0011326130\n",
      "25 : 통합추진위원장 박형준 \"2월 10일 전후 새 통합세력 모습 확정\" => https://news.naver.com/main/read.nhn?mode=LSD&mid=shm&sid1=100&oid=001&aid=0011326121\n",
      "26 : \"항명\" VS \"대학살\"…檢 인사에 여야 '과열 양상'(종합) => https://news.naver.com/main/read.nhn?mode=LSD&mid=shm&sid1=100&oid=008&aid=0004337842\n",
      "27 : [단독]‘품질논란’ 딛고 재도전… ‘한국형 LNG화물창’ 후속개발 ‘시동’ => https://news.naver.com/main/read.nhn?mode=LSD&mid=shm&sid1=101&oid=018&aid=0004552229\n",
      "28 : [일문일답]김지형 위원장 \"두렵지만 삼성의 변화 이끌 것\" => https://news.naver.com/main/read.nhn?mode=LSD&mid=shm&sid1=101&oid=014&aid=0004355328\n",
      "29 : [단독]\"판매 부진때문에…\" 현대차, 트럭 생산 5일 쉰다 => https://news.naver.com/main/read.nhn?mode=LSD&mid=shm&sid1=101&oid=008&aid=0004337847\n",
      "30 : [Q&A] 연말정산 간소화 서비스 15일 개통… 이것만 알아두자 => https://news.naver.com/main/read.nhn?mode=LSD&mid=shm&sid1=101&oid=469&aid=0000456089\n",
      "31 : '조국 펀드' 연루 WFM 상장폐지 여부 2월 결정되나 => https://news.naver.com/main/read.nhn?mode=LSD&mid=shm&sid1=101&oid=011&aid=0003678309\n",
      "32 : 윤석열 \"갈 길 간다\"··· 인사 다음날 대통령 직속 위원회 압수수색 => https://news.naver.com/main/read.nhn?mode=LSD&mid=shm&sid1=102&oid=011&aid=0003678322\n",
      "33 : 검찰 'WFM CB 담보대출' 유준원 상상인 대표 소환조사 => https://news.naver.com/main/read.nhn?mode=LSD&mid=shm&sid1=102&oid=011&aid=0003678318\n",
      "34 : '선거운동원 노동자로 볼 수 없어'…대법 판결 의의는? => https://news.naver.com/main/read.nhn?mode=LSD&mid=shm&sid1=102&oid=079&aid=0003310066\n",
      "35 : 졸음운전 때문에…70대 운전자 가로수 들이받고 전복 => https://news.naver.com/main/read.nhn?mode=LSD&mid=shm&sid1=102&oid=005&aid=0001276728\n",
      "36 : 황주홍 평화당 의원, 지역구 아닌 광주서 출판기념회…왜? => https://news.naver.com/main/read.nhn?mode=LSD&mid=shm&sid1=102&oid=421&aid=0004401047\n",
      "37 : 중년 건강의 버팀목은 하체운동 \"당뇨, 골다공증 예방에 도움\" => https://news.naver.com/main/read.nhn?mode=LSD&mid=shm&sid1=103&oid=296&aid=0000043877\n",
      "38 : “내 체액에서 김치 맛이 나” 넷플릭스 자막 인종차별 논란 => https://news.naver.com/main/read.nhn?mode=LSD&mid=shm&sid1=103&oid=469&aid=0000456071\n",
      "39 : \"종류 상관 없이 암 발병률이···\" 비만·과체중 위험한 이유 => https://news.naver.com/main/read.nhn?mode=LSD&mid=shm&sid1=103&oid=011&aid=0003678277\n",
      "40 : \"이례적 현상\"…역대 1월 최대강수·최고기온 기록 깼다 => https://news.naver.com/main/read.nhn?mode=LSD&mid=shm&sid1=103&oid=018&aid=0004552207\n",
      "41 : \"상반기 신차 4종 투입한다\"… 승부수 던진 토요타 '흥할까' => https://news.naver.com/main/read.nhn?mode=LSD&mid=shm&sid1=103&oid=417&aid=0000491589\n",
      "42 : 미국·이란 갈등에 무기력한 이라크 [김향미의 ‘찬찬히 본 세계’] => https://news.naver.com/main/read.nhn?mode=LSD&mid=shm&sid1=104&oid=032&aid=0002985236\n",
      "43 : 새하얀 피부와 속눈썹…편견 딛고 일어선 ‘알비노 자매 모델’ => https://news.naver.com/main/read.nhn?mode=LSD&mid=shm&sid1=104&oid=081&aid=0003057386\n",
      "44 : 트럼프를 가장 믿는 나라는? 못 미더워하는 나라는? 퓨 리서치 => https://news.naver.com/main/read.nhn?mode=LSD&mid=shm&sid1=104&oid=081&aid=0003057381\n",
      "45 : \"트럼프의 성마른 트윗에 미군 신뢰 잃을까 두려워해\" => https://news.naver.com/main/read.nhn?mode=LSD&mid=shm&sid1=104&oid=001&aid=0011326057\n",
      "46 : 지연되는 탄핵심판…트럼프는 '변호인 드림팀' 준비 => https://news.naver.com/main/read.nhn?mode=LSD&mid=shm&sid1=104&oid=008&aid=0004337814\n",
      "47 : 법사위 문턱 넘은 '데이터3법'‥ 업계 '안도' \"AI 경쟁력 높일 것\" => https://news.naver.com/main/read.nhn?mode=LSD&mid=shm&sid1=105&oid=014&aid=0004355323\n",
      "48 : “방통위가 끝이 아냐” 4월1일 SKB+티브로드 합병, 촉박한 시간 => https://news.naver.com/main/read.nhn?mode=LSD&mid=shm&sid1=105&oid=138&aid=0002081479\n",
      "49 : 미래 노트북 키워드는 AI·폴딩 => https://news.naver.com/main/read.nhn?mode=LSD&mid=shm&sid1=105&oid=293&aid=0000026167\n",
      "50 : \"경쟁력 확인\"…전자부품사들 연이어 상장 도전 => https://news.naver.com/main/read.nhn?mode=LSD&mid=shm&sid1=105&oid=030&aid=0002861709\n",
      "51 : SK빼고 다 바꾼다..SK텔레콤, 자회사 상장·사명변경 추진 => https://news.naver.com/main/read.nhn?mode=LSD&mid=shm&sid1=105&oid=018&aid=0004552201\n",
      "52 : 자동자막생성 서비스(STT) 적용 => https://news.naver.com/main/ombudsman/readView.nhn?notiId=474\n",
      "53 : 악플탐지 AI '클린봇' 뉴스댓글로 확대 => https://news.naver.com/main/ombudsman/readView.nhn?notiId=469\n"
     ]
    }
   ],
   "source": [
    "res_a = soup.find_all('a', class_=re.compile('clicks'))      # \"clicks\" 패턴 있는 클래스.\n",
    "n_count = 0\n",
    "news = []\n",
    "for x in res_a:\n",
    "    res = x.find('strong')                                   # 다시 검색.\n",
    "    if res:                                                  # None이 아닌 경우만.\n",
    "        an_article = res.text\n",
    "        if (len(an_article) > 10):                           # 길이가 10 이상인 경우만.\n",
    "            n_count += 1\n",
    "            print(n_count, end = \" : \")\n",
    "            print(an_article, end = \" => \")\n",
    "            print(x.get('href'))\n",
    "            news += [(an_article, x.get(\"href\"))]"
   ]
  },
  {
   "cell_type": "code",
   "execution_count": null,
   "metadata": {},
   "outputs": [],
   "source": []
  }
 ],
 "metadata": {
  "kernelspec": {
   "display_name": "Python 3",
   "language": "python",
   "name": "python3"
  },
  "language_info": {
   "codemirror_mode": {
    "name": "ipython",
    "version": 3
   },
   "file_extension": ".py",
   "mimetype": "text/x-python",
   "name": "python",
   "nbconvert_exporter": "python",
   "pygments_lexer": "ipython3",
   "version": "3.7.5"
  },
  "toc": {
   "base_numbering": 1,
   "nav_menu": {},
   "number_sections": true,
   "sideBar": true,
   "skip_h1_title": false,
   "title_cell": "Table of Contents",
   "title_sidebar": "Contents",
   "toc_cell": false,
   "toc_position": {},
   "toc_section_display": true,
   "toc_window_display": false
  },
  "varInspector": {
   "cols": {
    "lenName": 16,
    "lenType": 16,
    "lenVar": 40
   },
   "kernels_config": {
    "python": {
     "delete_cmd_postfix": "",
     "delete_cmd_prefix": "del ",
     "library": "var_list.py",
     "varRefreshCmd": "print(var_dic_list())"
    },
    "r": {
     "delete_cmd_postfix": ") ",
     "delete_cmd_prefix": "rm(",
     "library": "var_list.r",
     "varRefreshCmd": "cat(var_dic_list()) "
    }
   },
   "types_to_exclude": [
    "module",
    "function",
    "builtin_function_or_method",
    "instance",
    "_Feature"
   ],
   "window_display": false
  }
 },
 "nbformat": 4,
 "nbformat_minor": 2
}
