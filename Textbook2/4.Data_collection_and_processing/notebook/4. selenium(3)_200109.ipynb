{
 "cells": [
  {
   "cell_type": "markdown",
   "metadata": {},
   "source": [
    "### Selenium 사용 동적 크롤링 - 구글 검색"
   ]
  },
  {
   "cell_type": "code",
   "execution_count": 1,
   "metadata": {},
   "outputs": [],
   "source": [
    "# Selenium 설치.\n",
    "# !pip install selenium"
   ]
  },
  {
   "cell_type": "code",
   "execution_count": 2,
   "metadata": {},
   "outputs": [],
   "source": [
    "from selenium import webdriver\n",
    "from selenium.webdriver.common.keys import Keys\n",
    "import bs4"
   ]
  },
  {
   "cell_type": "markdown",
   "metadata": {},
   "source": [
    "#### 사이트에 들어가서 탐색해 본다:"
   ]
  },
  {
   "cell_type": "markdown",
   "metadata": {},
   "source": [
    "1. 먼저 다음 사이트에 들어가서 살펴본다:  [구글 검색](https://www.google.com)\n",
    "2. 크롬에서 3점 메뉴 버튼을 누르고 **도구 더보기** ==> **개발자 도구**를 선택해서 개발자 도구를 연다.\n",
    "3. 개발자 도구 왼쪽 상단의 화살표 버튼을 눌러서 사이트 일부를 서택하고 해당 HTML코드를 볼 수 있다. \"[CTRL] + [SHIFT] + C\" 조합으로 대체할 수 있다."
   ]
  },
  {
   "cell_type": "markdown",
   "metadata": {},
   "source": [
    "#### 이제는 Selenium을 사용해서 내용을 가져와 본다:"
   ]
  },
  {
   "cell_type": "code",
   "execution_count": 3,
   "metadata": {},
   "outputs": [],
   "source": [
    "# 웹드라이버 로딩.\n",
    "my_driver = webdriver.Chrome('chromedriver.exe') "
   ]
  },
  {
   "cell_type": "code",
   "execution_count": 4,
   "metadata": {},
   "outputs": [],
   "source": [
    "# 사이트에 접속.\n",
    "my_driver.get(\"https://www.google.com\")"
   ]
  },
  {
   "cell_type": "code",
   "execution_count": 5,
   "metadata": {},
   "outputs": [],
   "source": [
    "# 검색창에 Python 키워드를 넣고 검색한다. => Selenium 고유의 기능!\n",
    "res = my_driver.find_element_by_name('q')\n",
    "res.send_keys('python')\n",
    "#res.click()                   # 깜박이는 커서만 보임. 작동하지 않음!\n",
    "#res.send_keys(Keys.ENTER)    #  [ENTER] 키 누른 효과. \n",
    "#res.submit()               # 동일하게 작동."
   ]
  },
  {
   "cell_type": "code",
   "execution_count": 6,
   "metadata": {},
   "outputs": [],
   "source": [
    "res = my_driver.find_elements_by_tag_name('div h3')"
   ]
  },
  {
   "cell_type": "code",
   "execution_count": 7,
   "metadata": {},
   "outputs": [],
   "source": [
    "for x in res:\n",
    "    print(x.text)"
   ]
  },
  {
   "cell_type": "markdown",
   "metadata": {},
   "source": [
    "#### Selenium 과 BeautidulSoup를 사용해서 검색 엔진을 만들어 본다:"
   ]
  },
  {
   "cell_type": "code",
   "execution_count": 8,
   "metadata": {},
   "outputs": [],
   "source": [
    "# 검색 키워드 리스트.\n",
    "my_keywords =['파이썬', '인공지능', '빅데이터', '4차 산업', '초지능']"
   ]
  },
  {
   "cell_type": "code",
   "execution_count": 9,
   "metadata": {
    "scrolled": true
   },
   "outputs": [
    {
     "name": "stdout",
     "output_type": "stream",
     "text": [
      "================================================================================\n",
      "파이썬\n",
      "--------------------------------------------------------------------------------\n",
      "파이썬 자습서 — Python 3.8.1 문서\n",
      "동영상\n",
      "파이썬 - 위키백과, 우리 모두의 백과사전\n",
      "1. 파이썬 시작하기 - 왕초보를 위한 Python 2.7 - WikiDocs\n",
      "파이썬이란? - 바로 실행해보면서 배우는 파이썬\n",
      "파이썬 입문 | 프로그래머스\n",
      "Python - 나무위키\n",
      "파이썬이란? - Python\n",
      "Python 코딩의 기초 - 예제로 배우는 파이썬 프로그래밍\n",
      "\"고\"할 것인가 \"파이썬\"할 것인가, 비교 선택 가이드 - ITWorld ...\n",
      "관련 검색: 파이썬\n",
      "================================================================================\n",
      "\n",
      "================================================================================\n",
      "인공지능\n",
      "--------------------------------------------------------------------------------\n",
      "Dell EMC의 IT 혁신 | Dell EMC와 함께 IT환경 현대화‎\n",
      "인공지능 - 위키백과, 우리 모두의 백과사전\n",
      "인공지능 - 나무위키\n",
      "주요 뉴스\n",
      "동영상\n",
      "인공지능의 정의와 활용 방안 | SAS KOREA\n",
      "인공 지능(AI)이란 무엇입니까? – Amazon Web Services\n",
      "다양한 산업에서 인공지능(AI)의 현재와 미래 - 인공지능신문\n",
      "인공지능(AI) vs. 머신 러닝 vs. 딥 러닝 | Pathmind\n",
      "AI 기술의 '명암' 정확히 인지해야 – Sciencetimes\n",
      "완벽한 인공지능구현, '기초과학 연구'가 필수\n",
      "관련 검색: 인공지능\n",
      "================================================================================\n",
      "\n",
      "================================================================================\n",
      "빅데이터\n",
      "--------------------------------------------------------------------------------\n",
      "공장 데이터 가시성 향상 | 실시간 데이터 분석 | 운영 정보 eBook‎\n",
      "빅 데이터 - 위키백과, 우리 모두의 백과사전\n",
      "빅 데이터 - 위키백과, 우리 모두의 백과사전\n",
      "빅 데이터란? | 오라클 | Oracle 대한민국\n",
      "빅 데이터란 무엇인가 - 대한당뇨병학회\n",
      "빅데이터란? 빅데이터의 뜻, 정의, 개념, 특징 뽀개기 : 네이버 ...\n",
      "우리의 미래, 빅데이터 - 행정안전부\n",
      "빅데이터 정의 및 특징부터 사례까지 알아보자 :: 로켓파인더\n",
      "빅데이터란 무엇인가, 그리고 빅데이터를 이용해야 하는 이유는 ...\n",
      "빅 데이터란 무엇입니까? – Amazon Web Services(AWS)\n",
      "서울특별시 빅데이터 캠퍼스 > 빅데이터/분석서비스\n",
      "[빅데이터 완벽 정리 1탄]빅데이터란 무엇이고 왜떴는가 - 브런치\n",
      "관련 검색: 빅데이터\n",
      "================================================================================\n",
      "\n",
      "================================================================================\n",
      "4차 산업\n",
      "--------------------------------------------------------------------------------\n",
      "4차 산업에 대한 학술자료\n",
      "제4차 산업혁명 - 위키백과, 우리 모두의 백과사전\n",
      "제4차 산업혁명 - 위키백과, 우리 모두의 백과사전\n",
      "2분안에 보는 4차 산업혁명 완벽 정리! | Contenta M » 콘텐타 ...\n",
      "4차산업혁명위원회\n",
      "4차산업혁명이란 무엇인가? - 브런치\n",
      "주요 뉴스\n",
      "4차 산업혁명 시대, 인공지능의 역할은? – Samsung Newsroom ...\n",
      "4차 산업 혁명 - 나무위키\n",
      "4차 산업혁명 주요 테마 분석 - 통계청\n",
      "4차 산업혁명시대 변천사 - 데일리비즈온\n",
      "제4차 산업혁명 시대, 미래사회 변화에 대한 전략적 대응 방안 모색\n",
      "관련 검색: 4차 산업\n",
      "================================================================================\n",
      "\n",
      "================================================================================\n",
      "초지능\n",
      "--------------------------------------------------------------------------------\n",
      "초지능(슈퍼인텔리전스) | 과학포털 사이언스올\n",
      "동영상\n",
      "'초지능'은 과학인가, 공상인가? - 브런치\n",
      "초지능 인공지능 대안이론 '리프레이밍 슈퍼인텔리전스 ...\n",
      "\"인간 넘어선 초지능, 100년 내 출현 가능성 높다\" AI 전문가 닉 ...\n",
      "초지능 프로젝트…봉인이 풀리다 – Sciencetimes\n",
      "“초지능 등장하면 지금의 모든 문제는 소멸할 것” - 교수신문\n",
      "축복 혹은 재앙? 초지능이란 무엇일까? : 네이버 포스트\n",
      "[책 속으로] 초지능적인 AI, 인간의 명령 따를까 - 중앙일보\n",
      "[사이언스 모션] 초연결 초지능 사회, 삶이 바뀐다 : 동아사이언스\n",
      "관련 검색: 초지능\n",
      "================================================================================\n",
      "\n"
     ]
    }
   ],
   "source": [
    "for a_keyword in my_keywords:\n",
    "    my_driver.get(\"https://www.google.com\")\n",
    "    res = my_driver.find_element_by_name('q')            # name 속성으로 검색창을 찾는다.\n",
    "    res.send_keys(a_keyword)\n",
    "    res.send_keys(Keys.ENTER)                            #  [ENTER] 키 누른 효과. \n",
    "    my_html = my_driver.page_source                      # 사이트 내용을 가져온다.\n",
    "    soup = bs4.BeautifulSoup(my_html, 'html.parser')     # BeautifulSoup 객체 반환. 'html.parser' 사용.\n",
    "    res1 = soup.select('div h3')\n",
    "    print('='*80)\n",
    "    print(a_keyword)\n",
    "    print('-'*80)\n",
    "    for x in res1:\n",
    "        my_text = x.text\n",
    "        print(my_text)\n",
    "    print('='*80)\n",
    "    print()"
   ]
  },
  {
   "cell_type": "code",
   "execution_count": null,
   "metadata": {},
   "outputs": [],
   "source": []
  }
 ],
 "metadata": {
  "kernelspec": {
   "display_name": "Python 3",
   "language": "python",
   "name": "python3"
  },
  "language_info": {
   "codemirror_mode": {
    "name": "ipython",
    "version": 3
   },
   "file_extension": ".py",
   "mimetype": "text/x-python",
   "name": "python",
   "nbconvert_exporter": "python",
   "pygments_lexer": "ipython3",
   "version": "3.7.5"
  },
  "toc": {
   "base_numbering": 1,
   "nav_menu": {},
   "number_sections": true,
   "sideBar": true,
   "skip_h1_title": false,
   "title_cell": "Table of Contents",
   "title_sidebar": "Contents",
   "toc_cell": false,
   "toc_position": {},
   "toc_section_display": true,
   "toc_window_display": false
  },
  "varInspector": {
   "cols": {
    "lenName": 16,
    "lenType": 16,
    "lenVar": 40
   },
   "kernels_config": {
    "python": {
     "delete_cmd_postfix": "",
     "delete_cmd_prefix": "del ",
     "library": "var_list.py",
     "varRefreshCmd": "print(var_dic_list())"
    },
    "r": {
     "delete_cmd_postfix": ") ",
     "delete_cmd_prefix": "rm(",
     "library": "var_list.r",
     "varRefreshCmd": "cat(var_dic_list()) "
    }
   },
   "types_to_exclude": [
    "module",
    "function",
    "builtin_function_or_method",
    "instance",
    "_Feature"
   ],
   "window_display": false
  }
 },
 "nbformat": 4,
 "nbformat_minor": 2
}
