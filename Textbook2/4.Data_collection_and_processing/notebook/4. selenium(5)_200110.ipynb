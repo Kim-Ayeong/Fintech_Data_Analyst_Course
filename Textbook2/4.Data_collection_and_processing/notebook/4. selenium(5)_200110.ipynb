{
 "cells": [
  {
   "cell_type": "markdown",
   "metadata": {},
   "source": [
    "### Selenium 사용 동적 크롤링 - 주유소"
   ]
  },
  {
   "cell_type": "code",
   "execution_count": 1,
   "metadata": {},
   "outputs": [],
   "source": [
    "import bs4\n",
    "import time\n",
    "import os\n",
    "import pandas as pd\n",
    "import numpy as np\n",
    "import matplotlib.pyplot as plt\n",
    "from selenium.webdriver.common.keys import Keys\n",
    "from selenium import webdriver"
   ]
  },
  {
   "cell_type": "markdown",
   "metadata": {},
   "source": [
    "#### 사이트에 들어가서 탐색해 본다:"
   ]
  },
  {
   "cell_type": "markdown",
   "metadata": {},
   "source": [
    "1. 먼저 다음 사이트에 들어가서 살펴본다:  [Opinet](http://www.opinet.co.kr/user/main/mainView.do)\n",
    "2. 크롬에서 3점 메뉴 버튼을 누르고 **도구 더보기** ==> **개발자 도구**를 선택해서 개발자 도구를 연다.\n",
    "3. 개발자 도구 왼쪽 상단의 화살표 버튼을 눌러서 사이트 일부를 서택하고 해당 HTML코드를 볼 수 있다. \"[CTRL] + [SHIFT] + C\" 조합으로 대체할 수 있다."
   ]
  },
  {
   "cell_type": "code",
   "execution_count": 2,
   "metadata": {},
   "outputs": [],
   "source": [
    "# os.chdir(r'C:\\Users\\user\\20191125_데이터 수집\\notebook')\n",
    "# 웹드라이버 로딩.\n",
    "my_driver = webdriver.Chrome('chromedriver.exe') "
   ]
  },
  {
   "cell_type": "code",
   "execution_count": 3,
   "metadata": {},
   "outputs": [],
   "source": [
    "# 사이트에 접속.\n",
    "my_driver.get(\"http://www.opinet.co.kr\")"
   ]
  },
  {
   "cell_type": "code",
   "execution_count": 4,
   "metadata": {},
   "outputs": [],
   "source": [
    "# 세부 링크로 간다.\n",
    "my_driver.get(\"http://www.opinet.co.kr/searRgSelect.do\")"
   ]
  },
  {
   "cell_type": "code",
   "execution_count": 5,
   "metadata": {},
   "outputs": [
    {
     "name": "stdout",
     "output_type": "stream",
     "text": [
      "http://www.opinet.co.kr/searRgSelect.do\n"
     ]
    }
   ],
   "source": [
    "# 현재 URL 출력해 본다.\n",
    "print(my_driver.current_url)"
   ]
  },
  {
   "cell_type": "code",
   "execution_count": 6,
   "metadata": {},
   "outputs": [
    {
     "name": "stdout",
     "output_type": "stream",
     "text": [
      "['서울', '부산', '대구', '인천', '광주', '대전', '울산', '세종', '경기', '강원', '충북', '충남', '전북', '전남', '경북', '경남', '제주']\n"
     ]
    }
   ],
   "source": [
    "# 시/도 리스트 가져와 본다.\n",
    "my_sido = my_driver.find_element_by_css_selector(\"#SIDO_NM0\")\n",
    "my_sido_list = my_sido.text.split()\n",
    "my_sido_list.pop(0)        # 첫 번째 값 버림.\n",
    "print(my_sido_list)"
   ]
  },
  {
   "cell_type": "code",
   "execution_count": 7,
   "metadata": {},
   "outputs": [
    {
     "name": "stdout",
     "output_type": "stream",
     "text": [
      "['강남구', '강동구', '강북구', '강서구', '관악구', '광진구', '구로구', '금천구', '노원구', '도봉구', '동대문구', '동작구', '마포구', '서대문구', '서초구', '성동구', '성북구', '송파구', '양천구', '영등포구', '용산구', '은평구', '종로구', '중구', '중랑구']\n"
     ]
    }
   ],
   "source": [
    "# 서울시 구 리스트 가져와 본다.\n",
    "my_sido = my_driver.find_element_by_css_selector(\"#SIDO_NM0\")\n",
    "my_sido.send_keys(my_sido_list[0])\n",
    "time.sleep(1)\n",
    "my_gu = my_driver.find_element_by_css_selector(\"#SIGUNGU_NM0\")\n",
    "my_gu_list = my_gu.text.split()\n",
    "my_gu_list.pop(0)          # 첫 번째 값 버림. \n",
    "print(my_gu_list)\n",
    "n_gus = len(my_gu_list)"
   ]
  },
  {
   "cell_type": "code",
   "execution_count": 8,
   "metadata": {},
   "outputs": [],
   "source": [
    "# 서울시 첫 번째 구.\n",
    "my_sido = my_driver.find_element_by_css_selector(\"#SIDO_NM0\")\n",
    "my_sido.send_keys(my_sido_list[0])\n",
    "time.sleep(1)\n",
    "my_gu = my_driver.find_element_by_css_selector(\"#SIGUNGU_NM0\")\n",
    "my_gu.send_keys(my_gu_list[0])\n",
    "time.sleep(1)\n",
    "my_download = my_driver.find_element_by_css_selector(\"div.desc_box a\") \n",
    "my_download.click()\n",
    "time.sleep(1)"
   ]
  },
  {
   "cell_type": "code",
   "execution_count": 9,
   "metadata": {},
   "outputs": [],
   "source": [
    "# 나머지 구.\n",
    "for i in range(n_gus):\n",
    "    my_gu = my_driver.find_element_by_css_selector(\"#SIGUNGU_NM0\")\n",
    "    if (i != 0):\n",
    "        my_gu.send_keys(Keys.DOWN)\n",
    "        time.sleep(1)\n",
    "        my_download = my_driver.find_element_by_css_selector(\"div.desc_box a\") \n",
    "        my_download.click()\n",
    "        time.sleep(1)"
   ]
  },
  {
   "cell_type": "code",
   "execution_count": 10,
   "metadata": {},
   "outputs": [],
   "source": [
    "# 브라우저를 닫는다.\n",
    "my_driver.close()    "
   ]
  },
  {
   "cell_type": "markdown",
   "metadata": {},
   "source": [
    "#### 이제 부터는 엑셀 문서를 불러 들여서 이어 붙인다."
   ]
  },
  {
   "cell_type": "code",
   "execution_count": 13,
   "metadata": {},
   "outputs": [],
   "source": [
    "# 엑셀 파일 이름을 모아둔다.\n",
    "os.chdir(r'C:\\Users\\Kim Ayeong\\Downloads')\n",
    "file_list = os.listdir()\n",
    "my_excel_files =[]\n",
    "for x in file_list:\n",
    "    if x[-3:] == 'xls':\n",
    "        my_excel_files += [x]"
   ]
  },
  {
   "cell_type": "code",
   "execution_count": 14,
   "metadata": {},
   "outputs": [],
   "source": [
    "# 읽어 들여서 하나의 데이터 프레임으로 통합한다.\n",
    "n_excels = len(my_excel_files)\n",
    "for i in range(n_excels):  \n",
    "    a_df = pd.read_excel(my_excel_files[i],header=2, na_values = [' ', '-'])\n",
    "    if i == 0:\n",
    "        df = a_df\n",
    "    else:\n",
    "        df = pd.concat([df,a_df], axis=0, ignore_index=True)"
   ]
  },
  {
   "cell_type": "code",
   "execution_count": 15,
   "metadata": {},
   "outputs": [
    {
     "data": {
      "text/plain": [
       "(501, 10)"
      ]
     },
     "execution_count": 15,
     "metadata": {},
     "output_type": "execute_result"
    }
   ],
   "source": [
    "df.shape"
   ]
  },
  {
   "cell_type": "code",
   "execution_count": 16,
   "metadata": {},
   "outputs": [
    {
     "data": {
      "text/html": [
       "<div>\n",
       "<style scoped>\n",
       "    .dataframe tbody tr th:only-of-type {\n",
       "        vertical-align: middle;\n",
       "    }\n",
       "\n",
       "    .dataframe tbody tr th {\n",
       "        vertical-align: top;\n",
       "    }\n",
       "\n",
       "    .dataframe thead th {\n",
       "        text-align: right;\n",
       "    }\n",
       "</style>\n",
       "<table border=\"1\" class=\"dataframe\">\n",
       "  <thead>\n",
       "    <tr style=\"text-align: right;\">\n",
       "      <th></th>\n",
       "      <th>지역</th>\n",
       "      <th>상호</th>\n",
       "      <th>주소</th>\n",
       "      <th>상표</th>\n",
       "      <th>전화번호</th>\n",
       "      <th>셀프여부</th>\n",
       "      <th>고급휘발유</th>\n",
       "      <th>휘발유</th>\n",
       "      <th>경유</th>\n",
       "      <th>실내등유</th>\n",
       "    </tr>\n",
       "  </thead>\n",
       "  <tbody>\n",
       "    <tr>\n",
       "      <th>0</th>\n",
       "      <td>서울특별시</td>\n",
       "      <td>구천면주유소</td>\n",
       "      <td>서울 강동구 구천면로 357 (암사동)</td>\n",
       "      <td>현대오일뱅크</td>\n",
       "      <td>02-441-0536</td>\n",
       "      <td>N</td>\n",
       "      <td>NaN</td>\n",
       "      <td>1585.0</td>\n",
       "      <td>1447.0</td>\n",
       "      <td>NaN</td>\n",
       "    </tr>\n",
       "    <tr>\n",
       "      <th>1</th>\n",
       "      <td>서울특별시</td>\n",
       "      <td>천호현대주유소</td>\n",
       "      <td>서울 강동구 천중로 67 (천호동)</td>\n",
       "      <td>현대오일뱅크</td>\n",
       "      <td>02-484-9323</td>\n",
       "      <td>N</td>\n",
       "      <td>NaN</td>\n",
       "      <td>1596.0</td>\n",
       "      <td>1457.0</td>\n",
       "      <td>1200.0</td>\n",
       "    </tr>\n",
       "    <tr>\n",
       "      <th>2</th>\n",
       "      <td>서울특별시</td>\n",
       "      <td>주)지유에너지직영 오렌지주유소</td>\n",
       "      <td>서울 강동구 성안로 102 (성내동)</td>\n",
       "      <td>SK에너지</td>\n",
       "      <td>02-484-6165</td>\n",
       "      <td>N</td>\n",
       "      <td>NaN</td>\n",
       "      <td>1596.0</td>\n",
       "      <td>1476.0</td>\n",
       "      <td>1147.0</td>\n",
       "    </tr>\n",
       "  </tbody>\n",
       "</table>\n",
       "</div>"
      ],
      "text/plain": [
       "      지역                상호                     주소      상표         전화번호 셀프여부  \\\n",
       "0  서울특별시            구천면주유소  서울 강동구 구천면로 357 (암사동)  현대오일뱅크  02-441-0536    N   \n",
       "1  서울특별시           천호현대주유소    서울 강동구 천중로 67 (천호동)  현대오일뱅크  02-484-9323    N   \n",
       "2  서울특별시  주)지유에너지직영 오렌지주유소   서울 강동구 성안로 102 (성내동)   SK에너지  02-484-6165    N   \n",
       "\n",
       "   고급휘발유     휘발유      경유    실내등유  \n",
       "0    NaN  1585.0  1447.0     NaN  \n",
       "1    NaN  1596.0  1457.0  1200.0  \n",
       "2    NaN  1596.0  1476.0  1147.0  "
      ]
     },
     "execution_count": 16,
     "metadata": {},
     "output_type": "execute_result"
    }
   ],
   "source": [
    "df.head(3)"
   ]
  },
  {
   "cell_type": "code",
   "execution_count": 17,
   "metadata": {},
   "outputs": [
    {
     "data": {
      "text/plain": [
       "지역         0\n",
       "상호         0\n",
       "주소         0\n",
       "상표         0\n",
       "전화번호       0\n",
       "셀프여부       0\n",
       "고급휘발유    287\n",
       "휘발유        7\n",
       "경유         7\n",
       "실내등유     293\n",
       "dtype: int64"
      ]
     },
     "execution_count": 17,
     "metadata": {},
     "output_type": "execute_result"
    }
   ],
   "source": [
    "# 결측치 집계.\n",
    "(df.isnull()).sum(axis=0)"
   ]
  },
  {
   "cell_type": "code",
   "execution_count": 18,
   "metadata": {},
   "outputs": [],
   "source": [
    "# 불필요 컬럼 제거.\n",
    "df = df.drop(columns = ['고급휘발유','실내등유'])"
   ]
  },
  {
   "cell_type": "code",
   "execution_count": 19,
   "metadata": {},
   "outputs": [],
   "source": [
    "# 결측치 처리.\n",
    "df.dropna(axis=0,inplace=True)"
   ]
  },
  {
   "cell_type": "code",
   "execution_count": 20,
   "metadata": {},
   "outputs": [
    {
     "data": {
      "text/plain": [
       "(494, 8)"
      ]
     },
     "execution_count": 20,
     "metadata": {},
     "output_type": "execute_result"
    }
   ],
   "source": [
    "# 확인.\n",
    "df.shape"
   ]
  },
  {
   "cell_type": "code",
   "execution_count": 21,
   "metadata": {},
   "outputs": [
    {
     "name": "stdout",
     "output_type": "stream",
     "text": [
      "<class 'pandas.core.frame.DataFrame'>\n",
      "Int64Index: 494 entries, 0 to 498\n",
      "Data columns (total 8 columns):\n",
      "지역      494 non-null object\n",
      "상호      494 non-null object\n",
      "주소      494 non-null object\n",
      "상표      494 non-null object\n",
      "전화번호    494 non-null object\n",
      "셀프여부    494 non-null object\n",
      "휘발유     494 non-null float64\n",
      "경유      494 non-null float64\n",
      "dtypes: float64(2), object(6)\n",
      "memory usage: 34.7+ KB\n"
     ]
    }
   ],
   "source": [
    "# 컬럼은 자료형 주목!\n",
    "df.info()"
   ]
  },
  {
   "cell_type": "code",
   "execution_count": 22,
   "metadata": {},
   "outputs": [],
   "source": [
    "# 수치형 (integer)로 변환 (불필요)\n",
    "# df['휘발유']=df['휘발유'].apply(lambda x: int(x))\n",
    "# df['경유']=df['경유'].apply(lambda x: int(x))"
   ]
  },
  {
   "cell_type": "markdown",
   "metadata": {},
   "source": [
    "#### 분석 & 시각화"
   ]
  },
  {
   "cell_type": "code",
   "execution_count": 23,
   "metadata": {},
   "outputs": [
    {
     "data": {
      "text/plain": [
       "셀프여부\n",
       "N    1701.573883\n",
       "Y    1569.926108\n",
       "Name: 휘발유, dtype: float64"
      ]
     },
     "execution_count": 23,
     "metadata": {},
     "output_type": "execute_result"
    }
   ],
   "source": [
    "# 셀프여부별 휘발유 평균가격.\n",
    "df.groupby('셀프여부')['휘발유'].mean()"
   ]
  },
  {
   "cell_type": "code",
   "execution_count": 24,
   "metadata": {},
   "outputs": [
    {
     "data": {
      "text/plain": [
       "셀프여부\n",
       "N    1540.766323\n",
       "Y    1406.748768\n",
       "Name: 경유, dtype: float64"
      ]
     },
     "execution_count": 24,
     "metadata": {},
     "output_type": "execute_result"
    }
   ],
   "source": [
    "# 셀프여부별 경유 평균가격.\n",
    "df.groupby('셀프여부')['경유'].mean()"
   ]
  },
  {
   "cell_type": "code",
   "execution_count": 25,
   "metadata": {},
   "outputs": [
    {
     "data": {
      "image/png": "[encoded data removed]",
      "text/plain": [
       "<Figure size 432x288 with 1 Axes>"
      ]
     },
     "metadata": {
      "needs_background": "light"
     },
     "output_type": "display_data"
    }
   ],
   "source": [
    "# 셀프여부별 휘발유 가격 시각화.\n",
    "Yes = df[df.셀프여부 == 'Y'].휘발유\n",
    "No = df[df.셀프여부 == 'N'].휘발유\n",
    "plt.boxplot([Yes,No],0,labels=['Yes','No'])\n",
    "plt.title('Gasoline Price: Self Yes vs No')\n",
    "plt.show()"
   ]
  },
  {
   "cell_type": "code",
   "execution_count": 26,
   "metadata": {},
   "outputs": [
    {
     "data": {
      "image/png": "[encoded data removed]",
      "text/plain": [
       "<Figure size 432x288 with 1 Axes>"
      ]
     },
     "metadata": {
      "needs_background": "light"
     },
     "output_type": "display_data"
    }
   ],
   "source": [
    "# 셀프여부별 경유 가격 시각화.\n",
    "Yes = df[df.셀프여부 == 'Y'].경유\n",
    "No = df[df.셀프여부 == 'N'].경유\n",
    "plt.boxplot([Yes,No],0,labels=['Yes','No'])\n",
    "plt.title('Diesel Price: Self Yes vs No')\n",
    "plt.show()"
   ]
  },
  {
   "cell_type": "code",
   "execution_count": null,
   "metadata": {},
   "outputs": [],
   "source": []
  }
 ],
 "metadata": {
  "kernelspec": {
   "display_name": "Python 3",
   "language": "python",
   "name": "python3"
  },
  "language_info": {
   "codemirror_mode": {
    "name": "ipython",
    "version": 3
   },
   "file_extension": ".py",
   "mimetype": "text/x-python",
   "name": "python",
   "nbconvert_exporter": "python",
   "pygments_lexer": "ipython3",
   "version": "3.7.5"
  },
  "toc": {
   "base_numbering": 1,
   "nav_menu": {},
   "number_sections": true,
   "sideBar": true,
   "skip_h1_title": false,
   "title_cell": "Table of Contents",
   "title_sidebar": "Contents",
   "toc_cell": false,
   "toc_position": {},
   "toc_section_display": true,
   "toc_window_display": false
  },
  "varInspector": {
   "cols": {
    "lenName": 16,
    "lenType": 16,
    "lenVar": 40
   },
   "kernels_config": {
    "python": {
     "delete_cmd_postfix": "",
     "delete_cmd_prefix": "del ",
     "library": "var_list.py",
     "varRefreshCmd": "print(var_dic_list())"
    },
    "r": {
     "delete_cmd_postfix": ") ",
     "delete_cmd_prefix": "rm(",
     "library": "var_list.r",
     "varRefreshCmd": "cat(var_dic_list()) "
    }
   },
   "types_to_exclude": [
    "module",
    "function",
    "builtin_function_or_method",
    "instance",
    "_Feature"
   ],
   "window_display": false
  }
 },
 "nbformat": 4,
 "nbformat_minor": 2
}
