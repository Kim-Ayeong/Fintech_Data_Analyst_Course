{
 "cells": [
  {
   "cell_type": "markdown",
   "metadata": {},
   "source": [
    "### 실제 사이트 크롤링 - 신세계 인터넷 쇼핑몰"
   ]
  },
  {
   "cell_type": "code",
   "execution_count": 1,
   "metadata": {},
   "outputs": [],
   "source": [
    "import bs4\n",
    "import requests as rq\n",
    "import pandas as pd"
   ]
  },
  {
   "cell_type": "markdown",
   "metadata": {},
   "source": [
    "#### 사이트에 접속하고 탐색해 본다:"
   ]
  },
  {
   "cell_type": "markdown",
   "metadata": {},
   "source": [
    "1. 먼저 다음 사이트에 들어가서 살펴본다:  [신세계 건강식품](http://department.ssg.com/disp/category.ssg?dispCtgId=3500003739&page=1)\n",
    "2. 크롬에서 3점 메뉴 버튼을 누르고 **도구 더보기** ==> **개발자 도구**를 선택해서 개발자 도구를 연다.\n",
    "3. 개발자 도구 왼쪽 상단의 화살표 버튼을 눌러서 사이트 일부를 서택하고 해당 HTML코드를 볼 수 있다. \"[CTRL] + [SHIFT] + C\" 조합으로 대체할 수 있다."
   ]
  },
  {
   "cell_type": "code",
   "execution_count": 2,
   "metadata": {},
   "outputs": [],
   "source": [
    "# 웹사이트의 URL에 접속.\n",
    "# Headers 필요.\n",
    "my_url = \"http://department.ssg.com/disp/category.ssg?dispCtgId=3500003739&page=\"\n",
    "my_headers = {\"User-Agent\": \"Mozilla/5.0 (X11; Linux x86_64) AppleWebKit/537.36 (KHTML, like Gecko) Chrome/77.0.3865.90 Safari/537.36\"}\n",
    "res = rq.get(url = my_url+str(1),headers = my_headers)      # page 1 접속."
   ]
  },
  {
   "cell_type": "code",
   "execution_count": 3,
   "metadata": {},
   "outputs": [
    {
     "data": {
      "text/plain": [
       "200"
      ]
     },
     "execution_count": 3,
     "metadata": {},
     "output_type": "execute_result"
    }
   ],
   "source": [
    "# status_code가 200이면 OK.\n",
    "# status_code가 4xx이면 접속 오류.\n",
    "res.status_code"
   ]
  },
  {
   "cell_type": "code",
   "execution_count": 4,
   "metadata": {},
   "outputs": [],
   "source": [
    "my_html = res.content\n",
    "my_soup = bs4.BeautifulSoup(my_html, 'html.parser')     # BeautifulSoup 객체 반환. 'html.parser' 사용."
   ]
  },
  {
   "cell_type": "code",
   "execution_count": 5,
   "metadata": {},
   "outputs": [
    {
     "data": {
      "text/plain": [
       "bs4.element.Tag"
      ]
     },
     "execution_count": 5,
     "metadata": {},
     "output_type": "execute_result"
    }
   ],
   "source": [
    "my_ul = my_soup.find('ul', class_='cunit_thmb_lst')                # 단 하나의 ul 태그.\n",
    "type(my_ul)"
   ]
  },
  {
   "cell_type": "code",
   "execution_count": 6,
   "metadata": {
    "scrolled": true
   },
   "outputs": [
    {
     "name": "stdout",
     "output_type": "stream",
     "text": [
      "['화애락진 70ml*30포 (30일분)', '(유통기한 2020.09.13)_[유한건강생활 뉴오리진] 이너플로라 60캡슐_2개월분_여성질유산균 프로바이오틱스', '황진단 4g*12환 (12일분)', '트리플러스맨+우먼커플세트', '[설선물세트]엽산 400 (100정) x 2병', '[설선물세트]여성용 멀티비타민 미네랄 (60정) x 2병', '천녹정 180g*2병 (보자기포장)', '타히티골드 노니주스 원액 946ml x 2병 SET', '화애락후 70ml*30포 (30일분)', '굿베이스 홍삼담은 석류 (50ml*30포)', '키즈어린이수퍼바이오틱스/30포x2팩', '루테인+오메가3/60캡슐x2팩', '아이패스 제이(J) 40ml*30포 (30일분)', '오메가3 700 DHA/EPA (60캡슐/2개월)', '트리플러스우먼/90캡슐x2팩', '[설선물세트]남성용 멀티비타민 미네랄 (60정) x 2병', '밀크씨슬+/60캡슐x2팩', '남성+여성멀티비타민미네랄커플세트', '프로폴리스 마누카허니 로젠지(캔디) - 레몬 500g', '칼슘+비타민D/60정x2팩', '알파프로젝트 눈건강 500mg*90캡슐 (30일분)', '뉴케어 당플랜 아셉틱 (200ml x 60팩)', '뉴케어 구수한맛 아셉틱 (200ml x 60팩)', 'UMF5+ 마누카꿀 250g+클로버꿀 250g 세트', '비타민B 콤플렉스 100 (50캡슐/1개월20일)', '(건강세트) 칼슘 600 위드 비타민D (120정) + 마그네슘 위드 비타민 B6 (100정)', '수퍼바이오틱스/30캡슐x2팩', '프로폴리스Plus/60캡슐x2팩', '남극 크릴 오일 500 30캡슐 x5개', '트리플러스우먼/90캡슐x3팩', '여성을위한멀티비타민미네랄x2팩', '[백화점선물포장][센트룸] 남성 멀티비타민 실버 포맨 (50정) x 2통', '천녹톤 (70ml*60포)', '트리플러스50+트윈세트/90캡슐x2팩(90일분)', '트리플러스우먼/90캡슐', '영남 슈퍼브 남극 크릴오일 30g', '[백화점선물포장][센트룸] 실버 포맨 + 실버 포우먼 세트', '에버콜라겐코큐 CoQ 84정 x2개', '[둘코화이버] 구미 사과맛 (4개입 15포)x2팩', '코엔자임큐텐/60캡슐x2팩', '[2020 설 선물] 레이델 폴리코사놀5 (30정) X 4개 세트', '알파프로젝트 장건강 500mg*60캡슐 (30일분)', '[헬스코] 프리미엄 산호칼슘+마그네슘+비타민D+아연 (30일분)', '[둘코화이버] 구미 망고맛 (4개입 15포)+사과맛 (4개입 15포)세트', '[설선물세트]철분 25 (90캡슐) x 2병', 'UMF15+ 마누카꿀 250g 2종 세트 (250g x 2)', '수퍼바이오틱스+철분/30캡슐x2팩', '비타민D 1000IU (90정/3개월)', 'GNM 칼슘 마그네슘 아연 비타민D 3개월분 1병', '[센트룸] 여성 멀티비타민 포우먼 (50정)', '[설선물세트]에스터C 비타민C 500 (100캡슐) x 2병', '트리플러스맨/90캡슐', '[유한건강생활 뉴오리진] 비타민D 500mg x 60정', '[2020 설 선물] 레이델 폴리코사놀10 (30정) X 3개 세트 + 식물성오메가900 (6캡슐) 증정!', '알파프로젝트 관절건강 600mg*90정 (30일분)', '뉴케어 오메가 아셉틱 (200ml x 60팩)', '루테인+오메가3/60캡슐x3팩', '달맞이꽃종자유Upgrade/90캡슐x3팩', '타히티골드 노니주스 원액 946ml', '[둘코화이버] 구미 망고맛 (4개입 15포)x2팩', '우먼스울트라메가 멀티비타민&미네랄(여성종합비타민)/ 90정(내용량175g)', '핸드메이드 노니비누 130g 5장', '메가맨 50 PLUS (50대이상 남성종합) / 60정(내용량90g)', '[프롬바이오] 위건강엔 매스틱 30포', '마이크로바이옴7 키즈 유산균 2통 (60일분)+추가 4일분', '마이크로바이옴7 키즈 유산균 1통 (30일분)+추가 4일분', '천녹정편(便) 10g*60포', '하시엔다구즈만 오히블랑카 엑스트라버진 올리브오일 500ml', '트리플러스맨/90캡슐x2팩', '[설선물세트]마그네슘 위드 비타민 B6 (100정) x 2병', '[백화점선물포장][센트룸] 포맨 + 포우먼 세트', '트리플러스맨/90캡슐x3팩', '눈 밝은 세상 루테인+지아잔틴+베타카로틴 (6개월)', '오마누카 마누카스틱 MGO 263+ 450g', '천녹정 180g', '달맞이꽃종자유Upgrade/90캡슐x2팩', '오마누카 마누카홍삼스틱 MGO 263+ 450g', '루테인', '프리나탈 위드 철분(임산부 종합영양) / 50정(내용량79.15g)', '메가틴(청소년종합비타민)/ 90정(내용량57.6g)']\n"
     ]
    }
   ],
   "source": [
    "# 이름만 가져와 본다.\n",
    "my_names = my_ul.select('a em.tx_ko')\n",
    "my_names_list =[x.text.strip() for x in my_names]\n",
    "print(my_names_list)"
   ]
  },
  {
   "cell_type": "code",
   "execution_count": 7,
   "metadata": {},
   "outputs": [
    {
     "name": "stdout",
     "output_type": "stream",
     "text": [
      "['144,000', '76,500', '216,000', '61,740', '27,900', '59,760', '405,000', '98,000', '180,000', '42,400', '47,880', '52,920', '130,000', '28,800', '61,740', '59,760', '47,880', '56,700', '33,125', '35,280', '34,200', '97,800', '83,800', '43,920', '30,600', '50,580', '56,700', '44,100', '99,000', '92,610', '56,700', '48,000', '432,000', '74,340', '35,280', '30,000', '48,000', '82,800', '25,200', '47,880', '106,920', '35,100', '17,500', '25,200', '45,810', '151,200', '61,740', '24,480', '16,900', '24,000', '67,860', '35,280', '34,200', '172,125', '31,500', '97,800', '79,380', '79,380', '55,800', '25,200', '64,800', '30,000', '37,440', '69,000', '96,000', '48,000', '405,000', '37,400', '61,740', '42,210', '48,000', '92,610', '127,980', '99,000', '216,000', '52,920', '129,000', '45,360', '36,000', '38,700']\n"
     ]
    }
   ],
   "source": [
    "# 가격만 가져와 본다.\n",
    "my_prices = my_ul.select('div.opt_price em.ssg_price')\n",
    "my_prices_list =[x.text.strip() for x in my_prices]\n",
    "print(my_prices_list)"
   ]
  },
  {
   "cell_type": "markdown",
   "metadata": {},
   "source": [
    "#### 가격 가져오기:"
   ]
  },
  {
   "cell_type": "code",
   "execution_count": 8,
   "metadata": {},
   "outputs": [],
   "source": [
    "# 반복적인 부분은 함수로 처리한다.\n",
    "# select 메서드 사용.\n",
    "def get_prices(my_soup):\n",
    "    my_names = my_ul.select('a em.tx_ko')\n",
    "    my_names_list =[x.text.strip() for x in my_names]\n",
    "    my_prices = my_ul.select('div.opt_price em.ssg_price')\n",
    "    my_prices_list =[x.text.strip() for x in my_prices]\n",
    "    my_prices_list_final= [float(''.join(a_price.split(','))) for a_price in my_prices_list]\n",
    "    return pd.DataFrame({'Product':my_names_list, 'Price':my_prices_list_final})"
   ]
  },
  {
   "cell_type": "code",
   "execution_count": 9,
   "metadata": {},
   "outputs": [],
   "source": [
    "for i in range(1,20):\n",
    "    my_url_page = my_url + str(i)\n",
    "    my_result = rq.get(my_url_page, headers=my_headers)\n",
    "    if (my_result.status_code != 200):\n",
    "        break\n",
    "    my_html = my_result.content\n",
    "    soup = bs4.BeautifulSoup(my_html, 'html.parser')     # BeautifulSoup 객체 반환. 'html.parser' 사용.\n",
    "    if i == 1:\n",
    "        df = get_prices(soup)\n",
    "    else:\n",
    "        df = pd.concat([df, get_prices(soup)],axis=0,ignore_index=True)"
   ]
  },
  {
   "cell_type": "code",
   "execution_count": 10,
   "metadata": {},
   "outputs": [
    {
     "data": {
      "text/plain": [
       "(720, 2)"
      ]
     },
     "execution_count": 10,
     "metadata": {},
     "output_type": "execute_result"
    }
   ],
   "source": [
    "df.shape"
   ]
  },
  {
   "cell_type": "code",
   "execution_count": 11,
   "metadata": {},
   "outputs": [
    {
     "data": {
      "text/html": [
       "<div>\n",
       "<style scoped>\n",
       "    .dataframe tbody tr th:only-of-type {\n",
       "        vertical-align: middle;\n",
       "    }\n",
       "\n",
       "    .dataframe tbody tr th {\n",
       "        vertical-align: top;\n",
       "    }\n",
       "\n",
       "    .dataframe thead th {\n",
       "        text-align: right;\n",
       "    }\n",
       "</style>\n",
       "<table border=\"1\" class=\"dataframe\">\n",
       "  <thead>\n",
       "    <tr style=\"text-align: right;\">\n",
       "      <th></th>\n",
       "      <th>Product</th>\n",
       "      <th>Price</th>\n",
       "    </tr>\n",
       "  </thead>\n",
       "  <tbody>\n",
       "    <tr>\n",
       "      <th>0</th>\n",
       "      <td>화애락진 70ml*30포 (30일분)</td>\n",
       "      <td>144000.0</td>\n",
       "    </tr>\n",
       "    <tr>\n",
       "      <th>1</th>\n",
       "      <td>(유통기한 2020.09.13)_[유한건강생활 뉴오리진] 이너플로라 60캡슐_2개월...</td>\n",
       "      <td>76500.0</td>\n",
       "    </tr>\n",
       "    <tr>\n",
       "      <th>2</th>\n",
       "      <td>황진단 4g*12환 (12일분)</td>\n",
       "      <td>216000.0</td>\n",
       "    </tr>\n",
       "    <tr>\n",
       "      <th>3</th>\n",
       "      <td>트리플러스맨+우먼커플세트</td>\n",
       "      <td>61740.0</td>\n",
       "    </tr>\n",
       "    <tr>\n",
       "      <th>4</th>\n",
       "      <td>[설선물세트]엽산 400 (100정) x 2병</td>\n",
       "      <td>27900.0</td>\n",
       "    </tr>\n",
       "    <tr>\n",
       "      <th>...</th>\n",
       "      <td>...</td>\n",
       "      <td>...</td>\n",
       "    </tr>\n",
       "    <tr>\n",
       "      <th>715</th>\n",
       "      <td>달맞이꽃종자유Upgrade/90캡슐x2팩</td>\n",
       "      <td>52920.0</td>\n",
       "    </tr>\n",
       "    <tr>\n",
       "      <th>716</th>\n",
       "      <td>오마누카 마누카홍삼스틱 MGO 263+ 450g</td>\n",
       "      <td>129000.0</td>\n",
       "    </tr>\n",
       "    <tr>\n",
       "      <th>717</th>\n",
       "      <td>루테인</td>\n",
       "      <td>45360.0</td>\n",
       "    </tr>\n",
       "    <tr>\n",
       "      <th>718</th>\n",
       "      <td>프리나탈 위드 철분(임산부 종합영양) / 50정(내용량79.15g)</td>\n",
       "      <td>36000.0</td>\n",
       "    </tr>\n",
       "    <tr>\n",
       "      <th>719</th>\n",
       "      <td>메가틴(청소년종합비타민)/ 90정(내용량57.6g)</td>\n",
       "      <td>38700.0</td>\n",
       "    </tr>\n",
       "  </tbody>\n",
       "</table>\n",
       "<p>720 rows × 2 columns</p>\n",
       "</div>"
      ],
      "text/plain": [
       "                                               Product     Price\n",
       "0                                 화애락진 70ml*30포 (30일분)  144000.0\n",
       "1    (유통기한 2020.09.13)_[유한건강생활 뉴오리진] 이너플로라 60캡슐_2개월...   76500.0\n",
       "2                                    황진단 4g*12환 (12일분)  216000.0\n",
       "3                                        트리플러스맨+우먼커플세트   61740.0\n",
       "4                            [설선물세트]엽산 400 (100정) x 2병   27900.0\n",
       "..                                                 ...       ...\n",
       "715                             달맞이꽃종자유Upgrade/90캡슐x2팩   52920.0\n",
       "716                         오마누카 마누카홍삼스틱 MGO 263+ 450g  129000.0\n",
       "717                                                루테인   45360.0\n",
       "718              프리나탈 위드 철분(임산부 종합영양) / 50정(내용량79.15g)   36000.0\n",
       "719                       메가틴(청소년종합비타민)/ 90정(내용량57.6g)   38700.0\n",
       "\n",
       "[720 rows x 2 columns]"
      ]
     },
     "execution_count": 11,
     "metadata": {},
     "output_type": "execute_result"
    }
   ],
   "source": [
    "df"
   ]
  },
  {
   "cell_type": "code",
   "execution_count": null,
   "metadata": {},
   "outputs": [],
   "source": []
  }
 ],
 "metadata": {
  "kernelspec": {
   "display_name": "Python 3",
   "language": "python",
   "name": "python3"
  },
  "language_info": {
   "codemirror_mode": {
    "name": "ipython",
    "version": 3
   },
   "file_extension": ".py",
   "mimetype": "text/x-python",
   "name": "python",
   "nbconvert_exporter": "python",
   "pygments_lexer": "ipython3",
   "version": "3.7.5"
  },
  "toc": {
   "base_numbering": 1,
   "nav_menu": {},
   "number_sections": true,
   "sideBar": true,
   "skip_h1_title": false,
   "title_cell": "Table of Contents",
   "title_sidebar": "Contents",
   "toc_cell": false,
   "toc_position": {},
   "toc_section_display": true,
   "toc_window_display": false
  },
  "varInspector": {
   "cols": {
    "lenName": 16,
    "lenType": 16,
    "lenVar": 40
   },
   "kernels_config": {
    "python": {
     "delete_cmd_postfix": "",
     "delete_cmd_prefix": "del ",
     "library": "var_list.py",
     "varRefreshCmd": "print(var_dic_list())"
    },
    "r": {
     "delete_cmd_postfix": ") ",
     "delete_cmd_prefix": "rm(",
     "library": "var_list.r",
     "varRefreshCmd": "cat(var_dic_list()) "
    }
   },
   "types_to_exclude": [
    "module",
    "function",
    "builtin_function_or_method",
    "instance",
    "_Feature"
   ],
   "window_display": false
  }
 },
 "nbformat": 4,
 "nbformat_minor": 2
}
