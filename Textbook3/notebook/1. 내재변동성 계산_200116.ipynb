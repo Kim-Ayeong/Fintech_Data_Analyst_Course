{
 "cells": [
  {
   "cell_type": "markdown",
   "metadata": {},
   "source": [
    "### 블랙숄즈 공식을 사용한 내재변동성 계산."
   ]
  },
  {
   "cell_type": "code",
   "execution_count": 1,
   "metadata": {},
   "outputs": [],
   "source": [
    "import numpy as np\n",
    "import scipy.stats as st\n",
    "import matplotlib.pyplot as plt\n",
    "import pandas as pd\n",
    "%matplotlib inline"
   ]
  },
  {
   "cell_type": "markdown",
   "metadata": {},
   "source": [
    "#### 필요한 함수를 정의한다."
   ]
  },
  {
   "cell_type": "markdown",
   "metadata": {},
   "source": [
    "- S       : 기초자산의 가격\n",
    "- K       : 행사가격\n",
    "- Tmt     : 잔여시간  \n",
    "- r       : 무위험 이자율\n",
    "- sigma   : 변동성"
   ]
  },
  {
   "cell_type": "code",
   "execution_count": 2,
   "metadata": {},
   "outputs": [],
   "source": [
    "def d1(S, K, Tmt, r, sigma):\n",
    "    return (np.log(S / K) + (r + 0.5 * sigma**2) * Tmt) / (sigma * (np.sqrt(Tmt)))\n",
    "\n",
    "  \n",
    "def d2(S, K, Tmt, r, sigma):\n",
    "    return (np.log(S / K) + (r - 0.5 * sigma**2) * Tmt) / (sigma * (np.sqrt(Tmt)))\n",
    "\n",
    "\n",
    "def CallOption(S, K, Tmt, r, sigma):\n",
    "    return S * st.norm.cdf(d1(S, K, Tmt, r, sigma)) - K * np.exp(-r * Tmt) * st.norm.cdf(d2(S, K, Tmt, r, sigma))\n",
    "\n",
    "\n",
    "def PutOption(S, K, Tmt, r, sigma):\n",
    "    return -S * st.norm.cdf(-d1(S, K, Tmt, r, sigma)) + K * np.exp(-r * Tmt) * st.norm.cdf(-d2(S, K, Tmt, r, sigma)) "
   ]
  },
  {
   "cell_type": "code",
   "execution_count": 3,
   "metadata": {},
   "outputs": [],
   "source": [
    "# Call 옵션 내재 변동성.\n",
    "def IVCall(C, S, K, Tmt, r):\n",
    "    low = 0.0001                                    # 임의의 하한 초기값.\n",
    "    high = 1                                        # 임의의 상한 초기값.\n",
    "    nRepeat = 50                                    # 반복 회수.\n",
    "    for i in range(nRepeat):\n",
    "        mid = (low + high) / 2                      # 하한과 상한의 중간지점.\n",
    "        if (CallOption(S, K, Tmt, r, mid) > C): \n",
    "            high = mid\n",
    "        else:\n",
    "            low = mid\n",
    "      \n",
    "    return mid\n",
    "\n",
    "# Put 옵션 내재 변동성.\n",
    "def IVPut(P, S, K, Tmt, r):\n",
    "    low = 0.0001                                    # 임의의 하한 초기값.\n",
    "    high = 1                                        # 임의의 상한 초기값.\n",
    "    nRepeat = 50                                    # 반복 회수.\n",
    "    for i in range(nRepeat):\n",
    "        mid = (low + high) / 2                      # 하한과 상한의 중간지점.\n",
    "        if (PutOption(S, K, Tmt, r, mid) > P): \n",
    "            high = mid\n",
    "        else:\n",
    "            low = mid\n",
    "      \n",
    "    return mid"
   ]
  },
  {
   "cell_type": "markdown",
   "metadata": {},
   "source": [
    "#### 실행:"
   ]
  },
  {
   "cell_type": "code",
   "execution_count": 4,
   "metadata": {},
   "outputs": [],
   "source": [
    "# 임의로 설정.\n",
    "K = 100\n",
    "S = 100\n",
    "Tmt = 0.5\n",
    "r = 0.03"
   ]
  },
  {
   "cell_type": "code",
   "execution_count": 5,
   "metadata": {},
   "outputs": [
    {
     "name": "stdout",
     "output_type": "stream",
     "text": [
      "0.07769121152723055\n",
      "0.15056976809808947\n",
      "0.25862731502404235\n",
      "0.33063897652539354\n"
     ]
    }
   ],
   "source": [
    "# Call 옵션 내재 변동성 계산.\n",
    "print(IVCall(3, S, K, Tmt, r))     # C = 3 일 때.\n",
    "print(IVCall(5, S, K, Tmt, r))     # C = 5 일 때.\n",
    "print(IVCall(8, S, K, Tmt, r))     # C = 8 일 때.\n",
    "print(IVCall(10, S, K, Tmt, r))    # C = 10 일 때."
   ]
  },
  {
   "cell_type": "code",
   "execution_count": 6,
   "metadata": {},
   "outputs": [
    {
     "name": "stdout",
     "output_type": "stream",
     "text": [
      "0.13208116488221955\n",
      "0.20424060459812893\n",
      "0.3122227955196535\n",
      "0.38433529693012847\n"
     ]
    }
   ],
   "source": [
    "# Put 옵션 내재 변동성 계산.\n",
    "print(IVPut(3, S, K, Tmt, r))     # P = 3 일 때.\n",
    "print(IVPut(5, S, K, Tmt, r))     # P = 5 일 때.\n",
    "print(IVPut(8, S, K, Tmt, r))     # P = 8 일 때.\n",
    "print(IVPut(10, S, K, Tmt, r))    # P = 10 일 때."
   ]
  },
  {
   "cell_type": "code",
   "execution_count": null,
   "metadata": {},
   "outputs": [],
   "source": []
  }
 ],
 "metadata": {
  "kernelspec": {
   "display_name": "Python 3",
   "language": "python",
   "name": "python3"
  },
  "language_info": {
   "codemirror_mode": {
    "name": "ipython",
    "version": 3
   },
   "file_extension": ".py",
   "mimetype": "text/x-python",
   "name": "python",
   "nbconvert_exporter": "python",
   "pygments_lexer": "ipython3",
   "version": "3.7.4"
  },
  "toc": {
   "base_numbering": 1,
   "nav_menu": {},
   "number_sections": true,
   "sideBar": true,
   "skip_h1_title": false,
   "title_cell": "Table of Contents",
   "title_sidebar": "Contents",
   "toc_cell": false,
   "toc_position": {},
   "toc_section_display": true,
   "toc_window_display": false
  },
  "varInspector": {
   "cols": {
    "lenName": 16,
    "lenType": 16,
    "lenVar": 40
   },
   "kernels_config": {
    "python": {
     "delete_cmd_postfix": "",
     "delete_cmd_prefix": "del ",
     "library": "var_list.py",
     "varRefreshCmd": "print(var_dic_list())"
    },
    "r": {
     "delete_cmd_postfix": ") ",
     "delete_cmd_prefix": "rm(",
     "library": "var_list.r",
     "varRefreshCmd": "cat(var_dic_list()) "
    }
   },
   "types_to_exclude": [
    "module",
    "function",
    "builtin_function_or_method",
    "instance",
    "_Feature"
   ],
   "window_display": false
  }
 },
 "nbformat": 4,
 "nbformat_minor": 2
}
