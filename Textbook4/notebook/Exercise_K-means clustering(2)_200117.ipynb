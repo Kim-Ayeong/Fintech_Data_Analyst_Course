{
 "cells": [
  {
   "cell_type": "markdown",
   "metadata": {},
   "source": [
    "### K-means 군집화"
   ]
  },
  {
   "cell_type": "markdown",
   "metadata": {},
   "source": [
    "#### 필요한 패키지를 불러온다"
   ]
  },
  {
   "cell_type": "code",
   "execution_count": 1,
   "metadata": {},
   "outputs": [],
   "source": [
    "import numpy as np\n",
    "import pandas as pd\n",
    "import matplotlib.pyplot as plt\n",
    "import os\n",
    "from sklearn.cluster import KMeans\n",
    "from sklearn.preprocessing import scale\n",
    "%matplotlib inline"
   ]
  },
  {
   "cell_type": "markdown",
   "metadata": {},
   "source": [
    "#### 데이터를 불러온다"
   ]
  },
  {
   "cell_type": "code",
   "execution_count": 2,
   "metadata": {},
   "outputs": [],
   "source": [
    "os.chdir(r\"..\\data\")"
   ]
  },
  {
   "cell_type": "code",
   "execution_count": 3,
   "metadata": {},
   "outputs": [],
   "source": [
    "df = pd.read_csv('data_KOSPI200_en.csv', header='infer',encoding='latin1')"
   ]
  },
  {
   "cell_type": "code",
   "execution_count": 4,
   "metadata": {},
   "outputs": [
    {
     "data": {
      "text/plain": [
       "(198, 6)"
      ]
     },
     "execution_count": 4,
     "metadata": {},
     "output_type": "execute_result"
    }
   ],
   "source": [
    "df.shape"
   ]
  },
  {
   "cell_type": "code",
   "execution_count": 5,
   "metadata": {},
   "outputs": [
    {
     "data": {
      "text/html": [
       "<div>\n",
       "<style scoped>\n",
       "    .dataframe tbody tr th:only-of-type {\n",
       "        vertical-align: middle;\n",
       "    }\n",
       "\n",
       "    .dataframe tbody tr th {\n",
       "        vertical-align: top;\n",
       "    }\n",
       "\n",
       "    .dataframe thead th {\n",
       "        text-align: right;\n",
       "    }\n",
       "</style>\n",
       "<table border=\"1\" class=\"dataframe\">\n",
       "  <thead>\n",
       "    <tr style=\"text-align: right;\">\n",
       "      <th></th>\n",
       "      <th>CODE</th>\n",
       "      <th>COMPANY</th>\n",
       "      <th>PRICE</th>\n",
       "      <th>RETURN</th>\n",
       "      <th>RISK</th>\n",
       "      <th>BETA</th>\n",
       "    </tr>\n",
       "  </thead>\n",
       "  <tbody>\n",
       "    <tr>\n",
       "      <td>0</td>\n",
       "      <td>138930</td>\n",
       "      <td>BNK-FINANCE</td>\n",
       "      <td>14450.0</td>\n",
       "      <td>-0.11</td>\n",
       "      <td>0.34</td>\n",
       "      <td>-0.14</td>\n",
       "    </tr>\n",
       "    <tr>\n",
       "      <td>1</td>\n",
       "      <td>1040</td>\n",
       "      <td>CJ</td>\n",
       "      <td>261000.0</td>\n",
       "      <td>0.50</td>\n",
       "      <td>0.49</td>\n",
       "      <td>1.07</td>\n",
       "    </tr>\n",
       "    <tr>\n",
       "      <td>2</td>\n",
       "      <td>120</td>\n",
       "      <td>CJ Daehan</td>\n",
       "      <td>200000.0</td>\n",
       "      <td>0.03</td>\n",
       "      <td>0.39</td>\n",
       "      <td>0.55</td>\n",
       "    </tr>\n",
       "    <tr>\n",
       "      <td>3</td>\n",
       "      <td>97950</td>\n",
       "      <td>CJ Cheil</td>\n",
       "      <td>371000.0</td>\n",
       "      <td>-0.02</td>\n",
       "      <td>0.34</td>\n",
       "      <td>0.71</td>\n",
       "    </tr>\n",
       "    <tr>\n",
       "      <td>4</td>\n",
       "      <td>114090</td>\n",
       "      <td>GKL</td>\n",
       "      <td>33150.0</td>\n",
       "      <td>-0.06</td>\n",
       "      <td>0.43</td>\n",
       "      <td>0.65</td>\n",
       "    </tr>\n",
       "  </tbody>\n",
       "</table>\n",
       "</div>"
      ],
      "text/plain": [
       "     CODE      COMPANY     PRICE  RETURN  RISK  BETA\n",
       "0  138930  BNK-FINANCE   14450.0   -0.11  0.34 -0.14\n",
       "1    1040           CJ  261000.0    0.50  0.49  1.07\n",
       "2     120    CJ Daehan  200000.0    0.03  0.39  0.55\n",
       "3   97950     CJ Cheil  371000.0   -0.02  0.34  0.71\n",
       "4  114090          GKL   33150.0   -0.06  0.43  0.65"
      ]
     },
     "execution_count": 5,
     "metadata": {},
     "output_type": "execute_result"
    }
   ],
   "source": [
    "df.head(5)"
   ]
  },
  {
   "cell_type": "code",
   "execution_count": 6,
   "metadata": {},
   "outputs": [],
   "source": [
    "header = df.columns"
   ]
  },
  {
   "cell_type": "markdown",
   "metadata": {},
   "source": [
    "#### 1). Kmeans 수익률과 리스크 기준으로 2개의 클러스터"
   ]
  },
  {
   "cell_type": "code",
   "execution_count": 7,
   "metadata": {},
   "outputs": [],
   "source": [
    "X=np.array(df.iloc[:,[3,4]])\n",
    "companies = np.array(df.iloc[:,1])"
   ]
  },
  {
   "cell_type": "code",
   "execution_count": 8,
   "metadata": {},
   "outputs": [
    {
     "name": "stdout",
     "output_type": "stream",
     "text": [
      "Cluster Sizes :\n",
      "(array([0, 1]), array([ 63, 135], dtype=int64))\n",
      "Cluster centers :\n",
      "[[ 0.62079365  0.53380952]\n",
      " [-0.03251852  0.40481481]]\n"
     ]
    }
   ],
   "source": [
    "kmeans = KMeans(n_clusters=2)\n",
    "kmeans.fit(X)\n",
    "clusters = kmeans.labels_\n",
    "centers = kmeans.cluster_centers_\n",
    "table = np.unique(clusters,return_counts=True)\n",
    "print('Cluster Sizes :')\n",
    "print(table)\n",
    "print('Cluster centers :')\n",
    "print(centers)"
   ]
  },
  {
   "cell_type": "code",
   "execution_count": 9,
   "metadata": {},
   "outputs": [
    {
     "name": "stdout",
     "output_type": "stream",
     "text": [
      "Companies in group 0 :\n",
      "-----------------------------------\n",
      "['CJ' 'GS Retail' 'LG Corp' 'LG Life' 'LG Health' 'LG Chem' 'S&T Motiv'\n",
      " 'S&T Heavy' 'SBS' 'SKC' 'SK Innovation' 'S-Oil' 'GookDo Chem'\n",
      " 'Green Cross' 'NongShim' 'Daewoong Medical' 'Daehan' 'DongAh ST'\n",
      " 'DongWon F&B' 'DongWon Systems' 'Lotte Chemical' 'Lotte food' 'Moohak'\n",
      " 'Boogwang Medical' 'Samgwang Glass' 'Samlip Food' 'Samsung Trade'\n",
      " 'Samsung Electric' 'Samsung Precisions' 'SamYang' 'SamYang Holdings'\n",
      " 'SSangYong' 'ISS DongSuh' 'S1' 'Able C&C' 'NC Soft' 'YoungJin' 'Ottoogi'\n",
      " 'Orion' 'Unid' 'Yuhan' 'Ildong Medical' 'IlYnag MEdical' 'KosMAx' 'Crown'\n",
      " 'Korea Danja' 'Korea Steel' 'Korea Colma' 'Korea Aero' 'Hanmi Medical'\n",
      " 'HanSaem' 'Hanse' 'Hansol Chemical' 'Hansol Technics' 'Hanhwa'\n",
      " 'Hanhwa Chemical' 'Hanhwa Techwin' 'Hyundai Green Food' 'Hyundai Livart'\n",
      " 'Hyundai Industries' 'Hyundai Elevator' 'Hyosung' 'Foosung']\n",
      "\n",
      "\n",
      "Companies in group 1 :\n",
      "-----------------------------------\n",
      "['BNK-FINANCE' 'CJ Daehan' 'CJ Cheil' 'GKL' 'GS' 'KB Finance' 'KCC' 'KT'\n",
      " 'KT&G' 'LF Mall' 'LG' 'LG Display' 'LG UPlus' 'LG Innotech'\n",
      " 'LG Electronics' 'LG Housys' 'LS' 'LS Indus' 'NHN' 'NH Finance' 'OCI'\n",
      " 'POSCO' 'SK C&C' 'SK Network' 'SK Chemical' 'SK Telecom' 'SK Hynix'\n",
      " 'Kangwon Land' 'KyungBang' 'Korea Zinc' 'Korea Iron' 'GwangDong'\n",
      " 'Kumho Oil' 'KumHo Tire' 'Kia Motors' 'Company Bank' 'NamYang'\n",
      " 'NamHae Chem' 'Nexxen Tire' 'DaeGyo' 'DaeDuck' 'DaeLim' 'DaeSang'\n",
      " 'Daewoo Const' 'Daewoo International' 'DSME' 'Daewoo Finance' 'KAL'\n",
      " 'DongKook' 'DongBu Insurance' 'DongAh Socio' 'DongAh Tire' 'Doosan'\n",
      " 'Doosan Engine' 'Doosan Infracore' 'Doosan Heavy' 'Lock and Lock'\n",
      " 'Lotte Shoping' 'Lotte Pastry' 'Lotte Chilsung' 'Motonik' 'Moorim P&P'\n",
      " 'Marae Asset' 'Basic House' 'Bingre' 'Samsung SDI' 'Samsung Life'\n",
      " 'Samsung SDS' 'Samsung Engineering' 'Samsung Electronics' 'Samsung Heavy'\n",
      " 'Samsung Finance' 'Samsung Card' 'Samsung Insurance' 'SeoYeon' 'SeoHung'\n",
      " 'SeBang' 'Seah Bestil' 'Seah Iron' 'Sejong' 'Shindo-Ricoh' 'Shinsegae'\n",
      " 'Shinhan Jiju' 'SSangYong Car' 'ISL' 'YoungWon' 'YoungPoong' 'Woori'\n",
      " 'EMart' 'Ilshin' 'Iljin Materials' 'Jeil Planification' 'JoGwang Leather'\n",
      " 'Chosun' 'ChongGeunDang' 'KoLon' 'Koway' 'TaeGwang' 'Pamsco' 'PoongSan'\n",
      " 'Hana Finance' 'Hite Jinro' 'Hite Jinro Holdings' 'Korea Gas'\n",
      " 'Korea Fianance' 'Korea Shell' 'Kepco' 'Korea Tire' 'Korea Tire WW'\n",
      " 'Hanla' 'Hanmi Semiconductors' 'HanSeom' 'Hansol Holdings' 'Hanon System'\n",
      " 'Hanil Cement' 'KPS' 'KEPCO Tech' 'Hanjin heavy' 'Hanhwa Life'\n",
      " 'Hyundai Construction' 'Hyundai Globis' 'Hyundai Rotem' 'Hyundai Mobis'\n",
      " 'Hyundai Mipo' 'Hyundal Mall' 'Hyundai Shipping' 'Hyundai Wia'\n",
      " 'Hyundai Steel' 'Hyundai Heavy' 'Hyundai Finance' 'Hyundai Motors'\n",
      " 'Hotel Silla' 'Hwashin' 'Hubis' 'HuChems']\n",
      "\n",
      "\n"
     ]
    }
   ],
   "source": [
    "for i in range(2):\n",
    "    print(\"Companies in group {} :\".format(i))\n",
    "    print(\"-----------------------------------\")\n",
    "    print(companies[clusters==i])\n",
    "    print (\"\\n\")"
   ]
  },
  {
   "cell_type": "markdown",
   "metadata": {},
   "source": [
    "#### 2). Kmeans 수익률과 리스크 기준으로 3개의 클러스터"
   ]
  },
  {
   "cell_type": "code",
   "execution_count": 10,
   "metadata": {},
   "outputs": [
    {
     "name": "stdout",
     "output_type": "stream",
     "text": [
      "Cluster Sizes :\n",
      "(array([0, 1, 2]), array([98, 68, 32], dtype=int64))\n",
      "Cluster centers :\n",
      "[[ 0.23040816  0.43357143]\n",
      " [-0.21235294  0.40867647]\n",
      " [ 0.830625    0.5625    ]]\n"
     ]
    }
   ],
   "source": [
    "kmeans = KMeans(n_clusters=3)\n",
    "kmeans.fit(X)\n",
    "clusters = kmeans.labels_\n",
    "centers = kmeans.cluster_centers_\n",
    "table = np.unique(clusters,return_counts=True)\n",
    "print('Cluster Sizes :')\n",
    "print(table)\n",
    "print('Cluster centers :')\n",
    "print(centers)"
   ]
  },
  {
   "cell_type": "code",
   "execution_count": 11,
   "metadata": {},
   "outputs": [
    {
     "name": "stdout",
     "output_type": "stream",
     "text": [
      "Companies in group 0 :\n",
      "-----------------------------------\n",
      "['CJ' 'CJ Daehan' 'GS' 'KT&G' 'LG' 'LG Corp' 'LG Health' 'LG UPlus'\n",
      " 'LG Innotech' 'LG Housys' 'NH Finance' 'OCI' 'SBS' 'SK C&C' 'SKC'\n",
      " 'SK Innovation' 'SK Chemical' 'Kangwon Land' 'KyungBang' 'Korea Zinc'\n",
      " 'Korea Iron' 'GwangDong' 'Kia Motors' 'NamYang' 'NamHae Chem'\n",
      " 'Nexxen Tire' 'Green Cross' 'NongShim' 'DaeGyo' 'DaeLim' 'Daewoo Const'\n",
      " 'Daewoo Finance' 'Daewoong Medical' 'DongKook' 'DongBu Insurance'\n",
      " 'DongAh Socio' 'DongAh ST' 'DongAh Tire' 'DongWon F&B' 'Doosan'\n",
      " 'Doosan Heavy' 'Lock and Lock' 'Lotte Pastry' 'Lotte Chilsung'\n",
      " 'Lotte food' 'Motonik' 'Moorim P&P' 'Moohak' 'Samgwang Glass'\n",
      " 'Samsung Trade' 'Samsung Life' 'Samsung SDS' 'Samsung Electric'\n",
      " 'Samsung Electronics' 'Samsung Precisions' 'Samsung Finance'\n",
      " 'Samsung Insurance' 'SeBang' 'Seah Bestil' 'Shinsegae' 'SSangYong Car'\n",
      " 'ISS DongSuh' 'S1' 'Able C&C' 'NC Soft' 'YoungPoong' 'Orion' 'Unid'\n",
      " 'Yuhan' 'EMart' 'Ilshin' 'Iljin Materials' 'Jeil Planification'\n",
      " 'ChongGeunDang' 'KoLon' 'Koway' 'Pamsco' 'PoongSan' 'Hite Jinro Holdings'\n",
      " 'Korea Fianance' 'Korea Shell' 'Kepco' 'HanSeom' 'Hanse' 'KPS'\n",
      " 'Hanjin heavy' 'Hanhwa' 'Hanhwa Life' 'Hanhwa Techwin'\n",
      " 'Hyundai Green Food' 'Hyundai Livart' 'Hyundai Mobis' 'Hyundal Mall'\n",
      " 'Hyundai Industries' 'Hyundai Elevator' 'Hyundai Heavy' 'Hyundai Finance'\n",
      " 'Hotel Silla']\n",
      "\n",
      "\n",
      "Companies in group 1 :\n",
      "-----------------------------------\n",
      "['BNK-FINANCE' 'CJ Cheil' 'GKL' 'KB Finance' 'KCC' 'KT' 'LF Mall'\n",
      " 'LG Display' 'LG Electronics' 'LS' 'LS Indus' 'NHN' 'POSCO' 'SK Network'\n",
      " 'SK Telecom' 'SK Hynix' 'Kumho Oil' 'KumHo Tire' 'Company Bank' 'DaeDuck'\n",
      " 'DaeSang' 'Daewoo International' 'DSME' 'KAL' 'Doosan Engine'\n",
      " 'Doosan Infracore' 'Lotte Shoping' 'Marae Asset' 'Basic House' 'Bingre'\n",
      " 'Samsung SDI' 'Samsung Engineering' 'Samsung Heavy' 'Samsung Card'\n",
      " 'SeoYeon' 'SeoHung' 'Seah Iron' 'Sejong' 'Shindo-Ricoh' 'Shinhan Jiju'\n",
      " 'ISL' 'YoungWon' 'Woori' 'JoGwang Leather' 'Chosun' 'TaeGwang'\n",
      " 'Hana Finance' 'Hite Jinro' 'Korea Gas' 'Korea Tire' 'Korea Tire WW'\n",
      " 'Hanla' 'Hanmi Semiconductors' 'Hansol Holdings' 'Hanon System'\n",
      " 'Hanil Cement' 'KEPCO Tech' 'Hyundai Construction' 'Hyundai Globis'\n",
      " 'Hyundai Rotem' 'Hyundai Mipo' 'Hyundai Shipping' 'Hyundai Wia'\n",
      " 'Hyundai Steel' 'Hyundai Motors' 'Hwashin' 'Hubis' 'HuChems']\n",
      "\n",
      "\n",
      "Companies in group 2 :\n",
      "-----------------------------------\n",
      "['GS Retail' 'LG Life' 'LG Chem' 'S&T Motiv' 'S&T Heavy' 'S-Oil'\n",
      " 'GookDo Chem' 'Daehan' 'DongWon Systems' 'Lotte Chemical'\n",
      " 'Boogwang Medical' 'Samlip Food' 'SamYang' 'SamYang Holdings' 'SSangYong'\n",
      " 'YoungJin' 'Ottoogi' 'Ildong Medical' 'IlYnag MEdical' 'KosMAx' 'Crown'\n",
      " 'Korea Danja' 'Korea Steel' 'Korea Colma' 'Korea Aero' 'Hanmi Medical'\n",
      " 'HanSaem' 'Hansol Chemical' 'Hansol Technics' 'Hanhwa Chemical' 'Hyosung'\n",
      " 'Foosung']\n",
      "\n",
      "\n"
     ]
    }
   ],
   "source": [
    "for i in range(3):\n",
    "    print(\"Companies in group {} :\".format(i))\n",
    "    print(\"-----------------------------------\")\n",
    "    print(companies[clusters==i])\n",
    "    print (\"\\n\")"
   ]
  },
  {
   "cell_type": "markdown",
   "metadata": {},
   "source": [
    "#### 3). Kmeans 최근종가,수익률, 리스크, 베타 기준으로 3개의 클러스터"
   ]
  },
  {
   "cell_type": "code",
   "execution_count": 12,
   "metadata": {},
   "outputs": [],
   "source": [
    "X=np.array(df.iloc[:,[2,3,4,5]])\n",
    "X = scale(X)"
   ]
  },
  {
   "cell_type": "code",
   "execution_count": 13,
   "metadata": {},
   "outputs": [
    {
     "name": "stdout",
     "output_type": "stream",
     "text": [
      "Cluster Sizes :\n",
      "(array([0, 1, 2]), array([110,  78,  10], dtype=int64))\n",
      "Cluster centers :\n",
      "[[-0.22521643 -0.34795936 -0.53799637 -0.53547471]\n",
      " [-0.16349304  0.45620686  0.81750017  0.82012232]\n",
      " [ 3.75262639  0.26913942 -0.45854125 -0.5067323 ]]\n"
     ]
    }
   ],
   "source": [
    "kmeans = KMeans(n_clusters=3)\n",
    "clusters = kmeans.fit(X).labels_\n",
    "centers = kmeans.cluster_centers_\n",
    "table = np.unique(clusters,return_counts=True)\n",
    "print('Cluster Sizes :')\n",
    "print(table)\n",
    "print('Cluster centers :')\n",
    "print(centers)"
   ]
  },
  {
   "cell_type": "code",
   "execution_count": 14,
   "metadata": {},
   "outputs": [
    {
     "name": "stdout",
     "output_type": "stream",
     "text": [
      "Companies in group 0 :\n",
      "-----------------------------------\n",
      "['BNK-FINANCE' 'CJ Daehan' 'CJ Cheil' 'GKL' 'GS' 'KB Finance' 'KCC' 'KT'\n",
      " 'KT&G' 'LF Mall' 'LG' 'LG Display' 'LG UPlus' 'LG Electronics' 'LS'\n",
      " 'LS Indus' 'NHN' 'POSCO' 'S&T Motiv' 'S&T Heavy' 'SBS' 'SKC' 'SK Network'\n",
      " 'SK Chemical' 'SK Telecom' 'SK Hynix' 'Kangwon Land' 'KyungBang'\n",
      " 'Korea Zinc' 'GwangDong' 'GookDo Chem' 'Kumho Oil' 'KumHo Tire'\n",
      " 'Kia Motors' 'Company Bank' 'NamHae Chem' 'Nexxen Tire' 'NongShim'\n",
      " 'DaeGyo' 'DaeDuck' 'Daewoo International' 'DongKook' 'DongBu Insurance'\n",
      " 'DongAh Tire' 'DongWon F&B' 'Doosan' 'Doosan Engine' 'Lock and Lock'\n",
      " 'Motonik' 'Moorim P&P' 'Moohak' 'Bingre' 'Samgwang Glass' 'Samsung SDI'\n",
      " 'Samsung Life' 'Samsung Electric' 'Samsung Precisions' 'Samsung Card'\n",
      " 'Samsung Insurance' 'SeoYeon' 'SeoHung' 'SeBang' 'Seah Bestil'\n",
      " 'Seah Iron' 'Sejong' 'Shindo-Ricoh' 'Shinhan Jiju' 'SSangYong Car' 'ISL'\n",
      " 'S1' 'YoungWon' 'Woori' 'Unid' 'EMart' 'Ilshin' 'Jeil Planification'\n",
      " 'Chosun' 'KoLon' 'Koway' 'Pamsco' 'PoongSan' 'Hana Finance' 'Hite Jinro'\n",
      " 'Hite Jinro Holdings' 'Korea Gas' 'Korea Shell' 'Kepco' 'Korea Tire'\n",
      " 'Korea Tire WW' 'Hanla' 'Hanmi Semiconductors' 'HanSeom' 'Hanse'\n",
      " 'Hanon System' 'Hanil Cement' 'KPS' 'KEPCO Tech' 'Hanhwa Life'\n",
      " 'Hyundai Green Food' 'Hyundai Globis' 'Hyundai Rotem' 'Hyundai Mobis'\n",
      " 'Hyundal Mall' 'Hyundai Shipping' 'Hyundai Wia' 'Hyundai Steel'\n",
      " 'Hyundai Motors' 'Hwashin' 'Hubis' 'HuChems']\n",
      "\n",
      "\n",
      "Companies in group 1 :\n",
      "-----------------------------------\n",
      "['CJ' 'GS Retail' 'LG Corp' 'LG Life' 'LG Innotech' 'LG Housys' 'LG Chem'\n",
      " 'NH Finance' 'OCI' 'SK C&C' 'SK Innovation' 'S-Oil' 'Korea Iron'\n",
      " 'Green Cross' 'DaeLim' 'DaeSang' 'Daewoo Const' 'DSME' 'Daewoo Finance'\n",
      " 'Daewoong Medical' 'Daehan' 'KAL' 'DongAh Socio' 'DongAh ST'\n",
      " 'DongWon Systems' 'Doosan Infracore' 'Doosan Heavy' 'Lotte Shoping'\n",
      " 'Lotte Chemical' 'Marae Asset' 'Basic House' 'Boogwang Medical'\n",
      " 'Samlip Food' 'Samsung Trade' 'Samsung SDS' 'Samsung Engineering'\n",
      " 'Samsung Heavy' 'Samsung Finance' 'SamYang' 'SamYang Holdings'\n",
      " 'Shinsegae' 'SSangYong' 'ISS DongSuh' 'Able C&C' 'NC Soft' 'YoungJin'\n",
      " 'Yuhan' 'Ildong Medical' 'IlYnag MEdical' 'Iljin Materials'\n",
      " 'JoGwang Leather' 'ChongGeunDang' 'KosMAx' 'Crown' 'Korea Fianance'\n",
      " 'Korea Danja' 'Korea Steel' 'Korea Colma' 'Korea Aero' 'Hanmi Medical'\n",
      " 'HanSaem' 'Hansol Chemical' 'Hansol Technics' 'Hansol Holdings'\n",
      " 'Hanjin heavy' 'Hanhwa' 'Hanhwa Chemical' 'Hanhwa Techwin'\n",
      " 'Hyundai Construction' 'Hyundai Livart' 'Hyundai Mipo'\n",
      " 'Hyundai Industries' 'Hyundai Elevator' 'Hyundai Heavy' 'Hyundai Finance'\n",
      " 'Hotel Silla' 'Hyosung' 'Foosung']\n",
      "\n",
      "\n",
      "Companies in group 2 :\n",
      "-----------------------------------\n",
      "['LG Health' 'NamYang' 'Lotte Pastry' 'Lotte Chilsung' 'Lotte food'\n",
      " 'Samsung Electronics' 'YoungPoong' 'Ottoogi' 'Orion' 'TaeGwang']\n",
      "\n",
      "\n"
     ]
    }
   ],
   "source": [
    "for i in range(3):\n",
    "    print(\"Companies in group {} :\".format(i))\n",
    "    print(\"-----------------------------------\")\n",
    "    print(companies[clusters==i])\n",
    "    print (\"\\n\")"
   ]
  },
  {
   "cell_type": "markdown",
   "metadata": {},
   "source": [
    "#### 4). \"Total Sum of Squares Within\"을 계산하여 최적화된 클러스터 개수를 알아낸다."
   ]
  },
  {
   "cell_type": "code",
   "execution_count": 15,
   "metadata": {},
   "outputs": [],
   "source": [
    "def total_ss_within(X, centers, clusters):\n",
    "    N_clusters = centers.shape[0]\n",
    "    N_columns = centers.shape[1]\n",
    "    N_rows = X.shape[0]\n",
    "    ref_centers = np.zeros((N_rows, N_columns))\n",
    "    for n in range(N_clusters):\n",
    "        indices = (clusters == n)\n",
    "        for j in range(N_columns):\n",
    "            ref_centers[indices,j] = centers[n,j]\n",
    "    return np.sum((X-ref_centers)**2.0)"
   ]
  },
  {
   "cell_type": "markdown",
   "metadata": {},
   "source": [
    "Kmeans 최근종가,수익률, 리스크, 베타 기준으로 클러스터 개수의 최적화"
   ]
  },
  {
   "cell_type": "code",
   "execution_count": 16,
   "metadata": {},
   "outputs": [],
   "source": [
    "X=np.array(df.iloc[:,[2,3,4,5]])"
   ]
  },
  {
   "cell_type": "code",
   "execution_count": 17,
   "metadata": {},
   "outputs": [],
   "source": [
    "n_cluster = np.array(range(2,16))\n",
    "total_ssw = np.array([])\n",
    "for n in n_cluster:\n",
    "    kmeans = KMeans(n_clusters=n)\n",
    "    clusters = kmeans.fit(X).labels_\n",
    "    centers = kmeans.cluster_centers_\n",
    "    total_ssw = np.append(total_ssw, total_ss_within(X,centers,clusters))"
   ]
  },
  {
   "cell_type": "code",
   "execution_count": 18,
   "metadata": {},
   "outputs": [
    {
     "data": {
      "image/png": "[encoded data removed]",
      "text/plain": [
       "<Figure size 432x288 with 1 Axes>"
      ]
     },
     "metadata": {
      "needs_background": "light"
     },
     "output_type": "display_data"
    }
   ],
   "source": [
    "plt.plot(n_cluster,total_ssw,color='blue',marker='o',linestyle='dashed',linewidth=1,markersize=5)\n",
    "plt.show()"
   ]
  },
  {
   "cell_type": "code",
   "execution_count": null,
   "metadata": {},
   "outputs": [],
   "source": []
  }
 ],
 "metadata": {
  "kernelspec": {
   "display_name": "Python 3",
   "language": "python",
   "name": "python3"
  },
  "language_info": {
   "codemirror_mode": {
    "name": "ipython",
    "version": 3
   },
   "file_extension": ".py",
   "mimetype": "text/x-python",
   "name": "python",
   "nbconvert_exporter": "python",
   "pygments_lexer": "ipython3",
   "version": "3.7.4"
  },
  "toc": {
   "base_numbering": 1,
   "nav_menu": {},
   "number_sections": true,
   "sideBar": true,
   "skip_h1_title": false,
   "title_cell": "Table of Contents",
   "title_sidebar": "Contents",
   "toc_cell": false,
   "toc_position": {},
   "toc_section_display": true,
   "toc_window_display": true
  },
  "varInspector": {
   "cols": {
    "lenName": 16,
    "lenType": 16,
    "lenVar": 40
   },
   "kernels_config": {
    "python": {
     "delete_cmd_postfix": "",
     "delete_cmd_prefix": "del ",
     "library": "var_list.py",
     "varRefreshCmd": "print(var_dic_list())"
    },
    "r": {
     "delete_cmd_postfix": ") ",
     "delete_cmd_prefix": "rm(",
     "library": "var_list.r",
     "varRefreshCmd": "cat(var_dic_list()) "
    }
   },
   "types_to_exclude": [
    "module",
    "function",
    "builtin_function_or_method",
    "instance",
    "_Feature"
   ],
   "window_display": false
  }
 },
 "nbformat": 4,
 "nbformat_minor": 2
}
