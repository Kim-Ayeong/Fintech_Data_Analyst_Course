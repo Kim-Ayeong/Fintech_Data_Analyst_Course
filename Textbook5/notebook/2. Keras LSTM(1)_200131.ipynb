{
 "cells": [
  {
   "cell_type": "markdown",
   "metadata": {
    "colab_type": "text",
    "id": "owA6DqPhAQ3e"
   },
   "source": [
    "## Coding Practice #0506"
   ]
  },
  {
   "cell_type": "markdown",
   "metadata": {
    "colab_type": "text",
    "id": "N_BOHy61AQ3p"
   },
   "source": [
    "#### 1. Document classification with LSTM network:"
   ]
  },
  {
   "cell_type": "code",
   "execution_count": 0,
   "metadata": {
    "colab": {
     "base_uri": "https://localhost:8080/",
     "height": 80
    },
    "colab_type": "code",
    "executionInfo": {
     "elapsed": 2335,
     "status": "ok",
     "timestamp": 1580430675057,
     "user": {
      "displayName": "brcnm ccdf",
      "photoUrl": "https://lh3.googleusercontent.com/a-/AAuE7mD_lCXfE1pl4eZy0f6YvnMk-QQild9PBznr84yU=s64",
      "userId": "06663704523863131959"
     },
     "user_tz": -540
    },
    "id": "Qypn5qYSAQ3v",
    "outputId": "4f84af3c-82d0-45b8-f8a2-d8e0c5e5e2c7"
   },
   "outputs": [
    {
     "data": {
      "text/html": [
       "<p style=\"color: red;\">\n",
       "The default version of TensorFlow in Colab will soon switch to TensorFlow 2.x.<br>\n",
       "We recommend you <a href=\"https://www.tensorflow.org/guide/migrate\" target=\"_blank\">upgrade</a> now \n",
       "or ensure your notebook will continue to use TensorFlow 1.x via the <code>%tensorflow_version 1.x</code> magic:\n",
       "<a href=\"https://colab.research.google.com/notebooks/tensorflow_version.ipynb\" target=\"_blank\">more info</a>.</p>\n"
      ],
      "text/plain": [
       "<IPython.core.display.HTML object>"
      ]
     },
     "metadata": {
      "tags": []
     },
     "output_type": "display_data"
    }
   ],
   "source": [
    "import pandas as pd\n",
    "import numpy as np\n",
    "import warnings    \n",
    "import matplotlib.pyplot as plt\n",
    "from sklearn.model_selection import train_test_split\n",
    "from tensorflow.keras.datasets.reuters import load_data, get_word_index       # Reuters news data. \n",
    "from tensorflow.keras.models import Sequential\n",
    "from tensorflow.keras.layers import Dense, SimpleRNN, LSTM, Embedding\n",
    "from tensorflow.keras.utils import to_categorical\n",
    "from tensorflow.keras.preprocessing import sequence\n",
    "from tensorflow.keras.optimizers import Adam, RMSprop, SGD\n",
    "warnings.filterwarnings('ignore')                  # Turn the warnings off.\n",
    "%matplotlib inline"
   ]
  },
  {
   "cell_type": "markdown",
   "metadata": {
    "colab_type": "text",
    "id": "vSXvv0IkAQ4C"
   },
   "source": [
    "#### 1.1. Read in the data:"
   ]
  },
  {
   "cell_type": "code",
   "execution_count": 0,
   "metadata": {
    "colab": {
     "base_uri": "https://localhost:8080/",
     "height": 72
    },
    "colab_type": "code",
    "executionInfo": {
     "elapsed": 2706,
     "status": "ok",
     "timestamp": 1580430675458,
     "user": {
      "displayName": "brcnm ccdf",
      "photoUrl": "https://lh3.googleusercontent.com/a-/AAuE7mD_lCXfE1pl4eZy0f6YvnMk-QQild9PBznr84yU=s64",
      "userId": "06663704523863131959"
     },
     "user_tz": -540
    },
    "id": "k4V0mib4AQ4G",
    "outputId": "de0aab5c-838d-4517-e3ec-cc2a0ec33282"
   },
   "outputs": [
    {
     "name": "stdout",
     "output_type": "stream",
     "text": [
      "Downloading data from https://storage.googleapis.com/tensorflow/tf-keras-datasets/reuters.npz\n",
      "2113536/2110848 [==============================] - 0s 0us/step\n"
     ]
    }
   ],
   "source": [
    "n_words = 1000                                        # Size of the vocabulary.\n",
    "(X_train, y_train), (X_test, y_test) = load_data(num_words = n_words, test_split = 0.3)\n",
    "n_train_size = X_train.shape[0]"
   ]
  },
  {
   "cell_type": "code",
   "execution_count": 0,
   "metadata": {
    "colab": {
     "base_uri": "https://localhost:8080/",
     "height": 141
    },
    "colab_type": "code",
    "executionInfo": {
     "elapsed": 2688,
     "status": "ok",
     "timestamp": 1580430675464,
     "user": {
      "displayName": "brcnm ccdf",
      "photoUrl": "https://lh3.googleusercontent.com/a-/AAuE7mD_lCXfE1pl4eZy0f6YvnMk-QQild9PBznr84yU=s64",
      "userId": "06663704523863131959"
     },
     "user_tz": -540
    },
    "id": "P-6toCGmAQ4R",
    "outputId": "08e9f571-291e-4875-cdfd-2d99f0cc2192"
   },
   "outputs": [
    {
     "name": "stdout",
     "output_type": "stream",
     "text": [
      "--------------------------------------------------\n",
      "Training data X shape: (7859,)\n",
      "Training data y shape: (7859,)\n",
      "--------------------------------------------------\n",
      "Test data X shape: (3369,)\n",
      "Test data y shape: (3369,)\n",
      "--------------------------------------------------\n"
     ]
    }
   ],
   "source": [
    "# Check for the shapes.\n",
    "print(\"-\"*50)\n",
    "print(\"Training data X shape: {}\".format(X_train.shape))\n",
    "print(\"Training data y shape: {}\".format(y_train.shape))\n",
    "print(\"-\"*50)\n",
    "print(\"Test data X shape: {}\".format(X_test.shape))\n",
    "print(\"Test data y shape: {}\".format(y_test.shape))\n",
    "print(\"-\"*50)"
   ]
  },
  {
   "cell_type": "markdown",
   "metadata": {
    "colab_type": "text",
    "id": "qf9zpwytAQ4c"
   },
   "source": [
    "#### 1.2. Explore the data:"
   ]
  },
  {
   "cell_type": "code",
   "execution_count": 0,
   "metadata": {
    "colab": {
     "base_uri": "https://localhost:8080/",
     "height": 34
    },
    "colab_type": "code",
    "executionInfo": {
     "elapsed": 2665,
     "status": "ok",
     "timestamp": 1580430675466,
     "user": {
      "displayName": "brcnm ccdf",
      "photoUrl": "https://lh3.googleusercontent.com/a-/AAuE7mD_lCXfE1pl4eZy0f6YvnMk-QQild9PBznr84yU=s64",
      "userId": "06663704523863131959"
     },
     "user_tz": -540
    },
    "id": "FaPRahUwAQ4e",
    "outputId": "8fbee305-96ea-402a-855e-a065713f07ad"
   },
   "outputs": [
    {
     "data": {
      "text/plain": [
       "46"
      ]
     },
     "execution_count": 4,
     "metadata": {
      "tags": []
     },
     "output_type": "execute_result"
    }
   ],
   "source": [
    "# Number of unique values of y = Number of categories of the newswires.\n",
    "n_cat = pd.Series(y_train).nunique()\n",
    "n_cat"
   ]
  },
  {
   "cell_type": "code",
   "execution_count": 0,
   "metadata": {
    "colab": {
     "base_uri": "https://localhost:8080/",
     "height": 54
    },
    "colab_type": "code",
    "executionInfo": {
     "elapsed": 2638,
     "status": "ok",
     "timestamp": 1580430675468,
     "user": {
      "displayName": "brcnm ccdf",
      "photoUrl": "https://lh3.googleusercontent.com/a-/AAuE7mD_lCXfE1pl4eZy0f6YvnMk-QQild9PBznr84yU=s64",
      "userId": "06663704523863131959"
     },
     "user_tz": -540
    },
    "id": "mOE16dKYAQ4j",
    "outputId": "f070f978-90ac-42aa-8932-701c8b734877"
   },
   "outputs": [
    {
     "name": "stdout",
     "output_type": "stream",
     "text": [
      "[1, 2, 2, 8, 43, 10, 447, 5, 25, 207, 270, 5, 2, 111, 16, 369, 186, 90, 67, 7, 89, 5, 19, 102, 6, 19, 124, 15, 90, 67, 84, 22, 482, 26, 7, 48, 4, 49, 8, 864, 39, 209, 154, 6, 151, 6, 83, 11, 15, 22, 155, 11, 15, 7, 48, 9, 2, 2, 504, 6, 258, 6, 272, 11, 15, 22, 134, 44, 11, 15, 16, 8, 197, 2, 90, 67, 52, 29, 209, 30, 32, 132, 6, 109, 15, 17, 12]\n"
     ]
    }
   ],
   "source": [
    "# Print out an observation (document) contained in X.\n",
    "# It is encoded as integers (indices).\n",
    "print(X_train[0])"
   ]
  },
  {
   "cell_type": "code",
   "execution_count": 0,
   "metadata": {
    "colab": {
     "base_uri": "https://localhost:8080/",
     "height": 54
    },
    "colab_type": "code",
    "executionInfo": {
     "elapsed": 2616,
     "status": "ok",
     "timestamp": 1580430675470,
     "user": {
      "displayName": "brcnm ccdf",
      "photoUrl": "https://lh3.googleusercontent.com/a-/AAuE7mD_lCXfE1pl4eZy0f6YvnMk-QQild9PBznr84yU=s64",
      "userId": "06663704523863131959"
     },
     "user_tz": -540
    },
    "id": "Qh0rkFSrAQ4p",
    "outputId": "86b62061-6f18-4a89-91c8-fa7b2706803f"
   },
   "outputs": [
    {
     "name": "stdout",
     "output_type": "stream",
     "text": [
      "[87, 56, 139, 224, 101, 116, 100, 100, 82, 106, 31, 59, 65, 316, 527, 76, 114, 17, 91, 77, 231, 108, 83, 29, 95, 110, 23, 373, 114, 354, 133, 222, 571, 155, 83, 208, 170, 269, 74, 19, 23, 78, 21, 377, 104, 299, 89, 56, 94, 139, 118, 36, 137, 107, 83, 66, 70, 112, 88, 51, 83, 123, 17, 185, 84, 52, 102, 73, 106, 486, 107, 82, 263, 172, 491, 190, 143, 62, 26, 88, 114, 38, 85, 112, 793, 104, 25, 21, 101, 28, 25, 81, 135, 73, 62, 18, 90, 266, 91, 64]\n"
     ]
    }
   ],
   "source": [
    "# Let's check for length of the first 100 documents.\n",
    "# We notice that the length is not uniform.\n",
    "print([len(a) for a in X_train[0:100]])"
   ]
  },
  {
   "cell_type": "code",
   "execution_count": 0,
   "metadata": {
    "colab": {
     "base_uri": "https://localhost:8080/",
     "height": 72
    },
    "colab_type": "code",
    "executionInfo": {
     "elapsed": 2975,
     "status": "ok",
     "timestamp": 1580430675856,
     "user": {
      "displayName": "brcnm ccdf",
      "photoUrl": "https://lh3.googleusercontent.com/a-/AAuE7mD_lCXfE1pl4eZy0f6YvnMk-QQild9PBznr84yU=s64",
      "userId": "06663704523863131959"
     },
     "user_tz": -540
    },
    "id": "4vzYWOrCAQ4t",
    "outputId": "ca8c430c-6465-44fd-e211-23aa91f5f7a8"
   },
   "outputs": [
    {
     "name": "stdout",
     "output_type": "stream",
     "text": [
      "Downloading data from https://storage.googleapis.com/tensorflow/tf-keras-datasets/reuters_word_index.json\n",
      "557056/550378 [==============================] - 0s 0us/step\n"
     ]
    }
   ],
   "source": [
    "# Download the dictionary to translate the indices.\n",
    "my_dict = get_word_index(path='reuters_word_index.json')"
   ]
  },
  {
   "cell_type": "code",
   "execution_count": 0,
   "metadata": {
    "colab": {},
    "colab_type": "code",
    "id": "zjX2oAlQAQ4y"
   },
   "outputs": [],
   "source": [
    "# To view the dictionary.\n",
    "# my_dict"
   ]
  },
  {
   "cell_type": "code",
   "execution_count": 0,
   "metadata": {
    "colab": {},
    "colab_type": "code",
    "id": "ud6dZbZyAQ44"
   },
   "outputs": [],
   "source": [
    "# Exchange the 'key' and 'value'.\n",
    "my_dict_inv = {v:k for k,v in my_dict.items()}"
   ]
  },
  {
   "cell_type": "code",
   "execution_count": 0,
   "metadata": {
    "colab": {
     "base_uri": "https://localhost:8080/",
     "height": 54
    },
    "colab_type": "code",
    "executionInfo": {
     "elapsed": 2891,
     "status": "ok",
     "timestamp": 1580430675866,
     "user": {
      "displayName": "brcnm ccdf",
      "photoUrl": "https://lh3.googleusercontent.com/a-/AAuE7mD_lCXfE1pl4eZy0f6YvnMk-QQild9PBznr84yU=s64",
      "userId": "06663704523863131959"
     },
     "user_tz": -540
    },
    "id": "wl4jRi3mAQ4-",
    "outputId": "61ea8174-ac3a-4d5b-85da-4c89205bdb6b"
   },
   "outputs": [
    {
     "name": "stdout",
     "output_type": "stream",
     "text": [
      "the federal gain only growth lt they meeting year reuter company did year an they of of reuter company of of 1987 had of of reuter had profits of pct dlrs\n"
     ]
    }
   ],
   "source": [
    "# Translate each document.\n",
    "i_news = 10                                        # Document number that can be changed at will.\n",
    "news = list(pd.Series(X_train[i_news]).apply(lambda x: my_dict_inv[x]))\n",
    "print(' '.join(news))"
   ]
  },
  {
   "cell_type": "markdown",
   "metadata": {
    "colab_type": "text",
    "id": "OWjhk7GkAQ5D"
   },
   "source": [
    "#### 1.3. Data preprocessing:"
   ]
  },
  {
   "cell_type": "code",
   "execution_count": 0,
   "metadata": {
    "colab": {},
    "colab_type": "code",
    "id": "bvlCYQyNAQ5E"
   },
   "outputs": [],
   "source": [
    "# Padding: newswire lengths are uniformly matched to maxlen.\n",
    "# Cut away if longer than maxlen and fill with 0s if shorter than maxlen.\n",
    "X_train = sequence.pad_sequences(X_train, maxlen = 100)\n",
    "X_test = sequence.pad_sequences(X_test, maxlen = 100)"
   ]
  },
  {
   "cell_type": "code",
   "execution_count": 0,
   "metadata": {
    "colab": {},
    "colab_type": "code",
    "id": "kpJ1Qv_oAQ5I"
   },
   "outputs": [],
   "source": [
    "# Apply one-hot-encoding to the y variable.\n",
    "y = np.concatenate([y_train,y_test],axis=0)\n",
    "y = to_categorical(y,46)\n",
    "y_train = y[:n_train_size,:]\n",
    "y_test = y[n_train_size:,:]"
   ]
  },
  {
   "cell_type": "markdown",
   "metadata": {
    "colab_type": "text",
    "id": "1BTaX9ToAQ5P"
   },
   "source": [
    "#### 1.4. Define the model:"
   ]
  },
  {
   "cell_type": "code",
   "execution_count": 0,
   "metadata": {
    "colab": {},
    "colab_type": "code",
    "id": "0lhNMfOMAQ5Q"
   },
   "outputs": [],
   "source": [
    "n_neurons = 100                   # Neurons within each memory cell.\n",
    "n_input = 100                     # Dimension of the embeding space. "
   ]
  },
  {
   "cell_type": "code",
   "execution_count": 0,
   "metadata": {
    "colab": {
     "base_uri": "https://localhost:8080/",
     "height": 143
    },
    "colab_type": "code",
    "executionInfo": {
     "elapsed": 3162,
     "status": "ok",
     "timestamp": 1580430676221,
     "user": {
      "displayName": "brcnm ccdf",
      "photoUrl": "https://lh3.googleusercontent.com/a-/AAuE7mD_lCXfE1pl4eZy0f6YvnMk-QQild9PBznr84yU=s64",
      "userId": "06663704523863131959"
     },
     "user_tz": -540
    },
    "id": "mPlByCpNAQ5V",
    "outputId": "6ebcfdf7-984e-4210-c740-f88ab113d26d"
   },
   "outputs": [
    {
     "name": "stdout",
     "output_type": "stream",
     "text": [
      "WARNING:tensorflow:From /usr/local/lib/python3.6/dist-packages/tensorflow_core/python/keras/initializers.py:119: calling RandomUniform.__init__ (from tensorflow.python.ops.init_ops) with dtype is deprecated and will be removed in a future version.\n",
      "Instructions for updating:\n",
      "Call initializer instance with the dtype argument instead of passing it to the constructor\n",
      "WARNING:tensorflow:From /usr/local/lib/python3.6/dist-packages/tensorflow_core/python/ops/resource_variable_ops.py:1630: calling BaseResourceVariable.__init__ (from tensorflow.python.ops.resource_variable_ops) with constraint is deprecated and will be removed in a future version.\n",
      "Instructions for updating:\n",
      "If using Keras pass *_constraint arguments to layers.\n"
     ]
    }
   ],
   "source": [
    "# LSTM network model.\n",
    "my_model = Sequential()\n",
    "my_model.add(Embedding(n_words, n_input))           # n_words = vocabulary size, n_input = dimension of the embedding space.\n",
    "my_model.add(LSTM(units=n_neurons, return_sequences=False, input_shape=(None, n_input), activation='tanh'))\n",
    "my_model.add(Dense(n_cat, activation='softmax'))"
   ]
  },
  {
   "cell_type": "code",
   "execution_count": 0,
   "metadata": {
    "colab": {
     "base_uri": "https://localhost:8080/",
     "height": 265
    },
    "colab_type": "code",
    "executionInfo": {
     "elapsed": 3115,
     "status": "ok",
     "timestamp": 1580430676227,
     "user": {
      "displayName": "brcnm ccdf",
      "photoUrl": "https://lh3.googleusercontent.com/a-/AAuE7mD_lCXfE1pl4eZy0f6YvnMk-QQild9PBznr84yU=s64",
      "userId": "06663704523863131959"
     },
     "user_tz": -540
    },
    "id": "EFQAtchFAQ5d",
    "outputId": "a269516f-470b-4a43-fc61-0b0b2a330d5e"
   },
   "outputs": [
    {
     "name": "stdout",
     "output_type": "stream",
     "text": [
      "Model: \"sequential\"\n",
      "_________________________________________________________________\n",
      "Layer (type)                 Output Shape              Param #   \n",
      "=================================================================\n",
      "embedding (Embedding)        (None, None, 100)         100000    \n",
      "_________________________________________________________________\n",
      "lstm (LSTM)                  (None, 100)               80400     \n",
      "_________________________________________________________________\n",
      "dense (Dense)                (None, 46)                4646      \n",
      "=================================================================\n",
      "Total params: 185,046\n",
      "Trainable params: 185,046\n",
      "Non-trainable params: 0\n",
      "_________________________________________________________________\n"
     ]
    }
   ],
   "source": [
    "# View the summary.\n",
    "my_model.summary()"
   ]
  },
  {
   "cell_type": "markdown",
   "metadata": {
    "colab_type": "text",
    "id": "wQBW9XXxAQ5i"
   },
   "source": [
    "#### 1.5. Define the optimizer and compile:"
   ]
  },
  {
   "cell_type": "code",
   "execution_count": 0,
   "metadata": {
    "colab": {},
    "colab_type": "code",
    "id": "u_pBoDv0AQ5j"
   },
   "outputs": [],
   "source": [
    "n_epochs = 20                      # Number of epochs.\n",
    "batch_size = 20                    # Size of each batch.\n",
    "learn_rate = 0.001                 # learning rate.  "
   ]
  },
  {
   "cell_type": "code",
   "execution_count": 0,
   "metadata": {
    "colab": {},
    "colab_type": "code",
    "id": "oudQv1QgAQ5o"
   },
   "outputs": [],
   "source": [
    "# Optimizer and compilation.\n",
    "my_optimizer=Adam(lr=learn_rate)\n",
    "my_model.compile(loss = \"categorical_crossentropy\", optimizer = my_optimizer, metrics=[\"accuracy\"])"
   ]
  },
  {
   "cell_type": "markdown",
   "metadata": {
    "colab_type": "text",
    "id": "8avFDp4KAQ5t"
   },
   "source": [
    "#### 1.6. Train the model and visualize the history:"
   ]
  },
  {
   "cell_type": "code",
   "execution_count": 0,
   "metadata": {
    "colab": {
     "base_uri": "https://localhost:8080/",
     "height": 818
    },
    "colab_type": "code",
    "executionInfo": {
     "elapsed": 927770,
     "status": "ok",
     "timestamp": 1580431600961,
     "user": {
      "displayName": "brcnm ccdf",
      "photoUrl": "https://lh3.googleusercontent.com/a-/AAuE7mD_lCXfE1pl4eZy0f6YvnMk-QQild9PBznr84yU=s64",
      "userId": "06663704523863131959"
     },
     "user_tz": -540
    },
    "id": "NIf4Ncz6AQ5u",
    "outputId": "4c7ee03b-57c9-4201-dcc4-0ac8b3ff6fe2"
   },
   "outputs": [
    {
     "name": "stdout",
     "output_type": "stream",
     "text": [
      "WARNING:tensorflow:From /usr/local/lib/python3.6/dist-packages/tensorflow_core/python/ops/math_grad.py:1424: where (from tensorflow.python.ops.array_ops) is deprecated and will be removed in a future version.\n",
      "Instructions for updating:\n",
      "Use tf.where in 2.0, which has the same broadcast rule as np.where\n",
      "Train on 6287 samples, validate on 1572 samples\n",
      "Epoch 1/20\n",
      "6287/6287 [==============================] - 47s 7ms/sample - loss: 2.3300 - acc: 0.4062 - val_loss: 1.9837 - val_acc: 0.4892\n",
      "Epoch 2/20\n",
      "6287/6287 [==============================] - 45s 7ms/sample - loss: 1.8113 - acc: 0.5368 - val_loss: 1.6759 - val_acc: 0.5751\n",
      "Epoch 3/20\n",
      "6287/6287 [==============================] - 45s 7ms/sample - loss: 1.6727 - acc: 0.5737 - val_loss: 1.7180 - val_acc: 0.5566\n",
      "Epoch 4/20\n",
      "6287/6287 [==============================] - 45s 7ms/sample - loss: 1.5603 - acc: 0.6046 - val_loss: 1.5064 - val_acc: 0.6234\n",
      "Epoch 5/20\n",
      "6287/6287 [==============================] - 46s 7ms/sample - loss: 1.5040 - acc: 0.6154 - val_loss: 1.4988 - val_acc: 0.6101\n",
      "Epoch 6/20\n",
      "6287/6287 [==============================] - 46s 7ms/sample - loss: 1.3814 - acc: 0.6434 - val_loss: 1.4094 - val_acc: 0.6387\n",
      "Epoch 7/20\n",
      "6287/6287 [==============================] - 45s 7ms/sample - loss: 1.2737 - acc: 0.6723 - val_loss: 1.3383 - val_acc: 0.6673\n",
      "Epoch 8/20\n",
      "6287/6287 [==============================] - 45s 7ms/sample - loss: 1.1991 - acc: 0.6909 - val_loss: 1.3126 - val_acc: 0.6724\n",
      "Epoch 9/20\n",
      "6287/6287 [==============================] - 45s 7ms/sample - loss: 1.1206 - acc: 0.7069 - val_loss: 1.3276 - val_acc: 0.6711\n",
      "Epoch 10/20\n",
      "6287/6287 [==============================] - 46s 7ms/sample - loss: 1.0525 - acc: 0.7279 - val_loss: 1.2747 - val_acc: 0.6870\n",
      "Epoch 11/20\n",
      "6287/6287 [==============================] - 46s 7ms/sample - loss: 0.9733 - acc: 0.7450 - val_loss: 1.3077 - val_acc: 0.6756\n",
      "Epoch 12/20\n",
      "6287/6287 [==============================] - 45s 7ms/sample - loss: 0.9322 - acc: 0.7609 - val_loss: 1.2450 - val_acc: 0.6959\n",
      "Epoch 13/20\n",
      "6287/6287 [==============================] - 46s 7ms/sample - loss: 0.8499 - acc: 0.7789 - val_loss: 1.3149 - val_acc: 0.6972\n",
      "Epoch 14/20\n",
      "6287/6287 [==============================] - 46s 7ms/sample - loss: 0.7870 - acc: 0.7996 - val_loss: 1.2326 - val_acc: 0.7099\n",
      "Epoch 15/20\n",
      "6287/6287 [==============================] - 46s 7ms/sample - loss: 0.7395 - acc: 0.8074 - val_loss: 1.2934 - val_acc: 0.7036\n",
      "Epoch 16/20\n",
      "6287/6287 [==============================] - 46s 7ms/sample - loss: 0.6637 - acc: 0.8330 - val_loss: 1.2945 - val_acc: 0.7023\n",
      "Epoch 17/20\n",
      "6287/6287 [==============================] - 46s 7ms/sample - loss: 0.6182 - acc: 0.8405 - val_loss: 1.3651 - val_acc: 0.6997\n",
      "Epoch 18/20\n",
      "6287/6287 [==============================] - 47s 7ms/sample - loss: 0.5630 - acc: 0.8564 - val_loss: 1.3495 - val_acc: 0.7061\n",
      "Epoch 19/20\n",
      "6287/6287 [==============================] - 47s 7ms/sample - loss: 0.5022 - acc: 0.8737 - val_loss: 1.4529 - val_acc: 0.7017\n",
      "Epoch 20/20\n",
      "6287/6287 [==============================] - 47s 7ms/sample - loss: 0.4641 - acc: 0.8796 - val_loss: 1.4114 - val_acc: 0.7188\n"
     ]
    }
   ],
   "source": [
    "my_summary = my_model.fit(X_train, y_train, epochs=n_epochs, batch_size = batch_size, validation_split=0.2, verbose = 1)"
   ]
  },
  {
   "cell_type": "code",
   "execution_count": 0,
   "metadata": {
    "colab": {
     "base_uri": "https://localhost:8080/",
     "height": 294
    },
    "colab_type": "code",
    "executionInfo": {
     "elapsed": 927756,
     "status": "ok",
     "timestamp": 1580431600971,
     "user": {
      "displayName": "brcnm ccdf",
      "photoUrl": "https://lh3.googleusercontent.com/a-/AAuE7mD_lCXfE1pl4eZy0f6YvnMk-QQild9PBznr84yU=s64",
      "userId": "06663704523863131959"
     },
     "user_tz": -540
    },
    "id": "-aGOB4LOAQ51",
    "outputId": "a7af7c66-b20b-47d2-fb1c-fbdf61f8e4ed"
   },
   "outputs": [
    {
     "data": {
      "image/png": "[encoded data removed]",
      "text/plain": [
       "<Figure size 432x288 with 1 Axes>"
      ]
     },
     "metadata": {
      "tags": []
     },
     "output_type": "display_data"
    }
   ],
   "source": [
    "plt.plot(my_summary.history['acc'], c=\"b\")\n",
    "plt.plot(my_summary.history['val_acc'], c=\"g\")\n",
    "plt.title('Training History')\n",
    "plt.ylabel('Accuracy')\n",
    "plt.xlabel('Epoch')\n",
    "plt.legend(['Train', 'Validation'], loc='lower right')\n",
    "plt.show()"
   ]
  },
  {
   "cell_type": "markdown",
   "metadata": {
    "colab_type": "text",
    "id": "u6vseoMMAQ55"
   },
   "source": [
    "#### 1.7. Testing: "
   ]
  },
  {
   "cell_type": "code",
   "execution_count": 0,
   "metadata": {
    "colab": {
     "base_uri": "https://localhost:8080/",
     "height": 34
    },
    "colab_type": "code",
    "executionInfo": {
     "elapsed": 931474,
     "status": "ok",
     "timestamp": 1580431604710,
     "user": {
      "displayName": "brcnm ccdf",
      "photoUrl": "https://lh3.googleusercontent.com/a-/AAuE7mD_lCXfE1pl4eZy0f6YvnMk-QQild9PBznr84yU=s64",
      "userId": "06663704523863131959"
     },
     "user_tz": -540
    },
    "id": "8n3gU_kcAQ56",
    "outputId": "e0ac5916-989f-4d90-ae15-28d5147a8a45"
   },
   "outputs": [
    {
     "name": "stdout",
     "output_type": "stream",
     "text": [
      "Test Accuracy : 0.6890000104904175\n"
     ]
    }
   ],
   "source": [
    "ACC = my_model.evaluate(X_test, y_test, verbose=0)[1]    \n",
    "print(\"Test Accuracy : {}\".format(np.round(ACC,3)))"
   ]
  },
  {
   "cell_type": "code",
   "execution_count": 0,
   "metadata": {
    "colab": {},
    "colab_type": "code",
    "id": "PhehxemoAQ5_"
   },
   "outputs": [],
   "source": []
  }
 ],
 "metadata": {
  "accelerator": "GPU",
  "colab": {
   "collapsed_sections": [],
   "name": "2. Keras LSTM(1)_200131.ipynb",
   "provenance": [],
   "toc_visible": true
  },
  "kernelspec": {
   "display_name": "Python 3",
   "language": "python",
   "name": "python3"
  },
  "language_info": {
   "codemirror_mode": {
    "name": "ipython",
    "version": 3
   },
   "file_extension": ".py",
   "mimetype": "text/x-python",
   "name": "python",
   "nbconvert_exporter": "python",
   "pygments_lexer": "ipython3",
   "version": "3.6.9"
  },
  "toc": {
   "base_numbering": 1,
   "nav_menu": {},
   "number_sections": true,
   "sideBar": true,
   "skip_h1_title": false,
   "title_cell": "Table of Contents",
   "title_sidebar": "Contents",
   "toc_cell": false,
   "toc_position": {
    "height": "calc(100% - 180px)",
    "left": "10px",
    "top": "150px",
    "width": "250.797px"
   },
   "toc_section_display": true,
   "toc_window_display": true
  },
  "varInspector": {
   "cols": {
    "lenName": 16,
    "lenType": 16,
    "lenVar": 40
   },
   "kernels_config": {
    "python": {
     "delete_cmd_postfix": "",
     "delete_cmd_prefix": "del ",
     "library": "var_list.py",
     "varRefreshCmd": "print(var_dic_list())"
    },
    "r": {
     "delete_cmd_postfix": ") ",
     "delete_cmd_prefix": "rm(",
     "library": "var_list.r",
     "varRefreshCmd": "cat(var_dic_list()) "
    }
   },
   "types_to_exclude": [
    "module",
    "function",
    "builtin_function_or_method",
    "instance",
    "_Feature"
   ],
   "window_display": false
  }
 },
 "nbformat": 4,
 "nbformat_minor": 1
}
