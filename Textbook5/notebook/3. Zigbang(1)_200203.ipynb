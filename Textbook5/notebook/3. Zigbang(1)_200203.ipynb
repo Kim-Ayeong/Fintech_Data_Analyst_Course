{
 "cells": [
  {
   "cell_type": "markdown",
   "metadata": {},
   "source": [
    "## 직방 아파트 가격 예측 : 결측치 처리 & 전처리"
   ]
  },
  {
   "cell_type": "code",
   "execution_count": 1,
   "metadata": {},
   "outputs": [],
   "source": [
    "import pandas as pd\n",
    "import numpy as np\n",
    "import os\n",
    "import warnings\n",
    "import matplotlib.pyplot as plt\n",
    "warnings.filterwarnings(action='ignore')                  # Turn off the warnings.\n",
    "from sklearn.linear_model import LinearRegression\n",
    "import os"
   ]
  },
  {
   "cell_type": "code",
   "execution_count": 2,
   "metadata": {},
   "outputs": [],
   "source": [
    "os.chdir(r'..\\data')"
   ]
  },
  {
   "cell_type": "markdown",
   "metadata": {},
   "source": [
    "### 1. 데이터 불러와서 살펴보기."
   ]
  },
  {
   "cell_type": "code",
   "execution_count": 3,
   "metadata": {},
   "outputs": [],
   "source": [
    "df = pd.read_csv('data_zigbang.csv', header='infer',encoding = 'latin')"
   ]
  },
  {
   "cell_type": "code",
   "execution_count": 4,
   "metadata": {},
   "outputs": [
    {
     "data": {
      "text/plain": [
       "(1601458, 25)"
      ]
     },
     "execution_count": 4,
     "metadata": {},
     "output_type": "execute_result"
    }
   ],
   "source": [
    "df.shape"
   ]
  },
  {
   "cell_type": "code",
   "execution_count": 5,
   "metadata": {},
   "outputs": [
    {
     "data": {
      "text/html": [
       "<div>\n",
       "<style scoped>\n",
       "    .dataframe tbody tr th:only-of-type {\n",
       "        vertical-align: middle;\n",
       "    }\n",
       "\n",
       "    .dataframe tbody tr th {\n",
       "        vertical-align: top;\n",
       "    }\n",
       "\n",
       "    .dataframe thead th {\n",
       "        text-align: right;\n",
       "    }\n",
       "</style>\n",
       "<table border=\"1\" class=\"dataframe\">\n",
       "  <thead>\n",
       "    <tr style=\"text-align: right;\">\n",
       "      <th></th>\n",
       "      <th>key</th>\n",
       "      <th>apartment_id</th>\n",
       "      <th>city</th>\n",
       "      <th>transaction_year_month</th>\n",
       "      <th>transaction_date</th>\n",
       "      <th>year_of_completion</th>\n",
       "      <th>exclusive_use_area</th>\n",
       "      <th>floor</th>\n",
       "      <th>latitude</th>\n",
       "      <th>longitude</th>\n",
       "      <th>...</th>\n",
       "      <th>lowest_building_in_sites</th>\n",
       "      <th>heat_type</th>\n",
       "      <th>heat_fuel</th>\n",
       "      <th>room_id</th>\n",
       "      <th>supply_area</th>\n",
       "      <th>total_household_count_of_area_type</th>\n",
       "      <th>room_count</th>\n",
       "      <th>bathroom_count</th>\n",
       "      <th>front_door_structure</th>\n",
       "      <th>transaction_real_price</th>\n",
       "    </tr>\n",
       "  </thead>\n",
       "  <tbody>\n",
       "    <tr>\n",
       "      <td>0</td>\n",
       "      <td>0</td>\n",
       "      <td>5584</td>\n",
       "      <td>1</td>\n",
       "      <td>200601</td>\n",
       "      <td>11~20</td>\n",
       "      <td>1999</td>\n",
       "      <td>47.43</td>\n",
       "      <td>6</td>\n",
       "      <td>37.585965</td>\n",
       "      <td>127.000231</td>\n",
       "      <td>...</td>\n",
       "      <td>4.0</td>\n",
       "      <td>individual</td>\n",
       "      <td>gas</td>\n",
       "      <td>91120</td>\n",
       "      <td>65.63</td>\n",
       "      <td>46</td>\n",
       "      <td>1.0</td>\n",
       "      <td>1.0</td>\n",
       "      <td>corridor</td>\n",
       "      <td>215000000</td>\n",
       "    </tr>\n",
       "    <tr>\n",
       "      <td>1</td>\n",
       "      <td>1</td>\n",
       "      <td>5584</td>\n",
       "      <td>1</td>\n",
       "      <td>200601</td>\n",
       "      <td>11~20</td>\n",
       "      <td>1999</td>\n",
       "      <td>44.37</td>\n",
       "      <td>8</td>\n",
       "      <td>37.585965</td>\n",
       "      <td>127.000231</td>\n",
       "      <td>...</td>\n",
       "      <td>4.0</td>\n",
       "      <td>individual</td>\n",
       "      <td>gas</td>\n",
       "      <td>91119</td>\n",
       "      <td>61.39</td>\n",
       "      <td>10</td>\n",
       "      <td>2.0</td>\n",
       "      <td>1.0</td>\n",
       "      <td>corridor</td>\n",
       "      <td>200000000</td>\n",
       "    </tr>\n",
       "    <tr>\n",
       "      <td>2</td>\n",
       "      <td>2</td>\n",
       "      <td>5059</td>\n",
       "      <td>1</td>\n",
       "      <td>200601</td>\n",
       "      <td>11~20</td>\n",
       "      <td>1992</td>\n",
       "      <td>54.70</td>\n",
       "      <td>8</td>\n",
       "      <td>37.580511</td>\n",
       "      <td>127.014016</td>\n",
       "      <td>...</td>\n",
       "      <td>9.0</td>\n",
       "      <td>individual</td>\n",
       "      <td>gas</td>\n",
       "      <td>8430</td>\n",
       "      <td>72.36</td>\n",
       "      <td>201</td>\n",
       "      <td>2.0</td>\n",
       "      <td>1.0</td>\n",
       "      <td>corridor</td>\n",
       "      <td>168000000</td>\n",
       "    </tr>\n",
       "  </tbody>\n",
       "</table>\n",
       "<p>3 rows × 25 columns</p>\n",
       "</div>"
      ],
      "text/plain": [
       "   key  apartment_id  city  transaction_year_month transaction_date  \\\n",
       "0    0          5584     1                  200601            11~20   \n",
       "1    1          5584     1                  200601            11~20   \n",
       "2    2          5059     1                  200601            11~20   \n",
       "\n",
       "   year_of_completion  exclusive_use_area  floor   latitude   longitude  ...  \\\n",
       "0                1999               47.43      6  37.585965  127.000231  ...   \n",
       "1                1999               44.37      8  37.585965  127.000231  ...   \n",
       "2                1992               54.70      8  37.580511  127.014016  ...   \n",
       "\n",
       "   lowest_building_in_sites   heat_type  heat_fuel  room_id  supply_area  \\\n",
       "0                       4.0  individual        gas    91120        65.63   \n",
       "1                       4.0  individual        gas    91119        61.39   \n",
       "2                       9.0  individual        gas     8430        72.36   \n",
       "\n",
       "   total_household_count_of_area_type room_count bathroom_count  \\\n",
       "0                                  46        1.0            1.0   \n",
       "1                                  10        2.0            1.0   \n",
       "2                                 201        2.0            1.0   \n",
       "\n",
       "   front_door_structure  transaction_real_price  \n",
       "0              corridor               215000000  \n",
       "1              corridor               200000000  \n",
       "2              corridor               168000000  \n",
       "\n",
       "[3 rows x 25 columns]"
      ]
     },
     "execution_count": 5,
     "metadata": {},
     "output_type": "execute_result"
    }
   ],
   "source": [
    "df.head(3)"
   ]
  },
  {
   "cell_type": "code",
   "execution_count": 6,
   "metadata": {},
   "outputs": [],
   "source": [
    "features = list(df.columns)"
   ]
  },
  {
   "cell_type": "code",
   "execution_count": 7,
   "metadata": {},
   "outputs": [
    {
     "name": "stdout",
     "output_type": "stream",
     "text": [
      "<class 'pandas.core.frame.DataFrame'>\n",
      "RangeIndex: 1601458 entries, 0 to 1601457\n",
      "Data columns (total 25 columns):\n",
      "key                                   1601458 non-null int64\n",
      "apartment_id                          1601458 non-null int64\n",
      "city                                  1601458 non-null int64\n",
      "transaction_year_month                1601458 non-null int64\n",
      "transaction_date                      1601458 non-null object\n",
      "year_of_completion                    1601458 non-null int64\n",
      "exclusive_use_area                    1601458 non-null float64\n",
      "floor                                 1601458 non-null int64\n",
      "latitude                              1601458 non-null float64\n",
      "longitude                             1601458 non-null float64\n",
      "address_by_law                        1601458 non-null int64\n",
      "total_parking_capacity_in_site        1509645 non-null float64\n",
      "total_household_count_in_sites        1601458 non-null int64\n",
      "apartment_building_count_in_sites     1601458 non-null int64\n",
      "tallest_building_in_sites             1601449 non-null float64\n",
      "lowest_building_in_sites              1601449 non-null float64\n",
      "heat_type                             1599441 non-null object\n",
      "heat_fuel                             1591791 non-null object\n",
      "room_id                               1601458 non-null int64\n",
      "supply_area                           1601458 non-null float64\n",
      "total_household_count_of_area_type    1601458 non-null int64\n",
      "room_count                            1600767 non-null float64\n",
      "bathroom_count                        1600767 non-null float64\n",
      "front_door_structure                  1587566 non-null object\n",
      "transaction_real_price                1601458 non-null int64\n",
      "dtypes: float64(9), int64(12), object(4)\n",
      "memory usage: 305.5+ MB\n"
     ]
    }
   ],
   "source": [
    "df.info()"
   ]
  },
  {
   "cell_type": "markdown",
   "metadata": {},
   "source": [
    "### 2. 결측치 처리."
   ]
  },
  {
   "cell_type": "code",
   "execution_count": 8,
   "metadata": {},
   "outputs": [
    {
     "data": {
      "text/plain": [
       "key                                   0.000000\n",
       "apartment_id                          0.000000\n",
       "city                                  0.000000\n",
       "transaction_year_month                0.000000\n",
       "transaction_date                      0.000000\n",
       "year_of_completion                    0.000000\n",
       "exclusive_use_area                    0.000000\n",
       "floor                                 0.000000\n",
       "latitude                              0.000000\n",
       "longitude                             0.000000\n",
       "address_by_law                        0.000000\n",
       "total_parking_capacity_in_site        0.057331\n",
       "total_household_count_in_sites        0.000000\n",
       "apartment_building_count_in_sites     0.000000\n",
       "tallest_building_in_sites             0.000006\n",
       "lowest_building_in_sites              0.000006\n",
       "heat_type                             0.001259\n",
       "heat_fuel                             0.006036\n",
       "room_id                               0.000000\n",
       "supply_area                           0.000000\n",
       "total_household_count_of_area_type    0.000000\n",
       "room_count                            0.000431\n",
       "bathroom_count                        0.000431\n",
       "front_door_structure                  0.008675\n",
       "transaction_real_price                0.000000\n",
       "dtype: float64"
      ]
     },
     "execution_count": 8,
     "metadata": {},
     "output_type": "execute_result"
    }
   ],
   "source": [
    "# 결측치 확인.\n",
    "(df.isnull()).mean(axis=0)"
   ]
  },
  {
   "cell_type": "markdown",
   "metadata": {},
   "source": [
    "#### total_parking_capacity_in_site 변수의 결측치 처리."
   ]
  },
  {
   "cell_type": "code",
   "execution_count": 9,
   "metadata": {},
   "outputs": [
    {
     "name": "stdout",
     "output_type": "stream",
     "text": [
      "0.902\n"
     ]
    }
   ],
   "source": [
    "# 다른 변수와 상관성 확인.\n",
    "print(np.round(df.total_household_count_in_sites.corr(df.total_parking_capacity_in_site),3))"
   ]
  },
  {
   "cell_type": "code",
   "execution_count": 10,
   "metadata": {},
   "outputs": [],
   "source": [
    "# 선형회귀.\n",
    "reg = LinearRegression()\n",
    "X = df['total_household_count_in_sites']\n",
    "Y = df['total_parking_capacity_in_site']\n",
    "X_train = X[-Y.isnull()]\n",
    "Y_train = Y[-Y.isnull()]\n",
    "reg.fit(np.array(X_train).reshape(-1,1), np.array(Y_train).reshape(-1,1));"
   ]
  },
  {
   "cell_type": "code",
   "execution_count": 11,
   "metadata": {},
   "outputs": [
    {
     "name": "stdout",
     "output_type": "stream",
     "text": [
      "0\n"
     ]
    }
   ],
   "source": [
    "# 결측치만 예측해서 대체.\n",
    "Y_fill = reg.predict(np.array(X).reshape(-1,1))\n",
    "df['total_parking_capacity_in_site'][Y.isnull()] = Y_fill[Y.isnull()]\n",
    "print(df['total_parking_capacity_in_site'].isnull().sum())                # 결측치 0개 확인."
   ]
  },
  {
   "cell_type": "markdown",
   "metadata": {},
   "source": [
    "#### room_count 변수의 결측치 처리."
   ]
  },
  {
   "cell_type": "code",
   "execution_count": 12,
   "metadata": {},
   "outputs": [
    {
     "name": "stdout",
     "output_type": "stream",
     "text": [
      "0.769\n",
      "0.758\n"
     ]
    }
   ],
   "source": [
    "# 다른 변수와 상관성 확인.\n",
    "print(np.round(df.room_count.corr(df.exclusive_use_area),3))\n",
    "print(np.round(df.room_count.corr(df.supply_area),3))"
   ]
  },
  {
   "cell_type": "code",
   "execution_count": 13,
   "metadata": {},
   "outputs": [],
   "source": [
    "# 선형회귀.\n",
    "reg = LinearRegression()\n",
    "X = df[['exclusive_use_area','supply_area']]\n",
    "Y = df['room_count']\n",
    "X_train = X[-Y.isnull()]\n",
    "Y_train = Y[-Y.isnull()]\n",
    "reg.fit(np.array(X_train), np.array(Y_train).reshape(-1,1));"
   ]
  },
  {
   "cell_type": "code",
   "execution_count": 14,
   "metadata": {},
   "outputs": [
    {
     "name": "stdout",
     "output_type": "stream",
     "text": [
      "0\n"
     ]
    }
   ],
   "source": [
    "# 결측치만 예측해서 대체.\n",
    "Y_fill = reg.predict(X)\n",
    "df['room_count'][Y.isnull()] = Y_fill[Y.isnull()].round()\n",
    "print(df['room_count'].isnull().sum())                # 결측치 0개 확인."
   ]
  },
  {
   "cell_type": "code",
   "execution_count": 15,
   "metadata": {},
   "outputs": [
    {
     "data": {
      "text/plain": [
       "3.0    1085967\n",
       "2.0     249807\n",
       "4.0     208101\n",
       "1.0      34311\n",
       "5.0      18468\n",
       "0.0       3231\n",
       "6.0       1519\n",
       "7.0         38\n",
       "8.0         16\n",
       "Name: room_count, dtype: int64"
      ]
     },
     "execution_count": 15,
     "metadata": {},
     "output_type": "execute_result"
    }
   ],
   "source": [
    "# room_count의 도수분포 보기.\n",
    "df['room_count'].value_counts()"
   ]
  },
  {
   "cell_type": "markdown",
   "metadata": {},
   "source": [
    "#### bathroom_count 변수의 결측치 처리."
   ]
  },
  {
   "cell_type": "code",
   "execution_count": 16,
   "metadata": {},
   "outputs": [
    {
     "name": "stdout",
     "output_type": "stream",
     "text": [
      "0.648\n",
      "0.654\n",
      "0.565\n"
     ]
    }
   ],
   "source": [
    "# 다른 변수와 상관성 확인.\n",
    "print(np.round(df.bathroom_count.corr(df.exclusive_use_area),3))\n",
    "print(np.round(df.bathroom_count.corr(df.supply_area),3))\n",
    "print(np.round(df.bathroom_count.corr(df.room_count),3))"
   ]
  },
  {
   "cell_type": "code",
   "execution_count": 17,
   "metadata": {},
   "outputs": [],
   "source": [
    "# 선형회귀.\n",
    "reg = LinearRegression()\n",
    "X = df[['exclusive_use_area','supply_area','room_count']]\n",
    "Y = df['bathroom_count']\n",
    "X_train = X[-Y.isnull()]\n",
    "Y_train = Y[-Y.isnull()]\n",
    "reg.fit(np.array(X_train), np.array(Y_train).reshape(-1,1));"
   ]
  },
  {
   "cell_type": "code",
   "execution_count": 18,
   "metadata": {},
   "outputs": [
    {
     "name": "stdout",
     "output_type": "stream",
     "text": [
      "0\n"
     ]
    }
   ],
   "source": [
    "# 결측치만 예측해서 대체.\n",
    "Y_fill = reg.predict(X)\n",
    "df['bathroom_count'][Y.isnull()] = Y_fill[Y.isnull()].round()\n",
    "print(df['bathroom_count'].isnull().sum())                # 결측치 0개 확인."
   ]
  },
  {
   "cell_type": "code",
   "execution_count": 19,
   "metadata": {},
   "outputs": [
    {
     "data": {
      "text/plain": [
       "2.0    926987\n",
       "1.0    663278\n",
       "3.0      7627\n",
       "0.0      3231\n",
       "4.0       334\n",
       "5.0         1\n",
       "Name: bathroom_count, dtype: int64"
      ]
     },
     "execution_count": 19,
     "metadata": {},
     "output_type": "execute_result"
    }
   ],
   "source": [
    "# bathroom_count의 도수분포 보기.\n",
    "df['bathroom_count'].value_counts()"
   ]
  },
  {
   "cell_type": "markdown",
   "metadata": {},
   "source": [
    "#### tallest_building_in_sites 와 lowest_building_in_sites 결측치 처리."
   ]
  },
  {
   "cell_type": "code",
   "execution_count": 20,
   "metadata": {},
   "outputs": [],
   "source": [
    "i = df.tallest_building_in_sites.isnull()\n",
    "avg = np.round(df['tallest_building_in_sites'].mean())\n",
    "df.loc[i,'tallest_building_in_sites'] = avg"
   ]
  },
  {
   "cell_type": "code",
   "execution_count": 21,
   "metadata": {},
   "outputs": [],
   "source": [
    "i = df.lowest_building_in_sites.isnull()\n",
    "avg = np.round(df['lowest_building_in_sites'].mean())\n",
    "df.loc[i,'lowest_building_in_sites'] = avg"
   ]
  },
  {
   "cell_type": "markdown",
   "metadata": {},
   "source": [
    "### 3. 데이터 간추리기."
   ]
  },
  {
   "cell_type": "code",
   "execution_count": 22,
   "metadata": {},
   "outputs": [],
   "source": [
    "# key 변수 제거.\n",
    "df.drop(columns=['key'],inplace=True)"
   ]
  },
  {
   "cell_type": "code",
   "execution_count": 23,
   "metadata": {},
   "outputs": [],
   "source": [
    "# city = 1 서울 선택 (city=0 부산 제거).\n",
    "# city 변수 제거.\n",
    "df = df[df['city'] == 1]\n",
    "df.drop(columns=['city'],inplace=True)"
   ]
  },
  {
   "cell_type": "code",
   "execution_count": 24,
   "metadata": {},
   "outputs": [],
   "source": [
    "# transaction_year_month > 201600.\n",
    "df = df[df['transaction_year_month'] > 201600]"
   ]
  },
  {
   "cell_type": "code",
   "execution_count": 25,
   "metadata": {},
   "outputs": [],
   "source": [
    "# 이외 불필요 변수 제거.\n",
    "df.drop(columns=['heat_type','heat_fuel','front_door_structure'],inplace=True)  "
   ]
  },
  {
   "cell_type": "code",
   "execution_count": 26,
   "metadata": {},
   "outputs": [
    {
     "data": {
      "text/plain": [
       "(301400, 20)"
      ]
     },
     "execution_count": 26,
     "metadata": {},
     "output_type": "execute_result"
    }
   ],
   "source": [
    "# 모양.\n",
    "df.shape"
   ]
  },
  {
   "cell_type": "code",
   "execution_count": 27,
   "metadata": {},
   "outputs": [
    {
     "data": {
      "text/plain": [
       "apartment_id                          0\n",
       "transaction_year_month                0\n",
       "transaction_date                      0\n",
       "year_of_completion                    0\n",
       "exclusive_use_area                    0\n",
       "floor                                 0\n",
       "latitude                              0\n",
       "longitude                             0\n",
       "address_by_law                        0\n",
       "total_parking_capacity_in_site        0\n",
       "total_household_count_in_sites        0\n",
       "apartment_building_count_in_sites     0\n",
       "tallest_building_in_sites             0\n",
       "lowest_building_in_sites              0\n",
       "room_id                               0\n",
       "supply_area                           0\n",
       "total_household_count_of_area_type    0\n",
       "room_count                            0\n",
       "bathroom_count                        0\n",
       "transaction_real_price                0\n",
       "dtype: int64"
      ]
     },
     "execution_count": 27,
     "metadata": {},
     "output_type": "execute_result"
    }
   ],
   "source": [
    "# 결측치 최종 집계.\n",
    "df.isnull().sum()"
   ]
  },
  {
   "cell_type": "code",
   "execution_count": 28,
   "metadata": {},
   "outputs": [],
   "source": [
    "# index 리셋.\n",
    "df.index = range(df.shape[0])"
   ]
  },
  {
   "cell_type": "markdown",
   "metadata": {},
   "source": [
    "### 4. 데이터 전처리."
   ]
  },
  {
   "cell_type": "markdown",
   "metadata": {},
   "source": [
    "#### transaction_year_month로 파생변수 만들기."
   ]
  },
  {
   "cell_type": "code",
   "execution_count": 29,
   "metadata": {},
   "outputs": [],
   "source": [
    "# transaction_year 파생변수.\n",
    "df['transaction_year']=df['transaction_year_month'].apply(lambda x : int(str(x)[:4]))"
   ]
  },
  {
   "cell_type": "code",
   "execution_count": 30,
   "metadata": {},
   "outputs": [],
   "source": [
    "# transaction_month 파생변수.\n",
    "df['transaction_month']=df['transaction_year_month'].apply(lambda x : int(str(x)[4:]))"
   ]
  },
  {
   "cell_type": "code",
   "execution_count": 31,
   "metadata": {},
   "outputs": [],
   "source": [
    "i1 = (1 <= df.transaction_month) & (df.transaction_month <=3)  # 1사분기\n",
    "i2 = (4 <= df.transaction_month) & (df.transaction_month <=6)  # 2사분기\n",
    "i3 = (7 <= df.transaction_month) & (df.transaction_month <=9)  # 3사분기\n",
    "i4 = (9 <= df.transaction_month) & (df.transaction_month <=12)  # 4사분기"
   ]
  },
  {
   "cell_type": "code",
   "execution_count": 32,
   "metadata": {},
   "outputs": [],
   "source": [
    "# transaction_quarter 파생변수.\n",
    "df['transaction_quarter'] = df['transaction_month']\n",
    "df['transaction_quarter'][i1] = 1\n",
    "df['transaction_quarter'][i2] = 2\n",
    "df['transaction_quarter'][i3] = 3\n",
    "df['transaction_quarter'][i4] = 4"
   ]
  },
  {
   "cell_type": "markdown",
   "metadata": {},
   "source": [
    "#### old = transaction_year - year_of_completion 파생변수 만들기."
   ]
  },
  {
   "cell_type": "code",
   "execution_count": 33,
   "metadata": {},
   "outputs": [],
   "source": [
    "df['old'] = df.transaction_year - df.year_of_completion"
   ]
  },
  {
   "cell_type": "markdown",
   "metadata": {},
   "source": [
    "#### transaction_date 변환."
   ]
  },
  {
   "cell_type": "code",
   "execution_count": 34,
   "metadata": {},
   "outputs": [],
   "source": [
    "i1 = df.transaction_date == '1~10'  \n",
    "i2 = df.transaction_date == '11~20'  \n",
    "i3 = (df.transaction_date != '1~10') & (df.transaction_date != '11~20')"
   ]
  },
  {
   "cell_type": "code",
   "execution_count": 35,
   "metadata": {},
   "outputs": [],
   "source": [
    "df['transaction_date'] = 0   # 먼저 integer로 변환.\n",
    "df['transaction_date'][i1] = 5\n",
    "df['transaction_date'][i2] = 15\n",
    "df['transaction_date'][i3] = 25"
   ]
  },
  {
   "cell_type": "markdown",
   "metadata": {},
   "source": [
    "#### 전용면적 비율."
   ]
  },
  {
   "cell_type": "code",
   "execution_count": 36,
   "metadata": {},
   "outputs": [],
   "source": [
    "df['area_ratio'] = df['exclusive_use_area']/df['supply_area']"
   ]
  },
  {
   "cell_type": "markdown",
   "metadata": {},
   "source": [
    "#### 아파트별 주차장."
   ]
  },
  {
   "cell_type": "code",
   "execution_count": 37,
   "metadata": {},
   "outputs": [],
   "source": [
    "df['parking_household'] = df['total_parking_capacity_in_site']/df['total_household_count_in_sites']"
   ]
  },
  {
   "cell_type": "markdown",
   "metadata": {},
   "source": [
    "#### transaction_real_price 로그로 변환된 변수."
   ]
  },
  {
   "cell_type": "code",
   "execution_count": 38,
   "metadata": {},
   "outputs": [],
   "source": [
    "df['y'] = np.log(df['transaction_real_price'])"
   ]
  },
  {
   "cell_type": "markdown",
   "metadata": {},
   "source": [
    "### 5. 외부 파일로 출력."
   ]
  },
  {
   "cell_type": "code",
   "execution_count": 39,
   "metadata": {},
   "outputs": [],
   "source": [
    "df.to_csv('data_zigbang_2.csv',index=False)"
   ]
  },
  {
   "cell_type": "code",
   "execution_count": null,
   "metadata": {},
   "outputs": [],
   "source": []
  }
 ],
 "metadata": {
  "kernelspec": {
   "display_name": "Python 3",
   "language": "python",
   "name": "python3"
  },
  "language_info": {
   "codemirror_mode": {
    "name": "ipython",
    "version": 3
   },
   "file_extension": ".py",
   "mimetype": "text/x-python",
   "name": "python",
   "nbconvert_exporter": "python",
   "pygments_lexer": "ipython3",
   "version": "3.6.9"
  },
  "toc": {
   "base_numbering": 1,
   "nav_menu": {},
   "number_sections": true,
   "sideBar": true,
   "skip_h1_title": false,
   "title_cell": "Table of Contents",
   "title_sidebar": "Contents",
   "toc_cell": false,
   "toc_position": {},
   "toc_section_display": true,
   "toc_window_display": true
  },
  "varInspector": {
   "cols": {
    "lenName": 16,
    "lenType": 16,
    "lenVar": 40
   },
   "kernels_config": {
    "python": {
     "delete_cmd_postfix": "",
     "delete_cmd_prefix": "del ",
     "library": "var_list.py",
     "varRefreshCmd": "print(var_dic_list())"
    },
    "r": {
     "delete_cmd_postfix": ") ",
     "delete_cmd_prefix": "rm(",
     "library": "var_list.r",
     "varRefreshCmd": "cat(var_dic_list()) "
    }
   },
   "types_to_exclude": [
    "module",
    "function",
    "builtin_function_or_method",
    "instance",
    "_Feature"
   ],
   "window_display": false
  }
 },
 "nbformat": 4,
 "nbformat_minor": 2
}
