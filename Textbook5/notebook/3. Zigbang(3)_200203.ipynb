{
 "cells": [
  {
   "cell_type": "markdown",
   "metadata": {},
   "source": [
    "## 직방 아파트 가격 예측 : 모델링"
   ]
  },
  {
   "cell_type": "code",
   "execution_count": 1,
   "metadata": {},
   "outputs": [],
   "source": [
    "import pandas as pd\n",
    "import numpy as np\n",
    "import seaborn as sns\n",
    "import os\n",
    "import warnings\n",
    "import matplotlib.pyplot as plt\n",
    "from sklearn.linear_model import LinearRegression\n",
    "from sklearn.model_selection import train_test_split\n",
    "import statsmodels.formula.api as smf\n",
    "warnings.filterwarnings(action='ignore')                  # Turn off the warnings."
   ]
  },
  {
   "cell_type": "markdown",
   "metadata": {},
   "source": [
    "### 1. 데이터 불러와서 살펴보기."
   ]
  },
  {
   "cell_type": "code",
   "execution_count": 2,
   "metadata": {},
   "outputs": [],
   "source": [
    "os.chdir(r'..\\data')"
   ]
  },
  {
   "cell_type": "code",
   "execution_count": 3,
   "metadata": {},
   "outputs": [],
   "source": [
    "df = pd.read_csv('data_zigbang_3.csv', header='infer',encoding = 'latin')"
   ]
  },
  {
   "cell_type": "code",
   "execution_count": 4,
   "metadata": {},
   "outputs": [
    {
     "data": {
      "text/plain": [
       "(301400, 32)"
      ]
     },
     "execution_count": 4,
     "metadata": {},
     "output_type": "execute_result"
    }
   ],
   "source": [
    "df.shape"
   ]
  },
  {
   "cell_type": "code",
   "execution_count": 5,
   "metadata": {},
   "outputs": [
    {
     "data": {
      "text/html": [
       "<div>\n",
       "<style scoped>\n",
       "    .dataframe tbody tr th:only-of-type {\n",
       "        vertical-align: middle;\n",
       "    }\n",
       "\n",
       "    .dataframe tbody tr th {\n",
       "        vertical-align: top;\n",
       "    }\n",
       "\n",
       "    .dataframe thead th {\n",
       "        text-align: right;\n",
       "    }\n",
       "</style>\n",
       "<table border=\"1\" class=\"dataframe\">\n",
       "  <thead>\n",
       "    <tr style=\"text-align: right;\">\n",
       "      <th></th>\n",
       "      <th>apartment_id</th>\n",
       "      <th>transaction_year_month</th>\n",
       "      <th>transaction_date</th>\n",
       "      <th>year_of_completion</th>\n",
       "      <th>exclusive_use_area</th>\n",
       "      <th>floor</th>\n",
       "      <th>latitude</th>\n",
       "      <th>longitude</th>\n",
       "      <th>address_by_law</th>\n",
       "      <th>total_parking_capacity_in_site</th>\n",
       "      <th>...</th>\n",
       "      <th>transaction_quarter</th>\n",
       "      <th>old</th>\n",
       "      <th>area_ratio</th>\n",
       "      <th>parking_household</th>\n",
       "      <th>y</th>\n",
       "      <th>old_cat</th>\n",
       "      <th>room_count_cat</th>\n",
       "      <th>bathroom_count_cat</th>\n",
       "      <th>parking_household_cat</th>\n",
       "      <th>floor_cat</th>\n",
       "    </tr>\n",
       "  </thead>\n",
       "  <tbody>\n",
       "    <tr>\n",
       "      <td>0</td>\n",
       "      <td>15492</td>\n",
       "      <td>201601</td>\n",
       "      <td>15</td>\n",
       "      <td>2008</td>\n",
       "      <td>94.51</td>\n",
       "      <td>2</td>\n",
       "      <td>37.574417</td>\n",
       "      <td>126.968883</td>\n",
       "      <td>1111011500</td>\n",
       "      <td>1480.0</td>\n",
       "      <td>...</td>\n",
       "      <td>1</td>\n",
       "      <td>8</td>\n",
       "      <td>0.834599</td>\n",
       "      <td>2.252664</td>\n",
       "      <td>20.554847</td>\n",
       "      <td>a</td>\n",
       "      <td>b</td>\n",
       "      <td>b</td>\n",
       "      <td>b</td>\n",
       "      <td>a</td>\n",
       "    </tr>\n",
       "    <tr>\n",
       "      <td>1</td>\n",
       "      <td>15492</td>\n",
       "      <td>201601</td>\n",
       "      <td>15</td>\n",
       "      <td>2008</td>\n",
       "      <td>94.28</td>\n",
       "      <td>12</td>\n",
       "      <td>37.574417</td>\n",
       "      <td>126.968883</td>\n",
       "      <td>1111011500</td>\n",
       "      <td>1480.0</td>\n",
       "      <td>...</td>\n",
       "      <td>1</td>\n",
       "      <td>8</td>\n",
       "      <td>0.834706</td>\n",
       "      <td>2.252664</td>\n",
       "      <td>20.500122</td>\n",
       "      <td>a</td>\n",
       "      <td>b</td>\n",
       "      <td>b</td>\n",
       "      <td>b</td>\n",
       "      <td>a</td>\n",
       "    </tr>\n",
       "    <tr>\n",
       "      <td>2</td>\n",
       "      <td>9174</td>\n",
       "      <td>201601</td>\n",
       "      <td>15</td>\n",
       "      <td>2003</td>\n",
       "      <td>48.54</td>\n",
       "      <td>9</td>\n",
       "      <td>37.575113</td>\n",
       "      <td>126.990056</td>\n",
       "      <td>1111013300</td>\n",
       "      <td>228.0</td>\n",
       "      <td>...</td>\n",
       "      <td>1</td>\n",
       "      <td>13</td>\n",
       "      <td>0.806983</td>\n",
       "      <td>0.783505</td>\n",
       "      <td>19.519293</td>\n",
       "      <td>a</td>\n",
       "      <td>b</td>\n",
       "      <td>b</td>\n",
       "      <td>a</td>\n",
       "      <td>a</td>\n",
       "    </tr>\n",
       "  </tbody>\n",
       "</table>\n",
       "<p>3 rows × 32 columns</p>\n",
       "</div>"
      ],
      "text/plain": [
       "   apartment_id  transaction_year_month  transaction_date  year_of_completion  \\\n",
       "0         15492                  201601                15                2008   \n",
       "1         15492                  201601                15                2008   \n",
       "2          9174                  201601                15                2003   \n",
       "\n",
       "   exclusive_use_area  floor   latitude   longitude  address_by_law  \\\n",
       "0               94.51      2  37.574417  126.968883      1111011500   \n",
       "1               94.28     12  37.574417  126.968883      1111011500   \n",
       "2               48.54      9  37.575113  126.990056      1111013300   \n",
       "\n",
       "   total_parking_capacity_in_site  ...  transaction_quarter  old  area_ratio  \\\n",
       "0                          1480.0  ...                    1    8    0.834599   \n",
       "1                          1480.0  ...                    1    8    0.834706   \n",
       "2                           228.0  ...                    1   13    0.806983   \n",
       "\n",
       "   parking_household          y  old_cat  room_count_cat  bathroom_count_cat  \\\n",
       "0           2.252664  20.554847        a               b                   b   \n",
       "1           2.252664  20.500122        a               b                   b   \n",
       "2           0.783505  19.519293        a               b                   b   \n",
       "\n",
       "   parking_household_cat  floor_cat  \n",
       "0                      b          a  \n",
       "1                      b          a  \n",
       "2                      a          a  \n",
       "\n",
       "[3 rows x 32 columns]"
      ]
     },
     "execution_count": 5,
     "metadata": {},
     "output_type": "execute_result"
    }
   ],
   "source": [
    "df.head(3)"
   ]
  },
  {
   "cell_type": "markdown",
   "metadata": {},
   "source": [
    "### 2. 가변수."
   ]
  },
  {
   "cell_type": "code",
   "execution_count": 6,
   "metadata": {},
   "outputs": [],
   "source": [
    "df = pd.get_dummies(df,drop_first=True)"
   ]
  },
  {
   "cell_type": "code",
   "execution_count": 7,
   "metadata": {},
   "outputs": [
    {
     "data": {
      "text/plain": [
       "(301400, 34)"
      ]
     },
     "execution_count": 7,
     "metadata": {},
     "output_type": "execute_result"
    }
   ],
   "source": [
    "df.shape"
   ]
  },
  {
   "cell_type": "code",
   "execution_count": 8,
   "metadata": {},
   "outputs": [],
   "source": [
    "features = list(df.columns)"
   ]
  },
  {
   "cell_type": "code",
   "execution_count": 9,
   "metadata": {},
   "outputs": [],
   "source": [
    "exclude_list = ['y', 'transaction_real_price', 'apartment_id', 'latitude', 'longitude', 'room_id', 'address_by_law']\n",
    "X_features = [ x for x in df.columns if x not in exclude_list ]"
   ]
  },
  {
   "cell_type": "code",
   "execution_count": 10,
   "metadata": {},
   "outputs": [
    {
     "data": {
      "text/plain": [
       "['transaction_year_month',\n",
       " 'transaction_date',\n",
       " 'year_of_completion',\n",
       " 'exclusive_use_area',\n",
       " 'floor',\n",
       " 'total_parking_capacity_in_site',\n",
       " 'total_household_count_in_sites',\n",
       " 'apartment_building_count_in_sites',\n",
       " 'tallest_building_in_sites',\n",
       " 'lowest_building_in_sites',\n",
       " 'supply_area',\n",
       " 'total_household_count_of_area_type',\n",
       " 'room_count',\n",
       " 'bathroom_count',\n",
       " 'transaction_year',\n",
       " 'transaction_month',\n",
       " 'transaction_quarter',\n",
       " 'old',\n",
       " 'area_ratio',\n",
       " 'parking_household',\n",
       " 'old_cat_b',\n",
       " 'old_cat_c',\n",
       " 'room_count_cat_b',\n",
       " 'bathroom_count_cat_b',\n",
       " 'parking_household_cat_b',\n",
       " 'floor_cat_b',\n",
       " 'floor_cat_c']"
      ]
     },
     "execution_count": 10,
     "metadata": {},
     "output_type": "execute_result"
    }
   ],
   "source": [
    "X_features"
   ]
  },
  {
   "cell_type": "markdown",
   "metadata": {},
   "source": [
    "### 3. R 스타일의 formula를 사용한 모델링."
   ]
  },
  {
   "cell_type": "code",
   "execution_count": 11,
   "metadata": {},
   "outputs": [
    {
     "data": {
      "text/html": [
       "<table class=\"simpletable\">\n",
       "<caption>OLS Regression Results</caption>\n",
       "<tr>\n",
       "  <th>Dep. Variable:</th>    <td>transaction_real_price</td> <th>  R-squared:         </th>  <td>   0.525</td>  \n",
       "</tr>\n",
       "<tr>\n",
       "  <th>Model:</th>                      <td>OLS</td>          <th>  Adj. R-squared:    </th>  <td>   0.525</td>  \n",
       "</tr>\n",
       "<tr>\n",
       "  <th>Method:</th>                <td>Least Squares</td>     <th>  F-statistic:       </th>  <td>1.386e+04</td> \n",
       "</tr>\n",
       "<tr>\n",
       "  <th>Date:</th>                <td>Wed, 05 Feb 2020</td>    <th>  Prob (F-statistic):</th>   <td>  0.00</td>   \n",
       "</tr>\n",
       "<tr>\n",
       "  <th>Time:</th>                    <td>13:50:10</td>        <th>  Log-Likelihood:    </th> <td>-6.2943e+06</td>\n",
       "</tr>\n",
       "<tr>\n",
       "  <th>No. Observations:</th>         <td>301400</td>         <th>  AIC:               </th>  <td>1.259e+07</td> \n",
       "</tr>\n",
       "<tr>\n",
       "  <th>Df Residuals:</th>             <td>301375</td>         <th>  BIC:               </th>  <td>1.259e+07</td> \n",
       "</tr>\n",
       "<tr>\n",
       "  <th>Df Model:</th>                 <td>    24</td>         <th>                     </th>      <td> </td>     \n",
       "</tr>\n",
       "<tr>\n",
       "  <th>Covariance Type:</th>         <td>nonrobust</td>       <th>                     </th>      <td> </td>     \n",
       "</tr>\n",
       "</table>\n",
       "<table class=\"simpletable\">\n",
       "<tr>\n",
       "                   <td></td>                     <th>coef</th>     <th>std err</th>      <th>t</th>      <th>P>|t|</th>  <th>[0.025</th>    <th>0.975]</th>  \n",
       "</tr>\n",
       "<tr>\n",
       "  <th>Intercept</th>                          <td>-1.439e+11</td> <td> 1.93e+09</td> <td>  -74.457</td> <td> 0.000</td> <td>-1.48e+11</td> <td> -1.4e+11</td>\n",
       "</tr>\n",
       "<tr>\n",
       "  <th>transaction_year_month</th>             <td> 4.652e+12</td> <td> 1.78e+13</td> <td>    0.262</td> <td> 0.793</td> <td>-3.01e+13</td> <td> 3.94e+13</td>\n",
       "</tr>\n",
       "<tr>\n",
       "  <th>transaction_date</th>                   <td> 3.972e+05</td> <td> 6.35e+04</td> <td>    6.260</td> <td> 0.000</td> <td> 2.73e+05</td> <td> 5.22e+05</td>\n",
       "</tr>\n",
       "<tr>\n",
       "  <th>year_of_completion</th>                 <td>-2.479e+12</td> <td> 9.46e+12</td> <td>   -0.262</td> <td> 0.793</td> <td> -2.1e+13</td> <td> 1.61e+13</td>\n",
       "</tr>\n",
       "<tr>\n",
       "  <th>exclusive_use_area</th>                 <td> 4.865e+06</td> <td> 3.01e+05</td> <td>   16.147</td> <td> 0.000</td> <td> 4.27e+06</td> <td> 5.46e+06</td>\n",
       "</tr>\n",
       "<tr>\n",
       "  <th>floor</th>                              <td> 2.102e+06</td> <td> 1.27e+05</td> <td>   16.606</td> <td> 0.000</td> <td> 1.85e+06</td> <td> 2.35e+06</td>\n",
       "</tr>\n",
       "<tr>\n",
       "  <th>total_parking_capacity_in_site</th>     <td> 5.182e+04</td> <td> 1266.161</td> <td>   40.926</td> <td> 0.000</td> <td> 4.93e+04</td> <td> 5.43e+04</td>\n",
       "</tr>\n",
       "<tr>\n",
       "  <th>total_household_count_in_sites</th>     <td>-9.807e+04</td> <td> 1859.369</td> <td>  -52.744</td> <td> 0.000</td> <td>-1.02e+05</td> <td>-9.44e+04</td>\n",
       "</tr>\n",
       "<tr>\n",
       "  <th>apartment_building_count_in_sites</th>  <td> 9.227e+06</td> <td>  8.1e+04</td> <td>  113.978</td> <td> 0.000</td> <td> 9.07e+06</td> <td> 9.39e+06</td>\n",
       "</tr>\n",
       "<tr>\n",
       "  <th>tallest_building_in_sites</th>          <td>  1.68e+06</td> <td>  1.3e+05</td> <td>   12.964</td> <td> 0.000</td> <td> 1.43e+06</td> <td> 1.93e+06</td>\n",
       "</tr>\n",
       "<tr>\n",
       "  <th>lowest_building_in_sites</th>           <td> 7.715e+06</td> <td>  1.2e+05</td> <td>   64.488</td> <td> 0.000</td> <td> 7.48e+06</td> <td> 7.95e+06</td>\n",
       "</tr>\n",
       "<tr>\n",
       "  <th>supply_area</th>                        <td> 2.992e+06</td> <td> 2.42e+05</td> <td>   12.358</td> <td> 0.000</td> <td> 2.52e+06</td> <td> 3.47e+06</td>\n",
       "</tr>\n",
       "<tr>\n",
       "  <th>total_household_count_of_area_type</th> <td>-5.321e+04</td> <td> 1978.068</td> <td>  -26.902</td> <td> 0.000</td> <td>-5.71e+04</td> <td>-4.93e+04</td>\n",
       "</tr>\n",
       "<tr>\n",
       "  <th>room_count</th>                         <td>-2.864e+06</td> <td> 1.41e+06</td> <td>   -2.027</td> <td> 0.043</td> <td>-5.63e+06</td> <td>-9.54e+04</td>\n",
       "</tr>\n",
       "<tr>\n",
       "  <th>bathroom_count</th>                     <td>-4.991e+07</td> <td> 1.76e+06</td> <td>  -28.347</td> <td> 0.000</td> <td>-5.34e+07</td> <td>-4.65e+07</td>\n",
       "</tr>\n",
       "<tr>\n",
       "  <th>transaction_year</th>                   <td>-4.628e+14</td> <td> 1.77e+15</td> <td>   -0.262</td> <td> 0.793</td> <td>-3.92e+15</td> <td>    3e+15</td>\n",
       "</tr>\n",
       "<tr>\n",
       "  <th>transaction_month</th>                  <td>-4.652e+12</td> <td> 1.78e+13</td> <td>   -0.262</td> <td> 0.793</td> <td>-3.94e+13</td> <td> 3.01e+13</td>\n",
       "</tr>\n",
       "<tr>\n",
       "  <th>transaction_quarter</th>                <td> 1.606e+07</td> <td> 1.71e+06</td> <td>    9.412</td> <td> 0.000</td> <td> 1.27e+07</td> <td> 1.94e+07</td>\n",
       "</tr>\n",
       "<tr>\n",
       "  <th>old</th>                                <td>-2.479e+12</td> <td> 9.46e+12</td> <td>   -0.262</td> <td> 0.793</td> <td> -2.1e+13</td> <td> 1.61e+13</td>\n",
       "</tr>\n",
       "<tr>\n",
       "  <th>area_ratio</th>                         <td>-2.129e+08</td> <td> 3.02e+07</td> <td>   -7.047</td> <td> 0.000</td> <td>-2.72e+08</td> <td>-1.54e+08</td>\n",
       "</tr>\n",
       "<tr>\n",
       "  <th>parking_household</th>                  <td> 2.048e+07</td> <td> 2.16e+06</td> <td>    9.499</td> <td> 0.000</td> <td> 1.63e+07</td> <td> 2.47e+07</td>\n",
       "</tr>\n",
       "<tr>\n",
       "  <th>old_cat_b</th>                          <td> 2.567e+08</td> <td> 2.12e+06</td> <td>  120.925</td> <td> 0.000</td> <td> 2.53e+08</td> <td> 2.61e+08</td>\n",
       "</tr>\n",
       "<tr>\n",
       "  <th>old_cat_c</th>                          <td>  4.94e+08</td> <td> 6.67e+06</td> <td>   74.045</td> <td> 0.000</td> <td> 4.81e+08</td> <td> 5.07e+08</td>\n",
       "</tr>\n",
       "<tr>\n",
       "  <th>room_count_cat_b</th>                   <td>-6.571e+08</td> <td> 2.87e+09</td> <td>   -0.229</td> <td> 0.819</td> <td>-6.28e+09</td> <td> 4.96e+09</td>\n",
       "</tr>\n",
       "<tr>\n",
       "  <th>bathroom_count_cat_b</th>               <td> 8.464e+08</td> <td> 2.87e+09</td> <td>    0.295</td> <td> 0.768</td> <td>-4.78e+09</td> <td> 6.47e+09</td>\n",
       "</tr>\n",
       "<tr>\n",
       "  <th>parking_household_cat_b</th>            <td> 1.722e+08</td> <td> 4.32e+06</td> <td>   39.845</td> <td> 0.000</td> <td> 1.64e+08</td> <td> 1.81e+08</td>\n",
       "</tr>\n",
       "<tr>\n",
       "  <th>floor_cat_b</th>                        <td>-1.794e+07</td> <td> 2.15e+06</td> <td>   -8.326</td> <td> 0.000</td> <td>-2.22e+07</td> <td>-1.37e+07</td>\n",
       "</tr>\n",
       "<tr>\n",
       "  <th>floor_cat_c</th>                        <td> 3.212e+08</td> <td>  3.8e+07</td> <td>    8.454</td> <td> 0.000</td> <td> 2.47e+08</td> <td> 3.96e+08</td>\n",
       "</tr>\n",
       "</table>\n",
       "<table class=\"simpletable\">\n",
       "<tr>\n",
       "  <th>Omnibus:</th>       <td>165030.751</td> <th>  Durbin-Watson:     </th>  <td>   0.761</td>  \n",
       "</tr>\n",
       "<tr>\n",
       "  <th>Prob(Omnibus):</th>   <td> 0.000</td>   <th>  Jarque-Bera (JB):  </th> <td>3173644.075</td>\n",
       "</tr>\n",
       "<tr>\n",
       "  <th>Skew:</th>            <td> 2.227</td>   <th>  Prob(JB):          </th>  <td>    0.00</td>  \n",
       "</tr>\n",
       "<tr>\n",
       "  <th>Kurtosis:</th>        <td>18.260</td>   <th>  Cond. No.          </th>  <td>1.00e+16</td>  \n",
       "</tr>\n",
       "</table><br/><br/>Warnings:<br/>[1] Standard Errors assume that the covariance matrix of the errors is correctly specified.<br/>[2] The smallest eigenvalue is 1.22e-16. This might indicate that there are<br/>strong multicollinearity problems or that the design matrix is singular."
      ],
      "text/plain": [
       "<class 'statsmodels.iolib.summary.Summary'>\n",
       "\"\"\"\n",
       "                              OLS Regression Results                              \n",
       "==================================================================================\n",
       "Dep. Variable:     transaction_real_price   R-squared:                       0.525\n",
       "Model:                                OLS   Adj. R-squared:                  0.525\n",
       "Method:                     Least Squares   F-statistic:                 1.386e+04\n",
       "Date:                    Wed, 05 Feb 2020   Prob (F-statistic):               0.00\n",
       "Time:                            13:50:10   Log-Likelihood:            -6.2943e+06\n",
       "No. Observations:                  301400   AIC:                         1.259e+07\n",
       "Df Residuals:                      301375   BIC:                         1.259e+07\n",
       "Df Model:                              24                                         \n",
       "Covariance Type:                nonrobust                                         \n",
       "======================================================================================================\n",
       "                                         coef    std err          t      P>|t|      [0.025      0.975]\n",
       "------------------------------------------------------------------------------------------------------\n",
       "Intercept                          -1.439e+11   1.93e+09    -74.457      0.000   -1.48e+11    -1.4e+11\n",
       "transaction_year_month              4.652e+12   1.78e+13      0.262      0.793   -3.01e+13    3.94e+13\n",
       "transaction_date                    3.972e+05   6.35e+04      6.260      0.000    2.73e+05    5.22e+05\n",
       "year_of_completion                 -2.479e+12   9.46e+12     -0.262      0.793    -2.1e+13    1.61e+13\n",
       "exclusive_use_area                  4.865e+06   3.01e+05     16.147      0.000    4.27e+06    5.46e+06\n",
       "floor                               2.102e+06   1.27e+05     16.606      0.000    1.85e+06    2.35e+06\n",
       "total_parking_capacity_in_site      5.182e+04   1266.161     40.926      0.000    4.93e+04    5.43e+04\n",
       "total_household_count_in_sites     -9.807e+04   1859.369    -52.744      0.000   -1.02e+05   -9.44e+04\n",
       "apartment_building_count_in_sites   9.227e+06    8.1e+04    113.978      0.000    9.07e+06    9.39e+06\n",
       "tallest_building_in_sites            1.68e+06    1.3e+05     12.964      0.000    1.43e+06    1.93e+06\n",
       "lowest_building_in_sites            7.715e+06    1.2e+05     64.488      0.000    7.48e+06    7.95e+06\n",
       "supply_area                         2.992e+06   2.42e+05     12.358      0.000    2.52e+06    3.47e+06\n",
       "total_household_count_of_area_type -5.321e+04   1978.068    -26.902      0.000   -5.71e+04   -4.93e+04\n",
       "room_count                         -2.864e+06   1.41e+06     -2.027      0.043   -5.63e+06   -9.54e+04\n",
       "bathroom_count                     -4.991e+07   1.76e+06    -28.347      0.000   -5.34e+07   -4.65e+07\n",
       "transaction_year                   -4.628e+14   1.77e+15     -0.262      0.793   -3.92e+15       3e+15\n",
       "transaction_month                  -4.652e+12   1.78e+13     -0.262      0.793   -3.94e+13    3.01e+13\n",
       "transaction_quarter                 1.606e+07   1.71e+06      9.412      0.000    1.27e+07    1.94e+07\n",
       "old                                -2.479e+12   9.46e+12     -0.262      0.793    -2.1e+13    1.61e+13\n",
       "area_ratio                         -2.129e+08   3.02e+07     -7.047      0.000   -2.72e+08   -1.54e+08\n",
       "parking_household                   2.048e+07   2.16e+06      9.499      0.000    1.63e+07    2.47e+07\n",
       "old_cat_b                           2.567e+08   2.12e+06    120.925      0.000    2.53e+08    2.61e+08\n",
       "old_cat_c                            4.94e+08   6.67e+06     74.045      0.000    4.81e+08    5.07e+08\n",
       "room_count_cat_b                   -6.571e+08   2.87e+09     -0.229      0.819   -6.28e+09    4.96e+09\n",
       "bathroom_count_cat_b                8.464e+08   2.87e+09      0.295      0.768   -4.78e+09    6.47e+09\n",
       "parking_household_cat_b             1.722e+08   4.32e+06     39.845      0.000    1.64e+08    1.81e+08\n",
       "floor_cat_b                        -1.794e+07   2.15e+06     -8.326      0.000   -2.22e+07   -1.37e+07\n",
       "floor_cat_c                         3.212e+08    3.8e+07      8.454      0.000    2.47e+08    3.96e+08\n",
       "==============================================================================\n",
       "Omnibus:                   165030.751   Durbin-Watson:                   0.761\n",
       "Prob(Omnibus):                  0.000   Jarque-Bera (JB):          3173644.075\n",
       "Skew:                           2.227   Prob(JB):                         0.00\n",
       "Kurtosis:                      18.260   Cond. No.                     1.00e+16\n",
       "==============================================================================\n",
       "\n",
       "Warnings:\n",
       "[1] Standard Errors assume that the covariance matrix of the errors is correctly specified.\n",
       "[2] The smallest eigenvalue is 1.22e-16. This might indicate that there are\n",
       "strong multicollinearity problems or that the design matrix is singular.\n",
       "\"\"\""
      ]
     },
     "execution_count": 11,
     "metadata": {},
     "output_type": "execute_result"
    }
   ],
   "source": [
    "myModel1 = smf.ols(formula = \"transaction_real_price ~ \" + \" + \".join(X_features), data=df)\n",
    "result1 = myModel1.fit()\n",
    "result1.summary()"
   ]
  },
  {
   "cell_type": "code",
   "execution_count": 12,
   "metadata": {},
   "outputs": [
    {
     "data": {
      "text/html": [
       "<table class=\"simpletable\">\n",
       "<caption>OLS Regression Results</caption>\n",
       "<tr>\n",
       "  <th>Dep. Variable:</th>            <td>y</td>        <th>  R-squared:         </th>  <td>   0.586</td>  \n",
       "</tr>\n",
       "<tr>\n",
       "  <th>Model:</th>                   <td>OLS</td>       <th>  Adj. R-squared:    </th>  <td>   0.586</td>  \n",
       "</tr>\n",
       "<tr>\n",
       "  <th>Method:</th>             <td>Least Squares</td>  <th>  F-statistic:       </th>  <td>1.779e+04</td> \n",
       "</tr>\n",
       "<tr>\n",
       "  <th>Date:</th>             <td>Wed, 05 Feb 2020</td> <th>  Prob (F-statistic):</th>   <td>  0.00</td>   \n",
       "</tr>\n",
       "<tr>\n",
       "  <th>Time:</th>                 <td>13:50:14</td>     <th>  Log-Likelihood:    </th> <td>-1.0157e+05</td>\n",
       "</tr>\n",
       "<tr>\n",
       "  <th>No. Observations:</th>      <td>301400</td>      <th>  AIC:               </th>  <td>2.032e+05</td> \n",
       "</tr>\n",
       "<tr>\n",
       "  <th>Df Residuals:</th>          <td>301375</td>      <th>  BIC:               </th>  <td>2.035e+05</td> \n",
       "</tr>\n",
       "<tr>\n",
       "  <th>Df Model:</th>              <td>    24</td>      <th>                     </th>      <td> </td>     \n",
       "</tr>\n",
       "<tr>\n",
       "  <th>Covariance Type:</th>      <td>nonrobust</td>    <th>                     </th>      <td> </td>     \n",
       "</tr>\n",
       "</table>\n",
       "<table class=\"simpletable\">\n",
       "<tr>\n",
       "                   <td></td>                     <th>coef</th>     <th>std err</th>      <th>t</th>      <th>P>|t|</th>  <th>[0.025</th>    <th>0.975]</th>  \n",
       "</tr>\n",
       "<tr>\n",
       "  <th>Intercept</th>                          <td> -200.6672</td> <td>    2.306</td> <td>  -87.022</td> <td> 0.000</td> <td> -205.187</td> <td> -196.148</td>\n",
       "</tr>\n",
       "<tr>\n",
       "  <th>transaction_year_month</th>             <td> 2.614e+04</td> <td> 2.12e+04</td> <td>    1.234</td> <td> 0.217</td> <td>-1.54e+04</td> <td> 6.77e+04</td>\n",
       "</tr>\n",
       "<tr>\n",
       "  <th>transaction_date</th>                   <td>    0.0005</td> <td> 7.57e-05</td> <td>    6.381</td> <td> 0.000</td> <td>    0.000</td> <td>    0.001</td>\n",
       "</tr>\n",
       "<tr>\n",
       "  <th>year_of_completion</th>                 <td>-1.393e+04</td> <td> 1.13e+04</td> <td>   -1.234</td> <td> 0.217</td> <td> -3.6e+04</td> <td> 8190.998</td>\n",
       "</tr>\n",
       "<tr>\n",
       "  <th>exclusive_use_area</th>                 <td>   -0.0064</td> <td>    0.000</td> <td>  -17.936</td> <td> 0.000</td> <td>   -0.007</td> <td>   -0.006</td>\n",
       "</tr>\n",
       "<tr>\n",
       "  <th>floor</th>                              <td>    0.0037</td> <td>    0.000</td> <td>   24.427</td> <td> 0.000</td> <td>    0.003</td> <td>    0.004</td>\n",
       "</tr>\n",
       "<tr>\n",
       "  <th>total_parking_capacity_in_site</th>     <td> 4.258e-05</td> <td> 1.51e-06</td> <td>   28.184</td> <td> 0.000</td> <td> 3.96e-05</td> <td> 4.55e-05</td>\n",
       "</tr>\n",
       "<tr>\n",
       "  <th>total_household_count_in_sites</th>     <td>   -0.0001</td> <td> 2.22e-06</td> <td>  -46.898</td> <td> 0.000</td> <td>   -0.000</td> <td>-9.97e-05</td>\n",
       "</tr>\n",
       "<tr>\n",
       "  <th>apartment_building_count_in_sites</th>  <td>    0.0115</td> <td> 9.66e-05</td> <td>  118.643</td> <td> 0.000</td> <td>    0.011</td> <td>    0.012</td>\n",
       "</tr>\n",
       "<tr>\n",
       "  <th>tallest_building_in_sites</th>          <td>    0.0060</td> <td>    0.000</td> <td>   38.614</td> <td> 0.000</td> <td>    0.006</td> <td>    0.006</td>\n",
       "</tr>\n",
       "<tr>\n",
       "  <th>lowest_building_in_sites</th>           <td>    0.0098</td> <td>    0.000</td> <td>   68.796</td> <td> 0.000</td> <td>    0.010</td> <td>    0.010</td>\n",
       "</tr>\n",
       "<tr>\n",
       "  <th>supply_area</th>                        <td>    0.0114</td> <td>    0.000</td> <td>   39.328</td> <td> 0.000</td> <td>    0.011</td> <td>    0.012</td>\n",
       "</tr>\n",
       "<tr>\n",
       "  <th>total_household_count_of_area_type</th> <td>-6.398e-05</td> <td> 2.36e-06</td> <td>  -27.107</td> <td> 0.000</td> <td>-6.86e-05</td> <td>-5.94e-05</td>\n",
       "</tr>\n",
       "<tr>\n",
       "  <th>room_count</th>                         <td>    0.0734</td> <td>    0.002</td> <td>   43.553</td> <td> 0.000</td> <td>    0.070</td> <td>    0.077</td>\n",
       "</tr>\n",
       "<tr>\n",
       "  <th>bathroom_count</th>                     <td>    0.0182</td> <td>    0.002</td> <td>    8.674</td> <td> 0.000</td> <td>    0.014</td> <td>    0.022</td>\n",
       "</tr>\n",
       "<tr>\n",
       "  <th>transaction_year</th>                   <td>  -2.6e+06</td> <td> 2.11e+06</td> <td>   -1.234</td> <td> 0.217</td> <td>-6.73e+06</td> <td> 1.53e+06</td>\n",
       "</tr>\n",
       "<tr>\n",
       "  <th>transaction_month</th>                  <td>-2.614e+04</td> <td> 2.12e+04</td> <td>   -1.234</td> <td> 0.217</td> <td>-6.77e+04</td> <td> 1.54e+04</td>\n",
       "</tr>\n",
       "<tr>\n",
       "  <th>transaction_quarter</th>                <td>    0.0259</td> <td>    0.002</td> <td>   12.740</td> <td> 0.000</td> <td>    0.022</td> <td>    0.030</td>\n",
       "</tr>\n",
       "<tr>\n",
       "  <th>old</th>                                <td>-1.393e+04</td> <td> 1.13e+04</td> <td>   -1.234</td> <td> 0.217</td> <td> -3.6e+04</td> <td> 8190.988</td>\n",
       "</tr>\n",
       "<tr>\n",
       "  <th>area_ratio</th>                         <td>    1.6421</td> <td>    0.036</td> <td>   45.553</td> <td> 0.000</td> <td>    1.571</td> <td>    1.713</td>\n",
       "</tr>\n",
       "<tr>\n",
       "  <th>parking_household</th>                  <td>    0.0813</td> <td>    0.003</td> <td>   31.604</td> <td> 0.000</td> <td>    0.076</td> <td>    0.086</td>\n",
       "</tr>\n",
       "<tr>\n",
       "  <th>old_cat_b</th>                          <td>    0.3946</td> <td>    0.003</td> <td>  155.769</td> <td> 0.000</td> <td>    0.390</td> <td>    0.400</td>\n",
       "</tr>\n",
       "<tr>\n",
       "  <th>old_cat_c</th>                          <td>    0.5373</td> <td>    0.008</td> <td>   67.496</td> <td> 0.000</td> <td>    0.522</td> <td>    0.553</td>\n",
       "</tr>\n",
       "<tr>\n",
       "  <th>room_count_cat_b</th>                   <td>   -4.3392</td> <td>    3.423</td> <td>   -1.268</td> <td> 0.205</td> <td>  -11.048</td> <td>    2.369</td>\n",
       "</tr>\n",
       "<tr>\n",
       "  <th>bathroom_count_cat_b</th>               <td>    4.1094</td> <td>    3.423</td> <td>    1.201</td> <td> 0.230</td> <td>   -2.599</td> <td>   10.818</td>\n",
       "</tr>\n",
       "<tr>\n",
       "  <th>parking_household_cat_b</th>            <td>   -0.0399</td> <td>    0.005</td> <td>   -7.730</td> <td> 0.000</td> <td>   -0.050</td> <td>   -0.030</td>\n",
       "</tr>\n",
       "<tr>\n",
       "  <th>floor_cat_b</th>                        <td>   -0.0344</td> <td>    0.003</td> <td>  -13.383</td> <td> 0.000</td> <td>   -0.039</td> <td>   -0.029</td>\n",
       "</tr>\n",
       "<tr>\n",
       "  <th>floor_cat_c</th>                        <td>   -0.1981</td> <td>    0.045</td> <td>   -4.369</td> <td> 0.000</td> <td>   -0.287</td> <td>   -0.109</td>\n",
       "</tr>\n",
       "</table>\n",
       "<table class=\"simpletable\">\n",
       "<tr>\n",
       "  <th>Omnibus:</th>       <td>11356.529</td> <th>  Durbin-Watson:     </th> <td>   0.661</td> \n",
       "</tr>\n",
       "<tr>\n",
       "  <th>Prob(Omnibus):</th>  <td> 0.000</td>   <th>  Jarque-Bera (JB):  </th> <td>13404.825</td>\n",
       "</tr>\n",
       "<tr>\n",
       "  <th>Skew:</th>           <td> 0.449</td>   <th>  Prob(JB):          </th> <td>    0.00</td> \n",
       "</tr>\n",
       "<tr>\n",
       "  <th>Kurtosis:</th>       <td> 3.511</td>   <th>  Cond. No.          </th> <td>1.00e+16</td> \n",
       "</tr>\n",
       "</table><br/><br/>Warnings:<br/>[1] Standard Errors assume that the covariance matrix of the errors is correctly specified.<br/>[2] The smallest eigenvalue is 1.22e-16. This might indicate that there are<br/>strong multicollinearity problems or that the design matrix is singular."
      ],
      "text/plain": [
       "<class 'statsmodels.iolib.summary.Summary'>\n",
       "\"\"\"\n",
       "                            OLS Regression Results                            \n",
       "==============================================================================\n",
       "Dep. Variable:                      y   R-squared:                       0.586\n",
       "Model:                            OLS   Adj. R-squared:                  0.586\n",
       "Method:                 Least Squares   F-statistic:                 1.779e+04\n",
       "Date:                Wed, 05 Feb 2020   Prob (F-statistic):               0.00\n",
       "Time:                        13:50:14   Log-Likelihood:            -1.0157e+05\n",
       "No. Observations:              301400   AIC:                         2.032e+05\n",
       "Df Residuals:                  301375   BIC:                         2.035e+05\n",
       "Df Model:                          24                                         \n",
       "Covariance Type:            nonrobust                                         \n",
       "======================================================================================================\n",
       "                                         coef    std err          t      P>|t|      [0.025      0.975]\n",
       "------------------------------------------------------------------------------------------------------\n",
       "Intercept                           -200.6672      2.306    -87.022      0.000    -205.187    -196.148\n",
       "transaction_year_month              2.614e+04   2.12e+04      1.234      0.217   -1.54e+04    6.77e+04\n",
       "transaction_date                       0.0005   7.57e-05      6.381      0.000       0.000       0.001\n",
       "year_of_completion                 -1.393e+04   1.13e+04     -1.234      0.217    -3.6e+04    8190.998\n",
       "exclusive_use_area                    -0.0064      0.000    -17.936      0.000      -0.007      -0.006\n",
       "floor                                  0.0037      0.000     24.427      0.000       0.003       0.004\n",
       "total_parking_capacity_in_site      4.258e-05   1.51e-06     28.184      0.000    3.96e-05    4.55e-05\n",
       "total_household_count_in_sites        -0.0001   2.22e-06    -46.898      0.000      -0.000   -9.97e-05\n",
       "apartment_building_count_in_sites      0.0115   9.66e-05    118.643      0.000       0.011       0.012\n",
       "tallest_building_in_sites              0.0060      0.000     38.614      0.000       0.006       0.006\n",
       "lowest_building_in_sites               0.0098      0.000     68.796      0.000       0.010       0.010\n",
       "supply_area                            0.0114      0.000     39.328      0.000       0.011       0.012\n",
       "total_household_count_of_area_type -6.398e-05   2.36e-06    -27.107      0.000   -6.86e-05   -5.94e-05\n",
       "room_count                             0.0734      0.002     43.553      0.000       0.070       0.077\n",
       "bathroom_count                         0.0182      0.002      8.674      0.000       0.014       0.022\n",
       "transaction_year                     -2.6e+06   2.11e+06     -1.234      0.217   -6.73e+06    1.53e+06\n",
       "transaction_month                  -2.614e+04   2.12e+04     -1.234      0.217   -6.77e+04    1.54e+04\n",
       "transaction_quarter                    0.0259      0.002     12.740      0.000       0.022       0.030\n",
       "old                                -1.393e+04   1.13e+04     -1.234      0.217    -3.6e+04    8190.988\n",
       "area_ratio                             1.6421      0.036     45.553      0.000       1.571       1.713\n",
       "parking_household                      0.0813      0.003     31.604      0.000       0.076       0.086\n",
       "old_cat_b                              0.3946      0.003    155.769      0.000       0.390       0.400\n",
       "old_cat_c                              0.5373      0.008     67.496      0.000       0.522       0.553\n",
       "room_count_cat_b                      -4.3392      3.423     -1.268      0.205     -11.048       2.369\n",
       "bathroom_count_cat_b                   4.1094      3.423      1.201      0.230      -2.599      10.818\n",
       "parking_household_cat_b               -0.0399      0.005     -7.730      0.000      -0.050      -0.030\n",
       "floor_cat_b                           -0.0344      0.003    -13.383      0.000      -0.039      -0.029\n",
       "floor_cat_c                           -0.1981      0.045     -4.369      0.000      -0.287      -0.109\n",
       "==============================================================================\n",
       "Omnibus:                    11356.529   Durbin-Watson:                   0.661\n",
       "Prob(Omnibus):                  0.000   Jarque-Bera (JB):            13404.825\n",
       "Skew:                           0.449   Prob(JB):                         0.00\n",
       "Kurtosis:                       3.511   Cond. No.                     1.00e+16\n",
       "==============================================================================\n",
       "\n",
       "Warnings:\n",
       "[1] Standard Errors assume that the covariance matrix of the errors is correctly specified.\n",
       "[2] The smallest eigenvalue is 1.22e-16. This might indicate that there are\n",
       "strong multicollinearity problems or that the design matrix is singular.\n",
       "\"\"\""
      ]
     },
     "execution_count": 12,
     "metadata": {},
     "output_type": "execute_result"
    }
   ],
   "source": [
    "myModel2 = smf.ols(formula = \"y ~ \" + \" + \".join(X_features), data=df)\n",
    "result2 = myModel2.fit()\n",
    "result2.summary()"
   ]
  },
  {
   "cell_type": "markdown",
   "metadata": {},
   "source": [
    "### 4. Scikit-Learn 선형회귀."
   ]
  },
  {
   "cell_type": "code",
   "execution_count": 13,
   "metadata": {},
   "outputs": [],
   "source": [
    "# 데이터 쪼개기.\n",
    "X = df[X_features]\n",
    "Y = df[['y']]\n",
    "X_train, X_test, Y_train, Y_test = train_test_split(X, Y, test_size=0.3, random_state=123)"
   ]
  },
  {
   "cell_type": "code",
   "execution_count": 14,
   "metadata": {},
   "outputs": [],
   "source": [
    "# 예측.\n",
    "res = LinearRegression()\n",
    "res.fit(X_train,Y_train);\n",
    "transaction_real_price = np.exp(Y_test)\n",
    "transaction_real_price.index = range(transaction_real_price.shape[0])\n",
    "transaction_real_price.columns = ['Price']\n",
    "transaction_real_price_hat = pd.DataFrame(np.exp(res.predict(X_test)),columns=['Price'])"
   ]
  },
  {
   "cell_type": "code",
   "execution_count": 15,
   "metadata": {},
   "outputs": [
    {
     "name": "stdout",
     "output_type": "stream",
     "text": [
      "RMSE : 2.844\n"
     ]
    }
   ],
   "source": [
    "residuals = transaction_real_price.Price - transaction_real_price_hat.Price\n",
    "rmse = np.sqrt((residuals**2).mean())\n",
    "print(\"RMSE : {}\".format(np.round(rmse/10**8,3)))              # 1억 단위로 표기."
   ]
  },
  {
   "cell_type": "code",
   "execution_count": 16,
   "metadata": {},
   "outputs": [
    {
     "name": "stdout",
     "output_type": "stream",
     "text": [
      "MEAN : 6.332\n"
     ]
    }
   ],
   "source": [
    "print(\"MEAN : {}\".format(np.round(transaction_real_price.Price.mean()/10**8,3)))              # 1억 단위로 표기."
   ]
  },
  {
   "cell_type": "code",
   "execution_count": 17,
   "metadata": {},
   "outputs": [
    {
     "name": "stdout",
     "output_type": "stream",
     "text": [
      "CORR : 0.731\n"
     ]
    }
   ],
   "source": [
    "print(\"CORR : {}\".format(np.round(transaction_real_price.Price.corr(transaction_real_price_hat.Price),3)))"
   ]
  },
  {
   "cell_type": "code",
   "execution_count": 18,
   "metadata": {},
   "outputs": [
    {
     "data": {
      "image/png": "[encoded data removed]",
      "text/plain": [
       "<Figure size 432x288 with 1 Axes>"
      ]
     },
     "metadata": {
      "needs_background": "light"
     },
     "output_type": "display_data"
    }
   ],
   "source": [
    "plt.scatter(transaction_real_price.Price, transaction_real_price_hat.Price,color='blue')\n",
    "plt.xlabel('True price')\n",
    "plt.ylabel('Predicted price')\n",
    "plt.show()"
   ]
  },
  {
   "cell_type": "code",
   "execution_count": null,
   "metadata": {},
   "outputs": [],
   "source": []
  }
 ],
 "metadata": {
  "kernelspec": {
   "display_name": "Python 3",
   "language": "python",
   "name": "python3"
  },
  "language_info": {
   "codemirror_mode": {
    "name": "ipython",
    "version": 3
   },
   "file_extension": ".py",
   "mimetype": "text/x-python",
   "name": "python",
   "nbconvert_exporter": "python",
   "pygments_lexer": "ipython3",
   "version": "3.6.9"
  },
  "toc": {
   "base_numbering": 1,
   "nav_menu": {},
   "number_sections": true,
   "sideBar": true,
   "skip_h1_title": false,
   "title_cell": "Table of Contents",
   "title_sidebar": "Contents",
   "toc_cell": false,
   "toc_position": {},
   "toc_section_display": true,
   "toc_window_display": true
  },
  "varInspector": {
   "cols": {
    "lenName": 16,
    "lenType": 16,
    "lenVar": 40
   },
   "kernels_config": {
    "python": {
     "delete_cmd_postfix": "",
     "delete_cmd_prefix": "del ",
     "library": "var_list.py",
     "varRefreshCmd": "print(var_dic_list())"
    },
    "r": {
     "delete_cmd_postfix": ") ",
     "delete_cmd_prefix": "rm(",
     "library": "var_list.r",
     "varRefreshCmd": "cat(var_dic_list()) "
    }
   },
   "types_to_exclude": [
    "module",
    "function",
    "builtin_function_or_method",
    "instance",
    "_Feature"
   ],
   "window_display": false
  }
 },
 "nbformat": 4,
 "nbformat_minor": 2
}
